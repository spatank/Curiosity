{
  "nbformat": 4,
  "nbformat_minor": 0,
  "metadata": {
    "colab": {
      "name": "build_Wiki_networks.ipynb",
      "provenance": [],
      "collapsed_sections": [],
      "authorship_tag": "ABX9TyMhWOYZToNvDsyOu4Xo1hFz",
      "include_colab_link": true
    },
    "kernelspec": {
      "name": "python3",
      "display_name": "Python 3"
    },
    "language_info": {
      "name": "python"
    }
  },
  "cells": [
    {
      "cell_type": "markdown",
      "metadata": {
        "id": "view-in-github",
        "colab_type": "text"
      },
      "source": [
        "<a href=\"https://colab.research.google.com/github/spatank/Curiosity/blob/master/v8/build_Wiki_networks.ipynb\" target=\"_parent\"><img src=\"https://colab.research.google.com/assets/colab-badge.svg\" alt=\"Open In Colab\"/></a>"
      ]
    },
    {
      "cell_type": "code",
      "metadata": {
        "id": "L6x4EPj4iVm8",
        "colab": {
          "base_uri": "https://localhost:8080/"
        },
        "outputId": "5f0af512-1bb3-4fd8-bf40-bf1db52d73d4"
      },
      "source": [
        "from google.colab import drive\n",
        "drive.mount('/content/drive')\n",
        "\n",
        "import os\n",
        "os.chdir('/content/drive/My Drive/Curiosity_v8/')"
      ],
      "execution_count": 1,
      "outputs": [
        {
          "output_type": "stream",
          "name": "stdout",
          "text": [
            "Mounted at /content/drive\n"
          ]
        }
      ]
    },
    {
      "cell_type": "code",
      "metadata": {
        "id": "e3N8nnjWiaMN",
        "colab": {
          "base_uri": "https://localhost:8080/"
        },
        "outputId": "9ead66a5-f97b-4875-e98d-847acb5ded61"
      },
      "source": [
        "!ls # run !ls to verify location"
      ],
      "execution_count": 2,
      "outputs": [
        {
          "output_type": "stream",
          "name": "stdout",
          "text": [
            "build_Wiki_networks.ipynb\tpersistent_homology_simulations.ipynb\n",
            "C_plotting.ipynb\t\tpersistent_homology_Wiki.ipynb\n",
            "Figures\t\t\t\tPH_plotting.ipynb\n",
            "KNOT\t\t\t\tSimulations\n",
            "mech_plotting.ipynb\t\tWiki\n",
            "persistent_homology_KNOT.ipynb\n"
          ]
        }
      ]
    },
    {
      "cell_type": "code",
      "metadata": {
        "id": "xuch1fhDibpA"
      },
      "source": [
        "import glob\n",
        "import json\n",
        "import pandas as pd\n",
        "import scipy\n",
        "from scipy.io import savemat\n",
        "import networkx as nx"
      ],
      "execution_count": 3,
      "outputs": []
    },
    {
      "cell_type": "code",
      "metadata": {
        "id": "7F2JF6r4idLd",
        "colab": {
          "base_uri": "https://localhost:8080/"
        },
        "outputId": "8c5e7635-9405-4175-c5ef-dfe7956d92dc"
      },
      "source": [
        "all_json = glob.glob('/content/drive/My Drive/Curiosity_v8/Wiki/Raw/wiki_data_raw/*.json')\n",
        "all_json"
      ],
      "execution_count": 5,
      "outputs": [
        {
          "output_type": "execute_result",
          "data": {
            "text/plain": [
              "['/content/drive/My Drive/Curiosity_v8/Wiki/Raw/wiki_data_raw/abstract algebra.json',\n",
              " '/content/drive/My Drive/Curiosity_v8/Wiki/Raw/wiki_data_raw/accounting.json',\n",
              " '/content/drive/My Drive/Curiosity_v8/Wiki/Raw/wiki_data_raw/anatomy.json',\n",
              " '/content/drive/My Drive/Curiosity_v8/Wiki/Raw/wiki_data_raw/biochemistry.json',\n",
              " '/content/drive/My Drive/Curiosity_v8/Wiki/Raw/wiki_data_raw/biophysics.json',\n",
              " '/content/drive/My Drive/Curiosity_v8/Wiki/Raw/wiki_data_raw/Boolean algebra.json',\n",
              " '/content/drive/My Drive/Curiosity_v8/Wiki/Raw/wiki_data_raw/calculus.json',\n",
              " '/content/drive/My Drive/Curiosity_v8/Wiki/Raw/wiki_data_raw/chemistry.json',\n",
              " '/content/drive/My Drive/Curiosity_v8/Wiki/Raw/wiki_data_raw/cognitive science.json',\n",
              " '/content/drive/My Drive/Curiosity_v8/Wiki/Raw/wiki_data_raw/dynamical systems and differential equations.json',\n",
              " '/content/drive/My Drive/Curiosity_v8/Wiki/Raw/wiki_data_raw/commutative algebra.json',\n",
              " '/content/drive/My Drive/Curiosity_v8/Wiki/Raw/wiki_data_raw/dynamical systems.json',\n",
              " '/content/drive/My Drive/Curiosity_v8/Wiki/Raw/wiki_data_raw/earth science.json',\n",
              " '/content/drive/My Drive/Curiosity_v8/Wiki/Raw/wiki_data_raw/economics.json',\n",
              " '/content/drive/My Drive/Curiosity_v8/Wiki/Raw/wiki_data_raw/education.json',\n",
              " '/content/drive/My Drive/Curiosity_v8/Wiki/Raw/wiki_data_raw/electronics.json',\n",
              " '/content/drive/My Drive/Curiosity_v8/Wiki/Raw/wiki_data_raw/energy.json',\n",
              " '/content/drive/My Drive/Curiosity_v8/Wiki/Raw/wiki_data_raw/evolutionary biology.json',\n",
              " '/content/drive/My Drive/Curiosity_v8/Wiki/Raw/wiki_data_raw/genetics.json',\n",
              " '/content/drive/My Drive/Curiosity_v8/Wiki/Raw/wiki_data_raw/geology.json',\n",
              " '/content/drive/My Drive/Curiosity_v8/Wiki/Raw/wiki_data_raw/geometry.json',\n",
              " '/content/drive/My Drive/Curiosity_v8/Wiki/Raw/wiki_data_raw/group theory.json',\n",
              " '/content/drive/My Drive/Curiosity_v8/Wiki/Raw/wiki_data_raw/immunology.json',\n",
              " '/content/drive/My Drive/Curiosity_v8/Wiki/Raw/wiki_data_raw/law.json',\n",
              " '/content/drive/My Drive/Curiosity_v8/Wiki/Raw/wiki_data_raw/linear algebra.json',\n",
              " '/content/drive/My Drive/Curiosity_v8/Wiki/Raw/wiki_data_raw/linguistics.json',\n",
              " '/content/drive/My Drive/Curiosity_v8/Wiki/Raw/wiki_data_raw/meteorology.json',\n",
              " '/content/drive/My Drive/Curiosity_v8/Wiki/Raw/wiki_data_raw/molecular biology.json',\n",
              " '/content/drive/My Drive/Curiosity_v8/Wiki/Raw/wiki_data_raw/number theory.json',\n",
              " '/content/drive/My Drive/Curiosity_v8/Wiki/Raw/wiki_data_raw/optics.json',\n",
              " '/content/drive/My Drive/Curiosity_v8/Wiki/Raw/wiki_data_raw/philosophy of law.json',\n",
              " '/content/drive/My Drive/Curiosity_v8/Wiki/Raw/wiki_data_raw/philosophy of language.json',\n",
              " '/content/drive/My Drive/Curiosity_v8/Wiki/Raw/wiki_data_raw/philosophy of mind.json',\n",
              " '/content/drive/My Drive/Curiosity_v8/Wiki/Raw/wiki_data_raw/philosophy of science.json',\n",
              " '/content/drive/My Drive/Curiosity_v8/Wiki/Raw/wiki_data_raw/psychology.json',\n",
              " '/content/drive/My Drive/Curiosity_v8/Wiki/Raw/wiki_data_raw/robotics.json',\n",
              " '/content/drive/My Drive/Curiosity_v8/Wiki/Raw/wiki_data_raw/sociology.json',\n",
              " '/content/drive/My Drive/Curiosity_v8/Wiki/Raw/wiki_data_raw/software engineering.json']"
            ]
          },
          "metadata": {},
          "execution_count": 5
        }
      ]
    },
    {
      "cell_type": "code",
      "metadata": {
        "id": "9VQEAIZzigfz",
        "colab": {
          "base_uri": "https://localhost:8080/"
        },
        "outputId": "e4a87fe1-0189-46e6-bf35-8793324844b5"
      },
      "source": [
        "for filename in all_json:\n",
        "  # be careful with the following line, the exact parsing depends on the path\n",
        "  topic = filename.split('/')[8].split('.')[0].split()\n",
        "  topic = '_'.join(topic)\n",
        "\n",
        "  with open(filename) as f:\n",
        "    data = json.load(f)\n",
        "\n",
        "  G = nx.Graph()\n",
        "  for node in data['nodes']: # nodes are pre-sorted in ascending order of time\n",
        "    # add node to graph\n",
        "    node_ID = node['id']\n",
        "    G.add_node(node_ID)\n",
        "  \n",
        "  edge_info = []\n",
        "  for link in data['links']:\n",
        "    from_node_ID = link['source']\n",
        "    to_node_ID = link['target']\n",
        "    from_node = data['nodes'][from_node_ID]['id']\n",
        "    to_node = data['nodes'][to_node_ID]['id']\n",
        "    edge_info_dict = {'from': from_node, 'to': to_node}\n",
        "    edge_info.append(edge_info_dict)\n",
        "    G.add_edge(from_node, to_node)\n",
        "\n",
        "  adj_G = nx.linalg.graphmatrix.adjacency_matrix(G, weight = 'weight')\n",
        "  filename = topic + '.mat'\n",
        "  mdic = {'topic': topic, 'adj': scipy.sparse.csr_matrix.todense(adj_G), \n",
        "          'nodes': list(G.nodes()), 'edge_info': edge_info}\n",
        "  print(filename)\n",
        "  savemat(filename, mdic)"
      ],
      "execution_count": 10,
      "outputs": [
        {
          "output_type": "stream",
          "name": "stdout",
          "text": [
            "abstract_algebra.mat\n",
            "accounting.mat\n",
            "anatomy.mat\n",
            "biochemistry.mat\n",
            "biophysics.mat\n",
            "Boolean_algebra.mat\n",
            "calculus.mat\n",
            "chemistry.mat\n",
            "cognitive_science.mat\n",
            "dynamical_systems_and_differential_equations.mat\n",
            "commutative_algebra.mat\n",
            "dynamical_systems.mat\n",
            "earth_science.mat\n",
            "economics.mat\n",
            "education.mat\n",
            "electronics.mat\n",
            "energy.mat\n",
            "evolutionary_biology.mat\n",
            "genetics.mat\n",
            "geology.mat\n",
            "geometry.mat\n",
            "group_theory.mat\n",
            "immunology.mat\n",
            "law.mat\n",
            "linear_algebra.mat\n",
            "linguistics.mat\n",
            "meteorology.mat\n",
            "molecular_biology.mat\n",
            "number_theory.mat\n",
            "optics.mat\n",
            "philosophy_of_law.mat\n",
            "philosophy_of_language.mat\n",
            "philosophy_of_mind.mat\n",
            "philosophy_of_science.mat\n",
            "psychology.mat\n",
            "robotics.mat\n",
            "sociology.mat\n",
            "software_engineering.mat\n"
          ]
        }
      ]
    },
    {
      "cell_type": "code",
      "metadata": {
        "id": "E4ZTQdVPiieM",
        "colab": {
          "base_uri": "https://localhost:8080/"
        },
        "outputId": "99be3538-d5c4-420c-d219-37c4203d5eac"
      },
      "source": [
        "!ls"
      ],
      "execution_count": null,
      "outputs": [
        {
          "output_type": "stream",
          "text": [
            "abstract_algebra.mat\t\t\t\t  group_theory.mat\n",
            "accounting.mat\t\t\t\t\t  immunology.mat\n",
            "anatomy.mat\t\t\t\t\t  law.mat\n",
            "biochemistry.mat\t\t\t\t  linear_algebra.mat\n",
            "biophysics.mat\t\t\t\t\t  linguistics.mat\n",
            "Boolean_algebra.mat\t\t\t\t  meteorology.mat\n",
            "calculus.mat\t\t\t\t\t  molecular_biology.mat\n",
            "chemistry.mat\t\t\t\t\t  number_theory.mat\n",
            "cognitive_science.mat\t\t\t\t  optics.mat\n",
            "commutative_algebra.mat\t\t\t\t  philosophy_of_language.mat\n",
            "dynamical_systems_and_differential_equations.mat  philosophy_of_law.mat\n",
            "dynamical_systems.mat\t\t\t\t  philosophy_of_mind.mat\n",
            "earth_science.mat\t\t\t\t  philosophy_of_science.mat\n",
            "economics.mat\t\t\t\t\t  Preprocessed\n",
            "education.mat\t\t\t\t\t  Processed\n",
            "electronics.mat\t\t\t\t\t  psychology.mat\n",
            "energy.mat\t\t\t\t\t  Raw\n",
            "evolutionary_biology.mat\t\t\t  robotics.mat\n",
            "genetics.mat\t\t\t\t\t  sociology.mat\n",
            "geology.mat\t\t\t\t\t  software_engineering.mat\n",
            "geometry.mat\t\t\t\t\t  wiki_data_raw\n"
          ],
          "name": "stdout"
        }
      ]
    }
  ]
}