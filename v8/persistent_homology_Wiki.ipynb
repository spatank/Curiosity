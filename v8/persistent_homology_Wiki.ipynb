{
  "nbformat": 4,
  "nbformat_minor": 0,
  "metadata": {
    "colab": {
      "name": "persistent_homology_Wiki.ipynb",
      "provenance": [],
      "collapsed_sections": [],
      "machine_shape": "hm",
      "authorship_tag": "ABX9TyOWnobGeBSV7e3JlXSaOhrv",
      "include_colab_link": true
    },
    "kernelspec": {
      "name": "python3",
      "display_name": "Python 3"
    },
    "language_info": {
      "name": "python"
    }
  },
  "cells": [
    {
      "cell_type": "markdown",
      "metadata": {
        "id": "view-in-github",
        "colab_type": "text"
      },
      "source": [
        "<a href=\"https://colab.research.google.com/github/spatank/Curiosity/blob/master/v8/persistent_homology_Wiki.ipynb\" target=\"_parent\"><img src=\"https://colab.research.google.com/assets/colab-badge.svg\" alt=\"Open In Colab\"/></a>"
      ]
    },
    {
      "cell_type": "code",
      "metadata": {
        "colab": {
          "base_uri": "https://localhost:8080/"
        },
        "id": "2Y7gnEocgMi0",
        "outputId": "66f34c27-35ff-415a-c0c1-a483cac232ef"
      },
      "source": [
        "from google.colab import drive\n",
        "drive.mount('/content/drive')\n",
        "\n",
        "import os\n",
        "os.chdir('/content/drive/My Drive/Curiosity_v8/')"
      ],
      "execution_count": 1,
      "outputs": [
        {
          "output_type": "stream",
          "text": [
            "Mounted at /content/drive\n"
          ],
          "name": "stdout"
        }
      ]
    },
    {
      "cell_type": "code",
      "metadata": {
        "colab": {
          "base_uri": "https://localhost:8080/"
        },
        "id": "mvB4MASbhE5d",
        "outputId": "d734c2c0-dbd6-4413-bf84-9969c41df8ed"
      },
      "source": [
        "!ls # run !ls to verify location"
      ],
      "execution_count": 2,
      "outputs": [
        {
          "output_type": "stream",
          "text": [
            "build_Wiki_networks.ipynb\tpersistent_homology_simulations.ipynb  Wiki\n",
            "KNOT\t\t\t\tpersistent_homology_Wiki.ipynb\n",
            "persistent_homology_KNOT.ipynb\tSimulations\n"
          ],
          "name": "stdout"
        }
      ]
    },
    {
      "cell_type": "code",
      "metadata": {
        "id": "O6URroOyhdr7"
      },
      "source": [
        "import glob\n",
        "import scipy\n",
        "import scipy.io as sio\n",
        "from scipy.io import savemat"
      ],
      "execution_count": 3,
      "outputs": []
    },
    {
      "cell_type": "code",
      "metadata": {
        "colab": {
          "base_uri": "https://localhost:8080/"
        },
        "id": "LHNE6dZ9kzUN",
        "outputId": "cf0fc73e-1ca3-418e-e3c2-a1f00fd67257"
      },
      "source": [
        "import sys\n",
        "!{sys.executable} -m pip install Cython"
      ],
      "execution_count": 4,
      "outputs": [
        {
          "output_type": "stream",
          "text": [
            "Requirement already satisfied: Cython in /usr/local/lib/python3.7/dist-packages (0.29.23)\n"
          ],
          "name": "stdout"
        }
      ]
    },
    {
      "cell_type": "code",
      "metadata": {
        "colab": {
          "base_uri": "https://localhost:8080/"
        },
        "id": "fbhBikHYk6TO",
        "outputId": "543f90e8-1699-415c-9405-e97d1bed65b1"
      },
      "source": [
        "import sys\n",
        "!{sys.executable} -m pip install Ripser\n",
        "\n",
        "from ripser import ripser"
      ],
      "execution_count": 5,
      "outputs": [
        {
          "output_type": "stream",
          "text": [
            "Collecting Ripser\n",
            "  Downloading ripser-0.6.0.tar.gz (71 kB)\n",
            "\u001b[?25l\r\u001b[K     |████▋                           | 10 kB 28.6 MB/s eta 0:00:01\r\u001b[K     |█████████▏                      | 20 kB 30.9 MB/s eta 0:00:01\r\u001b[K     |█████████████▊                  | 30 kB 12.5 MB/s eta 0:00:01\r\u001b[K     |██████████████████▍             | 40 kB 9.6 MB/s eta 0:00:01\r\u001b[K     |███████████████████████         | 51 kB 5.1 MB/s eta 0:00:01\r\u001b[K     |███████████████████████████▌    | 61 kB 5.6 MB/s eta 0:00:01\r\u001b[K     |████████████████████████████████| 71 kB 3.9 MB/s \n",
            "\u001b[?25h  Installing build dependencies ... \u001b[?25l\u001b[?25hdone\n",
            "  Getting requirements to build wheel ... \u001b[?25l\u001b[?25hdone\n",
            "    Preparing wheel metadata ... \u001b[?25l\u001b[?25hdone\n",
            "Requirement already satisfied: numpy in /usr/local/lib/python3.7/dist-packages (from Ripser) (1.19.5)\n",
            "Requirement already satisfied: scikit-learn in /usr/local/lib/python3.7/dist-packages (from Ripser) (0.22.2.post1)\n",
            "Requirement already satisfied: scipy in /usr/local/lib/python3.7/dist-packages (from Ripser) (1.4.1)\n",
            "Requirement already satisfied: Cython in /usr/local/lib/python3.7/dist-packages (from Ripser) (0.29.23)\n",
            "Collecting persim\n",
            "  Downloading persim-0.3.1-py3-none-any.whl (47 kB)\n",
            "\u001b[K     |████████████████████████████████| 47 kB 3.6 MB/s \n",
            "\u001b[?25hCollecting deprecated\n",
            "  Downloading Deprecated-1.2.12-py2.py3-none-any.whl (9.5 kB)\n",
            "Collecting hopcroftkarp\n",
            "  Downloading hopcroftkarp-1.2.5.tar.gz (16 kB)\n",
            "Requirement already satisfied: joblib in /usr/local/lib/python3.7/dist-packages (from persim->Ripser) (1.0.1)\n",
            "Requirement already satisfied: matplotlib in /usr/local/lib/python3.7/dist-packages (from persim->Ripser) (3.2.2)\n",
            "Requirement already satisfied: wrapt<2,>=1.10 in /usr/local/lib/python3.7/dist-packages (from deprecated->persim->Ripser) (1.12.1)\n",
            "Requirement already satisfied: pyparsing!=2.0.4,!=2.1.2,!=2.1.6,>=2.0.1 in /usr/local/lib/python3.7/dist-packages (from matplotlib->persim->Ripser) (2.4.7)\n",
            "Requirement already satisfied: cycler>=0.10 in /usr/local/lib/python3.7/dist-packages (from matplotlib->persim->Ripser) (0.10.0)\n",
            "Requirement already satisfied: python-dateutil>=2.1 in /usr/local/lib/python3.7/dist-packages (from matplotlib->persim->Ripser) (2.8.1)\n",
            "Requirement already satisfied: kiwisolver>=1.0.1 in /usr/local/lib/python3.7/dist-packages (from matplotlib->persim->Ripser) (1.3.1)\n",
            "Requirement already satisfied: six in /usr/local/lib/python3.7/dist-packages (from cycler>=0.10->matplotlib->persim->Ripser) (1.15.0)\n",
            "Building wheels for collected packages: Ripser, hopcroftkarp\n",
            "  Building wheel for Ripser (PEP 517) ... \u001b[?25l\u001b[?25hdone\n",
            "  Created wheel for Ripser: filename=ripser-0.6.0-cp37-cp37m-linux_x86_64.whl size=454954 sha256=d3d153095226e5fe0fbaa53861e89fc8023e427077f43dbb014a4d49708c5d17\n",
            "  Stored in directory: /root/.cache/pip/wheels/e8/b2/61/e9e1faaee99a8c232366e211456483ed0215c171f5b3db2f6f\n",
            "  Building wheel for hopcroftkarp (setup.py) ... \u001b[?25l\u001b[?25hdone\n",
            "  Created wheel for hopcroftkarp: filename=hopcroftkarp-1.2.5-py2.py3-none-any.whl size=18119 sha256=639467beb4b7b41a62d8dbb41bb335a0505754615d8bbdfcc0fc886da7273eb6\n",
            "  Stored in directory: /root/.cache/pip/wheels/d2/9f/a8/67f1b86e47cd17338d3d07939f4660378e65b758c4594f96e3\n",
            "Successfully built Ripser hopcroftkarp\n",
            "Installing collected packages: hopcroftkarp, deprecated, persim, Ripser\n",
            "Successfully installed Ripser-0.6.0 deprecated-1.2.12 hopcroftkarp-1.2.5 persim-0.3.1\n"
          ],
          "name": "stdout"
        }
      ]
    },
    {
      "cell_type": "code",
      "metadata": {
        "id": "cW2lwi2zk9UP"
      },
      "source": [
        "import numpy as np\n",
        "import matplotlib.pyplot as plt\n",
        "\n",
        "def get_barcode(filt_mat, maxdim = 2):\n",
        "    \"\"\"\n",
        "    Calculates the persistent homology for a given filtration matrix\n",
        "    ``filt_mat``, default dimensions 0 through 2. Wraps ripser.\n",
        "    \"\"\"\n",
        "    b = ripser(filt_mat, distance_matrix = True, maxdim = maxdim)['dgms']\n",
        "    return list(zip(range(maxdim + 1), b))\n",
        "\n",
        "def plot_barcode(bars, length, dims = [0, 1, 2], end = True):\n",
        "    \"\"\"\n",
        "    Takes in bars, as generated by, e.g., ripser, and plots the barcode.\n",
        "    \"\"\"\n",
        "    bars = dict(bars)\n",
        "    count = 1\n",
        "    has_inf = False\n",
        "    colors = ['xkcd:emerald green', 'xkcd:tealish', 'xkcd:peacock blue']\n",
        "    # iterate through dimension\n",
        "    for d in dims:\n",
        "        bn = bars[d]\n",
        "        bn = sorted(bn, key = lambda x: x[0])\n",
        "        for b, i in zip(bn, range(len(bn))):\n",
        "            # extend in the case of infinite cycles\n",
        "            if b[1] == np.inf:\n",
        "                has_inf = True\n",
        "                b = (b[0], 1.3*length)\n",
        "            # plot first one with label\n",
        "            if i == 0:\n",
        "                plt.plot(b, [count, count], color = colors[d],\n",
        "                         label='{}-cycles'.format(d))\n",
        "            else:\n",
        "                plt.plot(b, [count, count], color = colors[d])\n",
        "            count += 1\n",
        "        count += 1\n",
        "    # add end of filtration line\n",
        "    plt.axvline(x = length, color = 'xkcd:grey', alpha = 0.5, linestyle = ':')\n",
        "    if end:\n",
        "        plt.annotate('Filtration End', (length + 10, 0.5 * count), rotation = 270,\n",
        "                     color = 'xkcd:grey', alpha = 0.5)\n",
        "    lims = plt.xlim()\n",
        "    plt.xlim([-0.05 * length, length * 1.05])\n",
        "    plt.xlabel('Nodes')\n",
        "    plt.ylabel('Cycle Number')\n",
        "\n",
        "def betti_curves(bars, length):\n",
        "    \"\"\"\n",
        "    Takes in bars and returns the betti curves\n",
        "    \"\"\"\n",
        "    bettis = np.zeros((len(bars), length))\n",
        "    for i in range(bettis.shape[0]):\n",
        "        bn = bars[i][1]\n",
        "        for bar in bn:\n",
        "            birth = int(bar[0])\n",
        "            death = length+1 if np.isinf(bar[1]) else int(bar[1]+1)\n",
        "            bettis[i][birth:death] += 1\n",
        "    return bettis"
      ],
      "execution_count": 6,
      "outputs": []
    },
    {
      "cell_type": "code",
      "metadata": {
        "id": "yIaZoNR1hgge",
        "colab": {
          "base_uri": "https://localhost:8080/"
        },
        "outputId": "d0afd416-8c59-46a1-9e06-67e810efc556"
      },
      "source": [
        "files = glob.glob('/content/drive/My Drive/Curiosity_v8/Wiki/Preprocessed/*.mat')\n",
        "files"
      ],
      "execution_count": 7,
      "outputs": [
        {
          "output_type": "execute_result",
          "data": {
            "text/plain": [
              "['/content/drive/My Drive/Curiosity_v8/Wiki/Preprocessed/molecular_biology_preprocessed.mat',\n",
              " '/content/drive/My Drive/Curiosity_v8/Wiki/Preprocessed/geometry_preprocessed.mat',\n",
              " '/content/drive/My Drive/Curiosity_v8/Wiki/Preprocessed/optics_preprocessed.mat',\n",
              " '/content/drive/My Drive/Curiosity_v8/Wiki/Preprocessed/software_engineering_preprocessed.mat',\n",
              " '/content/drive/My Drive/Curiosity_v8/Wiki/Preprocessed/abstract_algebra_preprocessed.mat']"
            ]
          },
          "metadata": {
            "tags": []
          },
          "execution_count": 7
        }
      ]
    },
    {
      "cell_type": "code",
      "metadata": {
        "colab": {
          "base_uri": "https://localhost:8080/"
        },
        "id": "rsLTpKYaJ19N",
        "outputId": "02e6987d-1d3c-44be-8436-3d06860aac84"
      },
      "source": [
        "for mat_file in files:\n",
        "\n",
        "  print(mat_file)\n",
        "  \n",
        "  mat_contents = sio.loadmat(mat_file)\n",
        "  topic = mat_contents['topic']\n",
        "  G = mat_contents['G']\n",
        "  weighted_G = mat_contents['weighted_G']\n",
        "  nodes = mat_contents['nodes']\n",
        "  edges_rewired_weighted = mat_contents['edges_rewired_weighted']\n",
        "  latticized_weighted = mat_contents['latticized_weighted']\n",
        "\n",
        "  # Run persistent homology analysis for true data\n",
        "  bars_orig = get_barcode(weighted_G)\n",
        "  bettis_orig = betti_curves(bars_orig, len(nodes))\n",
        "  print('Original processed!')\n",
        "\n",
        "  # Run persistent homology for null models\n",
        "  num_iters = edges_rewired_weighted.shape[2]\n",
        "  bettis_0_edges_rewired = []\n",
        "  bettis_1_edges_rewired = []\n",
        "  bettis_2_edges_rewired = []\n",
        "  bettis_0_latticized = []\n",
        "  bettis_1_latticized = []\n",
        "  bettis_2_latticized = []\n",
        "  for i in range(num_iters):\n",
        "    bars_edges_rewired = get_barcode(edges_rewired_weighted[:, :, i])\n",
        "    bettis_edges_rewired = betti_curves(bars_edges_rewired, len(nodes))\n",
        "    bettis_0_edges_rewired.append(bettis_edges_rewired[0])\n",
        "    bettis_1_edges_rewired.append(bettis_edges_rewired[1])\n",
        "    bettis_2_edges_rewired.append(bettis_edges_rewired[2])\n",
        "    bars_latticized = get_barcode(latticized_weighted[:, :, i])\n",
        "    bettis_latticized = betti_curves(bars_latticized, len(nodes))\n",
        "    bettis_0_latticized.append(bettis_latticized[0])\n",
        "    bettis_1_latticized.append(bettis_latticized[1])\n",
        "    bettis_2_latticized.append(bettis_latticized[2])\n",
        "    print('Null iteration %d processed!' % i)\n",
        "\n",
        "  base_path = '/content/drive/My Drive/Curiosity_v8/Wiki/Processed/'\n",
        "\n",
        "  # Store all PH results\n",
        "  save_dict = {'num_nodes': len(nodes),\n",
        "               'bars_orig': bars_orig,\n",
        "               'bettis_orig': bettis_orig, \n",
        "               'bettis_0_edges_rewired': bettis_0_edges_rewired, \n",
        "               'bettis_1_edges_rewired': bettis_1_edges_rewired,\n",
        "               'bettis_2_edges_rewired': bettis_2_edges_rewired,\n",
        "               'bettis_0_latticized': bettis_0_latticized,\n",
        "               'bettis_1_latticized': bettis_1_latticized,\n",
        "               'bettis_2_latticized': bettis_2_latticized}\n",
        "\n",
        "  np.save(base_path + 'PH_Python/' + topic[0] + '_PH.npy', save_dict, allow_pickle = True)     \n",
        "  savemat(base_path + 'PH_Matlab/' + topic[0] + '_PH.mat' , save_dict)"
      ],
      "execution_count": 8,
      "outputs": [
        {
          "output_type": "stream",
          "text": [
            "/content/drive/My Drive/Curiosity_v8/Wiki/Preprocessed/molecular_biology_preprocessed.mat\n",
            "Original processed!\n",
            "Null iteration 0 processed!\n",
            "Null iteration 1 processed!\n",
            "Null iteration 2 processed!\n",
            "Null iteration 3 processed!\n",
            "Null iteration 4 processed!\n",
            "Null iteration 5 processed!\n",
            "Null iteration 6 processed!\n",
            "Null iteration 7 processed!\n",
            "Null iteration 8 processed!\n",
            "Null iteration 9 processed!\n",
            "Null iteration 10 processed!\n",
            "Null iteration 11 processed!\n",
            "Null iteration 12 processed!\n",
            "Null iteration 13 processed!\n",
            "Null iteration 14 processed!\n",
            "Null iteration 15 processed!\n",
            "Null iteration 16 processed!\n",
            "Null iteration 17 processed!\n",
            "Null iteration 18 processed!\n",
            "Null iteration 19 processed!\n",
            "Null iteration 20 processed!\n",
            "Null iteration 21 processed!\n",
            "Null iteration 22 processed!\n",
            "Null iteration 23 processed!\n",
            "Null iteration 24 processed!\n"
          ],
          "name": "stdout"
        },
        {
          "output_type": "stream",
          "text": [
            "/usr/local/lib/python3.7/dist-packages/numpy/core/_asarray.py:136: VisibleDeprecationWarning: Creating an ndarray from ragged nested sequences (which is a list-or-tuple of lists-or-tuples-or ndarrays with different lengths or shapes) is deprecated. If you meant to do this, you must specify 'dtype=object' when creating the ndarray\n",
            "  return array(a, dtype, copy=False, order=order, subok=True)\n"
          ],
          "name": "stderr"
        },
        {
          "output_type": "stream",
          "text": [
            "/content/drive/My Drive/Curiosity_v8/Wiki/Preprocessed/geometry_preprocessed.mat\n",
            "Original processed!\n",
            "Null iteration 0 processed!\n",
            "Null iteration 1 processed!\n",
            "Null iteration 2 processed!\n",
            "Null iteration 3 processed!\n",
            "Null iteration 4 processed!\n",
            "Null iteration 5 processed!\n",
            "Null iteration 6 processed!\n",
            "Null iteration 7 processed!\n",
            "Null iteration 8 processed!\n",
            "Null iteration 9 processed!\n",
            "Null iteration 10 processed!\n",
            "Null iteration 11 processed!\n",
            "Null iteration 12 processed!\n",
            "Null iteration 13 processed!\n",
            "Null iteration 14 processed!\n",
            "Null iteration 15 processed!\n",
            "Null iteration 16 processed!\n",
            "Null iteration 17 processed!\n",
            "Null iteration 18 processed!\n",
            "Null iteration 19 processed!\n",
            "Null iteration 20 processed!\n",
            "Null iteration 21 processed!\n",
            "Null iteration 22 processed!\n",
            "Null iteration 23 processed!\n",
            "Null iteration 24 processed!\n",
            "/content/drive/My Drive/Curiosity_v8/Wiki/Preprocessed/optics_preprocessed.mat\n",
            "Original processed!\n",
            "Null iteration 0 processed!\n",
            "Null iteration 1 processed!\n",
            "Null iteration 2 processed!\n",
            "Null iteration 3 processed!\n",
            "Null iteration 4 processed!\n",
            "Null iteration 5 processed!\n",
            "Null iteration 6 processed!\n",
            "Null iteration 7 processed!\n",
            "Null iteration 8 processed!\n",
            "Null iteration 9 processed!\n",
            "Null iteration 10 processed!\n",
            "Null iteration 11 processed!\n",
            "Null iteration 12 processed!\n",
            "Null iteration 13 processed!\n",
            "Null iteration 14 processed!\n",
            "Null iteration 15 processed!\n",
            "Null iteration 16 processed!\n",
            "Null iteration 17 processed!\n",
            "Null iteration 18 processed!\n",
            "Null iteration 19 processed!\n",
            "Null iteration 20 processed!\n",
            "Null iteration 21 processed!\n",
            "Null iteration 22 processed!\n",
            "Null iteration 23 processed!\n",
            "Null iteration 24 processed!\n",
            "/content/drive/My Drive/Curiosity_v8/Wiki/Preprocessed/software_engineering_preprocessed.mat\n",
            "Original processed!\n",
            "Null iteration 0 processed!\n",
            "Null iteration 1 processed!\n",
            "Null iteration 2 processed!\n",
            "Null iteration 3 processed!\n",
            "Null iteration 4 processed!\n",
            "Null iteration 5 processed!\n",
            "Null iteration 6 processed!\n",
            "Null iteration 7 processed!\n",
            "Null iteration 8 processed!\n",
            "Null iteration 9 processed!\n",
            "Null iteration 10 processed!\n",
            "Null iteration 11 processed!\n",
            "Null iteration 12 processed!\n",
            "Null iteration 13 processed!\n",
            "Null iteration 14 processed!\n",
            "Null iteration 15 processed!\n",
            "Null iteration 16 processed!\n",
            "Null iteration 17 processed!\n",
            "Null iteration 18 processed!\n",
            "Null iteration 19 processed!\n",
            "Null iteration 20 processed!\n",
            "Null iteration 21 processed!\n",
            "Null iteration 22 processed!\n",
            "Null iteration 23 processed!\n",
            "Null iteration 24 processed!\n",
            "/content/drive/My Drive/Curiosity_v8/Wiki/Preprocessed/abstract_algebra_preprocessed.mat\n",
            "Original processed!\n",
            "Null iteration 0 processed!\n",
            "Null iteration 1 processed!\n",
            "Null iteration 2 processed!\n",
            "Null iteration 3 processed!\n",
            "Null iteration 4 processed!\n",
            "Null iteration 5 processed!\n",
            "Null iteration 6 processed!\n",
            "Null iteration 7 processed!\n",
            "Null iteration 8 processed!\n",
            "Null iteration 9 processed!\n",
            "Null iteration 10 processed!\n",
            "Null iteration 11 processed!\n",
            "Null iteration 12 processed!\n",
            "Null iteration 13 processed!\n",
            "Null iteration 14 processed!\n",
            "Null iteration 15 processed!\n",
            "Null iteration 16 processed!\n",
            "Null iteration 17 processed!\n",
            "Null iteration 18 processed!\n",
            "Null iteration 19 processed!\n",
            "Null iteration 20 processed!\n",
            "Null iteration 21 processed!\n",
            "Null iteration 22 processed!\n",
            "Null iteration 23 processed!\n",
            "Null iteration 24 processed!\n"
          ],
          "name": "stdout"
        }
      ]
    }
  ]
}