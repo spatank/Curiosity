{
  "nbformat": 4,
  "nbformat_minor": 0,
  "metadata": {
    "colab": {
      "name": "persistent_homology_KNOT.ipynb",
      "provenance": [],
      "collapsed_sections": [],
      "authorship_tag": "ABX9TyNecy6wUBRyrhXqiZtfbYhg",
      "include_colab_link": true
    },
    "kernelspec": {
      "name": "python3",
      "display_name": "Python 3"
    },
    "language_info": {
      "name": "python"
    }
  },
  "cells": [
    {
      "cell_type": "markdown",
      "metadata": {
        "id": "view-in-github",
        "colab_type": "text"
      },
      "source": [
        "<a href=\"https://colab.research.google.com/github/spatank/Curiosity/blob/master/v5/persistent_homology_KNOT.ipynb\" target=\"_parent\"><img src=\"https://colab.research.google.com/assets/colab-badge.svg\" alt=\"Open In Colab\"/></a>"
      ]
    },
    {
      "cell_type": "code",
      "metadata": {
        "colab": {
          "base_uri": "https://localhost:8080/"
        },
        "id": "2Y7gnEocgMi0",
        "outputId": "a7e30279-0383-40c9-ac3d-72d599afcf4a"
      },
      "source": [
        "from google.colab import drive\n",
        "drive.mount('/content/drive')\n",
        "\n",
        "import os\n",
        "os.chdir('/content/drive/My Drive/Curiosity/')"
      ],
      "execution_count": 1,
      "outputs": [
        {
          "output_type": "stream",
          "text": [
            "Mounted at /content/drive\n"
          ],
          "name": "stdout"
        }
      ]
    },
    {
      "cell_type": "code",
      "metadata": {
        "colab": {
          "base_uri": "https://localhost:8080/"
        },
        "id": "mvB4MASbhE5d",
        "outputId": "277daf86-d073-4c6d-d4d5-fbb337a55504"
      },
      "source": [
        "!ls # run !ls to verify location"
      ],
      "execution_count": 2,
      "outputs": [
        {
          "output_type": "stream",
          "text": [
            "KNOT  persistent_homology_KNOT.ipynb  persistent_homology_Wiki.ipynb  Wiki\n"
          ],
          "name": "stdout"
        }
      ]
    },
    {
      "cell_type": "code",
      "metadata": {
        "id": "O6URroOyhdr7"
      },
      "source": [
        "import glob\n",
        "import scipy\n",
        "import scipy.io as sio\n",
        "from scipy.io import savemat"
      ],
      "execution_count": 3,
      "outputs": []
    },
    {
      "cell_type": "code",
      "metadata": {
        "colab": {
          "base_uri": "https://localhost:8080/"
        },
        "id": "LHNE6dZ9kzUN",
        "outputId": "281f5e1f-dfdf-40fd-b2df-780232cc3f6f"
      },
      "source": [
        "import sys\n",
        "!{sys.executable} -m pip install Cython"
      ],
      "execution_count": 4,
      "outputs": [
        {
          "output_type": "stream",
          "text": [
            "Requirement already satisfied: Cython in /usr/local/lib/python3.7/dist-packages (0.29.22)\n"
          ],
          "name": "stdout"
        }
      ]
    },
    {
      "cell_type": "code",
      "metadata": {
        "colab": {
          "base_uri": "https://localhost:8080/"
        },
        "id": "fbhBikHYk6TO",
        "outputId": "4bfd5289-80e6-4360-9f49-ad6c1e7561d9"
      },
      "source": [
        "import sys\n",
        "!{sys.executable} -m pip install Ripser"
      ],
      "execution_count": 5,
      "outputs": [
        {
          "output_type": "stream",
          "text": [
            "Collecting Ripser\n",
            "\u001b[?25l  Downloading https://files.pythonhosted.org/packages/b8/6c/d415052513439a43be06237d887066bb57016329445fabbc7a66904ec88f/ripser-0.6.0.tar.gz (71kB)\n",
            "\r\u001b[K     |████▋                           | 10kB 17.5MB/s eta 0:00:01\r\u001b[K     |█████████▏                      | 20kB 21.1MB/s eta 0:00:01\r\u001b[K     |█████████████▊                  | 30kB 16.0MB/s eta 0:00:01\r\u001b[K     |██████████████████▍             | 40kB 14.0MB/s eta 0:00:01\r\u001b[K     |███████████████████████         | 51kB 11.5MB/s eta 0:00:01\r\u001b[K     |███████████████████████████▌    | 61kB 10.8MB/s eta 0:00:01\r\u001b[K     |████████████████████████████████| 71kB 4.7MB/s \n",
            "\u001b[?25h  Installing build dependencies ... \u001b[?25l\u001b[?25hdone\n",
            "  Getting requirements to build wheel ... \u001b[?25l\u001b[?25hdone\n",
            "    Preparing wheel metadata ... \u001b[?25l\u001b[?25hdone\n",
            "Requirement already satisfied: Cython in /usr/local/lib/python3.7/dist-packages (from Ripser) (0.29.22)\n",
            "Collecting persim\n",
            "\u001b[?25l  Downloading https://files.pythonhosted.org/packages/37/93/561457cd5eb05f4d37100ff7c435ce90097cc7e58710fba07a67fd889023/persim-0.3.0-py3-none-any.whl (47kB)\n",
            "\u001b[K     |████████████████████████████████| 51kB 4.9MB/s \n",
            "\u001b[?25hRequirement already satisfied: scikit-learn in /usr/local/lib/python3.7/dist-packages (from Ripser) (0.22.2.post1)\n",
            "Requirement already satisfied: numpy in /usr/local/lib/python3.7/dist-packages (from Ripser) (1.19.5)\n",
            "Requirement already satisfied: scipy in /usr/local/lib/python3.7/dist-packages (from Ripser) (1.4.1)\n",
            "Collecting deprecated\n",
            "  Downloading https://files.pythonhosted.org/packages/fb/73/994edfcba74443146c84b91921fcc269374354118d4f452fb0c54c1cbb12/Deprecated-1.2.12-py2.py3-none-any.whl\n",
            "Collecting hopcroftkarp\n",
            "  Downloading https://files.pythonhosted.org/packages/6b/56/7b03eba3c43008c490c9d52e69ea5334b65955f66836eb4f1962f3b0d421/hopcroftkarp-1.2.5.tar.gz\n",
            "Requirement already satisfied: joblib in /usr/local/lib/python3.7/dist-packages (from persim->Ripser) (1.0.1)\n",
            "Requirement already satisfied: matplotlib in /usr/local/lib/python3.7/dist-packages (from persim->Ripser) (3.2.2)\n",
            "Requirement already satisfied: wrapt<2,>=1.10 in /usr/local/lib/python3.7/dist-packages (from deprecated->persim->Ripser) (1.12.1)\n",
            "Requirement already satisfied: cycler>=0.10 in /usr/local/lib/python3.7/dist-packages (from matplotlib->persim->Ripser) (0.10.0)\n",
            "Requirement already satisfied: pyparsing!=2.0.4,!=2.1.2,!=2.1.6,>=2.0.1 in /usr/local/lib/python3.7/dist-packages (from matplotlib->persim->Ripser) (2.4.7)\n",
            "Requirement already satisfied: python-dateutil>=2.1 in /usr/local/lib/python3.7/dist-packages (from matplotlib->persim->Ripser) (2.8.1)\n",
            "Requirement already satisfied: kiwisolver>=1.0.1 in /usr/local/lib/python3.7/dist-packages (from matplotlib->persim->Ripser) (1.3.1)\n",
            "Requirement already satisfied: six in /usr/local/lib/python3.7/dist-packages (from cycler>=0.10->matplotlib->persim->Ripser) (1.15.0)\n",
            "Building wheels for collected packages: Ripser\n",
            "  Building wheel for Ripser (PEP 517) ... \u001b[?25l\u001b[?25hdone\n",
            "  Created wheel for Ripser: filename=ripser-0.6.0-cp37-cp37m-linux_x86_64.whl size=454932 sha256=28248130aebdd31821a4b0ed0ed3717b028d8e8415f11500a882500f902e41ab\n",
            "  Stored in directory: /root/.cache/pip/wheels/95/1e/13/59da989de59903698d767dcb19414163e683a2dd31edf80417\n",
            "Successfully built Ripser\n",
            "Building wheels for collected packages: hopcroftkarp\n",
            "  Building wheel for hopcroftkarp (setup.py) ... \u001b[?25l\u001b[?25hdone\n",
            "  Created wheel for hopcroftkarp: filename=hopcroftkarp-1.2.5-py2.py3-none-any.whl size=18091 sha256=0d83c7b61c4489df354d46d45a0498346facb381a27322143f90a11fb9bcde0c\n",
            "  Stored in directory: /root/.cache/pip/wheels/2b/e1/c9/1993c7f7f114b7d3fb2d3e895e02157a7ebf554861e9e54e01\n",
            "Successfully built hopcroftkarp\n",
            "Installing collected packages: deprecated, hopcroftkarp, persim, Ripser\n",
            "Successfully installed Ripser-0.6.0 deprecated-1.2.12 hopcroftkarp-1.2.5 persim-0.3.0\n"
          ],
          "name": "stdout"
        }
      ]
    },
    {
      "cell_type": "code",
      "metadata": {
        "id": "cW2lwi2zk9UP"
      },
      "source": [
        "from ripser import ripser\n",
        "import numpy as np\n",
        "import matplotlib.pyplot as plt\n",
        "\n",
        "def get_barcode(filt_mat, maxdim = 2):\n",
        "    \"\"\"\n",
        "    Calculates the persistent homology for a given filtration matrix\n",
        "    ``filt_mat``, default dimensions 0 through 2. Wraps ripser.\n",
        "    \"\"\"\n",
        "    b = ripser(filt_mat, distance_matrix = True, maxdim = maxdim)['dgms']\n",
        "    return list(zip(range(maxdim + 1), b))\n",
        "\n",
        "def plot_barcode(bars, length, dims = [0, 1, 2], end = True):\n",
        "    \"\"\"\n",
        "    Takes in bars, as generated by, e.g., ripser, and plots the barcode.\n",
        "    \"\"\"\n",
        "    bars = dict(bars)\n",
        "    count = 1\n",
        "    has_inf = False\n",
        "    colors = ['xkcd:emerald green', 'xkcd:tealish', 'xkcd:peacock blue']\n",
        "    # iterate through dimension\n",
        "    for d in dims:\n",
        "        bn = bars[d]\n",
        "        bn = sorted(bn, key = lambda x: x[0])\n",
        "        for b, i in zip(bn, range(len(bn))):\n",
        "            # extend in the case of infinite cycles\n",
        "            if b[1] == np.inf:\n",
        "                has_inf = True\n",
        "                b = (b[0], 1.3*length)\n",
        "            # plot first one with label\n",
        "            if i == 0:\n",
        "                plt.plot(b, [count, count], color = colors[d],\n",
        "                         label='{}-cycles'.format(d))\n",
        "            else:\n",
        "                plt.plot(b, [count, count], color = colors[d])\n",
        "            count += 1\n",
        "        count += 1\n",
        "    # add end of filtration line\n",
        "    plt.axvline(x = length, color = 'xkcd:grey', alpha = 0.5, linestyle = ':')\n",
        "    if end:\n",
        "        plt.annotate('Filtration End', (length + 10, 0.5 * count), rotation = 270,\n",
        "                     color = 'xkcd:grey', alpha = 0.5)\n",
        "    lims = plt.xlim()\n",
        "    plt.xlim([-0.05 * length, length * 1.05])\n",
        "    plt.xlabel('Nodes')\n",
        "    plt.ylabel('Cycle Number')\n",
        "\n",
        "def betti_curves(bars, length):\n",
        "    \"\"\"\n",
        "    Takes in bars and returns the betti curves\n",
        "    \"\"\"\n",
        "    bettis = np.zeros((len(bars), length))\n",
        "    for i in range(bettis.shape[0]):\n",
        "        bn = bars[i][1]\n",
        "        for bar in bn:\n",
        "            birth = int(bar[0])\n",
        "            death = length+1 if np.isinf(bar[1]) else int(bar[1]+1)\n",
        "            bettis[i][birth:death] += 1\n",
        "    return bettis"
      ],
      "execution_count": 6,
      "outputs": []
    },
    {
      "cell_type": "code",
      "metadata": {
        "id": "yIaZoNR1hgge",
        "colab": {
          "base_uri": "https://localhost:8080/"
        },
        "outputId": "0cf71d32-d934-4efe-f66e-2c68efadb247"
      },
      "source": [
        "files = glob.glob('/content/drive/My Drive/Curiosity/KNOT/Preprocessed/*.mat')\n",
        "files"
      ],
      "execution_count": 7,
      "outputs": [
        {
          "output_type": "execute_result",
          "data": {
            "text/plain": [
              "['/content/drive/My Drive/Curiosity/KNOT/Preprocessed/subj_101_preprocessed.mat',\n",
              " '/content/drive/My Drive/Curiosity/KNOT/Preprocessed/subj_104_preprocessed.mat',\n",
              " '/content/drive/My Drive/Curiosity/KNOT/Preprocessed/subj_105_preprocessed.mat',\n",
              " '/content/drive/My Drive/Curiosity/KNOT/Preprocessed/subj_106_preprocessed.mat',\n",
              " '/content/drive/My Drive/Curiosity/KNOT/Preprocessed/subj_107_preprocessed.mat',\n",
              " '/content/drive/My Drive/Curiosity/KNOT/Preprocessed/subj_109_preprocessed.mat',\n",
              " '/content/drive/My Drive/Curiosity/KNOT/Preprocessed/subj_108_preprocessed.mat',\n",
              " '/content/drive/My Drive/Curiosity/KNOT/Preprocessed/subj_114_preprocessed.mat',\n",
              " '/content/drive/My Drive/Curiosity/KNOT/Preprocessed/subj_112_preprocessed.mat',\n",
              " '/content/drive/My Drive/Curiosity/KNOT/Preprocessed/subj_115_preprocessed.mat',\n",
              " '/content/drive/My Drive/Curiosity/KNOT/Preprocessed/subj_117_preprocessed.mat',\n",
              " '/content/drive/My Drive/Curiosity/KNOT/Preprocessed/subj_120_preprocessed.mat',\n",
              " '/content/drive/My Drive/Curiosity/KNOT/Preprocessed/subj_119_preprocessed.mat',\n",
              " '/content/drive/My Drive/Curiosity/KNOT/Preprocessed/subj_121_preprocessed.mat',\n",
              " '/content/drive/My Drive/Curiosity/KNOT/Preprocessed/subj_122_preprocessed.mat',\n",
              " '/content/drive/My Drive/Curiosity/KNOT/Preprocessed/subj_126_preprocessed.mat',\n",
              " '/content/drive/My Drive/Curiosity/KNOT/Preprocessed/subj_127_preprocessed.mat',\n",
              " '/content/drive/My Drive/Curiosity/KNOT/Preprocessed/subj_128_preprocessed.mat',\n",
              " '/content/drive/My Drive/Curiosity/KNOT/Preprocessed/subj_130_preprocessed.mat',\n",
              " '/content/drive/My Drive/Curiosity/KNOT/Preprocessed/subj_131_preprocessed.mat',\n",
              " '/content/drive/My Drive/Curiosity/KNOT/Preprocessed/subj_132_preprocessed.mat',\n",
              " '/content/drive/My Drive/Curiosity/KNOT/Preprocessed/subj_135_preprocessed.mat',\n",
              " '/content/drive/My Drive/Curiosity/KNOT/Preprocessed/subj_138_preprocessed.mat',\n",
              " '/content/drive/My Drive/Curiosity/KNOT/Preprocessed/subj_140_preprocessed.mat',\n",
              " '/content/drive/My Drive/Curiosity/KNOT/Preprocessed/subj_139_preprocessed.mat',\n",
              " '/content/drive/My Drive/Curiosity/KNOT/Preprocessed/subj_141_preprocessed.mat',\n",
              " '/content/drive/My Drive/Curiosity/KNOT/Preprocessed/subj_150_preprocessed.mat',\n",
              " '/content/drive/My Drive/Curiosity/KNOT/Preprocessed/subj_146_preprocessed.mat',\n",
              " '/content/drive/My Drive/Curiosity/KNOT/Preprocessed/subj_153_preprocessed.mat',\n",
              " '/content/drive/My Drive/Curiosity/KNOT/Preprocessed/subj_154_preprocessed.mat',\n",
              " '/content/drive/My Drive/Curiosity/KNOT/Preprocessed/subj_155_preprocessed.mat',\n",
              " '/content/drive/My Drive/Curiosity/KNOT/Preprocessed/subj_156_preprocessed.mat',\n",
              " '/content/drive/My Drive/Curiosity/KNOT/Preprocessed/subj_157_preprocessed.mat',\n",
              " '/content/drive/My Drive/Curiosity/KNOT/Preprocessed/subj_158_preprocessed.mat',\n",
              " '/content/drive/My Drive/Curiosity/KNOT/Preprocessed/subj_159_preprocessed.mat',\n",
              " '/content/drive/My Drive/Curiosity/KNOT/Preprocessed/subj_162_preprocessed.mat',\n",
              " '/content/drive/My Drive/Curiosity/KNOT/Preprocessed/subj_164_preprocessed.mat',\n",
              " '/content/drive/My Drive/Curiosity/KNOT/Preprocessed/subj_167_preprocessed.mat',\n",
              " '/content/drive/My Drive/Curiosity/KNOT/Preprocessed/subj_165_preprocessed.mat',\n",
              " '/content/drive/My Drive/Curiosity/KNOT/Preprocessed/subj_171_preprocessed.mat',\n",
              " '/content/drive/My Drive/Curiosity/KNOT/Preprocessed/subj_169_preprocessed.mat',\n",
              " '/content/drive/My Drive/Curiosity/KNOT/Preprocessed/subj_173_preprocessed.mat',\n",
              " '/content/drive/My Drive/Curiosity/KNOT/Preprocessed/subj_174_preprocessed.mat',\n",
              " '/content/drive/My Drive/Curiosity/KNOT/Preprocessed/subj_176_preprocessed.mat',\n",
              " '/content/drive/My Drive/Curiosity/KNOT/Preprocessed/subj_179_preprocessed.mat',\n",
              " '/content/drive/My Drive/Curiosity/KNOT/Preprocessed/subj_177_preprocessed.mat',\n",
              " '/content/drive/My Drive/Curiosity/KNOT/Preprocessed/subj_183_preprocessed.mat',\n",
              " '/content/drive/My Drive/Curiosity/KNOT/Preprocessed/subj_185_preprocessed.mat',\n",
              " '/content/drive/My Drive/Curiosity/KNOT/Preprocessed/subj_188_preprocessed.mat',\n",
              " '/content/drive/My Drive/Curiosity/KNOT/Preprocessed/subj_189_preprocessed.mat',\n",
              " '/content/drive/My Drive/Curiosity/KNOT/Preprocessed/subj_191_preprocessed.mat',\n",
              " '/content/drive/My Drive/Curiosity/KNOT/Preprocessed/subj_190_preprocessed.mat',\n",
              " '/content/drive/My Drive/Curiosity/KNOT/Preprocessed/subj_192_preprocessed.mat',\n",
              " '/content/drive/My Drive/Curiosity/KNOT/Preprocessed/subj_194_preprocessed.mat',\n",
              " '/content/drive/My Drive/Curiosity/KNOT/Preprocessed/subj_196_preprocessed.mat',\n",
              " '/content/drive/My Drive/Curiosity/KNOT/Preprocessed/subj_197_preprocessed.mat',\n",
              " '/content/drive/My Drive/Curiosity/KNOT/Preprocessed/subj_198_preprocessed.mat',\n",
              " '/content/drive/My Drive/Curiosity/KNOT/Preprocessed/subj_199_preprocessed.mat',\n",
              " '/content/drive/My Drive/Curiosity/KNOT/Preprocessed/subj_201_preprocessed.mat',\n",
              " '/content/drive/My Drive/Curiosity/KNOT/Preprocessed/subj_206_preprocessed.mat',\n",
              " '/content/drive/My Drive/Curiosity/KNOT/Preprocessed/subj_204_preprocessed.mat',\n",
              " '/content/drive/My Drive/Curiosity/KNOT/Preprocessed/subj_207_preprocessed.mat',\n",
              " '/content/drive/My Drive/Curiosity/KNOT/Preprocessed/subj_208_preprocessed.mat',\n",
              " '/content/drive/My Drive/Curiosity/KNOT/Preprocessed/subj_209_preprocessed.mat',\n",
              " '/content/drive/My Drive/Curiosity/KNOT/Preprocessed/subj_210_preprocessed.mat',\n",
              " '/content/drive/My Drive/Curiosity/KNOT/Preprocessed/subj_211_preprocessed.mat',\n",
              " '/content/drive/My Drive/Curiosity/KNOT/Preprocessed/subj_212_preprocessed.mat',\n",
              " '/content/drive/My Drive/Curiosity/KNOT/Preprocessed/subj_214_preprocessed.mat',\n",
              " '/content/drive/My Drive/Curiosity/KNOT/Preprocessed/subj_216_preprocessed.mat',\n",
              " '/content/drive/My Drive/Curiosity/KNOT/Preprocessed/subj_217_preprocessed.mat',\n",
              " '/content/drive/My Drive/Curiosity/KNOT/Preprocessed/subj_219_preprocessed.mat',\n",
              " '/content/drive/My Drive/Curiosity/KNOT/Preprocessed/subj_220_preprocessed.mat',\n",
              " '/content/drive/My Drive/Curiosity/KNOT/Preprocessed/subj_221_preprocessed.mat',\n",
              " '/content/drive/My Drive/Curiosity/KNOT/Preprocessed/subj_223_preprocessed.mat',\n",
              " '/content/drive/My Drive/Curiosity/KNOT/Preprocessed/subj_224_preprocessed.mat',\n",
              " '/content/drive/My Drive/Curiosity/KNOT/Preprocessed/subj_225_preprocessed.mat',\n",
              " '/content/drive/My Drive/Curiosity/KNOT/Preprocessed/subj_228_preprocessed.mat',\n",
              " '/content/drive/My Drive/Curiosity/KNOT/Preprocessed/subj_226_preprocessed.mat',\n",
              " '/content/drive/My Drive/Curiosity/KNOT/Preprocessed/subj_229_preprocessed.mat',\n",
              " '/content/drive/My Drive/Curiosity/KNOT/Preprocessed/subj_231_preprocessed.mat',\n",
              " '/content/drive/My Drive/Curiosity/KNOT/Preprocessed/subj_232_preprocessed.mat',\n",
              " '/content/drive/My Drive/Curiosity/KNOT/Preprocessed/subj_234_preprocessed.mat',\n",
              " '/content/drive/My Drive/Curiosity/KNOT/Preprocessed/subj_236_preprocessed.mat',\n",
              " '/content/drive/My Drive/Curiosity/KNOT/Preprocessed/subj_235_preprocessed.mat',\n",
              " '/content/drive/My Drive/Curiosity/KNOT/Preprocessed/subj_238_preprocessed.mat',\n",
              " '/content/drive/My Drive/Curiosity/KNOT/Preprocessed/subj_239_preprocessed.mat',\n",
              " '/content/drive/My Drive/Curiosity/KNOT/Preprocessed/subj_240_preprocessed.mat',\n",
              " '/content/drive/My Drive/Curiosity/KNOT/Preprocessed/subj_242_preprocessed.mat',\n",
              " '/content/drive/My Drive/Curiosity/KNOT/Preprocessed/subj_243_preprocessed.mat',\n",
              " '/content/drive/My Drive/Curiosity/KNOT/Preprocessed/subj_246_preprocessed.mat',\n",
              " '/content/drive/My Drive/Curiosity/KNOT/Preprocessed/subj_247_preprocessed.mat',\n",
              " '/content/drive/My Drive/Curiosity/KNOT/Preprocessed/subj_248_preprocessed.mat',\n",
              " '/content/drive/My Drive/Curiosity/KNOT/Preprocessed/subj_251_preprocessed.mat',\n",
              " '/content/drive/My Drive/Curiosity/KNOT/Preprocessed/subj_249_preprocessed.mat',\n",
              " '/content/drive/My Drive/Curiosity/KNOT/Preprocessed/subj_256_preprocessed.mat',\n",
              " '/content/drive/My Drive/Curiosity/KNOT/Preprocessed/subj_255_preprocessed.mat',\n",
              " '/content/drive/My Drive/Curiosity/KNOT/Preprocessed/subj_253_preprocessed.mat',\n",
              " '/content/drive/My Drive/Curiosity/KNOT/Preprocessed/subj_259_preprocessed.mat',\n",
              " '/content/drive/My Drive/Curiosity/KNOT/Preprocessed/subj_258_preprocessed.mat',\n",
              " '/content/drive/My Drive/Curiosity/KNOT/Preprocessed/subj_261_preprocessed.mat',\n",
              " '/content/drive/My Drive/Curiosity/KNOT/Preprocessed/subj_264_preprocessed.mat',\n",
              " '/content/drive/My Drive/Curiosity/KNOT/Preprocessed/subj_263_preprocessed.mat',\n",
              " '/content/drive/My Drive/Curiosity/KNOT/Preprocessed/subj_266_preprocessed.mat',\n",
              " '/content/drive/My Drive/Curiosity/KNOT/Preprocessed/subj_267_preprocessed.mat',\n",
              " '/content/drive/My Drive/Curiosity/KNOT/Preprocessed/subj_268_preprocessed.mat',\n",
              " '/content/drive/My Drive/Curiosity/KNOT/Preprocessed/subj_271_preprocessed.mat',\n",
              " '/content/drive/My Drive/Curiosity/KNOT/Preprocessed/subj_269_preprocessed.mat',\n",
              " '/content/drive/My Drive/Curiosity/KNOT/Preprocessed/subj_273_preprocessed.mat',\n",
              " '/content/drive/My Drive/Curiosity/KNOT/Preprocessed/subj_278_preprocessed.mat',\n",
              " '/content/drive/My Drive/Curiosity/KNOT/Preprocessed/subj_286_preprocessed.mat',\n",
              " '/content/drive/My Drive/Curiosity/KNOT/Preprocessed/subj_280_preprocessed.mat',\n",
              " '/content/drive/My Drive/Curiosity/KNOT/Preprocessed/subj_287_preprocessed.mat',\n",
              " '/content/drive/My Drive/Curiosity/KNOT/Preprocessed/subj_288_preprocessed.mat',\n",
              " '/content/drive/My Drive/Curiosity/KNOT/Preprocessed/subj_290_preprocessed.mat',\n",
              " '/content/drive/My Drive/Curiosity/KNOT/Preprocessed/subj_291_preprocessed.mat',\n",
              " '/content/drive/My Drive/Curiosity/KNOT/Preprocessed/subj_293_preprocessed.mat',\n",
              " '/content/drive/My Drive/Curiosity/KNOT/Preprocessed/subj_296_preprocessed.mat',\n",
              " '/content/drive/My Drive/Curiosity/KNOT/Preprocessed/subj_297_preprocessed.mat',\n",
              " '/content/drive/My Drive/Curiosity/KNOT/Preprocessed/subj_304_preprocessed.mat',\n",
              " '/content/drive/My Drive/Curiosity/KNOT/Preprocessed/subj_308_preprocessed.mat',\n",
              " '/content/drive/My Drive/Curiosity/KNOT/Preprocessed/subj_309_preprocessed.mat',\n",
              " '/content/drive/My Drive/Curiosity/KNOT/Preprocessed/subj_311_preprocessed.mat',\n",
              " '/content/drive/My Drive/Curiosity/KNOT/Preprocessed/subj_310_preprocessed.mat',\n",
              " '/content/drive/My Drive/Curiosity/KNOT/Preprocessed/subj_312_preprocessed.mat',\n",
              " '/content/drive/My Drive/Curiosity/KNOT/Preprocessed/subj_313_preprocessed.mat',\n",
              " '/content/drive/My Drive/Curiosity/KNOT/Preprocessed/subj_316_preprocessed.mat',\n",
              " '/content/drive/My Drive/Curiosity/KNOT/Preprocessed/subj_318_preprocessed.mat',\n",
              " '/content/drive/My Drive/Curiosity/KNOT/Preprocessed/subj_321_preprocessed.mat',\n",
              " '/content/drive/My Drive/Curiosity/KNOT/Preprocessed/subj_319_preprocessed.mat',\n",
              " '/content/drive/My Drive/Curiosity/KNOT/Preprocessed/subj_323_preprocessed.mat',\n",
              " '/content/drive/My Drive/Curiosity/KNOT/Preprocessed/subj_322_preprocessed.mat',\n",
              " '/content/drive/My Drive/Curiosity/KNOT/Preprocessed/subj_324_preprocessed.mat',\n",
              " '/content/drive/My Drive/Curiosity/KNOT/Preprocessed/subj_325_preprocessed.mat',\n",
              " '/content/drive/My Drive/Curiosity/KNOT/Preprocessed/subj_327_preprocessed.mat',\n",
              " '/content/drive/My Drive/Curiosity/KNOT/Preprocessed/subj_328_preprocessed.mat',\n",
              " '/content/drive/My Drive/Curiosity/KNOT/Preprocessed/subj_329_preprocessed.mat',\n",
              " '/content/drive/My Drive/Curiosity/KNOT/Preprocessed/subj_335_preprocessed.mat',\n",
              " '/content/drive/My Drive/Curiosity/KNOT/Preprocessed/subj_339_preprocessed.mat',\n",
              " '/content/drive/My Drive/Curiosity/KNOT/Preprocessed/subj_338_preprocessed.mat',\n",
              " '/content/drive/My Drive/Curiosity/KNOT/Preprocessed/subj_340_preprocessed.mat',\n",
              " '/content/drive/My Drive/Curiosity/KNOT/Preprocessed/subj_340340_preprocessed.mat',\n",
              " '/content/drive/My Drive/Curiosity/KNOT/Preprocessed/subj_342_preprocessed.mat',\n",
              " '/content/drive/My Drive/Curiosity/KNOT/Preprocessed/subj_351_preprocessed.mat',\n",
              " '/content/drive/My Drive/Curiosity/KNOT/Preprocessed/subj_349_preprocessed.mat',\n",
              " '/content/drive/My Drive/Curiosity/KNOT/Preprocessed/subj_353_preprocessed.mat',\n",
              " '/content/drive/My Drive/Curiosity/KNOT/Preprocessed/subj_355_preprocessed.mat',\n",
              " '/content/drive/My Drive/Curiosity/KNOT/Preprocessed/subj_356_preprocessed.mat',\n",
              " '/content/drive/My Drive/Curiosity/KNOT/Preprocessed/subj_359_preprocessed.mat',\n",
              " '/content/drive/My Drive/Curiosity/KNOT/Preprocessed/subj_363_preprocessed.mat']"
            ]
          },
          "metadata": {
            "tags": []
          },
          "execution_count": 7
        }
      ]
    },
    {
      "cell_type": "code",
      "metadata": {
        "colab": {
          "base_uri": "https://localhost:8080/",
          "height": 35
        },
        "id": "8hly2yPx_PYS",
        "outputId": "235d30db-0919-4b1b-f287-2eab2c718230"
      },
      "source": [
        "mat_file = files[3]\n",
        "mat_file"
      ],
      "execution_count": 9,
      "outputs": [
        {
          "output_type": "execute_result",
          "data": {
            "application/vnd.google.colaboratory.intrinsic+json": {
              "type": "string"
            },
            "text/plain": [
              "'/content/drive/My Drive/Curiosity/KNOT/Preprocessed/subj_106_preprocessed.mat'"
            ]
          },
          "metadata": {
            "tags": []
          },
          "execution_count": 9
        }
      ]
    },
    {
      "cell_type": "code",
      "metadata": {
        "id": "Jeg1jtl6iIBZ"
      },
      "source": [
        "# test code with Subject 106\n",
        "mat_contents = sio.loadmat(mat_file)\n",
        "\n",
        "subj = mat_contents['subj']\n",
        "G = mat_contents['G']\n",
        "weighted_G = mat_contents['weighted_G']\n",
        "nodes = mat_contents['nodes']\n",
        "\n",
        "edges_rewired_weighted = mat_contents['edges_rewired_weighted']\n",
        "latticized_weighted = mat_contents['latticized_weighted']"
      ],
      "execution_count": 10,
      "outputs": []
    },
    {
      "cell_type": "code",
      "metadata": {
        "colab": {
          "base_uri": "https://localhost:8080/"
        },
        "id": "MT7xD9eS2VUb",
        "outputId": "9dfc9b19-f0ce-424c-a09f-81494b5d4fb7"
      },
      "source": [
        "# Run persistent homology analysis for true data\n",
        "bars_orig = get_barcode(weighted_G)\n",
        "bettis_orig = betti_curves(bars_orig, len(nodes))\n",
        "print('Original processed!')"
      ],
      "execution_count": 11,
      "outputs": [
        {
          "output_type": "stream",
          "text": [
            "Original processed!\n"
          ],
          "name": "stdout"
        }
      ]
    },
    {
      "cell_type": "code",
      "metadata": {
        "colab": {
          "base_uri": "https://localhost:8080/",
          "height": 282
        },
        "id": "4vT4qsrX2Zz_",
        "outputId": "22a0ebe8-89be-491b-cbb5-1bd04bbfd676"
      },
      "source": [
        "plt.plot(bettis_orig[0])"
      ],
      "execution_count": 12,
      "outputs": [
        {
          "output_type": "execute_result",
          "data": {
            "text/plain": [
              "[<matplotlib.lines.Line2D at 0x7f2fa9ee9910>]"
            ]
          },
          "metadata": {
            "tags": []
          },
          "execution_count": 12
        },
        {
          "output_type": "display_data",
          "data": {
            "image/png": "[encoded data removed]",
            "text/plain": [
              "<Figure size 432x288 with 1 Axes>"
            ]
          },
          "metadata": {
            "tags": [],
            "needs_background": "light"
          }
        }
      ]
    },
    {
      "cell_type": "code",
      "metadata": {
        "colab": {
          "base_uri": "https://localhost:8080/",
          "height": 285
        },
        "id": "LDV78K0-2aYY",
        "outputId": "61d6f89e-bbce-413c-e266-c5f3ddad97e3"
      },
      "source": [
        "plt.plot(bettis_orig[1])"
      ],
      "execution_count": 13,
      "outputs": [
        {
          "output_type": "execute_result",
          "data": {
            "text/plain": [
              "[<matplotlib.lines.Line2D at 0x7f2fa99cca10>]"
            ]
          },
          "metadata": {
            "tags": []
          },
          "execution_count": 13
        },
        {
          "output_type": "display_data",
          "data": {
            "image/png": "[encoded data removed]",
            "text/plain": [
              "<Figure size 432x288 with 1 Axes>"
            ]
          },
          "metadata": {
            "tags": [],
            "needs_background": "light"
          }
        }
      ]
    },
    {
      "cell_type": "code",
      "metadata": {
        "colab": {
          "base_uri": "https://localhost:8080/",
          "height": 282
        },
        "id": "cVIhE9kT2a0h",
        "outputId": "88de3e22-2496-4c56-ab81-d2c327f32830"
      },
      "source": [
        "plt.plot(bettis_orig[2])"
      ],
      "execution_count": 14,
      "outputs": [
        {
          "output_type": "execute_result",
          "data": {
            "text/plain": [
              "[<matplotlib.lines.Line2D at 0x7f2fa994f590>]"
            ]
          },
          "metadata": {
            "tags": []
          },
          "execution_count": 14
        },
        {
          "output_type": "display_data",
          "data": {
            "image/png": "[encoded data removed]",
            "text/plain": [
              "<Figure size 432x288 with 1 Axes>"
            ]
          },
          "metadata": {
            "tags": [],
            "needs_background": "light"
          }
        }
      ]
    },
    {
      "cell_type": "code",
      "metadata": {
        "colab": {
          "base_uri": "https://localhost:8080/",
          "height": 279
        },
        "id": "h42H6p2X2eog",
        "outputId": "bb34b133-14de-48b1-a8bb-0aff47ff092b"
      },
      "source": [
        "plot_barcode(bars_orig, len(nodes))"
      ],
      "execution_count": 15,
      "outputs": [
        {
          "output_type": "display_data",
          "data": {
            "image/png": "[encoded data removed]",
            "text/plain": [
              "<Figure size 432x288 with 1 Axes>"
            ]
          },
          "metadata": {
            "tags": [],
            "needs_background": "light"
          }
        }
      ]
    },
    {
      "cell_type": "code",
      "metadata": {
        "colab": {
          "base_uri": "https://localhost:8080/"
        },
        "id": "XrpcfvVvyZo0",
        "outputId": "8e8926fb-2f25-4cd3-b10d-5f3d47e7554a"
      },
      "source": [
        "# Run persistent homology for null models\n",
        "num_iters = edges_rewired_weighted.shape[2]\n",
        "bettis_0_edges_rewired = []\n",
        "bettis_1_edges_rewired = []\n",
        "bettis_2_edges_rewired = []\n",
        "bettis_0_latticized = []\n",
        "bettis_1_latticized = []\n",
        "bettis_2_latticized = []\n",
        "\n",
        "for i in range(num_iters):\n",
        "\n",
        "  bars_edges_rewired = get_barcode(edges_rewired_weighted[:, :, i])\n",
        "  bettis_edges_rewired = betti_curves(bars_edges_rewired, len(nodes))\n",
        "  bettis_0_edges_rewired.append(bettis_edges_rewired[0])\n",
        "  bettis_1_edges_rewired.append(bettis_edges_rewired[1])\n",
        "  bettis_2_edges_rewired.append(bettis_edges_rewired[2])\n",
        "\n",
        "  bars_latticized = get_barcode(latticized_weighted[:, :, i])\n",
        "  bettis_latticized = betti_curves(bars_latticized, len(nodes))\n",
        "  bettis_0_latticized.append(bettis_latticized[0])\n",
        "  bettis_1_latticized.append(bettis_latticized[1])\n",
        "  bettis_2_latticized.append(bettis_latticized[2])\n",
        "\n",
        "  print('Null iteration %d processed!' % i)"
      ],
      "execution_count": null,
      "outputs": [
        {
          "output_type": "stream",
          "text": [
            "Null iteration 0 processed!\n",
            "Null iteration 1 processed!\n",
            "Null iteration 2 processed!\n",
            "Null iteration 3 processed!\n",
            "Null iteration 4 processed!\n",
            "Null iteration 5 processed!\n",
            "Null iteration 6 processed!\n",
            "Null iteration 7 processed!\n",
            "Null iteration 8 processed!\n",
            "Null iteration 9 processed!\n",
            "Null iteration 10 processed!\n",
            "Null iteration 11 processed!\n"
          ],
          "name": "stdout"
        }
      ]
    },
    {
      "cell_type": "code",
      "metadata": {
        "id": "YM98g0d05MlW"
      },
      "source": [
        "save_filename = '_'.join(mat_file.split('/')[7].split('_')[:2]) + '_bettis.mat'\n",
        "mdic = {'bettis_orig': bettis_orig, \n",
        "        'bettis_0_edges_rewired': bettis_0_edges_rewired, \n",
        "        'bettis_1_edges_rewired': bettis_1_edges_rewired,\n",
        "        'bettis_2_edges_rewired': bettis_2_edges_rewired,\n",
        "        'bettis_0_latticized': bettis_0_latticized,\n",
        "        'bettis_1_latticized': bettis_1_latticized,\n",
        "        'bettis_2_latticized': bettis_2_latticized}\n",
        "savemat(save_filename, mdic)"
      ],
      "execution_count": null,
      "outputs": []
    }
  ]
}