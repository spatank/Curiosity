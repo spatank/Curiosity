{
  "nbformat": 4,
  "nbformat_minor": 0,
  "metadata": {
    "colab": {
      "name": "build_Wiki_networks.ipynb",
      "provenance": [],
      "collapsed_sections": [],
      "authorship_tag": "ABX9TyMokgkzis6MnIvJuIl3oUZW",
      "include_colab_link": true
    },
    "kernelspec": {
      "name": "python3",
      "display_name": "Python 3"
    }
  },
  "cells": [
    {
      "cell_type": "markdown",
      "metadata": {
        "id": "view-in-github",
        "colab_type": "text"
      },
      "source": [
        "<a href=\"https://colab.research.google.com/github/spatank/Curiosity/blob/master/v5/build_Wiki_networks.ipynb\" target=\"_parent\"><img src=\"https://colab.research.google.com/assets/colab-badge.svg\" alt=\"Open In Colab\"/></a>"
      ]
    },
    {
      "cell_type": "code",
      "metadata": {
        "colab": {
          "base_uri": "https://localhost:8080/"
        },
        "id": "ttNvExz02ANz",
        "outputId": "6344bbda-f1b0-4c4f-ae39-1762df257b6e"
      },
      "source": [
        "from google.colab import drive\n",
        "drive.mount('/content/drive')\n",
        "\n",
        "import os\n",
        "os.chdir('/content/drive/My Drive/Curiosity_IGT/Wiki/v5')"
      ],
      "execution_count": 1,
      "outputs": [
        {
          "output_type": "stream",
          "text": [
            "Mounted at /content/drive\n"
          ],
          "name": "stdout"
        }
      ]
    },
    {
      "cell_type": "code",
      "metadata": {
        "colab": {
          "base_uri": "https://localhost:8080/"
        },
        "id": "QhO1pIZY2Nlu",
        "outputId": "ddc2a8f9-e6c9-4cc1-f8e3-28855db822fd"
      },
      "source": [
        "!ls # run !ls to verify location"
      ],
      "execution_count": 2,
      "outputs": [
        {
          "output_type": "stream",
          "text": [
            "build_Wiki_networks.ipynb\n"
          ],
          "name": "stdout"
        }
      ]
    },
    {
      "cell_type": "code",
      "metadata": {
        "id": "-H2Is4Hs2UgR"
      },
      "source": [
        "import glob\n",
        "import json\n",
        "import pandas as pd\n",
        "import scipy\n",
        "from scipy.io import savemat\n",
        "import networkx as nx"
      ],
      "execution_count": 3,
      "outputs": []
    },
    {
      "cell_type": "code",
      "metadata": {
        "id": "LRj9WSI03tI7",
        "colab": {
          "base_uri": "https://localhost:8080/"
        },
        "outputId": "a03f3a66-6a9e-4efc-d95c-971d0d93440d"
      },
      "source": [
        "all_json = glob.glob('/content/drive/My Drive/Curiosity_IGT/Wiki/wiki_data_raw/*.json')\n",
        "all_json"
      ],
      "execution_count": 4,
      "outputs": [
        {
          "output_type": "execute_result",
          "data": {
            "text/plain": [
              "['/content/drive/My Drive/Curiosity_IGT/Wiki/wiki_data_raw/abstract algebra.json',\n",
              " '/content/drive/My Drive/Curiosity_IGT/Wiki/wiki_data_raw/accounting.json',\n",
              " '/content/drive/My Drive/Curiosity_IGT/Wiki/wiki_data_raw/anatomy.json',\n",
              " '/content/drive/My Drive/Curiosity_IGT/Wiki/wiki_data_raw/biochemistry.json',\n",
              " '/content/drive/My Drive/Curiosity_IGT/Wiki/wiki_data_raw/biophysics.json',\n",
              " '/content/drive/My Drive/Curiosity_IGT/Wiki/wiki_data_raw/Boolean algebra.json',\n",
              " '/content/drive/My Drive/Curiosity_IGT/Wiki/wiki_data_raw/calculus.json',\n",
              " '/content/drive/My Drive/Curiosity_IGT/Wiki/wiki_data_raw/chemistry.json',\n",
              " '/content/drive/My Drive/Curiosity_IGT/Wiki/wiki_data_raw/cognitive science.json',\n",
              " '/content/drive/My Drive/Curiosity_IGT/Wiki/wiki_data_raw/commutative algebra.json',\n",
              " '/content/drive/My Drive/Curiosity_IGT/Wiki/wiki_data_raw/dynamical systems and differential equations.json',\n",
              " '/content/drive/My Drive/Curiosity_IGT/Wiki/wiki_data_raw/dynamical systems.json',\n",
              " '/content/drive/My Drive/Curiosity_IGT/Wiki/wiki_data_raw/economics.json',\n",
              " '/content/drive/My Drive/Curiosity_IGT/Wiki/wiki_data_raw/earth science.json',\n",
              " '/content/drive/My Drive/Curiosity_IGT/Wiki/wiki_data_raw/education.json',\n",
              " '/content/drive/My Drive/Curiosity_IGT/Wiki/wiki_data_raw/electronics.json',\n",
              " '/content/drive/My Drive/Curiosity_IGT/Wiki/wiki_data_raw/energy.json',\n",
              " '/content/drive/My Drive/Curiosity_IGT/Wiki/wiki_data_raw/evolutionary biology.json',\n",
              " '/content/drive/My Drive/Curiosity_IGT/Wiki/wiki_data_raw/genetics.json',\n",
              " '/content/drive/My Drive/Curiosity_IGT/Wiki/wiki_data_raw/geology.json',\n",
              " '/content/drive/My Drive/Curiosity_IGT/Wiki/wiki_data_raw/geometry.json',\n",
              " '/content/drive/My Drive/Curiosity_IGT/Wiki/wiki_data_raw/immunology.json',\n",
              " '/content/drive/My Drive/Curiosity_IGT/Wiki/wiki_data_raw/group theory.json',\n",
              " '/content/drive/My Drive/Curiosity_IGT/Wiki/wiki_data_raw/law.json',\n",
              " '/content/drive/My Drive/Curiosity_IGT/Wiki/wiki_data_raw/linear algebra.json',\n",
              " '/content/drive/My Drive/Curiosity_IGT/Wiki/wiki_data_raw/linguistics.json',\n",
              " '/content/drive/My Drive/Curiosity_IGT/Wiki/wiki_data_raw/mathematics.json',\n",
              " '/content/drive/My Drive/Curiosity_IGT/Wiki/wiki_data_raw/meteorology.json',\n",
              " '/content/drive/My Drive/Curiosity_IGT/Wiki/wiki_data_raw/molecular biology.json',\n",
              " '/content/drive/My Drive/Curiosity_IGT/Wiki/wiki_data_raw/number theory.json',\n",
              " '/content/drive/My Drive/Curiosity_IGT/Wiki/wiki_data_raw/optics.json',\n",
              " '/content/drive/My Drive/Curiosity_IGT/Wiki/wiki_data_raw/philosophy of law.json',\n",
              " '/content/drive/My Drive/Curiosity_IGT/Wiki/wiki_data_raw/philosophy of language.json',\n",
              " '/content/drive/My Drive/Curiosity_IGT/Wiki/wiki_data_raw/philosophy of mind.json',\n",
              " '/content/drive/My Drive/Curiosity_IGT/Wiki/wiki_data_raw/philosophy of science.json',\n",
              " '/content/drive/My Drive/Curiosity_IGT/Wiki/wiki_data_raw/physics.json',\n",
              " '/content/drive/My Drive/Curiosity_IGT/Wiki/wiki_data_raw/psychology.json',\n",
              " '/content/drive/My Drive/Curiosity_IGT/Wiki/wiki_data_raw/robotics.json',\n",
              " '/content/drive/My Drive/Curiosity_IGT/Wiki/wiki_data_raw/sociology.json',\n",
              " '/content/drive/My Drive/Curiosity_IGT/Wiki/wiki_data_raw/software engineering.json']"
            ]
          },
          "metadata": {
            "tags": []
          },
          "execution_count": 4
        }
      ]
    },
    {
      "cell_type": "code",
      "metadata": {
        "colab": {
          "base_uri": "https://localhost:8080/"
        },
        "id": "x3JNokUHZMYz",
        "outputId": "12b5906e-a28d-4f17-e5f4-32d336b3ef14"
      },
      "source": [
        "for filename in all_json:\n",
        "  # be careful with the following line, the exact parsing depends on the path\n",
        "  topic = filename.split('/')[7].split('.')[0].split()\n",
        "  topic = '_'.join(topic)\n",
        "\n",
        "  with open(filename) as f:\n",
        "    data = json.load(f)\n",
        "\n",
        "  G = nx.Graph()\n",
        "  for node in data['nodes']:\n",
        "    # add node to graph\n",
        "    node_ID = node['id']\n",
        "    G.add_node(node_ID)\n",
        "  \n",
        "  edge_info = []\n",
        "  for link in data['links']:\n",
        "    from_node_ID = link['source']\n",
        "    to_node_ID = link['target']\n",
        "    from_node = data['nodes'][from_node_ID]['id']\n",
        "    to_node = data['nodes'][to_node_ID]['id']\n",
        "    edge_info_dict = {'from': from_node, 'to': to_node}\n",
        "    edge_info.append(edge_info_dict)\n",
        "    G.add_edge(from_node, to_node)\n",
        "\n",
        "  adj_G = nx.linalg.graphmatrix.adjacency_matrix(G, weight = 'weight')\n",
        "  filename = topic + '.mat'\n",
        "  mdic = {'topic': topic, 'adj': adj_G, \n",
        "          'nodes': list(G.nodes()), 'edge_info': edge_info}\n",
        "  print(filename)\n",
        "  savemat(filename, mdic)"
      ],
      "execution_count": 5,
      "outputs": [
        {
          "output_type": "stream",
          "text": [
            "abstract_algebra.mat\n",
            "accounting.mat\n",
            "anatomy.mat\n",
            "biochemistry.mat\n",
            "biophysics.mat\n",
            "Boolean_algebra.mat\n",
            "calculus.mat\n",
            "chemistry.mat\n",
            "cognitive_science.mat\n",
            "commutative_algebra.mat\n",
            "dynamical_systems_and_differential_equations.mat\n",
            "dynamical_systems.mat\n",
            "economics.mat\n",
            "earth_science.mat\n",
            "education.mat\n",
            "electronics.mat\n",
            "energy.mat\n",
            "evolutionary_biology.mat\n",
            "genetics.mat\n",
            "geology.mat\n",
            "geometry.mat\n",
            "immunology.mat\n",
            "group_theory.mat\n",
            "law.mat\n",
            "linear_algebra.mat\n",
            "linguistics.mat\n",
            "mathematics.mat\n",
            "meteorology.mat\n",
            "molecular_biology.mat\n",
            "number_theory.mat\n",
            "optics.mat\n",
            "philosophy_of_law.mat\n",
            "philosophy_of_language.mat\n",
            "philosophy_of_mind.mat\n",
            "philosophy_of_science.mat\n",
            "physics.mat\n",
            "psychology.mat\n",
            "robotics.mat\n",
            "sociology.mat\n",
            "software_engineering.mat\n"
          ],
          "name": "stdout"
        }
      ]
    },
    {
      "cell_type": "code",
      "metadata": {
        "colab": {
          "base_uri": "https://localhost:8080/"
        },
        "id": "Q1tQEFF9YuYm",
        "outputId": "edeaf8e9-17c1-432a-eb46-4404a212b516"
      },
      "source": [
        "!ls"
      ],
      "execution_count": 6,
      "outputs": [
        {
          "output_type": "stream",
          "text": [
            "abstract_algebra.mat\t\t\t\t  geometry.mat\n",
            "accounting.mat\t\t\t\t\t  group_theory.mat\n",
            "anatomy.mat\t\t\t\t\t  immunology.mat\n",
            "biochemistry.mat\t\t\t\t  law.mat\n",
            "biophysics.mat\t\t\t\t\t  linear_algebra.mat\n",
            "Boolean_algebra.mat\t\t\t\t  linguistics.mat\n",
            "build_Wiki_networks.ipynb\t\t\t  mathematics.mat\n",
            "calculus.mat\t\t\t\t\t  meteorology.mat\n",
            "chemistry.mat\t\t\t\t\t  molecular_biology.mat\n",
            "cognitive_science.mat\t\t\t\t  number_theory.mat\n",
            "commutative_algebra.mat\t\t\t\t  optics.mat\n",
            "dynamical_systems_and_differential_equations.mat  philosophy_of_language.mat\n",
            "dynamical_systems.mat\t\t\t\t  philosophy_of_law.mat\n",
            "earth_science.mat\t\t\t\t  philosophy_of_mind.mat\n",
            "economics.mat\t\t\t\t\t  philosophy_of_science.mat\n",
            "education.mat\t\t\t\t\t  physics.mat\n",
            "electronics.mat\t\t\t\t\t  psychology.mat\n",
            "energy.mat\t\t\t\t\t  robotics.mat\n",
            "evolutionary_biology.mat\t\t\t  sociology.mat\n",
            "genetics.mat\t\t\t\t\t  software_engineering.mat\n",
            "geology.mat\n"
          ],
          "name": "stdout"
        }
      ]
    }
  ]
}