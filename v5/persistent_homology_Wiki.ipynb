{
  "nbformat": 4,
  "nbformat_minor": 0,
  "metadata": {
    "colab": {
      "name": "persistent_homology_Wiki.ipynb",
      "provenance": [],
      "collapsed_sections": [],
      "authorship_tag": "ABX9TyMP2hxE3MG4gMuO2rn9NBve",
      "include_colab_link": true
    },
    "kernelspec": {
      "name": "python3",
      "display_name": "Python 3"
    },
    "language_info": {
      "name": "python"
    }
  },
  "cells": [
    {
      "cell_type": "markdown",
      "metadata": {
        "id": "view-in-github",
        "colab_type": "text"
      },
      "source": [
        "<a href=\"https://colab.research.google.com/github/spatank/Curiosity/blob/master/v5/persistent_homology_Wiki.ipynb\" target=\"_parent\"><img src=\"https://colab.research.google.com/assets/colab-badge.svg\" alt=\"Open In Colab\"/></a>"
      ]
    },
    {
      "cell_type": "code",
      "metadata": {
        "colab": {
          "base_uri": "https://localhost:8080/"
        },
        "id": "2Y7gnEocgMi0",
        "outputId": "0094e554-d7d2-4eab-a097-b65ccfdac1d0"
      },
      "source": [
        "from google.colab import drive\n",
        "drive.mount('/content/drive')\n",
        "\n",
        "import os\n",
        "os.chdir('/content/drive/My Drive/Curiosity/')"
      ],
      "execution_count": 1,
      "outputs": [
        {
          "output_type": "stream",
          "text": [
            "Mounted at /content/drive\n"
          ],
          "name": "stdout"
        }
      ]
    },
    {
      "cell_type": "code",
      "metadata": {
        "colab": {
          "base_uri": "https://localhost:8080/"
        },
        "id": "mvB4MASbhE5d",
        "outputId": "db58c1d8-d52d-4429-c4df-2690d234069e"
      },
      "source": [
        "!ls # run !ls to verify location"
      ],
      "execution_count": 2,
      "outputs": [
        {
          "output_type": "stream",
          "text": [
            "KNOT  persistent_homology_KNOT.ipynb  persistent_homology_Wiki.ipynb  Wiki\n"
          ],
          "name": "stdout"
        }
      ]
    },
    {
      "cell_type": "code",
      "metadata": {
        "id": "O6URroOyhdr7"
      },
      "source": [
        "import glob\n",
        "import scipy\n",
        "import scipy.io as sio\n",
        "from scipy.io import savemat"
      ],
      "execution_count": 3,
      "outputs": []
    },
    {
      "cell_type": "code",
      "metadata": {
        "colab": {
          "base_uri": "https://localhost:8080/"
        },
        "id": "LHNE6dZ9kzUN",
        "outputId": "53849394-eb62-4605-d356-6ca2fcf0993f"
      },
      "source": [
        "import sys\n",
        "!{sys.executable} -m pip install Cython"
      ],
      "execution_count": 4,
      "outputs": [
        {
          "output_type": "stream",
          "text": [
            "Requirement already satisfied: Cython in /usr/local/lib/python3.7/dist-packages (0.29.22)\n"
          ],
          "name": "stdout"
        }
      ]
    },
    {
      "cell_type": "code",
      "metadata": {
        "colab": {
          "base_uri": "https://localhost:8080/"
        },
        "id": "fbhBikHYk6TO",
        "outputId": "c6a8d3c0-4c1f-494d-aff8-3fdb660583d5"
      },
      "source": [
        "import sys\n",
        "!{sys.executable} -m pip install Ripser"
      ],
      "execution_count": 5,
      "outputs": [
        {
          "output_type": "stream",
          "text": [
            "Collecting Ripser\n",
            "\u001b[?25l  Downloading https://files.pythonhosted.org/packages/b8/6c/d415052513439a43be06237d887066bb57016329445fabbc7a66904ec88f/ripser-0.6.0.tar.gz (71kB)\n",
            "\r\u001b[K     |████▋                           | 10kB 10.4MB/s eta 0:00:01\r\u001b[K     |█████████▏                      | 20kB 15.4MB/s eta 0:00:01\r\u001b[K     |█████████████▊                  | 30kB 13.5MB/s eta 0:00:01\r\u001b[K     |██████████████████▍             | 40kB 11.0MB/s eta 0:00:01\r\u001b[K     |███████████████████████         | 51kB 8.4MB/s eta 0:00:01\r\u001b[K     |███████████████████████████▌    | 61kB 8.3MB/s eta 0:00:01\r\u001b[K     |████████████████████████████████| 71kB 3.9MB/s \n",
            "\u001b[?25h  Installing build dependencies ... \u001b[?25l\u001b[?25hdone\n",
            "  Getting requirements to build wheel ... \u001b[?25l\u001b[?25hdone\n",
            "    Preparing wheel metadata ... \u001b[?25l\u001b[?25hdone\n",
            "Requirement already satisfied: scipy in /usr/local/lib/python3.7/dist-packages (from Ripser) (1.4.1)\n",
            "Requirement already satisfied: scikit-learn in /usr/local/lib/python3.7/dist-packages (from Ripser) (0.22.2.post1)\n",
            "Collecting persim\n",
            "\u001b[?25l  Downloading https://files.pythonhosted.org/packages/37/93/561457cd5eb05f4d37100ff7c435ce90097cc7e58710fba07a67fd889023/persim-0.3.0-py3-none-any.whl (47kB)\n",
            "\u001b[K     |████████████████████████████████| 51kB 4.6MB/s \n",
            "\u001b[?25hRequirement already satisfied: numpy in /usr/local/lib/python3.7/dist-packages (from Ripser) (1.19.5)\n",
            "Requirement already satisfied: Cython in /usr/local/lib/python3.7/dist-packages (from Ripser) (0.29.22)\n",
            "Requirement already satisfied: joblib>=0.11 in /usr/local/lib/python3.7/dist-packages (from scikit-learn->Ripser) (1.0.1)\n",
            "Collecting hopcroftkarp\n",
            "  Downloading https://files.pythonhosted.org/packages/6b/56/7b03eba3c43008c490c9d52e69ea5334b65955f66836eb4f1962f3b0d421/hopcroftkarp-1.2.5.tar.gz\n",
            "Requirement already satisfied: matplotlib in /usr/local/lib/python3.7/dist-packages (from persim->Ripser) (3.2.2)\n",
            "Collecting deprecated\n",
            "  Downloading https://files.pythonhosted.org/packages/fb/73/994edfcba74443146c84b91921fcc269374354118d4f452fb0c54c1cbb12/Deprecated-1.2.12-py2.py3-none-any.whl\n",
            "Requirement already satisfied: cycler>=0.10 in /usr/local/lib/python3.7/dist-packages (from matplotlib->persim->Ripser) (0.10.0)\n",
            "Requirement already satisfied: pyparsing!=2.0.4,!=2.1.2,!=2.1.6,>=2.0.1 in /usr/local/lib/python3.7/dist-packages (from matplotlib->persim->Ripser) (2.4.7)\n",
            "Requirement already satisfied: python-dateutil>=2.1 in /usr/local/lib/python3.7/dist-packages (from matplotlib->persim->Ripser) (2.8.1)\n",
            "Requirement already satisfied: kiwisolver>=1.0.1 in /usr/local/lib/python3.7/dist-packages (from matplotlib->persim->Ripser) (1.3.1)\n",
            "Requirement already satisfied: wrapt<2,>=1.10 in /usr/local/lib/python3.7/dist-packages (from deprecated->persim->Ripser) (1.12.1)\n",
            "Requirement already satisfied: six in /usr/local/lib/python3.7/dist-packages (from cycler>=0.10->matplotlib->persim->Ripser) (1.15.0)\n",
            "Building wheels for collected packages: Ripser\n",
            "  Building wheel for Ripser (PEP 517) ... \u001b[?25l\u001b[?25hdone\n",
            "  Created wheel for Ripser: filename=ripser-0.6.0-cp37-cp37m-linux_x86_64.whl size=454910 sha256=1e0f432f70c30316a1d63957051462fa98eaa744b078d94e908edecdbea1e7c0\n",
            "  Stored in directory: /root/.cache/pip/wheels/95/1e/13/59da989de59903698d767dcb19414163e683a2dd31edf80417\n",
            "Successfully built Ripser\n",
            "Building wheels for collected packages: hopcroftkarp\n",
            "  Building wheel for hopcroftkarp (setup.py) ... \u001b[?25l\u001b[?25hdone\n",
            "  Created wheel for hopcroftkarp: filename=hopcroftkarp-1.2.5-py2.py3-none-any.whl size=18091 sha256=1e9cd748b7a6cdfcc98ae05b5056a43185863b4df607af3bae077be4d442fb23\n",
            "  Stored in directory: /root/.cache/pip/wheels/2b/e1/c9/1993c7f7f114b7d3fb2d3e895e02157a7ebf554861e9e54e01\n",
            "Successfully built hopcroftkarp\n",
            "Installing collected packages: hopcroftkarp, deprecated, persim, Ripser\n",
            "Successfully installed Ripser-0.6.0 deprecated-1.2.12 hopcroftkarp-1.2.5 persim-0.3.0\n"
          ],
          "name": "stdout"
        }
      ]
    },
    {
      "cell_type": "code",
      "metadata": {
        "id": "cW2lwi2zk9UP"
      },
      "source": [
        "from ripser import ripser\n",
        "import numpy as np\n",
        "import matplotlib.pyplot as plt\n",
        "\n",
        "def get_barcode(filt_mat, maxdim = 2):\n",
        "    \"\"\"\n",
        "    Calculates the persistent homology for a given filtration matrix\n",
        "    ``filt_mat``, default dimensions 0 through 2. Wraps ripser.\n",
        "    \"\"\"\n",
        "    b = ripser(filt_mat, distance_matrix = True, maxdim = maxdim)['dgms']\n",
        "    return list(zip(range(maxdim + 1), b))\n",
        "\n",
        "def plot_barcode(bars, length, dims = [0, 1, 2], end = True):\n",
        "    \"\"\"\n",
        "    Takes in bars, as generated by, e.g., ripser, and plots the barcode.\n",
        "    \"\"\"\n",
        "    bars = dict(bars)\n",
        "    count = 1\n",
        "    has_inf = False\n",
        "    colors = ['xkcd:emerald green', 'xkcd:tealish', 'xkcd:peacock blue']\n",
        "    # iterate through dimension\n",
        "    for d in dims:\n",
        "        bn = bars[d]\n",
        "        bn = sorted(bn, key = lambda x: x[0])\n",
        "        for b, i in zip(bn, range(len(bn))):\n",
        "            # extend in the case of infinite cycles\n",
        "            if b[1] == np.inf:\n",
        "                has_inf = True\n",
        "                b = (b[0], 1.3*length)\n",
        "            # plot first one with label\n",
        "            if i == 0:\n",
        "                plt.plot(b, [count, count], color = colors[d],\n",
        "                         label='{}-cycles'.format(d))\n",
        "            else:\n",
        "                plt.plot(b, [count, count], color = colors[d])\n",
        "            count += 1\n",
        "        count += 1\n",
        "    # add end of filtration line\n",
        "    plt.axvline(x = length, color = 'xkcd:grey', alpha = 0.5, linestyle = ':')\n",
        "    if end:\n",
        "        plt.annotate('Filtration End', (length + 10, 0.5 * count), rotation = 270,\n",
        "                     color = 'xkcd:grey', alpha = 0.5)\n",
        "    lims = plt.xlim()\n",
        "    plt.xlim([-0.05 * length, length * 1.05])\n",
        "    plt.xlabel('Nodes')\n",
        "    plt.ylabel('Cycle Number')\n",
        "\n",
        "def betti_curves(bars, length):\n",
        "    \"\"\"\n",
        "    Takes in bars and returns the betti curves\n",
        "    \"\"\"\n",
        "    bettis = np.zeros((len(bars), length))\n",
        "    for i in range(bettis.shape[0]):\n",
        "        bn = bars[i][1]\n",
        "        for bar in bn:\n",
        "            birth = int(bar[0])\n",
        "            death = length+1 if np.isinf(bar[1]) else int(bar[1]+1)\n",
        "            bettis[i][birth:death] += 1\n",
        "    return bettis"
      ],
      "execution_count": 6,
      "outputs": []
    },
    {
      "cell_type": "code",
      "metadata": {
        "id": "yIaZoNR1hgge",
        "colab": {
          "base_uri": "https://localhost:8080/"
        },
        "outputId": "50f8399f-d0cb-4f0c-c6b0-46385956edf0"
      },
      "source": [
        "files = glob.glob('/content/drive/My Drive/Curiosity/Wiki/Preprocessed/*.mat')\n",
        "files"
      ],
      "execution_count": 7,
      "outputs": [
        {
          "output_type": "execute_result",
          "data": {
            "text/plain": [
              "['/content/drive/My Drive/Curiosity/Wiki/Preprocessed/molecular_biology_preprocessed.mat',\n",
              " '/content/drive/My Drive/Curiosity/Wiki/Preprocessed/geometry_preprocessed.mat',\n",
              " '/content/drive/My Drive/Curiosity/Wiki/Preprocessed/optics_preprocessed.mat',\n",
              " '/content/drive/My Drive/Curiosity/Wiki/Preprocessed/software_engineering_preprocessed.mat',\n",
              " '/content/drive/My Drive/Curiosity/Wiki/Preprocessed/robotics_preprocessed.mat',\n",
              " '/content/drive/My Drive/Curiosity/Wiki/Preprocessed/abstract_algebra_preprocessed.mat']"
            ]
          },
          "metadata": {
            "tags": []
          },
          "execution_count": 7
        }
      ]
    },
    {
      "cell_type": "code",
      "metadata": {
        "colab": {
          "base_uri": "https://localhost:8080/",
          "height": 35
        },
        "id": "8hly2yPx_PYS",
        "outputId": "feecc7e1-c213-432f-d963-6e64ccd6d0e2"
      },
      "source": [
        "mat_file = files[1]\n",
        "mat_file"
      ],
      "execution_count": 8,
      "outputs": [
        {
          "output_type": "execute_result",
          "data": {
            "application/vnd.google.colaboratory.intrinsic+json": {
              "type": "string"
            },
            "text/plain": [
              "'/content/drive/My Drive/Curiosity/Wiki/Preprocessed/geometry_preprocessed.mat'"
            ]
          },
          "metadata": {
            "tags": []
          },
          "execution_count": 8
        }
      ]
    },
    {
      "cell_type": "code",
      "metadata": {
        "id": "Jeg1jtl6iIBZ"
      },
      "source": [
        "# test code with Geometry\n",
        "mat_contents = sio.loadmat(mat_file)\n",
        "\n",
        "topic = mat_contents['topic']\n",
        "G = mat_contents['G']\n",
        "weighted_G = mat_contents['weighted_G']\n",
        "nodes = mat_contents['nodes']\n",
        "\n",
        "edges_rewired_weighted = mat_contents['edges_rewired_weighted']\n",
        "latticized_weighted = mat_contents['latticized_weighted']"
      ],
      "execution_count": 9,
      "outputs": []
    },
    {
      "cell_type": "code",
      "metadata": {
        "colab": {
          "base_uri": "https://localhost:8080/"
        },
        "id": "knKgsh4k3KgU",
        "outputId": "d049630f-dd3b-484d-c38a-aba4f6606f27"
      },
      "source": [
        "# Run persistent homology analysis for true data\n",
        "bars_orig = get_barcode(weighted_G)\n",
        "bettis_orig = betti_curves(bars_orig, len(nodes))\n",
        "print('Original processed!')"
      ],
      "execution_count": 10,
      "outputs": [
        {
          "output_type": "stream",
          "text": [
            "Original processed!\n"
          ],
          "name": "stdout"
        }
      ]
    },
    {
      "cell_type": "code",
      "metadata": {
        "colab": {
          "base_uri": "https://localhost:8080/",
          "height": 282
        },
        "id": "OgHIvMak3R-n",
        "outputId": "1ae2d28e-be45-41e3-b03c-e6d6f36e87e6"
      },
      "source": [
        "plt.plot(bettis_orig[0])"
      ],
      "execution_count": 11,
      "outputs": [
        {
          "output_type": "execute_result",
          "data": {
            "text/plain": [
              "[<matplotlib.lines.Line2D at 0x7f2e882dee50>]"
            ]
          },
          "metadata": {
            "tags": []
          },
          "execution_count": 11
        },
        {
          "output_type": "display_data",
          "data": {
            "image/png": "[encoded data removed]",
            "text/plain": [
              "<Figure size 432x288 with 1 Axes>"
            ]
          },
          "metadata": {
            "tags": [],
            "needs_background": "light"
          }
        }
      ]
    },
    {
      "cell_type": "code",
      "metadata": {
        "colab": {
          "base_uri": "https://localhost:8080/",
          "height": 282
        },
        "id": "vK9CFIje3SVr",
        "outputId": "57ad1e36-04d6-46a5-b77a-a3391a38464f"
      },
      "source": [
        "plt.plot(bettis_orig[1])"
      ],
      "execution_count": 12,
      "outputs": [
        {
          "output_type": "execute_result",
          "data": {
            "text/plain": [
              "[<matplotlib.lines.Line2D at 0x7f2e87e429d0>]"
            ]
          },
          "metadata": {
            "tags": []
          },
          "execution_count": 12
        },
        {
          "output_type": "display_data",
          "data": {
            "image/png": "[encoded data removed]",
            "text/plain": [
              "<Figure size 432x288 with 1 Axes>"
            ]
          },
          "metadata": {
            "tags": [],
            "needs_background": "light"
          }
        }
      ]
    },
    {
      "cell_type": "code",
      "metadata": {
        "colab": {
          "base_uri": "https://localhost:8080/",
          "height": 282
        },
        "id": "OCr78l0f3Sld",
        "outputId": "d8059103-d7df-45b4-a60b-4ad068b29d64"
      },
      "source": [
        "plt.plot(bettis_orig[2])"
      ],
      "execution_count": 13,
      "outputs": [
        {
          "output_type": "execute_result",
          "data": {
            "text/plain": [
              "[<matplotlib.lines.Line2D at 0x7f2e87dbe710>]"
            ]
          },
          "metadata": {
            "tags": []
          },
          "execution_count": 13
        },
        {
          "output_type": "display_data",
          "data": {
            "image/png": "[encoded data removed]",
            "text/plain": [
              "<Figure size 432x288 with 1 Axes>"
            ]
          },
          "metadata": {
            "tags": [],
            "needs_background": "light"
          }
        }
      ]
    },
    {
      "cell_type": "code",
      "metadata": {
        "colab": {
          "base_uri": "https://localhost:8080/",
          "height": 279
        },
        "id": "2w5twXA43Tux",
        "outputId": "08b476c6-8592-4a17-91a9-354686efe4b9"
      },
      "source": [
        "plot_barcode(bars_orig, len(nodes))"
      ],
      "execution_count": 14,
      "outputs": [
        {
          "output_type": "display_data",
          "data": {
            "image/png": "[encoded data removed]",
            "text/plain": [
              "<Figure size 432x288 with 1 Axes>"
            ]
          },
          "metadata": {
            "tags": [],
            "needs_background": "light"
          }
        }
      ]
    },
    {
      "cell_type": "code",
      "metadata": {
        "colab": {
          "base_uri": "https://localhost:8080/"
        },
        "id": "XrpcfvVvyZo0",
        "outputId": "fea2e230-60fe-41d1-8000-d7ff1558a84e"
      },
      "source": [
        "# Run persistent homology for null models\n",
        "num_iters = edges_rewired_weighted.shape[2]\n",
        "bettis_0_edges_rewired = []\n",
        "bettis_1_edges_rewired = []\n",
        "bettis_2_edges_rewired = []\n",
        "bettis_0_latticized = []\n",
        "bettis_1_latticized = []\n",
        "bettis_2_latticized = []\n",
        "\n",
        "for i in range(num_iters):\n",
        "\n",
        "  bars_edges_rewired = get_barcode(edges_rewired_weighted[:, :, i])\n",
        "  bettis_edges_rewired = betti_curves(bars_edges_rewired, len(nodes))\n",
        "  bettis_0_edges_rewired.append(bettis_edges_rewired[0])\n",
        "  bettis_1_edges_rewired.append(bettis_edges_rewired[1])\n",
        "  bettis_2_edges_rewired.append(bettis_edges_rewired[2])\n",
        "\n",
        "  bars_latticized = get_barcode(latticized_weighted[:, :, i])\n",
        "  bettis_latticized = betti_curves(bars_latticized, len(nodes))\n",
        "  bettis_0_latticized.append(bettis_latticized[0])\n",
        "  bettis_1_latticized.append(bettis_latticized[1])\n",
        "  bettis_2_latticized.append(bettis_latticized[2])\n",
        "\n",
        "  print('Null iteration %d processed!' % i)"
      ],
      "execution_count": 15,
      "outputs": [
        {
          "output_type": "stream",
          "text": [
            "Null iteration 0 processed!\n",
            "Null iteration 1 processed!\n",
            "Null iteration 2 processed!\n",
            "Null iteration 3 processed!\n",
            "Null iteration 4 processed!\n",
            "Null iteration 5 processed!\n",
            "Null iteration 6 processed!\n",
            "Null iteration 7 processed!\n",
            "Null iteration 8 processed!\n",
            "Null iteration 9 processed!\n",
            "Null iteration 10 processed!\n",
            "Null iteration 11 processed!\n",
            "Null iteration 12 processed!\n",
            "Null iteration 13 processed!\n",
            "Null iteration 14 processed!\n",
            "Null iteration 15 processed!\n",
            "Null iteration 16 processed!\n",
            "Null iteration 17 processed!\n",
            "Null iteration 18 processed!\n",
            "Null iteration 19 processed!\n",
            "Null iteration 20 processed!\n",
            "Null iteration 21 processed!\n",
            "Null iteration 22 processed!\n",
            "Null iteration 23 processed!\n",
            "Null iteration 24 processed!\n"
          ],
          "name": "stdout"
        }
      ]
    },
    {
      "cell_type": "code",
      "metadata": {
        "id": "YM98g0d05MlW"
      },
      "source": [
        "save_filename = topic[0] + '_bettis.mat'\n",
        "mdic = {'bettis_orig': bettis_orig, \n",
        "        'bettis_0_edges_rewired': bettis_0_edges_rewired, \n",
        "        'bettis_1_edges_rewired': bettis_1_edges_rewired,\n",
        "        'bettis_2_edges_rewired': bettis_2_edges_rewired,\n",
        "        'bettis_0_latticized': bettis_0_latticized,\n",
        "        'bettis_1_latticized': bettis_1_latticized,\n",
        "        'bettis_2_latticized': bettis_2_latticized}\n",
        "savemat(save_filename, mdic)"
      ],
      "execution_count": 19,
      "outputs": []
    }
  ]
}