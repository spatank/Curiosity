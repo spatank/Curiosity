{
 "cells": [
  {
   "cell_type": "code",
   "execution_count": 1,
   "metadata": {},
   "outputs": [
    {
     "data": {
      "text/html": [
       "<script>\n",
       "// Immediately-invoked-function-expression to avoid global variables.\n",
       "(function() {\n",
       "    var warning_div = document.getElementById(\"webio-warning-1726914698222794677\");\n",
       "    var hide = function () {\n",
       "        var script = document.getElementById(\"webio-setup-11526139701148115131\");\n",
       "        var parent = script && script.parentElement;\n",
       "        var grandparent = parent && parent.parentElement;\n",
       "        if (grandparent) {\n",
       "            grandparent.style.display = \"none\";\n",
       "        }\n",
       "        warning_div.style.display = \"none\";\n",
       "    };\n",
       "    if (typeof Jupyter !== \"undefined\") {\n",
       "        console.log(\"WebIO detected Jupyter notebook environment.\");\n",
       "        // Jupyter notebook.\n",
       "        var extensions = (\n",
       "            Jupyter\n",
       "            && Jupyter.notebook.config.data\n",
       "            && Jupyter.notebook.config.data.load_extensions\n",
       "        );\n",
       "        if (extensions && extensions[\"webio-jupyter-notebook\"]) {\n",
       "            // Extension already loaded.\n",
       "            console.log(\"Jupyter WebIO nbextension detected; not loading ad-hoc.\");\n",
       "            hide();\n",
       "            return;\n",
       "        }\n",
       "    } else if (window.location.pathname.includes(\"/lab\")) {\n",
       "        // Guessing JupyterLa\n",
       "        console.log(\"Jupyter Lab detected; make sure the @webio/jupyter-lab-provider labextension is installed.\");\n",
       "        hide();\n",
       "        return;\n",
       "    }\n",
       "})();\n",
       "\n",
       "</script>\n",
       "<p\n",
       "    id=\"webio-warning-1726914698222794677\"\n",
       "    class=\"output_text output_stderr\"\n",
       "    style=\"padding: 1em; font-weight: bold;\"\n",
       ">\n",
       "    Unable to load WebIO. Please make sure WebIO works for your Jupyter client.\n",
       "    For troubleshooting, please see <a href=\"https://juliagizmos.github.io/WebIO.jl/latest/providers/ijulia/\">\n",
       "    the WebIO/IJulia documentation</a>.\n",
       "    <!-- TODO: link to installation docs. -->\n",
       "</p>\n"
      ],
      "text/plain": [
       "HTML{String}(\"<script>\\n// Immediately-invoked-function-expression to avoid global variables.\\n(function() {\\n    var warning_div = document.getElementById(\\\"webio-warning-1726914698222794677\\\");\\n    var hide = function () {\\n        var script = document.getElementById(\\\"webio-setup-11526139701148115131\\\");\\n        var parent = script && script.parentElement;\\n        var grandparent = parent && parent.parentElement;\\n        if (grandparent) {\\n            grandparent.style.display = \\\"none\\\";\\n        }\\n        warning_div.style.display = \\\"none\\\";\\n    };\\n    if (typeof Jupyter !== \\\"undefined\\\") {\\n        console.log(\\\"WebIO detected Jupyter notebook environment.\\\");\\n        // Jupyter notebook.\\n        var extensions = (\\n            Jupyter\\n            && Jupyter.notebook.config.data\\n            && Jupyter.notebook.config.data.load_extensions\\n        );\\n        if (extensions && extensions[\\\"webio-jupyter-notebook\\\"]) {\\n            // Extension already loaded.\\n            console.log(\\\"Jupyter WebIO nbextension detected; not loading ad-hoc.\\\");\\n            hide();\\n            return;\\n        }\\n    } else if (window.location.pathname.includes(\\\"/lab\\\")) {\\n        // Guessing JupyterLa\\n        console.log(\\\"Jupyter Lab detected; make sure the @webio/jupyter-lab-provider labextension is installed.\\\");\\n        hide();\\n        return;\\n    }\\n})();\\n\\n</script>\\n<p\\n    id=\\\"webio-warning-1726914698222794677\\\"\\n    class=\\\"output_text output_stderr\\\"\\n    style=\\\"padding: 1em; font-weight: bold;\\\"\\n>\\n    Unable to load WebIO. Please make sure WebIO works for your Jupyter client.\\n    For troubleshooting, please see <a href=\\\"https://juliagizmos.github.io/WebIO.jl/latest/providers/ijulia/\\\">\\n    the WebIO/IJulia documentation</a>.\\n    <!-- TODO: link to installation docs. -->\\n</p>\\n\")"
      ]
     },
     "metadata": {},
     "output_type": "display_data"
    },
    {
     "name": "stderr",
     "output_type": "stream",
     "text": [
      "WARNING: could not import HDF5.Group into _hdf5_implementation\n",
      "WARNING: could not import HDF5.Dataset into _hdf5_implementation\n",
      "┌ Warning: Error requiring `HDF5` from `Plots`\n",
      "│   exception = (LoadError(\"/Users/sppatankar/.julia/packages/Plots/oZheM/src/backends/hdf5.jl\", 162, UndefVarError(:Group)), Union{Ptr{Nothing}, Base.InterpreterIP}[Ptr{Nothing} @0x000000010317711f, Ptr{Nothing} @0x0000000103210eb3, Ptr{Nothing} @0x0000000103211fab, Ptr{Nothing} @0x00000001032108df, Ptr{Nothing} @0x0000000103210bbc, Base.InterpreterIP in top-level CodeInfo for Plots._hdf5_implementation at statement 4, Ptr{Nothing} @0x000000010322a1ce, Ptr{Nothing} @0x00000001032291b1, Ptr{Nothing} @0x00000001032299d1, Ptr{Nothing} @0x000000010322a0d6, Ptr{Nothing} @0x0000000103202b6d, Ptr{Nothing} @0x000000010322b27c, Ptr{Nothing} @0x0000000107f3bd4f, Ptr{Nothing} @0x00000001370034ae, Ptr{Nothing} @0x0000000103211fcf, Ptr{Nothing} @0x00000001032108df, Ptr{Nothing} @0x0000000103210bbc, Base.InterpreterIP in top-level CodeInfo for Plots at statement 10, Ptr{Nothing} @0x000000010322a1ce, Ptr{Nothing} @0x000000010322b074, Ptr{Nothing} @0x0000000136ff2c36, Ptr{Nothing} @0x0000000136ff2c6d, Ptr{Nothing} @0x0000000111570fca, Ptr{Nothing} @0x0000000136ff2b5d, Ptr{Nothing} @0x0000000136ff2b8d, Ptr{Nothing} @0x000000011157039b, Ptr{Nothing} @0x0000000136ff2a8f, Ptr{Nothing} @0x0000000136ff2acd, Ptr{Nothing} @0x000000011156fea6, Ptr{Nothing} @0x0000000136fe7d93, Ptr{Nothing} @0x0000000136fe847d, Ptr{Nothing} @0x0000000103228a63, Ptr{Nothing} @0x00000001032195f7, Ptr{Nothing} @0x0000000136f456c3, Ptr{Nothing} @0x0000000136f4698b, Ptr{Nothing} @0x0000000136f6a6d9, Ptr{Nothing} @0x0000000136f6c763, Ptr{Nothing} @0x0000000136f6d5e6, Ptr{Nothing} @0x000000010322ac69, Ptr{Nothing} @0x0000000103229b3b, Ptr{Nothing} @0x0000000103202b6d, Ptr{Nothing} @0x0000000107a608f1, Ptr{Nothing} @0x00000001114e5e4b, Ptr{Nothing} @0x00000001114e2486, Ptr{Nothing} @0x0000000103207a64, Ptr{Nothing} @0x0000000103207cd5, Ptr{Nothing} @0x00000001114d2a5c, Ptr{Nothing} @0x00000001114d2dd4, Ptr{Nothing} @0x00000001114d2dec, Ptr{Nothing} @0x000000010321609a])\n",
      "└ @ Requires /Users/sppatankar/.julia/packages/Requires/035xH/src/require.jl:44\n"
     ]
    }
   ],
   "source": [
    "using Printf\n",
    "using Random\n",
    "using LinearAlgebra\n",
    "using Eirene\n",
    "using MAT\n",
    "using Statistics\n",
    "using Plots\n",
    "using Glob"
   ]
  },
  {
   "cell_type": "code",
   "execution_count": 2,
   "metadata": {},
   "outputs": [
    {
     "data": {
      "text/plain": [
       "plotBarcode (generic function with 1 method)"
      ]
     },
     "execution_count": 2,
     "metadata": {},
     "output_type": "execute_result"
    }
   ],
   "source": [
    "function constant_probability(n, p)\n",
    "    G = zeros(n, n)\n",
    "    for i = 1:n\n",
    "        for j = 1:i-1\n",
    "            r = rand(1)[1]\n",
    "            if r < p\n",
    "                G[i, j] = 1\n",
    "                G[j, i] = 1\n",
    "            end\n",
    "        end\n",
    "    end\n",
    "    node_order = 1:n\n",
    "    return G, node_order\n",
    "end  \n",
    "\n",
    "function make_weighted_from_order(G, node_order)\n",
    "    # adapted from code by ASB\n",
    "    # original at https://github.com/BassettLab/Reorderability_scripts\n",
    "    reordered_G = G[node_order, node_order] # often unnecessary\n",
    "    n = length(node_order) # number of nodes\n",
    "    val_mat = ones(n, n)\n",
    "    for col = 1:n\n",
    "        val_mat[1:col, col] = val_mat[1:col, col] * col\n",
    "        val_mat[col, 1:col] = val_mat[col, 1:col] * col\n",
    "    end\n",
    "    weighted_G = reordered_G .* val_mat\n",
    "    # replace 0 weighted edges with the largest edge weight possible\n",
    "    # this is equivalent to assigning these edges the worst rank possible\n",
    "    replace!(weighted_G, 0 => 2 * n)  \n",
    "    # weighted_G[findall(A -> A .== 0, weighted_G)] .= 2 * n would work too\n",
    "    weighted_G[diagind(weighted_G)] .= 0 # set diagonal to 0\n",
    "    return weighted_G # edges here are ranked by order of appearance\n",
    "end\n",
    "\n",
    "function bettiCurveFromBarcode(barcode_array,nNodes,nmats,maxDim)\n",
    "    nNodes = Int(nNodes)\n",
    "    nmats = Int(nmats)\n",
    "    maxDim = Int(maxDim)\n",
    "    bettiBar = zeros(nmats,maxDim)\n",
    "    bettiCurve = zeros(nmats,nNodes+1,maxDim)\n",
    "    birthCurve = zeros(nmats,nNodes,maxDim)\n",
    "    deathCurve = zeros(nmats,nNodes,maxDim)\n",
    "    for dimn in collect(1:maxDim)\n",
    "        dimn = Int(dimn)\n",
    "        for matn in collect(1:nmats)\n",
    "            matn = Int(matn)\n",
    "            bb = 0\n",
    "            currentCurve = barcode_array[matn,:]\n",
    "            currentCurveDim = currentCurve[dimn]\n",
    "            for barn in collect(1:size(currentCurveDim,1))\n",
    "                # Add to birth curve\n",
    "                birthCurve[matn,Int(currentCurveDim[barn,1]),dimn] = birthCurve[matn,Int(currentCurveDim[barn,1]),dimn] .+1\n",
    "                if currentCurveDim[barn,2]>nNodes\n",
    "                    bettiCurve[matn,Int(currentCurveDim[barn,1]):Int(nNodes+1),dimn] = bettiCurve[matn,Int(currentCurveDim[barn,1]):Int(nNodes+1),dimn] .+1\n",
    "                    bb = bb+(nNodes+1-currentCurveDim[barn,1])\n",
    "                else\n",
    "                    bettiCurve[matn,Int(currentCurveDim[barn,1]):Int(currentCurveDim[barn,2]),dimn] = bettiCurve[matn,Int(currentCurveDim[barn,1]):Int(currentCurveDim[barn,2]),dimn].+1\n",
    "                    deathCurve[matn,Int(currentCurveDim[barn,2]),dimn] = deathCurve[matn,Int(currentCurveDim[barn,2]),dimn] .+1\n",
    "                    bb = bb+(currentCurveDim[barn,2] - currentCurveDim[barn,1])\n",
    "                end\n",
    "            end\n",
    "            bettiBar[matn,dimn] = deepcopy(bb)\n",
    "        end\n",
    "    end\n",
    "    return bettiCurve, birthCurve, deathCurve, bettiBar\n",
    "end\n",
    "\n",
    "function plotBarcode(allPIs,nNodes,graphN,maxDim,fontSize)\n",
    "    nNodes = Int(nNodes)\n",
    "    graphn = Int(graphN)\n",
    "    maxDim = Int(maxDim)\n",
    "    counter1 = 0\n",
    "    pbar = plot(1:6,zeros(6),c=:black)\n",
    "    colors = [:blue :green :red]\n",
    "    for dim in collect(1:maxDim)\n",
    "        barn = barcode_array[graphN, dim]\n",
    "        barn = barn[sortperm(barn[:,1]),:]\n",
    "        nbars = size(barn)[1]\n",
    "        for cntr1 in collect(1:nbars)\n",
    "            birth = barn[cntr1,1]\n",
    "            death = barn[cntr1,2]\n",
    "            plot!([birth, death],[cntr1+counter1, cntr1+counter1],c=colors[dim], legend = false,\n",
    "                            xlim = (0,nNodes), ytickfont = font(fontSize), xtickfont = font(fontSize))\n",
    "        end\n",
    "        display(pbar)\n",
    "        counter1 = counter1+nbars\n",
    "    end\n",
    "    return pbar\n",
    "end"
   ]
  },
  {
   "cell_type": "code",
   "execution_count": 3,
   "metadata": {},
   "outputs": [
    {
     "data": {
      "text/plain": [
       "\"/Volumes/My Passport/Curiosity/v3\""
      ]
     },
     "execution_count": 3,
     "metadata": {},
     "output_type": "execute_result"
    }
   ],
   "source": [
    "pwd()"
   ]
  },
  {
   "cell_type": "code",
   "execution_count": 4,
   "metadata": {},
   "outputs": [
    {
     "data": {
      "text/plain": [
       "40-element Array{String,1}:\n",
       " \"/Users/sppatankar/Developer/My Passport/Curiosity/v2/Data/Wiki/Wiki_preprocessed_Eirene/Boolean_algebra.mat\"\n",
       " \"/Users/sppatankar/Developer/My Passport/Curiosity/v2/Data/Wiki/Wiki_preprocessed_Eirene/abstract_algebra.mat\"\n",
       " \"/Users/sppatankar/Developer/My Passport/Curiosity/v2/Data/Wiki/Wiki_preprocessed_Eirene/accounting.mat\"\n",
       " \"/Users/sppatankar/Developer/My Passport/Curiosity/v2/Data/Wiki/Wiki_preprocessed_Eirene/anatomy.mat\"\n",
       " \"/Users/sppatankar/Developer/My Passport/Curiosity/v2/Data/Wiki/Wiki_preprocessed_Eirene/biochemistry.mat\"\n",
       " \"/Users/sppatankar/Developer/My Passport/Curiosity/v2/Data/Wiki/Wiki_preprocessed_Eirene/biophysics.mat\"\n",
       " \"/Users/sppatankar/Developer/My Passport/Curiosity/v2/Data/Wiki/Wiki_preprocessed_Eirene/calculus.mat\"\n",
       " \"/Users/sppatankar/Developer/My Passport/Curiosity/v2/Data/Wiki/Wiki_preprocessed_Eirene/chemistry.mat\"\n",
       " \"/Users/sppatankar/Developer/My Passport/Curiosity/v2/Data/Wiki/Wiki_preprocessed_Eirene/cognitive_science.mat\"\n",
       " \"/Users/sppatankar/Developer/My Passport/Curiosity/v2/Data/Wiki/Wiki_preprocessed_Eirene/commutative_algebra.mat\"\n",
       " \"/Users/sppatankar/Developer/My Passport/Curiosity/v2/Data/Wiki/Wiki_preprocessed_Eirene/dynamical_systems.mat\"\n",
       " \"/Users/sppatankar/Developer/My Passport/Curiosity/v2/Data/Wiki/Wiki_preprocessed_Eirene/dynamical_systems_and_differential_equations.mat\"\n",
       " \"/Users/sppatankar/Developer/My Passport/Curiosity/v2/Data/Wiki/Wiki_preprocessed_Eirene/earth_science.mat\"\n",
       " ⋮\n",
       " \"/Users/sppatankar/Developer/My Passport/Curiosity/v2/Data/Wiki/Wiki_preprocessed_Eirene/molecular_biology.mat\"\n",
       " \"/Users/sppatankar/Developer/My Passport/Curiosity/v2/Data/Wiki/Wiki_preprocessed_Eirene/number_theory.mat\"\n",
       " \"/Users/sppatankar/Developer/My Passport/Curiosity/v2/Data/Wiki/Wiki_preprocessed_Eirene/optics.mat\"\n",
       " \"/Users/sppatankar/Developer/My Passport/Curiosity/v2/Data/Wiki/Wiki_preprocessed_Eirene/philosophy_of_language.mat\"\n",
       " \"/Users/sppatankar/Developer/My Passport/Curiosity/v2/Data/Wiki/Wiki_preprocessed_Eirene/philosophy_of_law.mat\"\n",
       " \"/Users/sppatankar/Developer/My Passport/Curiosity/v2/Data/Wiki/Wiki_preprocessed_Eirene/philosophy_of_mind.mat\"\n",
       " \"/Users/sppatankar/Developer/My Passport/Curiosity/v2/Data/Wiki/Wiki_preprocessed_Eirene/philosophy_of_science.mat\"\n",
       " \"/Users/sppatankar/Developer/My Passport/Curiosity/v2/Data/Wiki/Wiki_preprocessed_Eirene/physics.mat\"\n",
       " \"/Users/sppatankar/Developer/My Passport/Curiosity/v2/Data/Wiki/Wiki_preprocessed_Eirene/psychology.mat\"\n",
       " \"/Users/sppatankar/Developer/My Passport/Curiosity/v2/Data/Wiki/Wiki_preprocessed_Eirene/robotics.mat\"\n",
       " \"/Users/sppatankar/Developer/My Passport/Curiosity/v2/Data/Wiki/Wiki_preprocessed_Eirene/sociology.mat\"\n",
       " \"/Users/sppatankar/Developer/My Passport/Curiosity/v2/Data/Wiki/Wiki_preprocessed_Eirene/software_engineering.mat\""
      ]
     },
     "execution_count": 4,
     "metadata": {},
     "output_type": "execute_result"
    }
   ],
   "source": [
    "data_in_path = \"/Users/sppatankar/Developer/My Passport/Curiosity/v2/Data/Wiki/Wiki_preprocessed_Eirene\"\n",
    "data_out_path = \"/Users/sppatankar/Developer/My Passport/Curiosity/v3/Data/reordered_Wiki_preprocessed_Eirene\"\n",
    "all_topics = glob(\"*.mat\", data_in_path)"
   ]
  },
  {
   "cell_type": "code",
   "execution_count": 5,
   "metadata": {},
   "outputs": [
    {
     "data": {
      "text/plain": [
       "25-element Array{String,1}:\n",
       " \"/Users/sppatankar/Developer/My Passport/Curiosity/v2/Data/Wiki/Wiki_preprocessed_Eirene/Boolean_algebra.mat\"\n",
       " \"/Users/sppatankar/Developer/My Passport/Curiosity/v2/Data/Wiki/Wiki_preprocessed_Eirene/abstract_algebra.mat\"\n",
       " \"/Users/sppatankar/Developer/My Passport/Curiosity/v2/Data/Wiki/Wiki_preprocessed_Eirene/accounting.mat\"\n",
       " \"/Users/sppatankar/Developer/My Passport/Curiosity/v2/Data/Wiki/Wiki_preprocessed_Eirene/anatomy.mat\"\n",
       " \"/Users/sppatankar/Developer/My Passport/Curiosity/v2/Data/Wiki/Wiki_preprocessed_Eirene/biochemistry.mat\"\n",
       " \"/Users/sppatankar/Developer/My Passport/Curiosity/v2/Data/Wiki/Wiki_preprocessed_Eirene/biophysics.mat\"\n",
       " \"/Users/sppatankar/Developer/My Passport/Curiosity/v2/Data/Wiki/Wiki_preprocessed_Eirene/calculus.mat\"\n",
       " \"/Users/sppatankar/Developer/My Passport/Curiosity/v2/Data/Wiki/Wiki_preprocessed_Eirene/chemistry.mat\"\n",
       " \"/Users/sppatankar/Developer/My Passport/Curiosity/v2/Data/Wiki/Wiki_preprocessed_Eirene/cognitive_science.mat\"\n",
       " \"/Users/sppatankar/Developer/My Passport/Curiosity/v2/Data/Wiki/Wiki_preprocessed_Eirene/commutative_algebra.mat\"\n",
       " \"/Users/sppatankar/Developer/My Passport/Curiosity/v2/Data/Wiki/Wiki_preprocessed_Eirene/dynamical_systems.mat\"\n",
       " \"/Users/sppatankar/Developer/My Passport/Curiosity/v2/Data/Wiki/Wiki_preprocessed_Eirene/dynamical_systems_and_differential_equations.mat\"\n",
       " \"/Users/sppatankar/Developer/My Passport/Curiosity/v2/Data/Wiki/Wiki_preprocessed_Eirene/earth_science.mat\"\n",
       " \"/Users/sppatankar/Developer/My Passport/Curiosity/v2/Data/Wiki/Wiki_preprocessed_Eirene/economics.mat\"\n",
       " \"/Users/sppatankar/Developer/My Passport/Curiosity/v2/Data/Wiki/Wiki_preprocessed_Eirene/education.mat\"\n",
       " \"/Users/sppatankar/Developer/My Passport/Curiosity/v2/Data/Wiki/Wiki_preprocessed_Eirene/electronics.mat\"\n",
       " \"/Users/sppatankar/Developer/My Passport/Curiosity/v2/Data/Wiki/Wiki_preprocessed_Eirene/energy.mat\"\n",
       " \"/Users/sppatankar/Developer/My Passport/Curiosity/v2/Data/Wiki/Wiki_preprocessed_Eirene/evolutionary_biology.mat\"\n",
       " \"/Users/sppatankar/Developer/My Passport/Curiosity/v2/Data/Wiki/Wiki_preprocessed_Eirene/genetics.mat\"\n",
       " \"/Users/sppatankar/Developer/My Passport/Curiosity/v2/Data/Wiki/Wiki_preprocessed_Eirene/geology.mat\"\n",
       " \"/Users/sppatankar/Developer/My Passport/Curiosity/v2/Data/Wiki/Wiki_preprocessed_Eirene/geometry.mat\"\n",
       " \"/Users/sppatankar/Developer/My Passport/Curiosity/v2/Data/Wiki/Wiki_preprocessed_Eirene/group_theory.mat\"\n",
       " \"/Users/sppatankar/Developer/My Passport/Curiosity/v2/Data/Wiki/Wiki_preprocessed_Eirene/immunology.mat\"\n",
       " \"/Users/sppatankar/Developer/My Passport/Curiosity/v2/Data/Wiki/Wiki_preprocessed_Eirene/law.mat\"\n",
       " \"/Users/sppatankar/Developer/My Passport/Curiosity/v2/Data/Wiki/Wiki_preprocessed_Eirene/linear_algebra.mat\""
      ]
     },
     "execution_count": 5,
     "metadata": {},
     "output_type": "execute_result"
    }
   ],
   "source": [
    "all_topics[1:25]"
   ]
  },
  {
   "cell_type": "code",
   "execution_count": 6,
   "metadata": {},
   "outputs": [
    {
     "data": {
      "text/plain": [
       "\"/Users/sppatankar/Developer/My Passport/Curiosity/v2/Data/Wiki/Wiki_preprocessed_Eirene/geometry.mat\""
      ]
     },
     "execution_count": 6,
     "metadata": {},
     "output_type": "execute_result"
    }
   ],
   "source": [
    "i = 21\n",
    "topic = all_topics[i]"
   ]
  },
  {
   "cell_type": "code",
   "execution_count": 7,
   "metadata": {},
   "outputs": [
    {
     "name": "stdout",
     "output_type": "stream",
     "text": [
      "Topic: /Users/sppatankar/Developer/My Passport/Curiosity/v2/Data/Wiki/Wiki_preprocessed_Eirene/geometry.mat\n"
     ]
    }
   ],
   "source": [
    "iters = 10\n",
    "\n",
    "@printf(\"Topic: %s\\n\", all_topics[i])\n",
    "all_vars = matread(all_topics[i])\n",
    "nodes = all_vars[\"nodes\"]\n",
    "n = length(nodes)\n",
    "adj = Array(all_vars[\"adj\"])\n",
    "topic_ID = all_vars[\"topic\"]\n",
    "reordered_nodes = zeros(1, n, iters)\n",
    "reordered_adjs = zeros(n, n, iters)\n",
    "reordered_weighted_Gs = zeros(n, n, iters)\n",
    "for j = 1:iters\n",
    "    new_node_order = randperm(n);\n",
    "    reordered_nodes[1, :, j] = new_node_order\n",
    "    reordered_adj = adj[new_node_order, new_node_order]\n",
    "    reordered_adjs[:, :, j] = reordered_adj\n",
    "    reordered_weighted_Gs[:, :, j] = make_weighted_from_order(reordered_adj, new_node_order)\n",
    "end\n",
    "save_string = string(data_out_path, \"/\", \"reordered_\", topic_ID, \".mat\")\n",
    "matwrite(save_string, \n",
    "    Dict(\"topic_ID\" => topic_ID,\n",
    "        \"adj\" => adj,\n",
    "        \"reordered_nodes\" => reordered_nodes,\n",
    "        \"reordered_adjs\" => reordered_adjs,\n",
    "        \"reordered_weighted_Gs\" => reordered_weighted_Gs))"
   ]
  },
  {
   "cell_type": "code",
   "execution_count": 8,
   "metadata": {},
   "outputs": [],
   "source": [
    "n_dims = 3 # number of dimensions to track persistent homology in\n",
    "\n",
    "barcode_array = Array{Array{Float64}}(undef, iters, n_dims)\n",
    "betti_curves = Array{Array{Float64}}(undef, iters, n_dims)\n",
    "for j = 1:iters\n",
    "    weighted_G = reordered_weighted_Gs[:, :, j]\n",
    "    C = Eirene.eirene(weighted_G, model = \"vr\", maxdim = n_dims, record = \"none\")\n",
    "    for k = 1:n_dims\n",
    "        barcode_array[j, k] = barcode(C, dim = k)\n",
    "        betti_curves[j, k] = betticurve(C, dim = k)\n",
    "    end\n",
    "end\n",
    "save_string = string(data_out_path, \"/\", \"partial_processed_reordered_\", topic_ID, \".mat\")\n",
    "matwrite(save_string, \n",
    "    Dict(\"topic_ID\" => topic_ID,\n",
    "        \"barcode_array\" => barcode_array,\n",
    "        \"betti_curves\" => betti_curves)) "
   ]
  }
 ],
 "metadata": {
  "@webio": {
   "lastCommId": null,
   "lastKernelId": null
  },
  "kernelspec": {
   "display_name": "JuliaPro_v1.5.3-1 1.5.3",
   "language": "julia",
   "name": "juliapro_v1.5.3-1-1.5"
  },
  "language_info": {
   "file_extension": ".jl",
   "mimetype": "application/julia",
   "name": "julia",
   "version": "1.5.3"
  }
 },
 "nbformat": 4,
 "nbformat_minor": 2
}
