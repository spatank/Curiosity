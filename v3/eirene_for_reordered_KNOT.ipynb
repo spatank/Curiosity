{
 "cells": [
  {
   "cell_type": "code",
   "execution_count": 1,
   "metadata": {},
   "outputs": [
    {
     "data": {
      "text/html": [
       "<script>\n",
       "// Immediately-invoked-function-expression to avoid global variables.\n",
       "(function() {\n",
       "    var warning_div = document.getElementById(\"webio-warning-444125940557684119\");\n",
       "    var hide = function () {\n",
       "        var script = document.getElementById(\"webio-setup-9207439804938325026\");\n",
       "        var parent = script && script.parentElement;\n",
       "        var grandparent = parent && parent.parentElement;\n",
       "        if (grandparent) {\n",
       "            grandparent.style.display = \"none\";\n",
       "        }\n",
       "        warning_div.style.display = \"none\";\n",
       "    };\n",
       "    if (typeof Jupyter !== \"undefined\") {\n",
       "        console.log(\"WebIO detected Jupyter notebook environment.\");\n",
       "        // Jupyter notebook.\n",
       "        var extensions = (\n",
       "            Jupyter\n",
       "            && Jupyter.notebook.config.data\n",
       "            && Jupyter.notebook.config.data.load_extensions\n",
       "        );\n",
       "        if (extensions && extensions[\"webio-jupyter-notebook\"]) {\n",
       "            // Extension already loaded.\n",
       "            console.log(\"Jupyter WebIO nbextension detected; not loading ad-hoc.\");\n",
       "            hide();\n",
       "            return;\n",
       "        }\n",
       "    } else if (window.location.pathname.includes(\"/lab\")) {\n",
       "        // Guessing JupyterLa\n",
       "        console.log(\"Jupyter Lab detected; make sure the @webio/jupyter-lab-provider labextension is installed.\");\n",
       "        hide();\n",
       "        return;\n",
       "    }\n",
       "})();\n",
       "\n",
       "</script>\n",
       "<p\n",
       "    id=\"webio-warning-444125940557684119\"\n",
       "    class=\"output_text output_stderr\"\n",
       "    style=\"padding: 1em; font-weight: bold;\"\n",
       ">\n",
       "    Unable to load WebIO. Please make sure WebIO works for your Jupyter client.\n",
       "    For troubleshooting, please see <a href=\"https://juliagizmos.github.io/WebIO.jl/latest/providers/ijulia/\">\n",
       "    the WebIO/IJulia documentation</a>.\n",
       "    <!-- TODO: link to installation docs. -->\n",
       "</p>\n"
      ],
      "text/plain": [
       "HTML{String}(\"<script>\\n// Immediately-invoked-function-expression to avoid global variables.\\n(function() {\\n    var warning_div = document.getElementById(\\\"webio-warning-444125940557684119\\\");\\n    var hide = function () {\\n        var script = document.getElementById(\\\"webio-setup-9207439804938325026\\\");\\n        var parent = script && script.parentElement;\\n        var grandparent = parent && parent.parentElement;\\n        if (grandparent) {\\n            grandparent.style.display = \\\"none\\\";\\n        }\\n        warning_div.style.display = \\\"none\\\";\\n    };\\n    if (typeof Jupyter !== \\\"undefined\\\") {\\n        console.log(\\\"WebIO detected Jupyter notebook environment.\\\");\\n        // Jupyter notebook.\\n        var extensions = (\\n            Jupyter\\n            && Jupyter.notebook.config.data\\n            && Jupyter.notebook.config.data.load_extensions\\n        );\\n        if (extensions && extensions[\\\"webio-jupyter-notebook\\\"]) {\\n            // Extension already loaded.\\n            console.log(\\\"Jupyter WebIO nbextension detected; not loading ad-hoc.\\\");\\n            hide();\\n            return;\\n        }\\n    } else if (window.location.pathname.includes(\\\"/lab\\\")) {\\n        // Guessing JupyterLa\\n        console.log(\\\"Jupyter Lab detected; make sure the @webio/jupyter-lab-provider labextension is installed.\\\");\\n        hide();\\n        return;\\n    }\\n})();\\n\\n</script>\\n<p\\n    id=\\\"webio-warning-444125940557684119\\\"\\n    class=\\\"output_text output_stderr\\\"\\n    style=\\\"padding: 1em; font-weight: bold;\\\"\\n>\\n    Unable to load WebIO. Please make sure WebIO works for your Jupyter client.\\n    For troubleshooting, please see <a href=\\\"https://juliagizmos.github.io/WebIO.jl/latest/providers/ijulia/\\\">\\n    the WebIO/IJulia documentation</a>.\\n    <!-- TODO: link to installation docs. -->\\n</p>\\n\")"
      ]
     },
     "metadata": {},
     "output_type": "display_data"
    },
    {
     "name": "stderr",
     "output_type": "stream",
     "text": [
      "WARNING: could not import HDF5.Group into _hdf5_implementation\n",
      "WARNING: could not import HDF5.Dataset into _hdf5_implementation\n",
      "┌ Warning: Error requiring `HDF5` from `Plots`\n",
      "│   exception = (LoadError(\"/Users/sppatankar/.julia/packages/Plots/oZheM/src/backends/hdf5.jl\", 162, UndefVarError(:Group)), Union{Ptr{Nothing}, Base.InterpreterIP}[Ptr{Nothing} @0x000000010ce0b11f, Ptr{Nothing} @0x000000010cea4eb3, Ptr{Nothing} @0x000000010cea5fab, Ptr{Nothing} @0x000000010cea48df, Ptr{Nothing} @0x000000010cea4bbc, Base.InterpreterIP in top-level CodeInfo for Plots._hdf5_implementation at statement 4, Ptr{Nothing} @0x000000010cebe1ce, Ptr{Nothing} @0x000000010cebd1b1, Ptr{Nothing} @0x000000010cebd9d1, Ptr{Nothing} @0x000000010cebe0d6, Ptr{Nothing} @0x000000010ce96b6d, Ptr{Nothing} @0x000000010cebf27c, Ptr{Nothing} @0x00000001195cfd4f, Ptr{Nothing} @0x000000013cc9f4ee, Ptr{Nothing} @0x000000010cea5fcf, Ptr{Nothing} @0x000000010cea48df, Ptr{Nothing} @0x000000010cea4bbc, Base.InterpreterIP in top-level CodeInfo for Plots at statement 10, Ptr{Nothing} @0x000000010cebe1ce, Ptr{Nothing} @0x000000010cebf074, Ptr{Nothing} @0x000000013cc8ec76, Ptr{Nothing} @0x000000013cc8ecad, Ptr{Nothing} @0x0000000117b04fba, Ptr{Nothing} @0x000000013cc8eb9d, Ptr{Nothing} @0x000000013cc8ebcd, Ptr{Nothing} @0x0000000117b0438b, Ptr{Nothing} @0x000000013cc8eacf, Ptr{Nothing} @0x000000013cc8eb0d, Ptr{Nothing} @0x0000000117b03e96, Ptr{Nothing} @0x000000013cc83dd3, Ptr{Nothing} @0x000000013cc844bd, Ptr{Nothing} @0x000000010cebca63, Ptr{Nothing} @0x000000010cead5f7, Ptr{Nothing} @0x000000013cbe16c3, Ptr{Nothing} @0x000000013cbe298b, Ptr{Nothing} @0x000000013cc066d9, Ptr{Nothing} @0x000000013cc08763, Ptr{Nothing} @0x000000013cc095e6, Ptr{Nothing} @0x000000010cebec69, Ptr{Nothing} @0x000000010cebdb3b, Ptr{Nothing} @0x000000010ce96b6d, Ptr{Nothing} @0x00000001190f48f1, Ptr{Nothing} @0x0000000117a79e4b, Ptr{Nothing} @0x0000000117a76486, Ptr{Nothing} @0x000000010ce9ba64, Ptr{Nothing} @0x000000010ce9bcd5, Ptr{Nothing} @0x0000000117a66a5c, Ptr{Nothing} @0x0000000117a66dd4, Ptr{Nothing} @0x0000000117a66dec, Ptr{Nothing} @0x000000010ceaa09a])\n",
      "└ @ Requires /Users/sppatankar/.julia/packages/Requires/035xH/src/require.jl:44\n"
     ]
    }
   ],
   "source": [
    "using Printf\n",
    "using Random\n",
    "using LinearAlgebra\n",
    "using Eirene\n",
    "using MAT\n",
    "using Statistics\n",
    "using Plots\n",
    "using Glob"
   ]
  },
  {
   "cell_type": "code",
   "execution_count": 2,
   "metadata": {},
   "outputs": [
    {
     "data": {
      "text/plain": [
       "plotBarcode (generic function with 1 method)"
      ]
     },
     "execution_count": 2,
     "metadata": {},
     "output_type": "execute_result"
    }
   ],
   "source": [
    "function constant_probability(n, p)\n",
    "    G = zeros(n, n)\n",
    "    for i = 1:n\n",
    "        for j = 1:i-1\n",
    "            r = rand(1)[1]\n",
    "            if r < p\n",
    "                G[i, j] = 1\n",
    "                G[j, i] = 1\n",
    "            end\n",
    "        end\n",
    "    end\n",
    "    node_order = 1:n\n",
    "    return G, node_order\n",
    "end  \n",
    "\n",
    "function make_weighted_from_order(G, node_order)\n",
    "    # adapted from code by ASB\n",
    "    # original at https://github.com/BassettLab/Reorderability_scripts\n",
    "    reordered_G = G[node_order, node_order] # often unnecessary\n",
    "    n = length(node_order) # number of nodes\n",
    "    val_mat = ones(n, n)\n",
    "    for col = 1:n\n",
    "        val_mat[1:col, col] = val_mat[1:col, col] * col\n",
    "        val_mat[col, 1:col] = val_mat[col, 1:col] * col\n",
    "    end\n",
    "    weighted_G = reordered_G .* val_mat\n",
    "    # replace 0 weighted edges with the largest edge weight possible\n",
    "    # this is equivalent to assigning these edges the worst rank possible\n",
    "    replace!(weighted_G, 0 => 2 * n)  \n",
    "    # weighted_G[findall(A -> A .== 0, weighted_G)] .= 2 * n would work too\n",
    "    weighted_G[diagind(weighted_G)] .= 0 # set diagonal to 0\n",
    "    return weighted_G # edges here are ranked by order of appearance\n",
    "end\n",
    "\n",
    "function bettiCurveFromBarcode(barcode_array,nNodes,nmats,maxDim)\n",
    "    nNodes = Int(nNodes)\n",
    "    nmats = Int(nmats)\n",
    "    maxDim = Int(maxDim)\n",
    "    bettiBar = zeros(nmats,maxDim)\n",
    "    bettiCurve = zeros(nmats,nNodes+1,maxDim)\n",
    "    birthCurve = zeros(nmats,nNodes,maxDim)\n",
    "    deathCurve = zeros(nmats,nNodes,maxDim)\n",
    "    for dimn in collect(1:maxDim)\n",
    "        dimn = Int(dimn)\n",
    "        for matn in collect(1:nmats)\n",
    "            matn = Int(matn)\n",
    "            bb = 0\n",
    "            currentCurve = barcode_array[matn,:]\n",
    "            currentCurveDim = currentCurve[dimn]\n",
    "            for barn in collect(1:size(currentCurveDim,1))\n",
    "                # Add to birth curve\n",
    "                birthCurve[matn,Int(currentCurveDim[barn,1]),dimn] = birthCurve[matn,Int(currentCurveDim[barn,1]),dimn] .+1\n",
    "                if currentCurveDim[barn,2]>nNodes\n",
    "                    bettiCurve[matn,Int(currentCurveDim[barn,1]):Int(nNodes+1),dimn] = bettiCurve[matn,Int(currentCurveDim[barn,1]):Int(nNodes+1),dimn] .+1\n",
    "                    bb = bb+(nNodes+1-currentCurveDim[barn,1])\n",
    "                else\n",
    "                    bettiCurve[matn,Int(currentCurveDim[barn,1]):Int(currentCurveDim[barn,2]),dimn] = bettiCurve[matn,Int(currentCurveDim[barn,1]):Int(currentCurveDim[barn,2]),dimn].+1\n",
    "                    deathCurve[matn,Int(currentCurveDim[barn,2]),dimn] = deathCurve[matn,Int(currentCurveDim[barn,2]),dimn] .+1\n",
    "                    bb = bb+(currentCurveDim[barn,2] - currentCurveDim[barn,1])\n",
    "                end\n",
    "            end\n",
    "            bettiBar[matn,dimn] = deepcopy(bb)\n",
    "        end\n",
    "    end\n",
    "    return bettiCurve, birthCurve, deathCurve, bettiBar\n",
    "end\n",
    "\n",
    "function plotBarcode(allPIs,nNodes,graphN,maxDim,fontSize)\n",
    "    nNodes = Int(nNodes)\n",
    "    graphn = Int(graphN)\n",
    "    maxDim = Int(maxDim)\n",
    "    counter1 = 0\n",
    "    pbar = plot(1:6,zeros(6),c=:black)\n",
    "    colors = [:blue :green :red]\n",
    "    for dim in collect(1:maxDim)\n",
    "        barn = barcode_array[graphN, dim]\n",
    "        barn = barn[sortperm(barn[:,1]),:]\n",
    "        nbars = size(barn)[1]\n",
    "        for cntr1 in collect(1:nbars)\n",
    "            birth = barn[cntr1,1]\n",
    "            death = barn[cntr1,2]\n",
    "            plot!([birth, death],[cntr1+counter1, cntr1+counter1],c=colors[dim], legend = false,\n",
    "                            xlim = (0,nNodes), ytickfont = font(fontSize), xtickfont = font(fontSize))\n",
    "        end\n",
    "        display(pbar)\n",
    "        counter1 = counter1+nbars\n",
    "    end\n",
    "    return pbar\n",
    "end"
   ]
  },
  {
   "cell_type": "code",
   "execution_count": 3,
   "metadata": {},
   "outputs": [
    {
     "data": {
      "text/plain": [
       "\"/Volumes/My Passport/Curiosity/v3\""
      ]
     },
     "execution_count": 3,
     "metadata": {},
     "output_type": "execute_result"
    }
   ],
   "source": [
    "pwd()"
   ]
  },
  {
   "cell_type": "code",
   "execution_count": 4,
   "metadata": {},
   "outputs": [
    {
     "data": {
      "text/plain": [
       "149-element Array{String,1}:\n",
       " \"/Users/sppatankar/Developer/My Passport/Curiosity/v3/Data/reordered_KNOT_preprocessed_Eirene/subj_101.mat\"\n",
       " \"/Users/sppatankar/Developer/My Passport/Curiosity/v3/Data/reordered_KNOT_preprocessed_Eirene/subj_104.mat\"\n",
       " \"/Users/sppatankar/Developer/My Passport/Curiosity/v3/Data/reordered_KNOT_preprocessed_Eirene/subj_105.mat\"\n",
       " \"/Users/sppatankar/Developer/My Passport/Curiosity/v3/Data/reordered_KNOT_preprocessed_Eirene/subj_106.mat\"\n",
       " \"/Users/sppatankar/Developer/My Passport/Curiosity/v3/Data/reordered_KNOT_preprocessed_Eirene/subj_107.mat\"\n",
       " \"/Users/sppatankar/Developer/My Passport/Curiosity/v3/Data/reordered_KNOT_preprocessed_Eirene/subj_108.mat\"\n",
       " \"/Users/sppatankar/Developer/My Passport/Curiosity/v3/Data/reordered_KNOT_preprocessed_Eirene/subj_109.mat\"\n",
       " \"/Users/sppatankar/Developer/My Passport/Curiosity/v3/Data/reordered_KNOT_preprocessed_Eirene/subj_112.mat\"\n",
       " \"/Users/sppatankar/Developer/My Passport/Curiosity/v3/Data/reordered_KNOT_preprocessed_Eirene/subj_114.mat\"\n",
       " \"/Users/sppatankar/Developer/My Passport/Curiosity/v3/Data/reordered_KNOT_preprocessed_Eirene/subj_115.mat\"\n",
       " \"/Users/sppatankar/Developer/My Passport/Curiosity/v3/Data/reordered_KNOT_preprocessed_Eirene/subj_117.mat\"\n",
       " \"/Users/sppatankar/Developer/My Passport/Curiosity/v3/Data/reordered_KNOT_preprocessed_Eirene/subj_119.mat\"\n",
       " \"/Users/sppatankar/Developer/My Passport/Curiosity/v3/Data/reordered_KNOT_preprocessed_Eirene/subj_120.mat\"\n",
       " ⋮\n",
       " \"/Users/sppatankar/Developer/My Passport/Curiosity/v3/Data/reordered_KNOT_preprocessed_Eirene/subj_338.mat\"\n",
       " \"/Users/sppatankar/Developer/My Passport/Curiosity/v3/Data/reordered_KNOT_preprocessed_Eirene/subj_339.mat\"\n",
       " \"/Users/sppatankar/Developer/My Passport/Curiosity/v3/Data/reordered_KNOT_preprocessed_Eirene/subj_340.mat\"\n",
       " \"/Users/sppatankar/Developer/My Passport/Curiosity/v3/Data/reordered_KNOT_preprocessed_Eirene/subj_340340.mat\"\n",
       " \"/Users/sppatankar/Developer/My Passport/Curiosity/v3/Data/reordered_KNOT_preprocessed_Eirene/subj_342.mat\"\n",
       " \"/Users/sppatankar/Developer/My Passport/Curiosity/v3/Data/reordered_KNOT_preprocessed_Eirene/subj_349.mat\"\n",
       " \"/Users/sppatankar/Developer/My Passport/Curiosity/v3/Data/reordered_KNOT_preprocessed_Eirene/subj_351.mat\"\n",
       " \"/Users/sppatankar/Developer/My Passport/Curiosity/v3/Data/reordered_KNOT_preprocessed_Eirene/subj_353.mat\"\n",
       " \"/Users/sppatankar/Developer/My Passport/Curiosity/v3/Data/reordered_KNOT_preprocessed_Eirene/subj_355.mat\"\n",
       " \"/Users/sppatankar/Developer/My Passport/Curiosity/v3/Data/reordered_KNOT_preprocessed_Eirene/subj_356.mat\"\n",
       " \"/Users/sppatankar/Developer/My Passport/Curiosity/v3/Data/reordered_KNOT_preprocessed_Eirene/subj_359.mat\"\n",
       " \"/Users/sppatankar/Developer/My Passport/Curiosity/v3/Data/reordered_KNOT_preprocessed_Eirene/subj_363.mat\""
      ]
     },
     "execution_count": 4,
     "metadata": {},
     "output_type": "execute_result"
    }
   ],
   "source": [
    "data_in_path = \"/Users/sppatankar/Developer/My Passport/Curiosity/v3/Data/reordered_KNOT_preprocessed_Eirene\"\n",
    "data_out_path = \"/Users/sppatankar/Developer/My Passport/Curiosity/v3/Data/reordered_KNOT_processed_Eirene\"\n",
    "all_subjs = glob(\"*.mat\", data_in_path)"
   ]
  },
  {
   "cell_type": "code",
   "execution_count": 5,
   "metadata": {},
   "outputs": [
    {
     "data": {
      "text/plain": [
       "70-element Array{String,1}:\n",
       " \"/Users/sppatankar/Developer/My Passport/Curiosity/v3/Data/reordered_KNOT_preprocessed_Eirene/subj_231.mat\"\n",
       " \"/Users/sppatankar/Developer/My Passport/Curiosity/v3/Data/reordered_KNOT_preprocessed_Eirene/subj_232.mat\"\n",
       " \"/Users/sppatankar/Developer/My Passport/Curiosity/v3/Data/reordered_KNOT_preprocessed_Eirene/subj_234.mat\"\n",
       " \"/Users/sppatankar/Developer/My Passport/Curiosity/v3/Data/reordered_KNOT_preprocessed_Eirene/subj_235.mat\"\n",
       " \"/Users/sppatankar/Developer/My Passport/Curiosity/v3/Data/reordered_KNOT_preprocessed_Eirene/subj_236.mat\"\n",
       " \"/Users/sppatankar/Developer/My Passport/Curiosity/v3/Data/reordered_KNOT_preprocessed_Eirene/subj_238.mat\"\n",
       " \"/Users/sppatankar/Developer/My Passport/Curiosity/v3/Data/reordered_KNOT_preprocessed_Eirene/subj_239.mat\"\n",
       " \"/Users/sppatankar/Developer/My Passport/Curiosity/v3/Data/reordered_KNOT_preprocessed_Eirene/subj_240.mat\"\n",
       " \"/Users/sppatankar/Developer/My Passport/Curiosity/v3/Data/reordered_KNOT_preprocessed_Eirene/subj_242.mat\"\n",
       " \"/Users/sppatankar/Developer/My Passport/Curiosity/v3/Data/reordered_KNOT_preprocessed_Eirene/subj_243.mat\"\n",
       " \"/Users/sppatankar/Developer/My Passport/Curiosity/v3/Data/reordered_KNOT_preprocessed_Eirene/subj_246.mat\"\n",
       " \"/Users/sppatankar/Developer/My Passport/Curiosity/v3/Data/reordered_KNOT_preprocessed_Eirene/subj_247.mat\"\n",
       " \"/Users/sppatankar/Developer/My Passport/Curiosity/v3/Data/reordered_KNOT_preprocessed_Eirene/subj_248.mat\"\n",
       " ⋮\n",
       " \"/Users/sppatankar/Developer/My Passport/Curiosity/v3/Data/reordered_KNOT_preprocessed_Eirene/subj_338.mat\"\n",
       " \"/Users/sppatankar/Developer/My Passport/Curiosity/v3/Data/reordered_KNOT_preprocessed_Eirene/subj_339.mat\"\n",
       " \"/Users/sppatankar/Developer/My Passport/Curiosity/v3/Data/reordered_KNOT_preprocessed_Eirene/subj_340.mat\"\n",
       " \"/Users/sppatankar/Developer/My Passport/Curiosity/v3/Data/reordered_KNOT_preprocessed_Eirene/subj_340340.mat\"\n",
       " \"/Users/sppatankar/Developer/My Passport/Curiosity/v3/Data/reordered_KNOT_preprocessed_Eirene/subj_342.mat\"\n",
       " \"/Users/sppatankar/Developer/My Passport/Curiosity/v3/Data/reordered_KNOT_preprocessed_Eirene/subj_349.mat\"\n",
       " \"/Users/sppatankar/Developer/My Passport/Curiosity/v3/Data/reordered_KNOT_preprocessed_Eirene/subj_351.mat\"\n",
       " \"/Users/sppatankar/Developer/My Passport/Curiosity/v3/Data/reordered_KNOT_preprocessed_Eirene/subj_353.mat\"\n",
       " \"/Users/sppatankar/Developer/My Passport/Curiosity/v3/Data/reordered_KNOT_preprocessed_Eirene/subj_355.mat\"\n",
       " \"/Users/sppatankar/Developer/My Passport/Curiosity/v3/Data/reordered_KNOT_preprocessed_Eirene/subj_356.mat\"\n",
       " \"/Users/sppatankar/Developer/My Passport/Curiosity/v3/Data/reordered_KNOT_preprocessed_Eirene/subj_359.mat\"\n",
       " \"/Users/sppatankar/Developer/My Passport/Curiosity/v3/Data/reordered_KNOT_preprocessed_Eirene/subj_363.mat\""
      ]
     },
     "execution_count": 5,
     "metadata": {},
     "output_type": "execute_result"
    }
   ],
   "source": [
    "all_subjs_sub = all_subjs[80:149]"
   ]
  },
  {
   "cell_type": "code",
   "execution_count": 6,
   "metadata": {},
   "outputs": [],
   "source": [
    "# Subj. 229 crashes the kernel"
   ]
  },
  {
   "cell_type": "code",
   "execution_count": 7,
   "metadata": {},
   "outputs": [
    {
     "name": "stdout",
     "output_type": "stream",
     "text": [
      "Subject: /Users/sppatankar/Developer/My Passport/Curiosity/v3/Data/reordered_KNOT_preprocessed_Eirene/subj_231.mat\n",
      "Subject: /Users/sppatankar/Developer/My Passport/Curiosity/v3/Data/reordered_KNOT_preprocessed_Eirene/subj_232.mat\n",
      "Subject: /Users/sppatankar/Developer/My Passport/Curiosity/v3/Data/reordered_KNOT_preprocessed_Eirene/subj_234.mat\n",
      "Subject: /Users/sppatankar/Developer/My Passport/Curiosity/v3/Data/reordered_KNOT_preprocessed_Eirene/subj_235.mat\n",
      "Subject: /Users/sppatankar/Developer/My Passport/Curiosity/v3/Data/reordered_KNOT_preprocessed_Eirene/subj_236.mat\n",
      "Subject: /Users/sppatankar/Developer/My Passport/Curiosity/v3/Data/reordered_KNOT_preprocessed_Eirene/subj_238.mat\n",
      "Subject: /Users/sppatankar/Developer/My Passport/Curiosity/v3/Data/reordered_KNOT_preprocessed_Eirene/subj_239.mat\n",
      "Subject: /Users/sppatankar/Developer/My Passport/Curiosity/v3/Data/reordered_KNOT_preprocessed_Eirene/subj_240.mat\n",
      "Subject: /Users/sppatankar/Developer/My Passport/Curiosity/v3/Data/reordered_KNOT_preprocessed_Eirene/subj_242.mat\n",
      "Subject: /Users/sppatankar/Developer/My Passport/Curiosity/v3/Data/reordered_KNOT_preprocessed_Eirene/subj_243.mat\n",
      "Subject: /Users/sppatankar/Developer/My Passport/Curiosity/v3/Data/reordered_KNOT_preprocessed_Eirene/subj_246.mat\n",
      "Subject: /Users/sppatankar/Developer/My Passport/Curiosity/v3/Data/reordered_KNOT_preprocessed_Eirene/subj_247.mat\n",
      "Subject: /Users/sppatankar/Developer/My Passport/Curiosity/v3/Data/reordered_KNOT_preprocessed_Eirene/subj_248.mat\n",
      "Subject: /Users/sppatankar/Developer/My Passport/Curiosity/v3/Data/reordered_KNOT_preprocessed_Eirene/subj_249.mat\n",
      "Subject: /Users/sppatankar/Developer/My Passport/Curiosity/v3/Data/reordered_KNOT_preprocessed_Eirene/subj_251.mat\n",
      "Subject: /Users/sppatankar/Developer/My Passport/Curiosity/v3/Data/reordered_KNOT_preprocessed_Eirene/subj_253.mat\n",
      "Subject: /Users/sppatankar/Developer/My Passport/Curiosity/v3/Data/reordered_KNOT_preprocessed_Eirene/subj_255.mat\n",
      "Subject: /Users/sppatankar/Developer/My Passport/Curiosity/v3/Data/reordered_KNOT_preprocessed_Eirene/subj_256.mat\n",
      "Subject: /Users/sppatankar/Developer/My Passport/Curiosity/v3/Data/reordered_KNOT_preprocessed_Eirene/subj_258.mat\n",
      "Subject: /Users/sppatankar/Developer/My Passport/Curiosity/v3/Data/reordered_KNOT_preprocessed_Eirene/subj_259.mat\n",
      "Subject: /Users/sppatankar/Developer/My Passport/Curiosity/v3/Data/reordered_KNOT_preprocessed_Eirene/subj_261.mat\n",
      "Subject: /Users/sppatankar/Developer/My Passport/Curiosity/v3/Data/reordered_KNOT_preprocessed_Eirene/subj_263.mat\n",
      "Subject: /Users/sppatankar/Developer/My Passport/Curiosity/v3/Data/reordered_KNOT_preprocessed_Eirene/subj_264.mat\n",
      "Subject: /Users/sppatankar/Developer/My Passport/Curiosity/v3/Data/reordered_KNOT_preprocessed_Eirene/subj_266.mat\n",
      "Subject: /Users/sppatankar/Developer/My Passport/Curiosity/v3/Data/reordered_KNOT_preprocessed_Eirene/subj_267.mat\n",
      "Subject: /Users/sppatankar/Developer/My Passport/Curiosity/v3/Data/reordered_KNOT_preprocessed_Eirene/subj_268.mat\n",
      "Subject: /Users/sppatankar/Developer/My Passport/Curiosity/v3/Data/reordered_KNOT_preprocessed_Eirene/subj_269.mat\n",
      "Subject: /Users/sppatankar/Developer/My Passport/Curiosity/v3/Data/reordered_KNOT_preprocessed_Eirene/subj_271.mat\n",
      "Subject: /Users/sppatankar/Developer/My Passport/Curiosity/v3/Data/reordered_KNOT_preprocessed_Eirene/subj_273.mat\n",
      "Subject: /Users/sppatankar/Developer/My Passport/Curiosity/v3/Data/reordered_KNOT_preprocessed_Eirene/subj_278.mat\n",
      "Subject: /Users/sppatankar/Developer/My Passport/Curiosity/v3/Data/reordered_KNOT_preprocessed_Eirene/subj_280.mat\n",
      "Subject: /Users/sppatankar/Developer/My Passport/Curiosity/v3/Data/reordered_KNOT_preprocessed_Eirene/subj_286.mat\n",
      "Subject: /Users/sppatankar/Developer/My Passport/Curiosity/v3/Data/reordered_KNOT_preprocessed_Eirene/subj_287.mat\n",
      "Subject: /Users/sppatankar/Developer/My Passport/Curiosity/v3/Data/reordered_KNOT_preprocessed_Eirene/subj_288.mat\n",
      "Subject: /Users/sppatankar/Developer/My Passport/Curiosity/v3/Data/reordered_KNOT_preprocessed_Eirene/subj_290.mat\n",
      "Subject: /Users/sppatankar/Developer/My Passport/Curiosity/v3/Data/reordered_KNOT_preprocessed_Eirene/subj_291.mat\n",
      "Subject: /Users/sppatankar/Developer/My Passport/Curiosity/v3/Data/reordered_KNOT_preprocessed_Eirene/subj_293.mat\n",
      "Subject: /Users/sppatankar/Developer/My Passport/Curiosity/v3/Data/reordered_KNOT_preprocessed_Eirene/subj_296.mat\n",
      "Subject: /Users/sppatankar/Developer/My Passport/Curiosity/v3/Data/reordered_KNOT_preprocessed_Eirene/subj_297.mat\n",
      "Subject: /Users/sppatankar/Developer/My Passport/Curiosity/v3/Data/reordered_KNOT_preprocessed_Eirene/subj_304.mat\n",
      "Subject: /Users/sppatankar/Developer/My Passport/Curiosity/v3/Data/reordered_KNOT_preprocessed_Eirene/subj_308.mat\n",
      "Subject: /Users/sppatankar/Developer/My Passport/Curiosity/v3/Data/reordered_KNOT_preprocessed_Eirene/subj_309.mat\n",
      "Subject: /Users/sppatankar/Developer/My Passport/Curiosity/v3/Data/reordered_KNOT_preprocessed_Eirene/subj_310.mat\n",
      "Subject: /Users/sppatankar/Developer/My Passport/Curiosity/v3/Data/reordered_KNOT_preprocessed_Eirene/subj_311.mat\n",
      "Subject: /Users/sppatankar/Developer/My Passport/Curiosity/v3/Data/reordered_KNOT_preprocessed_Eirene/subj_312.mat\n",
      "Subject: /Users/sppatankar/Developer/My Passport/Curiosity/v3/Data/reordered_KNOT_preprocessed_Eirene/subj_313.mat\n",
      "Subject: /Users/sppatankar/Developer/My Passport/Curiosity/v3/Data/reordered_KNOT_preprocessed_Eirene/subj_316.mat\n",
      "Subject: /Users/sppatankar/Developer/My Passport/Curiosity/v3/Data/reordered_KNOT_preprocessed_Eirene/subj_318.mat\n",
      "Subject: /Users/sppatankar/Developer/My Passport/Curiosity/v3/Data/reordered_KNOT_preprocessed_Eirene/subj_319.mat\n",
      "Subject: /Users/sppatankar/Developer/My Passport/Curiosity/v3/Data/reordered_KNOT_preprocessed_Eirene/subj_321.mat\n",
      "Subject: /Users/sppatankar/Developer/My Passport/Curiosity/v3/Data/reordered_KNOT_preprocessed_Eirene/subj_322.mat\n",
      "Subject: /Users/sppatankar/Developer/My Passport/Curiosity/v3/Data/reordered_KNOT_preprocessed_Eirene/subj_323.mat\n",
      "Subject: /Users/sppatankar/Developer/My Passport/Curiosity/v3/Data/reordered_KNOT_preprocessed_Eirene/subj_324.mat\n",
      "Subject: /Users/sppatankar/Developer/My Passport/Curiosity/v3/Data/reordered_KNOT_preprocessed_Eirene/subj_325.mat\n",
      "Subject: /Users/sppatankar/Developer/My Passport/Curiosity/v3/Data/reordered_KNOT_preprocessed_Eirene/subj_327.mat\n",
      "Subject: /Users/sppatankar/Developer/My Passport/Curiosity/v3/Data/reordered_KNOT_preprocessed_Eirene/subj_328.mat\n",
      "Subject: /Users/sppatankar/Developer/My Passport/Curiosity/v3/Data/reordered_KNOT_preprocessed_Eirene/subj_329.mat\n",
      "Subject: /Users/sppatankar/Developer/My Passport/Curiosity/v3/Data/reordered_KNOT_preprocessed_Eirene/subj_335.mat\n",
      "Subject: /Users/sppatankar/Developer/My Passport/Curiosity/v3/Data/reordered_KNOT_preprocessed_Eirene/subj_338.mat\n",
      "Subject: /Users/sppatankar/Developer/My Passport/Curiosity/v3/Data/reordered_KNOT_preprocessed_Eirene/subj_339.mat\n",
      "Subject: /Users/sppatankar/Developer/My Passport/Curiosity/v3/Data/reordered_KNOT_preprocessed_Eirene/subj_340.mat\n",
      "Subject: /Users/sppatankar/Developer/My Passport/Curiosity/v3/Data/reordered_KNOT_preprocessed_Eirene/subj_340340.mat\n",
      "Subject: /Users/sppatankar/Developer/My Passport/Curiosity/v3/Data/reordered_KNOT_preprocessed_Eirene/subj_342.mat\n",
      "Subject: /Users/sppatankar/Developer/My Passport/Curiosity/v3/Data/reordered_KNOT_preprocessed_Eirene/subj_349.mat\n",
      "Subject: /Users/sppatankar/Developer/My Passport/Curiosity/v3/Data/reordered_KNOT_preprocessed_Eirene/subj_351.mat\n",
      "Subject: /Users/sppatankar/Developer/My Passport/Curiosity/v3/Data/reordered_KNOT_preprocessed_Eirene/subj_353.mat\n",
      "Subject: /Users/sppatankar/Developer/My Passport/Curiosity/v3/Data/reordered_KNOT_preprocessed_Eirene/subj_355.mat\n",
      "Subject: /Users/sppatankar/Developer/My Passport/Curiosity/v3/Data/reordered_KNOT_preprocessed_Eirene/subj_356.mat\n",
      "Subject: /Users/sppatankar/Developer/My Passport/Curiosity/v3/Data/reordered_KNOT_preprocessed_Eirene/subj_359.mat\n",
      "Subject: /Users/sppatankar/Developer/My Passport/Curiosity/v3/Data/reordered_KNOT_preprocessed_Eirene/subj_363.mat\n"
     ]
    }
   ],
   "source": [
    "n_dims = 3 # number of dimensions to track persistent homology in\n",
    "\n",
    "for i = 1:length(all_subjs_sub)\n",
    "    @printf(\"Subject: %s\\n\", all_subjs_sub[i])\n",
    "    all_vars = matread(all_subjs_sub[i])\n",
    "    # adj, reordered_adjs, reordered_nodes, reordered_weighted_Gs, subj, weighted_G available\n",
    "    subj_ID = all_vars[\"subj\"]\n",
    "    reordered_nodes = all_vars[\"reordered_nodes\"]\n",
    "    reordered_adjs = all_vars[\"reordered_adjs\"]\n",
    "    reordered_weighted_Gs = all_vars[\"reordered_weighted_Gs\"]\n",
    "    iters = size(reordered_adjs)[3]\n",
    "    barcode_array = Array{Array{Float64}}(undef, iters, n_dims)\n",
    "    betti_curves = Array{Array{Float64}}(undef, iters, n_dims)\n",
    "    for j = 1:iters\n",
    "        weighted_G = reordered_weighted_Gs[:, :, j]\n",
    "        C = Eirene.eirene(weighted_G, model = \"vr\", maxdim = n_dims, record = \"none\")\n",
    "        for k = 1:n_dims\n",
    "            barcode_array[j, k] = barcode(C, dim = k)\n",
    "            betti_curves[j, k] = betticurve(C, dim = k)\n",
    "        end\n",
    "    end\n",
    "    save_string = string(data_out_path, \"/\", \"subj_\", subj_ID, \".mat\")\n",
    "    matwrite(save_string, \n",
    "        Dict(\"subj\" => subj_ID,\n",
    "            \"reordered_nodes\" => reordered_nodes,\n",
    "            \"reordered_adjs\" => reordered_adjs,\n",
    "            \"reordered_weighted_Gs\" => reordered_weighted_Gs,\n",
    "            \"barcode_array\" => barcode_array,\n",
    "            \"betti_curves\" => betti_curves))    \n",
    "end"
   ]
  }
 ],
 "metadata": {
  "@webio": {
   "lastCommId": null,
   "lastKernelId": null
  },
  "kernelspec": {
   "display_name": "JuliaPro_v1.5.3-1 1.5.3",
   "language": "julia",
   "name": "juliapro_v1.5.3-1-1.5"
  },
  "language_info": {
   "file_extension": ".jl",
   "mimetype": "application/julia",
   "name": "julia",
   "version": "1.5.3"
  }
 },
 "nbformat": 4,
 "nbformat_minor": 2
}
