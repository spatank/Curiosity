{
  "nbformat": 4,
  "nbformat_minor": 0,
  "metadata": {
    "colab": {
      "name": "wiki_1.ipynb",
      "provenance": [],
      "authorship_tag": "ABX9TyOtbw+n8T7BgOPr8PPrk7m0",
      "include_colab_link": true
    },
    "kernelspec": {
      "name": "python3",
      "display_name": "Python 3"
    }
  },
  "cells": [
    {
      "cell_type": "markdown",
      "metadata": {
        "id": "view-in-github",
        "colab_type": "text"
      },
      "source": [
        "<a href=\"https://colab.research.google.com/github/spatank/Curiosity/blob/master/wiki_1.ipynb\" target=\"_parent\"><img src=\"https://colab.research.google.com/assets/colab-badge.svg\" alt=\"Open In Colab\"/></a>"
      ]
    },
    {
      "cell_type": "markdown",
      "metadata": {
        "id": "-FUJYyJqJhIP"
      },
      "source": [
        "Make data available to Colab by mounting your Drive."
      ]
    },
    {
      "cell_type": "code",
      "metadata": {
        "id": "mt4lKf68BBEH",
        "outputId": "8bf4d9e8-fdca-4acc-debd-ecf08289506f",
        "colab": {
          "base_uri": "https://localhost:8080/"
        }
      },
      "source": [
        "from google.colab import drive\n",
        "drive.mount('/content/drive')\n",
        "\n",
        "import os\n",
        "os.chdir('/content/drive/My Drive/Curiosity_IGT/')"
      ],
      "execution_count": 1,
      "outputs": [
        {
          "output_type": "stream",
          "text": [
            "Mounted at /content/drive\n"
          ],
          "name": "stdout"
        }
      ]
    },
    {
      "cell_type": "code",
      "metadata": {
        "id": "RAcMQZG0C_FC",
        "outputId": "e9377d01-8bb2-495e-967c-f1198b0bcbbc",
        "colab": {
          "base_uri": "https://localhost:8080/"
        }
      },
      "source": [
        "!ls # run !ls to verify location "
      ],
      "execution_count": 2,
      "outputs": [
        {
          "output_type": "stream",
          "text": [
            "enwiki_20180420_300d.pkl\t   wiki_1.ipynb\n",
            "enwiki_20180420_300d.pkl.bz2\t   WikiData_Shubhankar.csv\n",
            "enwiki_20180420_nolg_300d.txt.bz2\n"
          ],
          "name": "stdout"
        }
      ]
    },
    {
      "cell_type": "markdown",
      "metadata": {
        "id": "4Ku8aDAUJwjE"
      },
      "source": [
        "# Import Packages"
      ]
    },
    {
      "cell_type": "code",
      "metadata": {
        "id": "T5Qpip15Eb1L",
        "outputId": "4d06a26f-79a3-46e7-d5ef-12c04213f95f",
        "colab": {
          "base_uri": "https://localhost:8080/"
        }
      },
      "source": [
        "import pandas as pd\n",
        "!pip install wikipedia2vec\n",
        "from wikipedia2vec import Wikipedia2Vec\n",
        "import numpy as np\n",
        "from scipy.spatial.distance import cosine\n",
        "import networkx as nx"
      ],
      "execution_count": 3,
      "outputs": [
        {
          "output_type": "stream",
          "text": [
            "Collecting wikipedia2vec\n",
            "\u001b[?25l  Downloading https://files.pythonhosted.org/packages/d8/88/751037c70ca86581d444824e66bb799ef9060339a1d5d1fc1804c422d7cc/wikipedia2vec-1.0.4.tar.gz (1.2MB)\n",
            "\u001b[K     |████████████████████████████████| 1.2MB 5.7MB/s \n",
            "\u001b[?25hRequirement already satisfied: click in /usr/local/lib/python3.6/dist-packages (from wikipedia2vec) (7.1.2)\n",
            "Requirement already satisfied: jieba in /usr/local/lib/python3.6/dist-packages (from wikipedia2vec) (0.42.1)\n",
            "Requirement already satisfied: joblib in /usr/local/lib/python3.6/dist-packages (from wikipedia2vec) (0.17.0)\n",
            "Requirement already satisfied: lmdb in /usr/local/lib/python3.6/dist-packages (from wikipedia2vec) (0.99)\n",
            "Collecting marisa-trie\n",
            "\u001b[?25l  Downloading https://files.pythonhosted.org/packages/20/95/d23071d0992dabcb61c948fb118a90683193befc88c23e745b050a29e7db/marisa-trie-0.7.5.tar.gz (270kB)\n",
            "\u001b[K     |████████████████████████████████| 276kB 19.6MB/s \n",
            "\u001b[?25hCollecting mwparserfromhell\n",
            "\u001b[?25l  Downloading https://files.pythonhosted.org/packages/23/03/4fb04da533c7e237c0104151c028d8bff856293d34e51d208c529696fb79/mwparserfromhell-0.5.4.tar.gz (135kB)\n",
            "\u001b[K     |████████████████████████████████| 143kB 22.5MB/s \n",
            "\u001b[?25hRequirement already satisfied: numpy in /usr/local/lib/python3.6/dist-packages (from wikipedia2vec) (1.18.5)\n",
            "Requirement already satisfied: scipy in /usr/local/lib/python3.6/dist-packages (from wikipedia2vec) (1.4.1)\n",
            "Requirement already satisfied: six in /usr/local/lib/python3.6/dist-packages (from wikipedia2vec) (1.15.0)\n",
            "Requirement already satisfied: tqdm in /usr/local/lib/python3.6/dist-packages (from wikipedia2vec) (4.41.1)\n",
            "Building wheels for collected packages: wikipedia2vec, marisa-trie, mwparserfromhell\n",
            "  Building wheel for wikipedia2vec (setup.py) ... \u001b[?25l\u001b[?25hdone\n",
            "  Created wheel for wikipedia2vec: filename=wikipedia2vec-1.0.4-cp36-cp36m-linux_x86_64.whl size=4581829 sha256=a68d0b6e98cb1af534f2e98d4349d7c37942e74615464cc1c7ed46c6eab6ca73\n",
            "  Stored in directory: /root/.cache/pip/wheels/16/e7/02/852c8ce366cc10adcf5d43c6471bbf926dd15c277578c13184\n",
            "  Building wheel for marisa-trie (setup.py) ... \u001b[?25l\u001b[?25hdone\n",
            "  Created wheel for marisa-trie: filename=marisa_trie-0.7.5-cp36-cp36m-linux_x86_64.whl size=861167 sha256=7a4639c7c16cae4ed3cd9d4ba36cb3740504f92186dc2b1aa420852328e429f6\n",
            "  Stored in directory: /root/.cache/pip/wheels/45/24/79/022624fc914f0e559fe8a1141aaff1f9df810905a13fc75d57\n",
            "  Building wheel for mwparserfromhell (setup.py) ... \u001b[?25l\u001b[?25hdone\n",
            "  Created wheel for mwparserfromhell: filename=mwparserfromhell-0.5.4-cp36-cp36m-linux_x86_64.whl size=183786 sha256=a25a737418f4e30ec6ec970af19bf517cd190686dca1f84ea374e434112bee05\n",
            "  Stored in directory: /root/.cache/pip/wheels/2a/76/d5/7088b941df3b362c45dd7912dd05314bc034751ec9cbca9a75\n",
            "Successfully built wikipedia2vec marisa-trie mwparserfromhell\n",
            "Installing collected packages: marisa-trie, mwparserfromhell, wikipedia2vec\n",
            "Successfully installed marisa-trie-0.7.5 mwparserfromhell-0.5.4 wikipedia2vec-1.0.4\n"
          ],
          "name": "stdout"
        }
      ]
    },
    {
      "cell_type": "markdown",
      "metadata": {
        "id": "W9QmgTY9KF_A"
      },
      "source": [
        "# Data Wrangling\n",
        "\n",
        "This section pre-processes the KNOT data to get it into a format suited to network analysis. The data contains the names of Wikipedia pages visited by a participant in two columns: SourceName and TargetName. \n"
      ]
    },
    {
      "cell_type": "code",
      "metadata": {
        "id": "eRCVHGiwzEBd",
        "outputId": "13e293d5-9ffb-44e7-b252-336ea2a3bdc8",
        "colab": {
          "base_uri": "https://localhost:8080/",
          "height": 162
        }
      },
      "source": [
        "wiki_df = pd.read_csv('WikiData_Shubhankar.csv')\n",
        "wiki_df.head(3)"
      ],
      "execution_count": 4,
      "outputs": [
        {
          "output_type": "execute_result",
          "data": {
            "text/html": [
              "<div>\n",
              "<style scoped>\n",
              "    .dataframe tbody tr th:only-of-type {\n",
              "        vertical-align: middle;\n",
              "    }\n",
              "\n",
              "    .dataframe tbody tr th {\n",
              "        vertical-align: top;\n",
              "    }\n",
              "\n",
              "    .dataframe thead th {\n",
              "        text-align: right;\n",
              "    }\n",
              "</style>\n",
              "<table border=\"1\" class=\"dataframe\">\n",
              "  <thead>\n",
              "    <tr style=\"text-align: right;\">\n",
              "      <th></th>\n",
              "      <th>ID</th>\n",
              "      <th>SourceName</th>\n",
              "      <th>TargetName</th>\n",
              "      <th>Day</th>\n",
              "      <th>TimeOrder</th>\n",
              "      <th>Hyperlink</th>\n",
              "      <th>DistanceWeights</th>\n",
              "      <th>AgeYears</th>\n",
              "      <th>SexOrient</th>\n",
              "      <th>Race</th>\n",
              "      <th>GenderFactor</th>\n",
              "      <th>EducDeg</th>\n",
              "      <th>Income</th>\n",
              "      <th>JE_5D</th>\n",
              "      <th>DS_5D</th>\n",
              "      <th>ST_5D</th>\n",
              "      <th>SC_5D</th>\n",
              "      <th>TS_5D</th>\n",
              "      <th>Count</th>\n",
              "      <th>Weight</th>\n",
              "    </tr>\n",
              "  </thead>\n",
              "  <tbody>\n",
              "    <tr>\n",
              "      <th>0</th>\n",
              "      <td>101</td>\n",
              "      <td>/wiki/Jeff_Bezos</td>\n",
              "      <td>/wiki/Cloud_infrastructure</td>\n",
              "      <td>1</td>\n",
              "      <td>1</td>\n",
              "      <td>no</td>\n",
              "      <td>1.0</td>\n",
              "      <td>23.27945</td>\n",
              "      <td>Heterosexual</td>\n",
              "      <td>AsiaAm</td>\n",
              "      <td>0</td>\n",
              "      <td>BachDegree</td>\n",
              "      <td>20to49k</td>\n",
              "      <td>4.4</td>\n",
              "      <td>4.25</td>\n",
              "      <td>1.6</td>\n",
              "      <td>2.8</td>\n",
              "      <td>2.0</td>\n",
              "      <td>1</td>\n",
              "      <td>0.0</td>\n",
              "    </tr>\n",
              "    <tr>\n",
              "      <th>1</th>\n",
              "      <td>101</td>\n",
              "      <td>/wiki/Cloud_infrastructure</td>\n",
              "      <td>/wiki/Cloud_computing_security</td>\n",
              "      <td>1</td>\n",
              "      <td>2</td>\n",
              "      <td>yes</td>\n",
              "      <td>0.2</td>\n",
              "      <td>23.27945</td>\n",
              "      <td>Heterosexual</td>\n",
              "      <td>AsiaAm</td>\n",
              "      <td>0</td>\n",
              "      <td>BachDegree</td>\n",
              "      <td>20to49k</td>\n",
              "      <td>4.4</td>\n",
              "      <td>4.25</td>\n",
              "      <td>1.6</td>\n",
              "      <td>2.8</td>\n",
              "      <td>2.0</td>\n",
              "      <td>2</td>\n",
              "      <td>0.8</td>\n",
              "    </tr>\n",
              "    <tr>\n",
              "      <th>2</th>\n",
              "      <td>101</td>\n",
              "      <td>/wiki/Cloud_computing_security</td>\n",
              "      <td>/wiki/Cloud_infrastructure</td>\n",
              "      <td>1</td>\n",
              "      <td>3</td>\n",
              "      <td>no</td>\n",
              "      <td>0.2</td>\n",
              "      <td>23.27945</td>\n",
              "      <td>Heterosexual</td>\n",
              "      <td>AsiaAm</td>\n",
              "      <td>0</td>\n",
              "      <td>BachDegree</td>\n",
              "      <td>20to49k</td>\n",
              "      <td>4.4</td>\n",
              "      <td>4.25</td>\n",
              "      <td>1.6</td>\n",
              "      <td>2.8</td>\n",
              "      <td>2.0</td>\n",
              "      <td>3</td>\n",
              "      <td>0.8</td>\n",
              "    </tr>\n",
              "  </tbody>\n",
              "</table>\n",
              "</div>"
            ],
            "text/plain": [
              "    ID                      SourceName  ... Count  Weight\n",
              "0  101                /wiki/Jeff_Bezos  ...     1     0.0\n",
              "1  101      /wiki/Cloud_infrastructure  ...     2     0.8\n",
              "2  101  /wiki/Cloud_computing_security  ...     3     0.8\n",
              "\n",
              "[3 rows x 20 columns]"
            ]
          },
          "metadata": {
            "tags": []
          },
          "execution_count": 4
        }
      ]
    },
    {
      "cell_type": "code",
      "metadata": {
        "id": "afyM5cEyyyYH"
      },
      "source": [
        "def clean_entity_name(name):\n",
        "  name = name.replace('/wiki/', '')\n",
        "  name = name.replace('_', ' ')\n",
        "  return name"
      ],
      "execution_count": 5,
      "outputs": []
    },
    {
      "cell_type": "markdown",
      "metadata": {
        "id": "FxXehM8xMH32"
      },
      "source": [
        "First, we create unique identifiers (UIDs) for each page so that they can be used as nodes in a network representation. Then we clean the strings associated with each page by stripping redundant information such as `wiki/` and `_`. The UIDs and clean names are appended to the data frame as new columns."
      ]
    },
    {
      "cell_type": "code",
      "metadata": {
        "id": "So4CNo4-xggB",
        "outputId": "54e31139-12d4-4f23-e356-eaf8581bf265",
        "colab": {
          "base_uri": "https://localhost:8080/",
          "height": 247
        }
      },
      "source": [
        "# create UID for each page\n",
        "source_nodes = set(wiki_df['SourceName'].tolist())\n",
        "target_nodes = set(wiki_df['TargetName'].tolist())\n",
        "source_nodes.update(target_nodes)\n",
        "node_set = {entity: name for name, entity in enumerate(source_nodes)}\n",
        "wiki_df['SourceUID'] = wiki_df['SourceName'].apply(lambda x: node_set[x])\n",
        "wiki_df['SrcNameClean'] = wiki_df['SourceName'].apply(lambda x: clean_entity_name(x))\n",
        "wiki_df['TargetUID'] = wiki_df['TargetName'].apply(lambda x: node_set[x])\n",
        "wiki_df['TgtNameClean'] = wiki_df['TargetName'].apply(lambda x: clean_entity_name(x))\n",
        "wiki_df.head(3)"
      ],
      "execution_count": 34,
      "outputs": [
        {
          "output_type": "execute_result",
          "data": {
            "text/html": [
              "<div>\n",
              "<style scoped>\n",
              "    .dataframe tbody tr th:only-of-type {\n",
              "        vertical-align: middle;\n",
              "    }\n",
              "\n",
              "    .dataframe tbody tr th {\n",
              "        vertical-align: top;\n",
              "    }\n",
              "\n",
              "    .dataframe thead th {\n",
              "        text-align: right;\n",
              "    }\n",
              "</style>\n",
              "<table border=\"1\" class=\"dataframe\">\n",
              "  <thead>\n",
              "    <tr style=\"text-align: right;\">\n",
              "      <th></th>\n",
              "      <th>ID</th>\n",
              "      <th>SourceName</th>\n",
              "      <th>TargetName</th>\n",
              "      <th>Day</th>\n",
              "      <th>TimeOrder</th>\n",
              "      <th>Hyperlink</th>\n",
              "      <th>DistanceWeights</th>\n",
              "      <th>AgeYears</th>\n",
              "      <th>SexOrient</th>\n",
              "      <th>Race</th>\n",
              "      <th>GenderFactor</th>\n",
              "      <th>EducDeg</th>\n",
              "      <th>Income</th>\n",
              "      <th>JE_5D</th>\n",
              "      <th>DS_5D</th>\n",
              "      <th>ST_5D</th>\n",
              "      <th>SC_5D</th>\n",
              "      <th>TS_5D</th>\n",
              "      <th>Count</th>\n",
              "      <th>Weight</th>\n",
              "      <th>SourceUID</th>\n",
              "      <th>SrcNameClean</th>\n",
              "      <th>TargetUID</th>\n",
              "      <th>TgtNameClean</th>\n",
              "      <th>SemanticDist</th>\n",
              "    </tr>\n",
              "  </thead>\n",
              "  <tbody>\n",
              "    <tr>\n",
              "      <th>0</th>\n",
              "      <td>101</td>\n",
              "      <td>/wiki/Jeff_Bezos</td>\n",
              "      <td>/wiki/Cloud_infrastructure</td>\n",
              "      <td>1</td>\n",
              "      <td>1</td>\n",
              "      <td>no</td>\n",
              "      <td>1.0</td>\n",
              "      <td>23.27945</td>\n",
              "      <td>Heterosexual</td>\n",
              "      <td>AsiaAm</td>\n",
              "      <td>0</td>\n",
              "      <td>BachDegree</td>\n",
              "      <td>20to49k</td>\n",
              "      <td>4.4</td>\n",
              "      <td>4.25</td>\n",
              "      <td>1.6</td>\n",
              "      <td>2.8</td>\n",
              "      <td>2.0</td>\n",
              "      <td>1</td>\n",
              "      <td>0.0</td>\n",
              "      <td>13734</td>\n",
              "      <td>Jeff Bezos</td>\n",
              "      <td>8828</td>\n",
              "      <td>Cloud infrastructure</td>\n",
              "      <td>NaN</td>\n",
              "    </tr>\n",
              "    <tr>\n",
              "      <th>1</th>\n",
              "      <td>101</td>\n",
              "      <td>/wiki/Cloud_infrastructure</td>\n",
              "      <td>/wiki/Cloud_computing_security</td>\n",
              "      <td>1</td>\n",
              "      <td>2</td>\n",
              "      <td>yes</td>\n",
              "      <td>0.2</td>\n",
              "      <td>23.27945</td>\n",
              "      <td>Heterosexual</td>\n",
              "      <td>AsiaAm</td>\n",
              "      <td>0</td>\n",
              "      <td>BachDegree</td>\n",
              "      <td>20to49k</td>\n",
              "      <td>4.4</td>\n",
              "      <td>4.25</td>\n",
              "      <td>1.6</td>\n",
              "      <td>2.8</td>\n",
              "      <td>2.0</td>\n",
              "      <td>2</td>\n",
              "      <td>0.8</td>\n",
              "      <td>8828</td>\n",
              "      <td>Cloud infrastructure</td>\n",
              "      <td>6229</td>\n",
              "      <td>Cloud computing security</td>\n",
              "      <td>NaN</td>\n",
              "    </tr>\n",
              "    <tr>\n",
              "      <th>2</th>\n",
              "      <td>101</td>\n",
              "      <td>/wiki/Cloud_computing_security</td>\n",
              "      <td>/wiki/Cloud_infrastructure</td>\n",
              "      <td>1</td>\n",
              "      <td>3</td>\n",
              "      <td>no</td>\n",
              "      <td>0.2</td>\n",
              "      <td>23.27945</td>\n",
              "      <td>Heterosexual</td>\n",
              "      <td>AsiaAm</td>\n",
              "      <td>0</td>\n",
              "      <td>BachDegree</td>\n",
              "      <td>20to49k</td>\n",
              "      <td>4.4</td>\n",
              "      <td>4.25</td>\n",
              "      <td>1.6</td>\n",
              "      <td>2.8</td>\n",
              "      <td>2.0</td>\n",
              "      <td>3</td>\n",
              "      <td>0.8</td>\n",
              "      <td>6229</td>\n",
              "      <td>Cloud computing security</td>\n",
              "      <td>8828</td>\n",
              "      <td>Cloud infrastructure</td>\n",
              "      <td>NaN</td>\n",
              "    </tr>\n",
              "  </tbody>\n",
              "</table>\n",
              "</div>"
            ],
            "text/plain": [
              "    ID                      SourceName  ...              TgtNameClean  SemanticDist\n",
              "0  101                /wiki/Jeff_Bezos  ...      Cloud infrastructure           NaN\n",
              "1  101      /wiki/Cloud_infrastructure  ...  Cloud computing security           NaN\n",
              "2  101  /wiki/Cloud_computing_security  ...      Cloud infrastructure           NaN\n",
              "\n",
              "[3 rows x 25 columns]"
            ]
          },
          "metadata": {
            "tags": []
          },
          "execution_count": 34
        }
      ]
    },
    {
      "cell_type": "markdown",
      "metadata": {
        "id": "K1ja7sTbMc93"
      },
      "source": [
        "# Wikipedia2Vec\n",
        "\n",
        "Each row in the data frame represents a transition made by a participant from one Wikipedia page to another. The associated edge weight can be obtained as the semantic distance between the contents of the two pages. In order to quantify the semantic distance between Wikipedia entities, we use a pre-trained model that represents each page as an n-dimensional vector. The distance between two pages `SemanticDist` is then computed as the cosine (dis)similarity between their vector representations."
      ]
    },
    {
      "cell_type": "code",
      "metadata": {
        "id": "nKcyjPP_eSXO"
      },
      "source": [
        "model_file = 'enwiki_20180420_300d.pkl'\n",
        "wiki2vec = Wikipedia2Vec.load(model_file)\n",
        "# v1 = wiki2vec.get_entity_vector('Jeff Bezos')\n",
        "# v2 = wiki2vec.get_entity_vector('Bill Gates')"
      ],
      "execution_count": 7,
      "outputs": []
    },
    {
      "cell_type": "code",
      "metadata": {
        "id": "pzt7GJ2y8T38"
      },
      "source": [
        "def check_entity_vector(entity):\n",
        "  try:\n",
        "    vec = wiki2vec.get_entity_vector(entity)\n",
        "    return 0\n",
        "  except KeyError:\n",
        "    return 1"
      ],
      "execution_count": null,
      "outputs": []
    },
    {
      "cell_type": "code",
      "metadata": {
        "id": "MDgL6zC17xjT"
      },
      "source": [
        "no_vec_entities = []\n",
        "for k, v in node_set.items():\n",
        "  entity = clean_entity_name(k)\n",
        "  no_vec_entities.append(check_entity_vector(entity))"
      ],
      "execution_count": 77,
      "outputs": []
    },
    {
      "cell_type": "code",
      "metadata": {
        "id": "6Qbdwg6H8f_d",
        "outputId": "226a76fd-39e5-4ba1-ff29-6e97129e38f4",
        "colab": {
          "base_uri": "https://localhost:8080/"
        }
      },
      "source": [
        "len(no_vec_entities)"
      ],
      "execution_count": 78,
      "outputs": [
        {
          "output_type": "execute_result",
          "data": {
            "text/plain": [
              "18378"
            ]
          },
          "metadata": {
            "tags": []
          },
          "execution_count": 78
        }
      ]
    },
    {
      "cell_type": "code",
      "metadata": {
        "id": "aVKxX2Zr8iMv",
        "outputId": "e649acc7-fcae-418e-b43f-c21d4f0d1d1b",
        "colab": {
          "base_uri": "https://localhost:8080/"
        }
      },
      "source": [
        "sum(no_vec_entities)"
      ],
      "execution_count": 79,
      "outputs": [
        {
          "output_type": "execute_result",
          "data": {
            "text/plain": [
              "2207"
            ]
          },
          "metadata": {
            "tags": []
          },
          "execution_count": 79
        }
      ]
    },
    {
      "cell_type": "markdown",
      "metadata": {
        "id": "CO85sKmQ8tzM"
      },
      "source": [
        "12% of the pages visited by participants in the KNOT data do not have corresponding vector embeddings. We represent these pages by a random vector."
      ]
    },
    {
      "cell_type": "code",
      "metadata": {
        "id": "fchZpOmIRKKh"
      },
      "source": [
        "def semantic_dist(entity_1, entity_2):\n",
        "  # get entity 1 vector\n",
        "  try:\n",
        "    v1 = wiki2vec.get_entity_vector(entity_1)\n",
        "  except KeyError:\n",
        "    v1 = np.random.random(300)\n",
        "  # get entity 2 vector\n",
        "  try:\n",
        "    v2 = wiki2vec.get_entity_vector(entity_2)\n",
        "  except KeyError:\n",
        "    v2 = np.random.random(300)\n",
        "\n",
        "  return cosine(v1, v2)"
      ],
      "execution_count": 82,
      "outputs": []
    },
    {
      "cell_type": "code",
      "metadata": {
        "id": "H1G1jaUNMcUd"
      },
      "source": [
        "wiki_df['SemanticDist'] = wiki_df.apply(lambda x: semantic_dist(x['SrcNameClean'], x['TgtNameClean']), axis = 1)"
      ],
      "execution_count": 83,
      "outputs": []
    },
    {
      "cell_type": "code",
      "metadata": {
        "id": "LGM6aMKC9hx-",
        "outputId": "830c60bb-7011-4aa7-c613-605165e0c13c",
        "colab": {
          "base_uri": "https://localhost:8080/",
          "height": 343
        }
      },
      "source": [
        "wiki_df.head(5)"
      ],
      "execution_count": 84,
      "outputs": [
        {
          "output_type": "execute_result",
          "data": {
            "text/html": [
              "<div>\n",
              "<style scoped>\n",
              "    .dataframe tbody tr th:only-of-type {\n",
              "        vertical-align: middle;\n",
              "    }\n",
              "\n",
              "    .dataframe tbody tr th {\n",
              "        vertical-align: top;\n",
              "    }\n",
              "\n",
              "    .dataframe thead th {\n",
              "        text-align: right;\n",
              "    }\n",
              "</style>\n",
              "<table border=\"1\" class=\"dataframe\">\n",
              "  <thead>\n",
              "    <tr style=\"text-align: right;\">\n",
              "      <th></th>\n",
              "      <th>ID</th>\n",
              "      <th>SourceName</th>\n",
              "      <th>TargetName</th>\n",
              "      <th>Day</th>\n",
              "      <th>TimeOrder</th>\n",
              "      <th>Hyperlink</th>\n",
              "      <th>DistanceWeights</th>\n",
              "      <th>AgeYears</th>\n",
              "      <th>SexOrient</th>\n",
              "      <th>Race</th>\n",
              "      <th>GenderFactor</th>\n",
              "      <th>EducDeg</th>\n",
              "      <th>Income</th>\n",
              "      <th>JE_5D</th>\n",
              "      <th>DS_5D</th>\n",
              "      <th>ST_5D</th>\n",
              "      <th>SC_5D</th>\n",
              "      <th>TS_5D</th>\n",
              "      <th>Count</th>\n",
              "      <th>Weight</th>\n",
              "      <th>SourceUID</th>\n",
              "      <th>SrcNameClean</th>\n",
              "      <th>TargetUID</th>\n",
              "      <th>TgtNameClean</th>\n",
              "      <th>SemanticDist</th>\n",
              "    </tr>\n",
              "  </thead>\n",
              "  <tbody>\n",
              "    <tr>\n",
              "      <th>0</th>\n",
              "      <td>101</td>\n",
              "      <td>/wiki/Jeff_Bezos</td>\n",
              "      <td>/wiki/Cloud_infrastructure</td>\n",
              "      <td>1</td>\n",
              "      <td>1</td>\n",
              "      <td>no</td>\n",
              "      <td>1.0</td>\n",
              "      <td>23.27945</td>\n",
              "      <td>Heterosexual</td>\n",
              "      <td>AsiaAm</td>\n",
              "      <td>0</td>\n",
              "      <td>BachDegree</td>\n",
              "      <td>20to49k</td>\n",
              "      <td>4.4</td>\n",
              "      <td>4.25</td>\n",
              "      <td>1.6</td>\n",
              "      <td>2.8</td>\n",
              "      <td>2.0</td>\n",
              "      <td>1</td>\n",
              "      <td>0.0</td>\n",
              "      <td>13734</td>\n",
              "      <td>Jeff Bezos</td>\n",
              "      <td>8828</td>\n",
              "      <td>Cloud infrastructure</td>\n",
              "      <td>0.603374</td>\n",
              "    </tr>\n",
              "    <tr>\n",
              "      <th>1</th>\n",
              "      <td>101</td>\n",
              "      <td>/wiki/Cloud_infrastructure</td>\n",
              "      <td>/wiki/Cloud_computing_security</td>\n",
              "      <td>1</td>\n",
              "      <td>2</td>\n",
              "      <td>yes</td>\n",
              "      <td>0.2</td>\n",
              "      <td>23.27945</td>\n",
              "      <td>Heterosexual</td>\n",
              "      <td>AsiaAm</td>\n",
              "      <td>0</td>\n",
              "      <td>BachDegree</td>\n",
              "      <td>20to49k</td>\n",
              "      <td>4.4</td>\n",
              "      <td>4.25</td>\n",
              "      <td>1.6</td>\n",
              "      <td>2.8</td>\n",
              "      <td>2.0</td>\n",
              "      <td>2</td>\n",
              "      <td>0.8</td>\n",
              "      <td>8828</td>\n",
              "      <td>Cloud infrastructure</td>\n",
              "      <td>6229</td>\n",
              "      <td>Cloud computing security</td>\n",
              "      <td>0.337638</td>\n",
              "    </tr>\n",
              "    <tr>\n",
              "      <th>2</th>\n",
              "      <td>101</td>\n",
              "      <td>/wiki/Cloud_computing_security</td>\n",
              "      <td>/wiki/Cloud_infrastructure</td>\n",
              "      <td>1</td>\n",
              "      <td>3</td>\n",
              "      <td>no</td>\n",
              "      <td>0.2</td>\n",
              "      <td>23.27945</td>\n",
              "      <td>Heterosexual</td>\n",
              "      <td>AsiaAm</td>\n",
              "      <td>0</td>\n",
              "      <td>BachDegree</td>\n",
              "      <td>20to49k</td>\n",
              "      <td>4.4</td>\n",
              "      <td>4.25</td>\n",
              "      <td>1.6</td>\n",
              "      <td>2.8</td>\n",
              "      <td>2.0</td>\n",
              "      <td>3</td>\n",
              "      <td>0.8</td>\n",
              "      <td>6229</td>\n",
              "      <td>Cloud computing security</td>\n",
              "      <td>8828</td>\n",
              "      <td>Cloud infrastructure</td>\n",
              "      <td>0.337638</td>\n",
              "    </tr>\n",
              "    <tr>\n",
              "      <th>3</th>\n",
              "      <td>101</td>\n",
              "      <td>/wiki/Cloud_infrastructure</td>\n",
              "      <td>/wiki/Information_technology</td>\n",
              "      <td>1</td>\n",
              "      <td>4</td>\n",
              "      <td>yes</td>\n",
              "      <td>0.8</td>\n",
              "      <td>23.27945</td>\n",
              "      <td>Heterosexual</td>\n",
              "      <td>AsiaAm</td>\n",
              "      <td>0</td>\n",
              "      <td>BachDegree</td>\n",
              "      <td>20to49k</td>\n",
              "      <td>4.4</td>\n",
              "      <td>4.25</td>\n",
              "      <td>1.6</td>\n",
              "      <td>2.8</td>\n",
              "      <td>2.0</td>\n",
              "      <td>4</td>\n",
              "      <td>0.2</td>\n",
              "      <td>8828</td>\n",
              "      <td>Cloud infrastructure</td>\n",
              "      <td>9560</td>\n",
              "      <td>Information technology</td>\n",
              "      <td>0.625812</td>\n",
              "    </tr>\n",
              "    <tr>\n",
              "      <th>4</th>\n",
              "      <td>101</td>\n",
              "      <td>/wiki/Information_technology</td>\n",
              "      <td>/wiki/Computer_language</td>\n",
              "      <td>1</td>\n",
              "      <td>5</td>\n",
              "      <td>no</td>\n",
              "      <td>0.6</td>\n",
              "      <td>23.27945</td>\n",
              "      <td>Heterosexual</td>\n",
              "      <td>AsiaAm</td>\n",
              "      <td>0</td>\n",
              "      <td>BachDegree</td>\n",
              "      <td>20to49k</td>\n",
              "      <td>4.4</td>\n",
              "      <td>4.25</td>\n",
              "      <td>1.6</td>\n",
              "      <td>2.8</td>\n",
              "      <td>2.0</td>\n",
              "      <td>5</td>\n",
              "      <td>0.4</td>\n",
              "      <td>9560</td>\n",
              "      <td>Information technology</td>\n",
              "      <td>12533</td>\n",
              "      <td>Computer language</td>\n",
              "      <td>0.708145</td>\n",
              "    </tr>\n",
              "  </tbody>\n",
              "</table>\n",
              "</div>"
            ],
            "text/plain": [
              "    ID                      SourceName  ...              TgtNameClean  SemanticDist\n",
              "0  101                /wiki/Jeff_Bezos  ...      Cloud infrastructure      0.603374\n",
              "1  101      /wiki/Cloud_infrastructure  ...  Cloud computing security      0.337638\n",
              "2  101  /wiki/Cloud_computing_security  ...      Cloud infrastructure      0.337638\n",
              "3  101      /wiki/Cloud_infrastructure  ...    Information technology      0.625812\n",
              "4  101    /wiki/Information_technology  ...         Computer language      0.708145\n",
              "\n",
              "[5 rows x 25 columns]"
            ]
          },
          "metadata": {
            "tags": []
          },
          "execution_count": 84
        }
      ]
    },
    {
      "cell_type": "markdown",
      "metadata": {
        "id": "SE6nl_Z2QBs0"
      },
      "source": [
        "# Create Individual Networks\n",
        "\n",
        "Next, we split the data set by individual, and use the `SourceUID`, `TargetUID`, and `SemanticDist` columns to generate network representations of participants' Wikipedia exploration."
      ]
    },
    {
      "cell_type": "code",
      "metadata": {
        "id": "nLVMt5tBc_0e"
      },
      "source": [
        "# split the data by individual\n",
        "ID_groups = wiki_df.groupby('ID')\n",
        "for ID, group in ID_groups:\n",
        "  # enforce time ordering\n",
        "  group.sort_values(by = ['TimeOrder'], inplace = True)"
      ],
      "execution_count": null,
      "outputs": []
    },
    {
      "cell_type": "code",
      "metadata": {
        "id": "QDZg7ivThjP9",
        "outputId": "dc7715f8-2028-4226-cbaa-0b5a24d874b6",
        "colab": {
          "base_uri": "https://localhost:8080/",
          "height": 379
        }
      },
      "source": [
        "group.head(10)"
      ],
      "execution_count": null,
      "outputs": [
        {
          "output_type": "execute_result",
          "data": {
            "text/html": [
              "<div>\n",
              "<style scoped>\n",
              "    .dataframe tbody tr th:only-of-type {\n",
              "        vertical-align: middle;\n",
              "    }\n",
              "\n",
              "    .dataframe tbody tr th {\n",
              "        vertical-align: top;\n",
              "    }\n",
              "\n",
              "    .dataframe thead th {\n",
              "        text-align: right;\n",
              "    }\n",
              "</style>\n",
              "<table border=\"1\" class=\"dataframe\">\n",
              "  <thead>\n",
              "    <tr style=\"text-align: right;\">\n",
              "      <th></th>\n",
              "      <th>ID</th>\n",
              "      <th>SourceName</th>\n",
              "      <th>TargetName</th>\n",
              "      <th>Day</th>\n",
              "      <th>TimeOrder</th>\n",
              "      <th>Hyperlink</th>\n",
              "      <th>DistanceWeights</th>\n",
              "      <th>AgeYears</th>\n",
              "      <th>SexOrient</th>\n",
              "      <th>Race</th>\n",
              "      <th>GenderFactor</th>\n",
              "      <th>EducDeg</th>\n",
              "      <th>Income</th>\n",
              "      <th>JE_5D</th>\n",
              "      <th>DS_5D</th>\n",
              "      <th>ST_5D</th>\n",
              "      <th>SC_5D</th>\n",
              "      <th>TS_5D</th>\n",
              "      <th>Count</th>\n",
              "      <th>Weight</th>\n",
              "    </tr>\n",
              "  </thead>\n",
              "  <tbody>\n",
              "    <tr>\n",
              "      <th>0</th>\n",
              "      <td>101</td>\n",
              "      <td>/wiki/Jeff_Bezos</td>\n",
              "      <td>/wiki/Cloud_infrastructure</td>\n",
              "      <td>1</td>\n",
              "      <td>1</td>\n",
              "      <td>no</td>\n",
              "      <td>1.0</td>\n",
              "      <td>23.27945</td>\n",
              "      <td>Heterosexual</td>\n",
              "      <td>AsiaAm</td>\n",
              "      <td>0</td>\n",
              "      <td>BachDegree</td>\n",
              "      <td>20to49k</td>\n",
              "      <td>4.4</td>\n",
              "      <td>4.25</td>\n",
              "      <td>1.6</td>\n",
              "      <td>2.8</td>\n",
              "      <td>2.0</td>\n",
              "      <td>1</td>\n",
              "      <td>0.0</td>\n",
              "    </tr>\n",
              "    <tr>\n",
              "      <th>1</th>\n",
              "      <td>101</td>\n",
              "      <td>/wiki/Cloud_infrastructure</td>\n",
              "      <td>/wiki/Cloud_computing_security</td>\n",
              "      <td>1</td>\n",
              "      <td>2</td>\n",
              "      <td>yes</td>\n",
              "      <td>0.2</td>\n",
              "      <td>23.27945</td>\n",
              "      <td>Heterosexual</td>\n",
              "      <td>AsiaAm</td>\n",
              "      <td>0</td>\n",
              "      <td>BachDegree</td>\n",
              "      <td>20to49k</td>\n",
              "      <td>4.4</td>\n",
              "      <td>4.25</td>\n",
              "      <td>1.6</td>\n",
              "      <td>2.8</td>\n",
              "      <td>2.0</td>\n",
              "      <td>2</td>\n",
              "      <td>0.8</td>\n",
              "    </tr>\n",
              "    <tr>\n",
              "      <th>2</th>\n",
              "      <td>101</td>\n",
              "      <td>/wiki/Cloud_computing_security</td>\n",
              "      <td>/wiki/Cloud_infrastructure</td>\n",
              "      <td>1</td>\n",
              "      <td>3</td>\n",
              "      <td>no</td>\n",
              "      <td>0.2</td>\n",
              "      <td>23.27945</td>\n",
              "      <td>Heterosexual</td>\n",
              "      <td>AsiaAm</td>\n",
              "      <td>0</td>\n",
              "      <td>BachDegree</td>\n",
              "      <td>20to49k</td>\n",
              "      <td>4.4</td>\n",
              "      <td>4.25</td>\n",
              "      <td>1.6</td>\n",
              "      <td>2.8</td>\n",
              "      <td>2.0</td>\n",
              "      <td>3</td>\n",
              "      <td>0.8</td>\n",
              "    </tr>\n",
              "    <tr>\n",
              "      <th>3</th>\n",
              "      <td>101</td>\n",
              "      <td>/wiki/Cloud_infrastructure</td>\n",
              "      <td>/wiki/Information_technology</td>\n",
              "      <td>1</td>\n",
              "      <td>4</td>\n",
              "      <td>yes</td>\n",
              "      <td>0.8</td>\n",
              "      <td>23.27945</td>\n",
              "      <td>Heterosexual</td>\n",
              "      <td>AsiaAm</td>\n",
              "      <td>0</td>\n",
              "      <td>BachDegree</td>\n",
              "      <td>20to49k</td>\n",
              "      <td>4.4</td>\n",
              "      <td>4.25</td>\n",
              "      <td>1.6</td>\n",
              "      <td>2.8</td>\n",
              "      <td>2.0</td>\n",
              "      <td>4</td>\n",
              "      <td>0.2</td>\n",
              "    </tr>\n",
              "    <tr>\n",
              "      <th>4</th>\n",
              "      <td>101</td>\n",
              "      <td>/wiki/Information_technology</td>\n",
              "      <td>/wiki/Computer_language</td>\n",
              "      <td>1</td>\n",
              "      <td>5</td>\n",
              "      <td>no</td>\n",
              "      <td>0.6</td>\n",
              "      <td>23.27945</td>\n",
              "      <td>Heterosexual</td>\n",
              "      <td>AsiaAm</td>\n",
              "      <td>0</td>\n",
              "      <td>BachDegree</td>\n",
              "      <td>20to49k</td>\n",
              "      <td>4.4</td>\n",
              "      <td>4.25</td>\n",
              "      <td>1.6</td>\n",
              "      <td>2.8</td>\n",
              "      <td>2.0</td>\n",
              "      <td>5</td>\n",
              "      <td>0.4</td>\n",
              "    </tr>\n",
              "    <tr>\n",
              "      <th>5</th>\n",
              "      <td>101</td>\n",
              "      <td>/wiki/Computer_language</td>\n",
              "      <td>/wiki/Programming_language</td>\n",
              "      <td>1</td>\n",
              "      <td>6</td>\n",
              "      <td>yes</td>\n",
              "      <td>0.6</td>\n",
              "      <td>23.27945</td>\n",
              "      <td>Heterosexual</td>\n",
              "      <td>AsiaAm</td>\n",
              "      <td>0</td>\n",
              "      <td>BachDegree</td>\n",
              "      <td>20to49k</td>\n",
              "      <td>4.4</td>\n",
              "      <td>4.25</td>\n",
              "      <td>1.6</td>\n",
              "      <td>2.8</td>\n",
              "      <td>2.0</td>\n",
              "      <td>6</td>\n",
              "      <td>0.4</td>\n",
              "    </tr>\n",
              "    <tr>\n",
              "      <th>6</th>\n",
              "      <td>101</td>\n",
              "      <td>/wiki/Programming_language</td>\n",
              "      <td>/wiki/Java_(programming_language)</td>\n",
              "      <td>1</td>\n",
              "      <td>7</td>\n",
              "      <td>yes</td>\n",
              "      <td>0.8</td>\n",
              "      <td>23.27945</td>\n",
              "      <td>Heterosexual</td>\n",
              "      <td>AsiaAm</td>\n",
              "      <td>0</td>\n",
              "      <td>BachDegree</td>\n",
              "      <td>20to49k</td>\n",
              "      <td>4.4</td>\n",
              "      <td>4.25</td>\n",
              "      <td>1.6</td>\n",
              "      <td>2.8</td>\n",
              "      <td>2.0</td>\n",
              "      <td>7</td>\n",
              "      <td>0.2</td>\n",
              "    </tr>\n",
              "    <tr>\n",
              "      <th>7</th>\n",
              "      <td>101</td>\n",
              "      <td>/wiki/Java_(programming_language)</td>\n",
              "      <td>/wiki/Java_compiler</td>\n",
              "      <td>1</td>\n",
              "      <td>8</td>\n",
              "      <td>yes</td>\n",
              "      <td>0.2</td>\n",
              "      <td>23.27945</td>\n",
              "      <td>Heterosexual</td>\n",
              "      <td>AsiaAm</td>\n",
              "      <td>0</td>\n",
              "      <td>BachDegree</td>\n",
              "      <td>20to49k</td>\n",
              "      <td>4.4</td>\n",
              "      <td>4.25</td>\n",
              "      <td>1.6</td>\n",
              "      <td>2.8</td>\n",
              "      <td>2.0</td>\n",
              "      <td>8</td>\n",
              "      <td>0.8</td>\n",
              "    </tr>\n",
              "    <tr>\n",
              "      <th>8</th>\n",
              "      <td>101</td>\n",
              "      <td>/wiki/Java_compiler</td>\n",
              "      <td>/wiki/Java_class_file</td>\n",
              "      <td>1</td>\n",
              "      <td>9</td>\n",
              "      <td>yes</td>\n",
              "      <td>0.5</td>\n",
              "      <td>23.27945</td>\n",
              "      <td>Heterosexual</td>\n",
              "      <td>AsiaAm</td>\n",
              "      <td>0</td>\n",
              "      <td>BachDegree</td>\n",
              "      <td>20to49k</td>\n",
              "      <td>4.4</td>\n",
              "      <td>4.25</td>\n",
              "      <td>1.6</td>\n",
              "      <td>2.8</td>\n",
              "      <td>2.0</td>\n",
              "      <td>9</td>\n",
              "      <td>0.5</td>\n",
              "    </tr>\n",
              "    <tr>\n",
              "      <th>9</th>\n",
              "      <td>101</td>\n",
              "      <td>/wiki/Java_class_file</td>\n",
              "      <td>/wiki/Class_(programming)</td>\n",
              "      <td>1</td>\n",
              "      <td>10</td>\n",
              "      <td>yes</td>\n",
              "      <td>0.8</td>\n",
              "      <td>23.27945</td>\n",
              "      <td>Heterosexual</td>\n",
              "      <td>AsiaAm</td>\n",
              "      <td>0</td>\n",
              "      <td>BachDegree</td>\n",
              "      <td>20to49k</td>\n",
              "      <td>4.4</td>\n",
              "      <td>4.25</td>\n",
              "      <td>1.6</td>\n",
              "      <td>2.8</td>\n",
              "      <td>2.0</td>\n",
              "      <td>10</td>\n",
              "      <td>0.2</td>\n",
              "    </tr>\n",
              "  </tbody>\n",
              "</table>\n",
              "</div>"
            ],
            "text/plain": [
              "    ID                         SourceName  ... Count  Weight\n",
              "0  101                   /wiki/Jeff_Bezos  ...     1     0.0\n",
              "1  101         /wiki/Cloud_infrastructure  ...     2     0.8\n",
              "2  101     /wiki/Cloud_computing_security  ...     3     0.8\n",
              "3  101         /wiki/Cloud_infrastructure  ...     4     0.2\n",
              "4  101       /wiki/Information_technology  ...     5     0.4\n",
              "5  101            /wiki/Computer_language  ...     6     0.4\n",
              "6  101         /wiki/Programming_language  ...     7     0.2\n",
              "7  101  /wiki/Java_(programming_language)  ...     8     0.8\n",
              "8  101                /wiki/Java_compiler  ...     9     0.5\n",
              "9  101              /wiki/Java_class_file  ...    10     0.2\n",
              "\n",
              "[10 rows x 20 columns]"
            ]
          },
          "metadata": {
            "tags": []
          },
          "execution_count": 48
        }
      ]
    }
  ]
}