{
  "nbformat": 4,
  "nbformat_minor": 0,
  "metadata": {
    "colab": {
      "name": "wiki_1.ipynb",
      "provenance": [],
      "toc_visible": true,
      "authorship_tag": "ABX9TyOLD0hDIsmRWKt1CH767Gd0",
      "include_colab_link": true
    },
    "kernelspec": {
      "name": "python3",
      "display_name": "Python 3"
    }
  },
  "cells": [
    {
      "cell_type": "markdown",
      "metadata": {
        "id": "view-in-github",
        "colab_type": "text"
      },
      "source": [
        "<a href=\"https://colab.research.google.com/github/spatank/Curiosity/blob/master/wiki_1.ipynb\" target=\"_parent\"><img src=\"https://colab.research.google.com/assets/colab-badge.svg\" alt=\"Open In Colab\"/></a>"
      ]
    },
    {
      "cell_type": "markdown",
      "metadata": {
        "id": "-FUJYyJqJhIP"
      },
      "source": [
        "Make data available to Colab by mounting your Drive."
      ]
    },
    {
      "cell_type": "code",
      "metadata": {
        "id": "mt4lKf68BBEH",
        "colab": {
          "base_uri": "https://localhost:8080/"
        },
        "outputId": "7c2312d4-7863-411c-e8b2-a8b0ae00967c"
      },
      "source": [
        "from google.colab import drive\n",
        "drive.mount('/content/drive')\n",
        "\n",
        "import os\n",
        "os.chdir('/content/drive/My Drive/Curiosity_IGT/')"
      ],
      "execution_count": 1,
      "outputs": [
        {
          "output_type": "stream",
          "text": [
            "Drive already mounted at /content/drive; to attempt to forcibly remount, call drive.mount(\"/content/drive\", force_remount=True).\n"
          ],
          "name": "stdout"
        }
      ]
    },
    {
      "cell_type": "code",
      "metadata": {
        "id": "RAcMQZG0C_FC",
        "colab": {
          "base_uri": "https://localhost:8080/"
        },
        "outputId": "4cd13f85-494f-4a66-e491-921e5c9c4f70"
      },
      "source": [
        "!ls # run !ls to verify location "
      ],
      "execution_count": 2,
      "outputs": [
        {
          "output_type": "stream",
          "text": [
            "enwiki_20180420_300d.pkl  wiki_1.ipynb\tWikiData_Shubhankar.csv\n"
          ],
          "name": "stdout"
        }
      ]
    },
    {
      "cell_type": "markdown",
      "metadata": {
        "id": "4Ku8aDAUJwjE"
      },
      "source": [
        "# Import Packages"
      ]
    },
    {
      "cell_type": "code",
      "metadata": {
        "id": "T5Qpip15Eb1L",
        "colab": {
          "base_uri": "https://localhost:8080/"
        },
        "outputId": "98b1a45f-d320-40d7-cb57-ad4ecff31248"
      },
      "source": [
        "import pandas as pd\n",
        "!pip install wikipedia2vec\n",
        "from wikipedia2vec import Wikipedia2Vec\n",
        "import numpy as np\n",
        "from scipy.spatial.distance import cosine\n",
        "from scipy.io import savemat\n",
        "import networkx as nx"
      ],
      "execution_count": 3,
      "outputs": [
        {
          "output_type": "stream",
          "text": [
            "Requirement already satisfied: wikipedia2vec in /usr/local/lib/python3.6/dist-packages (1.0.4)\n",
            "Requirement already satisfied: tqdm in /usr/local/lib/python3.6/dist-packages (from wikipedia2vec) (4.41.1)\n",
            "Requirement already satisfied: lmdb in /usr/local/lib/python3.6/dist-packages (from wikipedia2vec) (0.99)\n",
            "Requirement already satisfied: click in /usr/local/lib/python3.6/dist-packages (from wikipedia2vec) (7.1.2)\n",
            "Requirement already satisfied: marisa-trie in /usr/local/lib/python3.6/dist-packages (from wikipedia2vec) (0.7.5)\n",
            "Requirement already satisfied: jieba in /usr/local/lib/python3.6/dist-packages (from wikipedia2vec) (0.42.1)\n",
            "Requirement already satisfied: scipy in /usr/local/lib/python3.6/dist-packages (from wikipedia2vec) (1.4.1)\n",
            "Requirement already satisfied: joblib in /usr/local/lib/python3.6/dist-packages (from wikipedia2vec) (0.17.0)\n",
            "Requirement already satisfied: mwparserfromhell in /usr/local/lib/python3.6/dist-packages (from wikipedia2vec) (0.5.4)\n",
            "Requirement already satisfied: six in /usr/local/lib/python3.6/dist-packages (from wikipedia2vec) (1.15.0)\n",
            "Requirement already satisfied: numpy in /usr/local/lib/python3.6/dist-packages (from wikipedia2vec) (1.18.5)\n"
          ],
          "name": "stdout"
        }
      ]
    },
    {
      "cell_type": "markdown",
      "metadata": {
        "id": "W9QmgTY9KF_A"
      },
      "source": [
        "# Data Wrangling\n",
        "\n",
        "This section pre-processes the KNOT data to get it into a format suited to network analysis. The data contains the names of Wikipedia pages visited by a participant in two columns: SourceName and TargetName. \n"
      ]
    },
    {
      "cell_type": "code",
      "metadata": {
        "id": "eRCVHGiwzEBd",
        "colab": {
          "base_uri": "https://localhost:8080/",
          "height": 162
        },
        "outputId": "6f2d4832-42d2-46ad-e0c4-ac7addbaed65"
      },
      "source": [
        "wiki_df = pd.read_csv('WikiData_Shubhankar.csv')\n",
        "wiki_df.head(3)"
      ],
      "execution_count": 4,
      "outputs": [
        {
          "output_type": "execute_result",
          "data": {
            "text/html": [
              "<div>\n",
              "<style scoped>\n",
              "    .dataframe tbody tr th:only-of-type {\n",
              "        vertical-align: middle;\n",
              "    }\n",
              "\n",
              "    .dataframe tbody tr th {\n",
              "        vertical-align: top;\n",
              "    }\n",
              "\n",
              "    .dataframe thead th {\n",
              "        text-align: right;\n",
              "    }\n",
              "</style>\n",
              "<table border=\"1\" class=\"dataframe\">\n",
              "  <thead>\n",
              "    <tr style=\"text-align: right;\">\n",
              "      <th></th>\n",
              "      <th>ID</th>\n",
              "      <th>SourceName</th>\n",
              "      <th>TargetName</th>\n",
              "      <th>Day</th>\n",
              "      <th>TimeOrder</th>\n",
              "      <th>Hyperlink</th>\n",
              "      <th>DistanceWeights</th>\n",
              "      <th>AgeYears</th>\n",
              "      <th>SexOrient</th>\n",
              "      <th>Race</th>\n",
              "      <th>GenderFactor</th>\n",
              "      <th>EducDeg</th>\n",
              "      <th>Income</th>\n",
              "      <th>JE_5D</th>\n",
              "      <th>DS_5D</th>\n",
              "      <th>ST_5D</th>\n",
              "      <th>SC_5D</th>\n",
              "      <th>TS_5D</th>\n",
              "      <th>Count</th>\n",
              "      <th>Weight</th>\n",
              "    </tr>\n",
              "  </thead>\n",
              "  <tbody>\n",
              "    <tr>\n",
              "      <th>0</th>\n",
              "      <td>101</td>\n",
              "      <td>/wiki/Jeff_Bezos</td>\n",
              "      <td>/wiki/Cloud_infrastructure</td>\n",
              "      <td>1</td>\n",
              "      <td>1</td>\n",
              "      <td>no</td>\n",
              "      <td>1.0</td>\n",
              "      <td>23.27945</td>\n",
              "      <td>Heterosexual</td>\n",
              "      <td>AsiaAm</td>\n",
              "      <td>0</td>\n",
              "      <td>BachDegree</td>\n",
              "      <td>20to49k</td>\n",
              "      <td>4.4</td>\n",
              "      <td>4.25</td>\n",
              "      <td>1.6</td>\n",
              "      <td>2.8</td>\n",
              "      <td>2.0</td>\n",
              "      <td>1</td>\n",
              "      <td>0.0</td>\n",
              "    </tr>\n",
              "    <tr>\n",
              "      <th>1</th>\n",
              "      <td>101</td>\n",
              "      <td>/wiki/Cloud_infrastructure</td>\n",
              "      <td>/wiki/Cloud_computing_security</td>\n",
              "      <td>1</td>\n",
              "      <td>2</td>\n",
              "      <td>yes</td>\n",
              "      <td>0.2</td>\n",
              "      <td>23.27945</td>\n",
              "      <td>Heterosexual</td>\n",
              "      <td>AsiaAm</td>\n",
              "      <td>0</td>\n",
              "      <td>BachDegree</td>\n",
              "      <td>20to49k</td>\n",
              "      <td>4.4</td>\n",
              "      <td>4.25</td>\n",
              "      <td>1.6</td>\n",
              "      <td>2.8</td>\n",
              "      <td>2.0</td>\n",
              "      <td>2</td>\n",
              "      <td>0.8</td>\n",
              "    </tr>\n",
              "    <tr>\n",
              "      <th>2</th>\n",
              "      <td>101</td>\n",
              "      <td>/wiki/Cloud_computing_security</td>\n",
              "      <td>/wiki/Cloud_infrastructure</td>\n",
              "      <td>1</td>\n",
              "      <td>3</td>\n",
              "      <td>no</td>\n",
              "      <td>0.2</td>\n",
              "      <td>23.27945</td>\n",
              "      <td>Heterosexual</td>\n",
              "      <td>AsiaAm</td>\n",
              "      <td>0</td>\n",
              "      <td>BachDegree</td>\n",
              "      <td>20to49k</td>\n",
              "      <td>4.4</td>\n",
              "      <td>4.25</td>\n",
              "      <td>1.6</td>\n",
              "      <td>2.8</td>\n",
              "      <td>2.0</td>\n",
              "      <td>3</td>\n",
              "      <td>0.8</td>\n",
              "    </tr>\n",
              "  </tbody>\n",
              "</table>\n",
              "</div>"
            ],
            "text/plain": [
              "    ID                      SourceName  ... Count  Weight\n",
              "0  101                /wiki/Jeff_Bezos  ...     1     0.0\n",
              "1  101      /wiki/Cloud_infrastructure  ...     2     0.8\n",
              "2  101  /wiki/Cloud_computing_security  ...     3     0.8\n",
              "\n",
              "[3 rows x 20 columns]"
            ]
          },
          "metadata": {
            "tags": []
          },
          "execution_count": 4
        }
      ]
    },
    {
      "cell_type": "code",
      "metadata": {
        "id": "afyM5cEyyyYH"
      },
      "source": [
        "def clean_entity_name(name):\n",
        "  name = name.replace('/wiki/', '')\n",
        "  name = name.replace('_', ' ')\n",
        "  return name"
      ],
      "execution_count": 5,
      "outputs": []
    },
    {
      "cell_type": "markdown",
      "metadata": {
        "id": "FxXehM8xMH32"
      },
      "source": [
        "First, we create unique identifiers (UIDs) for each page so that they can be used as nodes in a network representation. Then we clean the strings associated with each page by stripping redundant information such as `wiki/` and `_`. The UIDs and clean names are appended to the data frame as new columns."
      ]
    },
    {
      "cell_type": "code",
      "metadata": {
        "id": "So4CNo4-xggB",
        "colab": {
          "base_uri": "https://localhost:8080/",
          "height": 247
        },
        "outputId": "dfe9c398-a2dd-47a4-f490-9f3c55016b63"
      },
      "source": [
        "# create UID for each page\n",
        "source_nodes = set(wiki_df['SourceName'].tolist())\n",
        "target_nodes = set(wiki_df['TargetName'].tolist())\n",
        "source_nodes.update(target_nodes)\n",
        "node_set = {entity: name for name, entity in enumerate(source_nodes)}\n",
        "wiki_df['SourceUID'] = wiki_df['SourceName'].apply(lambda x: node_set[x])\n",
        "wiki_df['SrcNameClean'] = wiki_df['SourceName'].apply(lambda x: clean_entity_name(x))\n",
        "wiki_df['TargetUID'] = wiki_df['TargetName'].apply(lambda x: node_set[x])\n",
        "wiki_df['TgtNameClean'] = wiki_df['TargetName'].apply(lambda x: clean_entity_name(x))\n",
        "wiki_df.head(3)"
      ],
      "execution_count": 6,
      "outputs": [
        {
          "output_type": "execute_result",
          "data": {
            "text/html": [
              "<div>\n",
              "<style scoped>\n",
              "    .dataframe tbody tr th:only-of-type {\n",
              "        vertical-align: middle;\n",
              "    }\n",
              "\n",
              "    .dataframe tbody tr th {\n",
              "        vertical-align: top;\n",
              "    }\n",
              "\n",
              "    .dataframe thead th {\n",
              "        text-align: right;\n",
              "    }\n",
              "</style>\n",
              "<table border=\"1\" class=\"dataframe\">\n",
              "  <thead>\n",
              "    <tr style=\"text-align: right;\">\n",
              "      <th></th>\n",
              "      <th>ID</th>\n",
              "      <th>SourceName</th>\n",
              "      <th>TargetName</th>\n",
              "      <th>Day</th>\n",
              "      <th>TimeOrder</th>\n",
              "      <th>Hyperlink</th>\n",
              "      <th>DistanceWeights</th>\n",
              "      <th>AgeYears</th>\n",
              "      <th>SexOrient</th>\n",
              "      <th>Race</th>\n",
              "      <th>GenderFactor</th>\n",
              "      <th>EducDeg</th>\n",
              "      <th>Income</th>\n",
              "      <th>JE_5D</th>\n",
              "      <th>DS_5D</th>\n",
              "      <th>ST_5D</th>\n",
              "      <th>SC_5D</th>\n",
              "      <th>TS_5D</th>\n",
              "      <th>Count</th>\n",
              "      <th>Weight</th>\n",
              "      <th>SourceUID</th>\n",
              "      <th>SrcNameClean</th>\n",
              "      <th>TargetUID</th>\n",
              "      <th>TgtNameClean</th>\n",
              "    </tr>\n",
              "  </thead>\n",
              "  <tbody>\n",
              "    <tr>\n",
              "      <th>0</th>\n",
              "      <td>101</td>\n",
              "      <td>/wiki/Jeff_Bezos</td>\n",
              "      <td>/wiki/Cloud_infrastructure</td>\n",
              "      <td>1</td>\n",
              "      <td>1</td>\n",
              "      <td>no</td>\n",
              "      <td>1.0</td>\n",
              "      <td>23.27945</td>\n",
              "      <td>Heterosexual</td>\n",
              "      <td>AsiaAm</td>\n",
              "      <td>0</td>\n",
              "      <td>BachDegree</td>\n",
              "      <td>20to49k</td>\n",
              "      <td>4.4</td>\n",
              "      <td>4.25</td>\n",
              "      <td>1.6</td>\n",
              "      <td>2.8</td>\n",
              "      <td>2.0</td>\n",
              "      <td>1</td>\n",
              "      <td>0.0</td>\n",
              "      <td>8289</td>\n",
              "      <td>Jeff Bezos</td>\n",
              "      <td>16904</td>\n",
              "      <td>Cloud infrastructure</td>\n",
              "    </tr>\n",
              "    <tr>\n",
              "      <th>1</th>\n",
              "      <td>101</td>\n",
              "      <td>/wiki/Cloud_infrastructure</td>\n",
              "      <td>/wiki/Cloud_computing_security</td>\n",
              "      <td>1</td>\n",
              "      <td>2</td>\n",
              "      <td>yes</td>\n",
              "      <td>0.2</td>\n",
              "      <td>23.27945</td>\n",
              "      <td>Heterosexual</td>\n",
              "      <td>AsiaAm</td>\n",
              "      <td>0</td>\n",
              "      <td>BachDegree</td>\n",
              "      <td>20to49k</td>\n",
              "      <td>4.4</td>\n",
              "      <td>4.25</td>\n",
              "      <td>1.6</td>\n",
              "      <td>2.8</td>\n",
              "      <td>2.0</td>\n",
              "      <td>2</td>\n",
              "      <td>0.8</td>\n",
              "      <td>16904</td>\n",
              "      <td>Cloud infrastructure</td>\n",
              "      <td>375</td>\n",
              "      <td>Cloud computing security</td>\n",
              "    </tr>\n",
              "    <tr>\n",
              "      <th>2</th>\n",
              "      <td>101</td>\n",
              "      <td>/wiki/Cloud_computing_security</td>\n",
              "      <td>/wiki/Cloud_infrastructure</td>\n",
              "      <td>1</td>\n",
              "      <td>3</td>\n",
              "      <td>no</td>\n",
              "      <td>0.2</td>\n",
              "      <td>23.27945</td>\n",
              "      <td>Heterosexual</td>\n",
              "      <td>AsiaAm</td>\n",
              "      <td>0</td>\n",
              "      <td>BachDegree</td>\n",
              "      <td>20to49k</td>\n",
              "      <td>4.4</td>\n",
              "      <td>4.25</td>\n",
              "      <td>1.6</td>\n",
              "      <td>2.8</td>\n",
              "      <td>2.0</td>\n",
              "      <td>3</td>\n",
              "      <td>0.8</td>\n",
              "      <td>375</td>\n",
              "      <td>Cloud computing security</td>\n",
              "      <td>16904</td>\n",
              "      <td>Cloud infrastructure</td>\n",
              "    </tr>\n",
              "  </tbody>\n",
              "</table>\n",
              "</div>"
            ],
            "text/plain": [
              "    ID                      SourceName  ... TargetUID              TgtNameClean\n",
              "0  101                /wiki/Jeff_Bezos  ...     16904      Cloud infrastructure\n",
              "1  101      /wiki/Cloud_infrastructure  ...       375  Cloud computing security\n",
              "2  101  /wiki/Cloud_computing_security  ...     16904      Cloud infrastructure\n",
              "\n",
              "[3 rows x 24 columns]"
            ]
          },
          "metadata": {
            "tags": []
          },
          "execution_count": 6
        }
      ]
    },
    {
      "cell_type": "markdown",
      "metadata": {
        "id": "K1ja7sTbMc93"
      },
      "source": [
        "# Wikipedia2Vec\n",
        "\n",
        "Each row in the data frame represents a transition made by a participant from one Wikipedia page to another. The associated edge weight can be obtained as the semantic distance between the contents of the two pages. In order to quantify the semantic distance between Wikipedia entities, we use a pre-trained model that represents each page as an n-dimensional vector. The distance between two pages `SemanticDist` is then computed as the cosine (dis)similarity between their vector representations."
      ]
    },
    {
      "cell_type": "code",
      "metadata": {
        "id": "nKcyjPP_eSXO"
      },
      "source": [
        "model_file = 'enwiki_20180420_300d.pkl'\n",
        "wiki2vec = Wikipedia2Vec.load(model_file)\n",
        "# v1 = wiki2vec.get_entity_vector('Jeff Bezos')\n",
        "# v2 = wiki2vec.get_entity_vector('Bill Gates')"
      ],
      "execution_count": 7,
      "outputs": []
    },
    {
      "cell_type": "code",
      "metadata": {
        "id": "pzt7GJ2y8T38"
      },
      "source": [
        "def check_entity_vector(entity):\n",
        "  try:\n",
        "    vec = wiki2vec.get_entity_vector(entity)\n",
        "    return 0\n",
        "  except KeyError:\n",
        "    return 1"
      ],
      "execution_count": 8,
      "outputs": []
    },
    {
      "cell_type": "code",
      "metadata": {
        "id": "MDgL6zC17xjT"
      },
      "source": [
        "no_vec_entities = []\n",
        "for k, v in node_set.items():\n",
        "  entity = clean_entity_name(k)\n",
        "  no_vec_entities.append(check_entity_vector(entity))"
      ],
      "execution_count": 9,
      "outputs": []
    },
    {
      "cell_type": "code",
      "metadata": {
        "id": "6Qbdwg6H8f_d",
        "colab": {
          "base_uri": "https://localhost:8080/"
        },
        "outputId": "2601cbcf-9f77-4069-abb0-6ea6fb447a25"
      },
      "source": [
        "len(no_vec_entities)"
      ],
      "execution_count": 10,
      "outputs": [
        {
          "output_type": "execute_result",
          "data": {
            "text/plain": [
              "18378"
            ]
          },
          "metadata": {
            "tags": []
          },
          "execution_count": 10
        }
      ]
    },
    {
      "cell_type": "code",
      "metadata": {
        "id": "aVKxX2Zr8iMv",
        "colab": {
          "base_uri": "https://localhost:8080/"
        },
        "outputId": "56024549-864f-49de-dded-7cca30d8d164"
      },
      "source": [
        "sum(no_vec_entities)"
      ],
      "execution_count": 11,
      "outputs": [
        {
          "output_type": "execute_result",
          "data": {
            "text/plain": [
              "2207"
            ]
          },
          "metadata": {
            "tags": []
          },
          "execution_count": 11
        }
      ]
    },
    {
      "cell_type": "markdown",
      "metadata": {
        "id": "CO85sKmQ8tzM"
      },
      "source": [
        "12% of the pages visited by participants in the KNOT data do not have corresponding vector embeddings. We represent these pages by a random vector."
      ]
    },
    {
      "cell_type": "code",
      "metadata": {
        "id": "fchZpOmIRKKh"
      },
      "source": [
        "def semantic_dist(entity_1, entity_2):\n",
        "  # get entity 1 vector\n",
        "  try:\n",
        "    v1 = wiki2vec.get_entity_vector(entity_1)\n",
        "  except KeyError:\n",
        "    v1 = np.random.random(300)\n",
        "  # get entity 2 vector\n",
        "  try:\n",
        "    v2 = wiki2vec.get_entity_vector(entity_2)\n",
        "  except KeyError:\n",
        "    v2 = np.random.random(300)\n",
        "\n",
        "  return cosine(v1, v2)"
      ],
      "execution_count": 12,
      "outputs": []
    },
    {
      "cell_type": "code",
      "metadata": {
        "id": "H1G1jaUNMcUd",
        "colab": {
          "base_uri": "https://localhost:8080/",
          "height": 343
        },
        "outputId": "3bad5db0-67c7-47dc-9928-62b43a46d32c"
      },
      "source": [
        "wiki_df['SemanticDist'] = wiki_df.apply(lambda x: semantic_dist(x['SrcNameClean'], x['TgtNameClean']), axis = 1)\n",
        "wiki_df.head(5)"
      ],
      "execution_count": 13,
      "outputs": [
        {
          "output_type": "execute_result",
          "data": {
            "text/html": [
              "<div>\n",
              "<style scoped>\n",
              "    .dataframe tbody tr th:only-of-type {\n",
              "        vertical-align: middle;\n",
              "    }\n",
              "\n",
              "    .dataframe tbody tr th {\n",
              "        vertical-align: top;\n",
              "    }\n",
              "\n",
              "    .dataframe thead th {\n",
              "        text-align: right;\n",
              "    }\n",
              "</style>\n",
              "<table border=\"1\" class=\"dataframe\">\n",
              "  <thead>\n",
              "    <tr style=\"text-align: right;\">\n",
              "      <th></th>\n",
              "      <th>ID</th>\n",
              "      <th>SourceName</th>\n",
              "      <th>TargetName</th>\n",
              "      <th>Day</th>\n",
              "      <th>TimeOrder</th>\n",
              "      <th>Hyperlink</th>\n",
              "      <th>DistanceWeights</th>\n",
              "      <th>AgeYears</th>\n",
              "      <th>SexOrient</th>\n",
              "      <th>Race</th>\n",
              "      <th>GenderFactor</th>\n",
              "      <th>EducDeg</th>\n",
              "      <th>Income</th>\n",
              "      <th>JE_5D</th>\n",
              "      <th>DS_5D</th>\n",
              "      <th>ST_5D</th>\n",
              "      <th>SC_5D</th>\n",
              "      <th>TS_5D</th>\n",
              "      <th>Count</th>\n",
              "      <th>Weight</th>\n",
              "      <th>SourceUID</th>\n",
              "      <th>SrcNameClean</th>\n",
              "      <th>TargetUID</th>\n",
              "      <th>TgtNameClean</th>\n",
              "      <th>SemanticDist</th>\n",
              "    </tr>\n",
              "  </thead>\n",
              "  <tbody>\n",
              "    <tr>\n",
              "      <th>0</th>\n",
              "      <td>101</td>\n",
              "      <td>/wiki/Jeff_Bezos</td>\n",
              "      <td>/wiki/Cloud_infrastructure</td>\n",
              "      <td>1</td>\n",
              "      <td>1</td>\n",
              "      <td>no</td>\n",
              "      <td>1.0</td>\n",
              "      <td>23.27945</td>\n",
              "      <td>Heterosexual</td>\n",
              "      <td>AsiaAm</td>\n",
              "      <td>0</td>\n",
              "      <td>BachDegree</td>\n",
              "      <td>20to49k</td>\n",
              "      <td>4.4</td>\n",
              "      <td>4.25</td>\n",
              "      <td>1.6</td>\n",
              "      <td>2.8</td>\n",
              "      <td>2.0</td>\n",
              "      <td>1</td>\n",
              "      <td>0.0</td>\n",
              "      <td>8289</td>\n",
              "      <td>Jeff Bezos</td>\n",
              "      <td>16904</td>\n",
              "      <td>Cloud infrastructure</td>\n",
              "      <td>0.603374</td>\n",
              "    </tr>\n",
              "    <tr>\n",
              "      <th>1</th>\n",
              "      <td>101</td>\n",
              "      <td>/wiki/Cloud_infrastructure</td>\n",
              "      <td>/wiki/Cloud_computing_security</td>\n",
              "      <td>1</td>\n",
              "      <td>2</td>\n",
              "      <td>yes</td>\n",
              "      <td>0.2</td>\n",
              "      <td>23.27945</td>\n",
              "      <td>Heterosexual</td>\n",
              "      <td>AsiaAm</td>\n",
              "      <td>0</td>\n",
              "      <td>BachDegree</td>\n",
              "      <td>20to49k</td>\n",
              "      <td>4.4</td>\n",
              "      <td>4.25</td>\n",
              "      <td>1.6</td>\n",
              "      <td>2.8</td>\n",
              "      <td>2.0</td>\n",
              "      <td>2</td>\n",
              "      <td>0.8</td>\n",
              "      <td>16904</td>\n",
              "      <td>Cloud infrastructure</td>\n",
              "      <td>375</td>\n",
              "      <td>Cloud computing security</td>\n",
              "      <td>0.337638</td>\n",
              "    </tr>\n",
              "    <tr>\n",
              "      <th>2</th>\n",
              "      <td>101</td>\n",
              "      <td>/wiki/Cloud_computing_security</td>\n",
              "      <td>/wiki/Cloud_infrastructure</td>\n",
              "      <td>1</td>\n",
              "      <td>3</td>\n",
              "      <td>no</td>\n",
              "      <td>0.2</td>\n",
              "      <td>23.27945</td>\n",
              "      <td>Heterosexual</td>\n",
              "      <td>AsiaAm</td>\n",
              "      <td>0</td>\n",
              "      <td>BachDegree</td>\n",
              "      <td>20to49k</td>\n",
              "      <td>4.4</td>\n",
              "      <td>4.25</td>\n",
              "      <td>1.6</td>\n",
              "      <td>2.8</td>\n",
              "      <td>2.0</td>\n",
              "      <td>3</td>\n",
              "      <td>0.8</td>\n",
              "      <td>375</td>\n",
              "      <td>Cloud computing security</td>\n",
              "      <td>16904</td>\n",
              "      <td>Cloud infrastructure</td>\n",
              "      <td>0.337638</td>\n",
              "    </tr>\n",
              "    <tr>\n",
              "      <th>3</th>\n",
              "      <td>101</td>\n",
              "      <td>/wiki/Cloud_infrastructure</td>\n",
              "      <td>/wiki/Information_technology</td>\n",
              "      <td>1</td>\n",
              "      <td>4</td>\n",
              "      <td>yes</td>\n",
              "      <td>0.8</td>\n",
              "      <td>23.27945</td>\n",
              "      <td>Heterosexual</td>\n",
              "      <td>AsiaAm</td>\n",
              "      <td>0</td>\n",
              "      <td>BachDegree</td>\n",
              "      <td>20to49k</td>\n",
              "      <td>4.4</td>\n",
              "      <td>4.25</td>\n",
              "      <td>1.6</td>\n",
              "      <td>2.8</td>\n",
              "      <td>2.0</td>\n",
              "      <td>4</td>\n",
              "      <td>0.2</td>\n",
              "      <td>16904</td>\n",
              "      <td>Cloud infrastructure</td>\n",
              "      <td>13764</td>\n",
              "      <td>Information technology</td>\n",
              "      <td>0.625812</td>\n",
              "    </tr>\n",
              "    <tr>\n",
              "      <th>4</th>\n",
              "      <td>101</td>\n",
              "      <td>/wiki/Information_technology</td>\n",
              "      <td>/wiki/Computer_language</td>\n",
              "      <td>1</td>\n",
              "      <td>5</td>\n",
              "      <td>no</td>\n",
              "      <td>0.6</td>\n",
              "      <td>23.27945</td>\n",
              "      <td>Heterosexual</td>\n",
              "      <td>AsiaAm</td>\n",
              "      <td>0</td>\n",
              "      <td>BachDegree</td>\n",
              "      <td>20to49k</td>\n",
              "      <td>4.4</td>\n",
              "      <td>4.25</td>\n",
              "      <td>1.6</td>\n",
              "      <td>2.8</td>\n",
              "      <td>2.0</td>\n",
              "      <td>5</td>\n",
              "      <td>0.4</td>\n",
              "      <td>13764</td>\n",
              "      <td>Information technology</td>\n",
              "      <td>16030</td>\n",
              "      <td>Computer language</td>\n",
              "      <td>0.708145</td>\n",
              "    </tr>\n",
              "  </tbody>\n",
              "</table>\n",
              "</div>"
            ],
            "text/plain": [
              "    ID                      SourceName  ...              TgtNameClean  SemanticDist\n",
              "0  101                /wiki/Jeff_Bezos  ...      Cloud infrastructure      0.603374\n",
              "1  101      /wiki/Cloud_infrastructure  ...  Cloud computing security      0.337638\n",
              "2  101  /wiki/Cloud_computing_security  ...      Cloud infrastructure      0.337638\n",
              "3  101      /wiki/Cloud_infrastructure  ...    Information technology      0.625812\n",
              "4  101    /wiki/Information_technology  ...         Computer language      0.708145\n",
              "\n",
              "[5 rows x 25 columns]"
            ]
          },
          "metadata": {
            "tags": []
          },
          "execution_count": 13
        }
      ]
    },
    {
      "cell_type": "markdown",
      "metadata": {
        "id": "SE6nl_Z2QBs0"
      },
      "source": [
        "# Create Individual Networks\n",
        "\n",
        "Next, we split the data set by individual, and use the `SourceUID`, `TargetUID`, and `SemanticDist` columns to generate network representations of participants' Wikipedia exploration."
      ]
    },
    {
      "cell_type": "code",
      "metadata": {
        "id": "nLVMt5tBc_0e",
        "colab": {
          "base_uri": "https://localhost:8080/"
        },
        "outputId": "f833b1a0-87f7-4cc8-929d-a514df2dbcdb"
      },
      "source": [
        "# split the data by individual\n",
        "ID_groups = wiki_df.groupby('ID')\n",
        "for ID, group in ID_groups:\n",
        "  print(ID)\n",
        "  # enforce time ordering\n",
        "  group.sort_values(by = ['TimeOrder'], inplace = True)\n",
        "  network_df = group[['TimeOrder', 'SourceUID', 'SrcNameClean', 'TargetUID', 'TgtNameClean', 'SemanticDist']].reset_index(drop = True)\n",
        "  # create an empty network\n",
        "  G = nx.Graph()\n",
        "  all_adj = []\n",
        "  edge_info = []\n",
        "  # incrementally add nodes and edges to the network\n",
        "  for index, row in network_df.iterrows():\n",
        "    from_node = row.get('SrcNameClean')\n",
        "    to_node = row.get('TgtNameClean')\n",
        "    edge_weight = row.get('SemanticDist')\n",
        "    edge_info_dict = {'from': from_node, 'to': to_node, 'weight': edge_weight}\n",
        "    edge_info.append(edge_info_dict)\n",
        "    # add edge to the network\n",
        "    G.add_edge(from_node, to_node, weight = edge_weight)\n",
        "    adj_G = nx.linalg.graphmatrix.adjacency_matrix(G, weight = 'weight')\n",
        "    all_adj.append(adj_G)\n",
        "  # save subject data to .mat file\n",
        "  filename = 'subj_' + str(ID) + '.mat'\n",
        "  mdic = {'subj': ID, 'all_adj': all_adj, 'edge_info': edge_info}\n",
        "  savemat(filename, mdic)"
      ],
      "execution_count": 14,
      "outputs": [
        {
          "output_type": "stream",
          "text": [
            "101\n",
            "104\n",
            "105\n",
            "106\n",
            "107\n",
            "108\n",
            "109\n",
            "112\n",
            "114\n",
            "115\n",
            "117\n",
            "119\n",
            "120\n",
            "121\n",
            "122\n",
            "126\n",
            "127\n",
            "128\n",
            "130\n",
            "131\n",
            "132\n",
            "135\n",
            "138\n",
            "139\n",
            "140\n",
            "141\n",
            "146\n",
            "150\n",
            "153\n",
            "154\n",
            "155\n",
            "156\n",
            "157\n",
            "158\n",
            "159\n",
            "162\n",
            "164\n",
            "165\n",
            "167\n",
            "169\n",
            "171\n",
            "173\n",
            "174\n",
            "176\n",
            "177\n",
            "179\n",
            "183\n",
            "185\n",
            "188\n",
            "189\n",
            "190\n",
            "191\n",
            "192\n",
            "194\n",
            "196\n",
            "197\n",
            "198\n",
            "199\n",
            "201\n",
            "204\n",
            "206\n",
            "207\n",
            "208\n",
            "209\n",
            "210\n",
            "211\n",
            "212\n",
            "214\n",
            "216\n",
            "217\n",
            "219\n",
            "220\n",
            "221\n",
            "223\n",
            "224\n",
            "225\n",
            "226\n",
            "228\n",
            "229\n",
            "231\n",
            "232\n",
            "234\n",
            "235\n",
            "236\n",
            "238\n",
            "239\n",
            "240\n",
            "242\n",
            "243\n",
            "246\n",
            "247\n",
            "248\n",
            "249\n",
            "251\n",
            "253\n",
            "255\n",
            "256\n",
            "258\n",
            "259\n",
            "261\n",
            "263\n",
            "264\n",
            "266\n",
            "267\n",
            "268\n",
            "269\n",
            "271\n",
            "273\n",
            "278\n",
            "280\n",
            "286\n",
            "287\n",
            "288\n",
            "290\n",
            "291\n",
            "293\n",
            "296\n",
            "297\n",
            "304\n",
            "308\n",
            "309\n",
            "310\n",
            "311\n",
            "312\n",
            "313\n",
            "316\n",
            "318\n",
            "319\n",
            "321\n",
            "322\n",
            "323\n",
            "324\n",
            "325\n",
            "327\n",
            "328\n",
            "329\n",
            "335\n",
            "338\n",
            "339\n",
            "340\n",
            "342\n",
            "349\n",
            "351\n",
            "353\n",
            "355\n",
            "356\n",
            "359\n",
            "363\n",
            "340340\n"
          ],
          "name": "stdout"
        }
      ]
    },
    {
      "cell_type": "code",
      "metadata": {
        "id": "s5CWzmD5vfA5",
        "outputId": "8db10de8-680f-4c08-b261-02340bb772a7",
        "colab": {
          "base_uri": "https://localhost:8080/"
        }
      },
      "source": [
        "len(ID_groups)"
      ],
      "execution_count": 15,
      "outputs": [
        {
          "output_type": "execute_result",
          "data": {
            "text/plain": [
              "149"
            ]
          },
          "metadata": {
            "tags": []
          },
          "execution_count": 15
        }
      ]
    }
  ]
}