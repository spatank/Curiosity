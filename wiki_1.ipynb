{
  "nbformat": 4,
  "nbformat_minor": 0,
  "metadata": {
    "colab": {
      "name": "wiki_1.ipynb",
      "provenance": [],
      "authorship_tag": "ABX9TyPicZqCMzNJle+qIm7+wuev",
      "include_colab_link": true
    },
    "kernelspec": {
      "name": "python3",
      "display_name": "Python 3"
    }
  },
  "cells": [
    {
      "cell_type": "markdown",
      "metadata": {
        "id": "view-in-github",
        "colab_type": "text"
      },
      "source": [
        "<a href=\"https://colab.research.google.com/github/spatank/Curiosity/blob/master/wiki_1.ipynb\" target=\"_parent\"><img src=\"https://colab.research.google.com/assets/colab-badge.svg\" alt=\"Open In Colab\"/></a>"
      ]
    },
    {
      "cell_type": "markdown",
      "metadata": {
        "id": "-FUJYyJqJhIP"
      },
      "source": [
        "Make data available to Colab by mounting your Drive."
      ]
    },
    {
      "cell_type": "code",
      "metadata": {
        "id": "mt4lKf68BBEH",
        "outputId": "fbcf80bb-35ba-43bc-9c5b-566b05befaac",
        "colab": {
          "base_uri": "https://localhost:8080/"
        }
      },
      "source": [
        "from google.colab import drive\n",
        "drive.mount('/content/drive')\n",
        "\n",
        "import os\n",
        "os.chdir('/content/drive/My Drive/Curiosity_IGT/')"
      ],
      "execution_count": 1,
      "outputs": [
        {
          "output_type": "stream",
          "text": [
            "Drive already mounted at /content/drive; to attempt to forcibly remount, call drive.mount(\"/content/drive\", force_remount=True).\n"
          ],
          "name": "stdout"
        }
      ]
    },
    {
      "cell_type": "code",
      "metadata": {
        "id": "RAcMQZG0C_FC",
        "outputId": "c23e62b2-a6e9-449d-9281-1980c1ebd609",
        "colab": {
          "base_uri": "https://localhost:8080/"
        }
      },
      "source": [
        "!ls # run !ls to verify location "
      ],
      "execution_count": 2,
      "outputs": [
        {
          "output_type": "stream",
          "text": [
            "enwiki_20180420_300d.pkl\t   wiki_1.ipynb\n",
            "enwiki_20180420_300d.pkl.bz2\t   WikiData_Shubhankar.csv\n",
            "enwiki_20180420_nolg_300d.txt.bz2\n"
          ],
          "name": "stdout"
        }
      ]
    },
    {
      "cell_type": "markdown",
      "metadata": {
        "id": "4Ku8aDAUJwjE"
      },
      "source": [
        "# Import Packages"
      ]
    },
    {
      "cell_type": "code",
      "metadata": {
        "id": "T5Qpip15Eb1L",
        "outputId": "67fdc6e9-8183-4a49-866a-7511c37a1bc2",
        "colab": {
          "base_uri": "https://localhost:8080/"
        }
      },
      "source": [
        "import pandas as pd\n",
        "!pip install wikipedia2vec\n",
        "from wikipedia2vec import Wikipedia2Vec\n",
        "import numpy as np\n",
        "from scipy.spatial.distance import cosine\n",
        "import networkx as nx"
      ],
      "execution_count": 3,
      "outputs": [
        {
          "output_type": "stream",
          "text": [
            "Requirement already satisfied: wikipedia2vec in /usr/local/lib/python3.6/dist-packages (1.0.4)\n",
            "Requirement already satisfied: jieba in /usr/local/lib/python3.6/dist-packages (from wikipedia2vec) (0.42.1)\n",
            "Requirement already satisfied: numpy in /usr/local/lib/python3.6/dist-packages (from wikipedia2vec) (1.18.5)\n",
            "Requirement already satisfied: lmdb in /usr/local/lib/python3.6/dist-packages (from wikipedia2vec) (0.99)\n",
            "Requirement already satisfied: mwparserfromhell in /usr/local/lib/python3.6/dist-packages (from wikipedia2vec) (0.5.4)\n",
            "Requirement already satisfied: scipy in /usr/local/lib/python3.6/dist-packages (from wikipedia2vec) (1.4.1)\n",
            "Requirement already satisfied: marisa-trie in /usr/local/lib/python3.6/dist-packages (from wikipedia2vec) (0.7.5)\n",
            "Requirement already satisfied: tqdm in /usr/local/lib/python3.6/dist-packages (from wikipedia2vec) (4.41.1)\n",
            "Requirement already satisfied: six in /usr/local/lib/python3.6/dist-packages (from wikipedia2vec) (1.15.0)\n",
            "Requirement already satisfied: joblib in /usr/local/lib/python3.6/dist-packages (from wikipedia2vec) (0.17.0)\n",
            "Requirement already satisfied: click in /usr/local/lib/python3.6/dist-packages (from wikipedia2vec) (7.1.2)\n"
          ],
          "name": "stdout"
        }
      ]
    },
    {
      "cell_type": "markdown",
      "metadata": {
        "id": "W9QmgTY9KF_A"
      },
      "source": [
        "# Data Wrangling\n",
        "\n",
        "This section pre-processes the KNOT data to get it into a format suited to network analysis. The data contains the names of Wikipedia pages visited by a participant in two columns: SourceName and TargetName. \n"
      ]
    },
    {
      "cell_type": "code",
      "metadata": {
        "id": "eRCVHGiwzEBd",
        "outputId": "e962930d-d1ee-43d3-84b8-1068ec442d04",
        "colab": {
          "base_uri": "https://localhost:8080/",
          "height": 162
        }
      },
      "source": [
        "wiki_df = pd.read_csv('WikiData_Shubhankar.csv')\n",
        "wiki_df.head(3)"
      ],
      "execution_count": 4,
      "outputs": [
        {
          "output_type": "execute_result",
          "data": {
            "text/html": [
              "<div>\n",
              "<style scoped>\n",
              "    .dataframe tbody tr th:only-of-type {\n",
              "        vertical-align: middle;\n",
              "    }\n",
              "\n",
              "    .dataframe tbody tr th {\n",
              "        vertical-align: top;\n",
              "    }\n",
              "\n",
              "    .dataframe thead th {\n",
              "        text-align: right;\n",
              "    }\n",
              "</style>\n",
              "<table border=\"1\" class=\"dataframe\">\n",
              "  <thead>\n",
              "    <tr style=\"text-align: right;\">\n",
              "      <th></th>\n",
              "      <th>ID</th>\n",
              "      <th>SourceName</th>\n",
              "      <th>TargetName</th>\n",
              "      <th>Day</th>\n",
              "      <th>TimeOrder</th>\n",
              "      <th>Hyperlink</th>\n",
              "      <th>DistanceWeights</th>\n",
              "      <th>AgeYears</th>\n",
              "      <th>SexOrient</th>\n",
              "      <th>Race</th>\n",
              "      <th>GenderFactor</th>\n",
              "      <th>EducDeg</th>\n",
              "      <th>Income</th>\n",
              "      <th>JE_5D</th>\n",
              "      <th>DS_5D</th>\n",
              "      <th>ST_5D</th>\n",
              "      <th>SC_5D</th>\n",
              "      <th>TS_5D</th>\n",
              "      <th>Count</th>\n",
              "      <th>Weight</th>\n",
              "    </tr>\n",
              "  </thead>\n",
              "  <tbody>\n",
              "    <tr>\n",
              "      <th>0</th>\n",
              "      <td>101</td>\n",
              "      <td>/wiki/Jeff_Bezos</td>\n",
              "      <td>/wiki/Cloud_infrastructure</td>\n",
              "      <td>1</td>\n",
              "      <td>1</td>\n",
              "      <td>no</td>\n",
              "      <td>1.0</td>\n",
              "      <td>23.27945</td>\n",
              "      <td>Heterosexual</td>\n",
              "      <td>AsiaAm</td>\n",
              "      <td>0</td>\n",
              "      <td>BachDegree</td>\n",
              "      <td>20to49k</td>\n",
              "      <td>4.4</td>\n",
              "      <td>4.25</td>\n",
              "      <td>1.6</td>\n",
              "      <td>2.8</td>\n",
              "      <td>2.0</td>\n",
              "      <td>1</td>\n",
              "      <td>0.0</td>\n",
              "    </tr>\n",
              "    <tr>\n",
              "      <th>1</th>\n",
              "      <td>101</td>\n",
              "      <td>/wiki/Cloud_infrastructure</td>\n",
              "      <td>/wiki/Cloud_computing_security</td>\n",
              "      <td>1</td>\n",
              "      <td>2</td>\n",
              "      <td>yes</td>\n",
              "      <td>0.2</td>\n",
              "      <td>23.27945</td>\n",
              "      <td>Heterosexual</td>\n",
              "      <td>AsiaAm</td>\n",
              "      <td>0</td>\n",
              "      <td>BachDegree</td>\n",
              "      <td>20to49k</td>\n",
              "      <td>4.4</td>\n",
              "      <td>4.25</td>\n",
              "      <td>1.6</td>\n",
              "      <td>2.8</td>\n",
              "      <td>2.0</td>\n",
              "      <td>2</td>\n",
              "      <td>0.8</td>\n",
              "    </tr>\n",
              "    <tr>\n",
              "      <th>2</th>\n",
              "      <td>101</td>\n",
              "      <td>/wiki/Cloud_computing_security</td>\n",
              "      <td>/wiki/Cloud_infrastructure</td>\n",
              "      <td>1</td>\n",
              "      <td>3</td>\n",
              "      <td>no</td>\n",
              "      <td>0.2</td>\n",
              "      <td>23.27945</td>\n",
              "      <td>Heterosexual</td>\n",
              "      <td>AsiaAm</td>\n",
              "      <td>0</td>\n",
              "      <td>BachDegree</td>\n",
              "      <td>20to49k</td>\n",
              "      <td>4.4</td>\n",
              "      <td>4.25</td>\n",
              "      <td>1.6</td>\n",
              "      <td>2.8</td>\n",
              "      <td>2.0</td>\n",
              "      <td>3</td>\n",
              "      <td>0.8</td>\n",
              "    </tr>\n",
              "  </tbody>\n",
              "</table>\n",
              "</div>"
            ],
            "text/plain": [
              "    ID                      SourceName  ... Count  Weight\n",
              "0  101                /wiki/Jeff_Bezos  ...     1     0.0\n",
              "1  101      /wiki/Cloud_infrastructure  ...     2     0.8\n",
              "2  101  /wiki/Cloud_computing_security  ...     3     0.8\n",
              "\n",
              "[3 rows x 20 columns]"
            ]
          },
          "metadata": {
            "tags": []
          },
          "execution_count": 4
        }
      ]
    },
    {
      "cell_type": "code",
      "metadata": {
        "id": "afyM5cEyyyYH"
      },
      "source": [
        "def clean_entity_name(name):\n",
        "  name = name.replace('/wiki/', '')\n",
        "  name = name.replace('_', ' ')\n",
        "  return name"
      ],
      "execution_count": 5,
      "outputs": []
    },
    {
      "cell_type": "markdown",
      "metadata": {
        "id": "FxXehM8xMH32"
      },
      "source": [
        "First, we create unique identifiers (UIDs) for each page so that they can be used as nodes in a network representation. Then we clean the strings associated with each page by stripping redundant information such as `wiki/` and `_`. The UIDs and clean names are appended to the data frame as new columns."
      ]
    },
    {
      "cell_type": "code",
      "metadata": {
        "id": "So4CNo4-xggB",
        "outputId": "4c5e7ee0-2771-4530-8dd3-26b71cc562fc",
        "colab": {
          "base_uri": "https://localhost:8080/",
          "height": 247
        }
      },
      "source": [
        "# create UID for each page\n",
        "source_nodes = set(wiki_df['SourceName'].tolist())\n",
        "target_nodes = set(wiki_df['TargetName'].tolist())\n",
        "source_nodes.update(target_nodes)\n",
        "node_set = {entity: name for name, entity in enumerate(source_nodes)}\n",
        "wiki_df['SourceUID'] = wiki_df['SourceName'].apply(lambda x: node_set[x])\n",
        "wiki_df['SrcNameClean'] = wiki_df['SourceName'].apply(lambda x: clean_entity_name(x))\n",
        "wiki_df['TargetUID'] = wiki_df['TargetName'].apply(lambda x: node_set[x])\n",
        "wiki_df['TgtNameClean'] = wiki_df['TargetName'].apply(lambda x: clean_entity_name(x))\n",
        "wiki_df.head(3)"
      ],
      "execution_count": 6,
      "outputs": [
        {
          "output_type": "execute_result",
          "data": {
            "text/html": [
              "<div>\n",
              "<style scoped>\n",
              "    .dataframe tbody tr th:only-of-type {\n",
              "        vertical-align: middle;\n",
              "    }\n",
              "\n",
              "    .dataframe tbody tr th {\n",
              "        vertical-align: top;\n",
              "    }\n",
              "\n",
              "    .dataframe thead th {\n",
              "        text-align: right;\n",
              "    }\n",
              "</style>\n",
              "<table border=\"1\" class=\"dataframe\">\n",
              "  <thead>\n",
              "    <tr style=\"text-align: right;\">\n",
              "      <th></th>\n",
              "      <th>ID</th>\n",
              "      <th>SourceName</th>\n",
              "      <th>TargetName</th>\n",
              "      <th>Day</th>\n",
              "      <th>TimeOrder</th>\n",
              "      <th>Hyperlink</th>\n",
              "      <th>DistanceWeights</th>\n",
              "      <th>AgeYears</th>\n",
              "      <th>SexOrient</th>\n",
              "      <th>Race</th>\n",
              "      <th>GenderFactor</th>\n",
              "      <th>EducDeg</th>\n",
              "      <th>Income</th>\n",
              "      <th>JE_5D</th>\n",
              "      <th>DS_5D</th>\n",
              "      <th>ST_5D</th>\n",
              "      <th>SC_5D</th>\n",
              "      <th>TS_5D</th>\n",
              "      <th>Count</th>\n",
              "      <th>Weight</th>\n",
              "      <th>SourceUID</th>\n",
              "      <th>SrcNameClean</th>\n",
              "      <th>TargetUID</th>\n",
              "      <th>TgtNameClean</th>\n",
              "    </tr>\n",
              "  </thead>\n",
              "  <tbody>\n",
              "    <tr>\n",
              "      <th>0</th>\n",
              "      <td>101</td>\n",
              "      <td>/wiki/Jeff_Bezos</td>\n",
              "      <td>/wiki/Cloud_infrastructure</td>\n",
              "      <td>1</td>\n",
              "      <td>1</td>\n",
              "      <td>no</td>\n",
              "      <td>1.0</td>\n",
              "      <td>23.27945</td>\n",
              "      <td>Heterosexual</td>\n",
              "      <td>AsiaAm</td>\n",
              "      <td>0</td>\n",
              "      <td>BachDegree</td>\n",
              "      <td>20to49k</td>\n",
              "      <td>4.4</td>\n",
              "      <td>4.25</td>\n",
              "      <td>1.6</td>\n",
              "      <td>2.8</td>\n",
              "      <td>2.0</td>\n",
              "      <td>1</td>\n",
              "      <td>0.0</td>\n",
              "      <td>2552</td>\n",
              "      <td>Jeff Bezos</td>\n",
              "      <td>16296</td>\n",
              "      <td>Cloud infrastructure</td>\n",
              "    </tr>\n",
              "    <tr>\n",
              "      <th>1</th>\n",
              "      <td>101</td>\n",
              "      <td>/wiki/Cloud_infrastructure</td>\n",
              "      <td>/wiki/Cloud_computing_security</td>\n",
              "      <td>1</td>\n",
              "      <td>2</td>\n",
              "      <td>yes</td>\n",
              "      <td>0.2</td>\n",
              "      <td>23.27945</td>\n",
              "      <td>Heterosexual</td>\n",
              "      <td>AsiaAm</td>\n",
              "      <td>0</td>\n",
              "      <td>BachDegree</td>\n",
              "      <td>20to49k</td>\n",
              "      <td>4.4</td>\n",
              "      <td>4.25</td>\n",
              "      <td>1.6</td>\n",
              "      <td>2.8</td>\n",
              "      <td>2.0</td>\n",
              "      <td>2</td>\n",
              "      <td>0.8</td>\n",
              "      <td>16296</td>\n",
              "      <td>Cloud infrastructure</td>\n",
              "      <td>1737</td>\n",
              "      <td>Cloud computing security</td>\n",
              "    </tr>\n",
              "    <tr>\n",
              "      <th>2</th>\n",
              "      <td>101</td>\n",
              "      <td>/wiki/Cloud_computing_security</td>\n",
              "      <td>/wiki/Cloud_infrastructure</td>\n",
              "      <td>1</td>\n",
              "      <td>3</td>\n",
              "      <td>no</td>\n",
              "      <td>0.2</td>\n",
              "      <td>23.27945</td>\n",
              "      <td>Heterosexual</td>\n",
              "      <td>AsiaAm</td>\n",
              "      <td>0</td>\n",
              "      <td>BachDegree</td>\n",
              "      <td>20to49k</td>\n",
              "      <td>4.4</td>\n",
              "      <td>4.25</td>\n",
              "      <td>1.6</td>\n",
              "      <td>2.8</td>\n",
              "      <td>2.0</td>\n",
              "      <td>3</td>\n",
              "      <td>0.8</td>\n",
              "      <td>1737</td>\n",
              "      <td>Cloud computing security</td>\n",
              "      <td>16296</td>\n",
              "      <td>Cloud infrastructure</td>\n",
              "    </tr>\n",
              "  </tbody>\n",
              "</table>\n",
              "</div>"
            ],
            "text/plain": [
              "    ID                      SourceName  ... TargetUID              TgtNameClean\n",
              "0  101                /wiki/Jeff_Bezos  ...     16296      Cloud infrastructure\n",
              "1  101      /wiki/Cloud_infrastructure  ...      1737  Cloud computing security\n",
              "2  101  /wiki/Cloud_computing_security  ...     16296      Cloud infrastructure\n",
              "\n",
              "[3 rows x 24 columns]"
            ]
          },
          "metadata": {
            "tags": []
          },
          "execution_count": 6
        }
      ]
    },
    {
      "cell_type": "markdown",
      "metadata": {
        "id": "K1ja7sTbMc93"
      },
      "source": [
        "# Wikipedia2Vec\n",
        "\n",
        "Each row in the data frame represents a transition made by a participant from one Wikipedia page to another. The associated edge weight can be obtained as the semantic distance between the contents of the two pages. In order to quantify the semantic distance between Wikipedia entities, we use a pre-trained model that represents each page as an n-dimensional vector. The distance between two pages `SemanticDist` is then computed as the cosine (dis)similarity between their vector representations."
      ]
    },
    {
      "cell_type": "code",
      "metadata": {
        "id": "nKcyjPP_eSXO"
      },
      "source": [
        "model_file = 'enwiki_20180420_300d.pkl'\n",
        "wiki2vec = Wikipedia2Vec.load(model_file)\n",
        "# v1 = wiki2vec.get_entity_vector('Jeff Bezos')\n",
        "# v2 = wiki2vec.get_entity_vector('Bill Gates')"
      ],
      "execution_count": 7,
      "outputs": []
    },
    {
      "cell_type": "code",
      "metadata": {
        "id": "pzt7GJ2y8T38"
      },
      "source": [
        "def check_entity_vector(entity):\n",
        "  try:\n",
        "    vec = wiki2vec.get_entity_vector(entity)\n",
        "    return 0\n",
        "  except KeyError:\n",
        "    return 1"
      ],
      "execution_count": 8,
      "outputs": []
    },
    {
      "cell_type": "code",
      "metadata": {
        "id": "MDgL6zC17xjT"
      },
      "source": [
        "no_vec_entities = []\n",
        "for k, v in node_set.items():\n",
        "  entity = clean_entity_name(k)\n",
        "  no_vec_entities.append(check_entity_vector(entity))"
      ],
      "execution_count": 9,
      "outputs": []
    },
    {
      "cell_type": "code",
      "metadata": {
        "id": "6Qbdwg6H8f_d",
        "outputId": "d8dc2f3e-8992-4d20-b6e5-98b5765951d0",
        "colab": {
          "base_uri": "https://localhost:8080/"
        }
      },
      "source": [
        "len(no_vec_entities)"
      ],
      "execution_count": 10,
      "outputs": [
        {
          "output_type": "execute_result",
          "data": {
            "text/plain": [
              "18378"
            ]
          },
          "metadata": {
            "tags": []
          },
          "execution_count": 10
        }
      ]
    },
    {
      "cell_type": "code",
      "metadata": {
        "id": "aVKxX2Zr8iMv",
        "outputId": "ace231a2-6268-4226-a2d6-30c91625dc2a",
        "colab": {
          "base_uri": "https://localhost:8080/"
        }
      },
      "source": [
        "sum(no_vec_entities)"
      ],
      "execution_count": 11,
      "outputs": [
        {
          "output_type": "execute_result",
          "data": {
            "text/plain": [
              "2207"
            ]
          },
          "metadata": {
            "tags": []
          },
          "execution_count": 11
        }
      ]
    },
    {
      "cell_type": "markdown",
      "metadata": {
        "id": "CO85sKmQ8tzM"
      },
      "source": [
        "12% of the pages visited by participants in the KNOT data do not have corresponding vector embeddings. We represent these pages by a random vector."
      ]
    },
    {
      "cell_type": "code",
      "metadata": {
        "id": "fchZpOmIRKKh"
      },
      "source": [
        "def semantic_dist(entity_1, entity_2):\n",
        "  # get entity 1 vector\n",
        "  try:\n",
        "    v1 = wiki2vec.get_entity_vector(entity_1)\n",
        "  except KeyError:\n",
        "    v1 = np.random.random(300)\n",
        "  # get entity 2 vector\n",
        "  try:\n",
        "    v2 = wiki2vec.get_entity_vector(entity_2)\n",
        "  except KeyError:\n",
        "    v2 = np.random.random(300)\n",
        "\n",
        "  return cosine(v1, v2)"
      ],
      "execution_count": 12,
      "outputs": []
    },
    {
      "cell_type": "code",
      "metadata": {
        "id": "H1G1jaUNMcUd",
        "outputId": "3ac3b0ab-3413-4cfd-d8f2-8cd01b0e8fa1",
        "colab": {
          "base_uri": "https://localhost:8080/",
          "height": 343
        }
      },
      "source": [
        "wiki_df['SemanticDist'] = wiki_df.apply(lambda x: semantic_dist(x['SrcNameClean'], x['TgtNameClean']), axis = 1)\n",
        "wiki_df.head(5)"
      ],
      "execution_count": 13,
      "outputs": [
        {
          "output_type": "execute_result",
          "data": {
            "text/html": [
              "<div>\n",
              "<style scoped>\n",
              "    .dataframe tbody tr th:only-of-type {\n",
              "        vertical-align: middle;\n",
              "    }\n",
              "\n",
              "    .dataframe tbody tr th {\n",
              "        vertical-align: top;\n",
              "    }\n",
              "\n",
              "    .dataframe thead th {\n",
              "        text-align: right;\n",
              "    }\n",
              "</style>\n",
              "<table border=\"1\" class=\"dataframe\">\n",
              "  <thead>\n",
              "    <tr style=\"text-align: right;\">\n",
              "      <th></th>\n",
              "      <th>ID</th>\n",
              "      <th>SourceName</th>\n",
              "      <th>TargetName</th>\n",
              "      <th>Day</th>\n",
              "      <th>TimeOrder</th>\n",
              "      <th>Hyperlink</th>\n",
              "      <th>DistanceWeights</th>\n",
              "      <th>AgeYears</th>\n",
              "      <th>SexOrient</th>\n",
              "      <th>Race</th>\n",
              "      <th>GenderFactor</th>\n",
              "      <th>EducDeg</th>\n",
              "      <th>Income</th>\n",
              "      <th>JE_5D</th>\n",
              "      <th>DS_5D</th>\n",
              "      <th>ST_5D</th>\n",
              "      <th>SC_5D</th>\n",
              "      <th>TS_5D</th>\n",
              "      <th>Count</th>\n",
              "      <th>Weight</th>\n",
              "      <th>SourceUID</th>\n",
              "      <th>SrcNameClean</th>\n",
              "      <th>TargetUID</th>\n",
              "      <th>TgtNameClean</th>\n",
              "      <th>SemanticDist</th>\n",
              "    </tr>\n",
              "  </thead>\n",
              "  <tbody>\n",
              "    <tr>\n",
              "      <th>0</th>\n",
              "      <td>101</td>\n",
              "      <td>/wiki/Jeff_Bezos</td>\n",
              "      <td>/wiki/Cloud_infrastructure</td>\n",
              "      <td>1</td>\n",
              "      <td>1</td>\n",
              "      <td>no</td>\n",
              "      <td>1.0</td>\n",
              "      <td>23.27945</td>\n",
              "      <td>Heterosexual</td>\n",
              "      <td>AsiaAm</td>\n",
              "      <td>0</td>\n",
              "      <td>BachDegree</td>\n",
              "      <td>20to49k</td>\n",
              "      <td>4.4</td>\n",
              "      <td>4.25</td>\n",
              "      <td>1.6</td>\n",
              "      <td>2.8</td>\n",
              "      <td>2.0</td>\n",
              "      <td>1</td>\n",
              "      <td>0.0</td>\n",
              "      <td>2552</td>\n",
              "      <td>Jeff Bezos</td>\n",
              "      <td>16296</td>\n",
              "      <td>Cloud infrastructure</td>\n",
              "      <td>0.603374</td>\n",
              "    </tr>\n",
              "    <tr>\n",
              "      <th>1</th>\n",
              "      <td>101</td>\n",
              "      <td>/wiki/Cloud_infrastructure</td>\n",
              "      <td>/wiki/Cloud_computing_security</td>\n",
              "      <td>1</td>\n",
              "      <td>2</td>\n",
              "      <td>yes</td>\n",
              "      <td>0.2</td>\n",
              "      <td>23.27945</td>\n",
              "      <td>Heterosexual</td>\n",
              "      <td>AsiaAm</td>\n",
              "      <td>0</td>\n",
              "      <td>BachDegree</td>\n",
              "      <td>20to49k</td>\n",
              "      <td>4.4</td>\n",
              "      <td>4.25</td>\n",
              "      <td>1.6</td>\n",
              "      <td>2.8</td>\n",
              "      <td>2.0</td>\n",
              "      <td>2</td>\n",
              "      <td>0.8</td>\n",
              "      <td>16296</td>\n",
              "      <td>Cloud infrastructure</td>\n",
              "      <td>1737</td>\n",
              "      <td>Cloud computing security</td>\n",
              "      <td>0.337638</td>\n",
              "    </tr>\n",
              "    <tr>\n",
              "      <th>2</th>\n",
              "      <td>101</td>\n",
              "      <td>/wiki/Cloud_computing_security</td>\n",
              "      <td>/wiki/Cloud_infrastructure</td>\n",
              "      <td>1</td>\n",
              "      <td>3</td>\n",
              "      <td>no</td>\n",
              "      <td>0.2</td>\n",
              "      <td>23.27945</td>\n",
              "      <td>Heterosexual</td>\n",
              "      <td>AsiaAm</td>\n",
              "      <td>0</td>\n",
              "      <td>BachDegree</td>\n",
              "      <td>20to49k</td>\n",
              "      <td>4.4</td>\n",
              "      <td>4.25</td>\n",
              "      <td>1.6</td>\n",
              "      <td>2.8</td>\n",
              "      <td>2.0</td>\n",
              "      <td>3</td>\n",
              "      <td>0.8</td>\n",
              "      <td>1737</td>\n",
              "      <td>Cloud computing security</td>\n",
              "      <td>16296</td>\n",
              "      <td>Cloud infrastructure</td>\n",
              "      <td>0.337638</td>\n",
              "    </tr>\n",
              "    <tr>\n",
              "      <th>3</th>\n",
              "      <td>101</td>\n",
              "      <td>/wiki/Cloud_infrastructure</td>\n",
              "      <td>/wiki/Information_technology</td>\n",
              "      <td>1</td>\n",
              "      <td>4</td>\n",
              "      <td>yes</td>\n",
              "      <td>0.8</td>\n",
              "      <td>23.27945</td>\n",
              "      <td>Heterosexual</td>\n",
              "      <td>AsiaAm</td>\n",
              "      <td>0</td>\n",
              "      <td>BachDegree</td>\n",
              "      <td>20to49k</td>\n",
              "      <td>4.4</td>\n",
              "      <td>4.25</td>\n",
              "      <td>1.6</td>\n",
              "      <td>2.8</td>\n",
              "      <td>2.0</td>\n",
              "      <td>4</td>\n",
              "      <td>0.2</td>\n",
              "      <td>16296</td>\n",
              "      <td>Cloud infrastructure</td>\n",
              "      <td>15758</td>\n",
              "      <td>Information technology</td>\n",
              "      <td>0.625812</td>\n",
              "    </tr>\n",
              "    <tr>\n",
              "      <th>4</th>\n",
              "      <td>101</td>\n",
              "      <td>/wiki/Information_technology</td>\n",
              "      <td>/wiki/Computer_language</td>\n",
              "      <td>1</td>\n",
              "      <td>5</td>\n",
              "      <td>no</td>\n",
              "      <td>0.6</td>\n",
              "      <td>23.27945</td>\n",
              "      <td>Heterosexual</td>\n",
              "      <td>AsiaAm</td>\n",
              "      <td>0</td>\n",
              "      <td>BachDegree</td>\n",
              "      <td>20to49k</td>\n",
              "      <td>4.4</td>\n",
              "      <td>4.25</td>\n",
              "      <td>1.6</td>\n",
              "      <td>2.8</td>\n",
              "      <td>2.0</td>\n",
              "      <td>5</td>\n",
              "      <td>0.4</td>\n",
              "      <td>15758</td>\n",
              "      <td>Information technology</td>\n",
              "      <td>14457</td>\n",
              "      <td>Computer language</td>\n",
              "      <td>0.708145</td>\n",
              "    </tr>\n",
              "  </tbody>\n",
              "</table>\n",
              "</div>"
            ],
            "text/plain": [
              "    ID                      SourceName  ...              TgtNameClean  SemanticDist\n",
              "0  101                /wiki/Jeff_Bezos  ...      Cloud infrastructure      0.603374\n",
              "1  101      /wiki/Cloud_infrastructure  ...  Cloud computing security      0.337638\n",
              "2  101  /wiki/Cloud_computing_security  ...      Cloud infrastructure      0.337638\n",
              "3  101      /wiki/Cloud_infrastructure  ...    Information technology      0.625812\n",
              "4  101    /wiki/Information_technology  ...         Computer language      0.708145\n",
              "\n",
              "[5 rows x 25 columns]"
            ]
          },
          "metadata": {
            "tags": []
          },
          "execution_count": 13
        }
      ]
    },
    {
      "cell_type": "markdown",
      "metadata": {
        "id": "SE6nl_Z2QBs0"
      },
      "source": [
        "# Create Individual Networks\n",
        "\n",
        "Next, we split the data set by individual, and use the `SourceUID`, `TargetUID`, and `SemanticDist` columns to generate network representations of participants' Wikipedia exploration."
      ]
    },
    {
      "cell_type": "code",
      "metadata": {
        "id": "nLVMt5tBc_0e",
        "outputId": "6e9ba316-bff4-4a88-992d-1936d8d54439",
        "colab": {
          "base_uri": "https://localhost:8080/",
          "height": 204
        }
      },
      "source": [
        "# split the data by individual\n",
        "ID_groups = wiki_df.groupby('ID')\n",
        "for ID, group in ID_groups:\n",
        "  # enforce time ordering\n",
        "  group.sort_values(by = ['TimeOrder'], inplace = True)\n",
        "  # network_df = group[['SourceUID', 'SrcNameClean', 'TargetUID', 'TgtNameClean', 'SemanticDist']]\n",
        "  \n",
        "network_df = group[['SourceUID', 'SrcNameClean', 'TargetUID', 'TgtNameClean', 'SemanticDist']]\n",
        "network_df.head(5)"
      ],
      "execution_count": 14,
      "outputs": [
        {
          "output_type": "execute_result",
          "data": {
            "text/html": [
              "<div>\n",
              "<style scoped>\n",
              "    .dataframe tbody tr th:only-of-type {\n",
              "        vertical-align: middle;\n",
              "    }\n",
              "\n",
              "    .dataframe tbody tr th {\n",
              "        vertical-align: top;\n",
              "    }\n",
              "\n",
              "    .dataframe thead th {\n",
              "        text-align: right;\n",
              "    }\n",
              "</style>\n",
              "<table border=\"1\" class=\"dataframe\">\n",
              "  <thead>\n",
              "    <tr style=\"text-align: right;\">\n",
              "      <th></th>\n",
              "      <th>SourceUID</th>\n",
              "      <th>SrcNameClean</th>\n",
              "      <th>TargetUID</th>\n",
              "      <th>TgtNameClean</th>\n",
              "      <th>SemanticDist</th>\n",
              "    </tr>\n",
              "  </thead>\n",
              "  <tbody>\n",
              "    <tr>\n",
              "      <th>27760</th>\n",
              "      <td>6151</td>\n",
              "      <td>Financial market</td>\n",
              "      <td>5429</td>\n",
              "      <td>Asset pricing</td>\n",
              "      <td>0.465183</td>\n",
              "    </tr>\n",
              "    <tr>\n",
              "      <th>27761</th>\n",
              "      <td>5429</td>\n",
              "      <td>Asset pricing</td>\n",
              "      <td>6151</td>\n",
              "      <td>Financial market</td>\n",
              "      <td>0.465183</td>\n",
              "    </tr>\n",
              "    <tr>\n",
              "      <th>27762</th>\n",
              "      <td>6151</td>\n",
              "      <td>Financial market</td>\n",
              "      <td>5429</td>\n",
              "      <td>Asset pricing</td>\n",
              "      <td>0.465183</td>\n",
              "    </tr>\n",
              "    <tr>\n",
              "      <th>27763</th>\n",
              "      <td>5429</td>\n",
              "      <td>Asset pricing</td>\n",
              "      <td>12700</td>\n",
              "      <td>BlackRock</td>\n",
              "      <td>0.558683</td>\n",
              "    </tr>\n",
              "    <tr>\n",
              "      <th>27764</th>\n",
              "      <td>12700</td>\n",
              "      <td>BlackRock</td>\n",
              "      <td>18050</td>\n",
              "      <td>The Blackstone Group</td>\n",
              "      <td>0.554321</td>\n",
              "    </tr>\n",
              "  </tbody>\n",
              "</table>\n",
              "</div>"
            ],
            "text/plain": [
              "       SourceUID      SrcNameClean  ...          TgtNameClean SemanticDist\n",
              "27760       6151  Financial market  ...         Asset pricing     0.465183\n",
              "27761       5429     Asset pricing  ...      Financial market     0.465183\n",
              "27762       6151  Financial market  ...         Asset pricing     0.465183\n",
              "27763       5429     Asset pricing  ...             BlackRock     0.558683\n",
              "27764      12700         BlackRock  ...  The Blackstone Group     0.554321\n",
              "\n",
              "[5 rows x 5 columns]"
            ]
          },
          "metadata": {
            "tags": []
          },
          "execution_count": 14
        }
      ]
    },
    {
      "cell_type": "code",
      "metadata": {
        "id": "X69PN2S4-lH5"
      },
      "source": [
        "# G = nx.from_pandas_edgelist(network_df, 'SourceUID', 'SourceUID', 'SemanticDist')\n",
        "G = nx.from_pandas_edgelist(network_df, 'SrcNameClean', 'TgtNameClean', edge_attr = 'SemanticDist')"
      ],
      "execution_count": 15,
      "outputs": []
    },
    {
      "cell_type": "code",
      "metadata": {
        "id": "Ieb-0nu2_wd_",
        "outputId": "8ac34df6-bc63-4442-c5f7-9dbdd9e6f890",
        "colab": {
          "base_uri": "https://localhost:8080/"
        }
      },
      "source": [
        "G.nodes"
      ],
      "execution_count": 16,
      "outputs": [
        {
          "output_type": "execute_result",
          "data": {
            "text/plain": [
              "NodeView(('Financial market', 'Asset pricing', 'BlackRock', 'The Blackstone Group', 'Investment management', 'Chartered Financial Analyst', 'Asset management', 'List of asset management firms', 'The Vanguard Group', 'Physics', 'Natural science', 'Quantum mechanics', 'List of quantum-mechanical systems with analytical solutions', 'Discrete mathematics', 'Planck constant', 'Max Planck', 'Theoretical physics', 'Maxwell%27s equations', 'Maxwell relations', 'James Clerk Maxwell', 'Magnetism', 'Paramagnetism', 'Magnetic moment', 'Cross product', 'Executive education', 'Financial Times', 'Founders Brewing Company', 'India pale ale', 'Hops', 'Whey protein', 'Casein', 'Cheese', 'Mozzarella', 'Pizza', 'Pizza Margherita', 'Basil', 'Pizza marinara', 'Neapolitan pizza', 'New York-style pizza', 'Totonno%27s', 'Lombardi%27s Pizza', 'Old ale', 'Pho', 'Goat cheese', 'Fromage', 'Kanye West', 'Yeezus', 'The Yeezus Tour', 'Eric the Actor', 'The Howard Stern Show', 'Private equity', 'Investment fund', 'Investment bank', 'Venture capital', 'Cognitive bias', 'Daniel Kahneman', 'Amos Tversky', 'Mathematical psychology', 'Private Parts (book)', 'Dale Carnegie', 'How to Win Friends and Influence People', 'How to Stop Worrying and Start Living', 'List of best-selling books', 'Whey', 'Tristar Gym', 'Gold%27s Gym', 'Jujitsu', 'Bodybuilding', 'Overtraining', 'Muscle hypertrophy', 'Strength training', 'IFAF World Championship', 'FIFA World Cup', 'Italy', 'Southern Italy', 'Economy of Milan', 'Economy of Italy', 'France', 'Libert%C3%A9, %C3%A9galit%C3%A9, fraternit%C3%A9', 'Give me liberty, or give me death!', 'Jackie Martling', 'What Did You Expect%3F (Jackie Martling album)', 'Hot Dogs %2B Donuts', 'The Very Best of Jackie Martling%27s Talking Joke Book Cassettes, Vol. 1', 'Joke Man', 'Howard Stern', 'Reproductive health', 'World Health Organization', 'Eric Lynch', 'American Idol', 'Protein', 'The Life of Pablo', 'Phonograph record', 'Ketosis', 'Paleolithic diet', 'Ketogenic diet', 'Macromolecule', 'Mexico', 'Italian language', 'Spanish language', 'Herman Lay', 'Frito-Lay', 'Tostitos', 'Progressive overload', 'One rep maximum', 'Superfood', 'Healthy diet', 'Hypertrophy', 'Trader (finance)', 'Day trading', 'Day trader', 'Derivative (finance)', 'Trading day', 'Stand-up comedy', 'Fred Norris', 'Jessica Seinfeld', 'Artie Lange', 'Ali Wentworth', 'Hillary Clinton', 'Jerry Seinfeld', 'Cruel Summer (GOOD Music album)', 'Steve jobs', 'Watch the Throne', 'Clique (song)', 'Apple Inc.', 'To the World', 'Drake (musician)', 'The College Dropout', 'Mercy (GOOD Music song)', 'IPhone X', 'Fascism', 'Donald Trump'))"
            ]
          },
          "metadata": {
            "tags": []
          },
          "execution_count": 16
        }
      ]
    },
    {
      "cell_type": "code",
      "metadata": {
        "id": "DCpOdx2iA2Tj",
        "outputId": "e77054ba-5698-43bb-9f0f-623088084a3f",
        "colab": {
          "base_uri": "https://localhost:8080/"
        }
      },
      "source": [
        "G.edges(data = True)"
      ],
      "execution_count": 17,
      "outputs": [
        {
          "output_type": "execute_result",
          "data": {
            "text/plain": [
              "EdgeDataView([('Financial market', 'Asset pricing', {'SemanticDist': 0.4651826024055481}), ('Financial market', 'The Vanguard Group', {'SemanticDist': 0.6656797826290131}), ('Asset pricing', 'BlackRock', {'SemanticDist': 0.5586826503276825}), ('BlackRock', 'The Blackstone Group', {'SemanticDist': 0.5543205440044403}), ('BlackRock', 'Investment management', {'SemanticDist': 0.5791221261024475}), ('Investment management', 'Chartered Financial Analyst', {'SemanticDist': 0.5173569917678833}), ('Chartered Financial Analyst', 'Asset management', {'SemanticDist': 0.566513180732727}), ('Asset management', 'List of asset management firms', {'SemanticDist': 0.43053102493286133}), ('List of asset management firms', 'The Vanguard Group', {'SemanticDist': 0.4881243109703064}), ('List of asset management firms', 'Physics', {'SemanticDist': 0.886945016682148}), ('Physics', 'Natural science', {'SemanticDist': 0.6061553359031677}), ('Natural science', 'Quantum mechanics', {'SemanticDist': 0.7933266907930374}), ('Quantum mechanics', 'List of quantum-mechanical systems with analytical solutions', {'SemanticDist': 0.4493256211280823}), ('Quantum mechanics', 'Discrete mathematics', {'SemanticDist': 0.6341281533241272}), ('Quantum mechanics', 'Planck constant', {'SemanticDist': 0.47657114267349243}), ('Planck constant', 'Max Planck', {'SemanticDist': 0.48396217823028564}), ('Max Planck', 'Theoretical physics', {'SemanticDist': 0.5719796121120453}), ('Theoretical physics', 'Maxwell%27s equations', {'SemanticDist': 0.9682643519835332}), ('Maxwell%27s equations', 'Maxwell relations', {'SemanticDist': 0.9437866019212453}), ('Maxwell relations', 'James Clerk Maxwell', {'SemanticDist': 0.5356598496437073}), ('James Clerk Maxwell', 'Magnetism', {'SemanticDist': 0.5973884761333466}), ('Magnetism', 'Paramagnetism', {'SemanticDist': 0.5034396648406982}), ('Paramagnetism', 'Magnetic moment', {'SemanticDist': 0.33072710037231445}), ('Magnetic moment', 'Cross product', {'SemanticDist': 0.47133201360702515}), ('Cross product', 'Executive education', {'SemanticDist': 0.8194073587656021}), ('Executive education', 'Financial Times', {'SemanticDist': 0.6297979950904846}), ('Financial Times', 'Founders Brewing Company', {'SemanticDist': 0.8005436211824417}), ('Founders Brewing Company', 'India pale ale', {'SemanticDist': 0.5130312144756317}), ('Founders Brewing Company', 'Old ale', {'SemanticDist': 0.3966113328933716}), ('Founders Brewing Company', 'Pho', {'SemanticDist': 0.6660352051258087}), ('Founders Brewing Company', 'How to Win Friends and Influence People', {'SemanticDist': 0.7770662009716034}), ('India pale ale', 'Hops', {'SemanticDist': 0.5027299523353577}), ('India pale ale', 'Lombardi%27s Pizza', {'SemanticDist': 0.9906238294035057}), ('India pale ale', 'Old ale', {'SemanticDist': 0.3312193751335144}), ('India pale ale', 'Whey protein', {'SemanticDist': 0.788777768611908}), ('Hops', 'Whey protein', {'SemanticDist': 0.7053186893463135}), ('Whey protein', 'Casein', {'SemanticDist': 0.35461610555648804}), ('Whey protein', 'Whey', {'SemanticDist': 0.3155086040496826}), ('Casein', 'Cheese', {'SemanticDist': 0.6330134570598602}), ('Cheese', 'Mozzarella', {'SemanticDist': 0.41740691661834717}), ('Cheese', 'Whey', {'SemanticDist': 0.5256945490837097}), ('Cheese', 'Goat cheese', {'SemanticDist': 0.4646415710449219}), ('Mozzarella', 'Pizza', {'SemanticDist': 0.47646796703338623}), ('Pizza', 'Pizza Margherita', {'SemanticDist': 0.5272831916809082}), ('Pizza', 'Italy', {'SemanticDist': 0.8301488757133484}), ('Pizza', 'Southern Italy', {'SemanticDist': 0.7343862950801849}), ('Pizza Margherita', 'Basil', {'SemanticDist': 0.591232180595398}), ('Pizza Margherita', 'Pizza marinara', {'SemanticDist': 1.0860687202059536}), ('Pizza marinara', 'Neapolitan pizza', {'SemanticDist': 0.9836149024010598}), ('Neapolitan pizza', 'New York-style pizza', {'SemanticDist': 0.3471713662147522}), ('New York-style pizza', 'Totonno%27s', {'SemanticDist': 1.03565576296192}), ('Totonno%27s', 'Lombardi%27s Pizza', {'SemanticDist': 0.23491108639775016}), ('Pho', 'Goat cheese', {'SemanticDist': 0.651838481426239}), ('Goat cheese', 'Fromage', {'SemanticDist': 0.7825646549463272}), ('Goat cheese', 'Tristar Gym', {'SemanticDist': 0.8173397928476334}), ('Fromage', 'Kanye West', {'SemanticDist': 0.7327919006347656}), ('Kanye West', 'Yeezus', {'SemanticDist': 0.5136518180370331}), ('Kanye West', 'The Yeezus Tour', {'SemanticDist': 0.41756242513656616}), ('Kanye West', 'Protein', {'SemanticDist': 0.8867818638682365}), ('Kanye West', 'The Life of Pablo', {'SemanticDist': 0.48472100496292114}), ('Kanye West', 'Watch the Throne', {'SemanticDist': 0.4324285387992859}), ('Kanye West', 'Cruel Summer (GOOD Music album)', {'SemanticDist': 0.50581493973732}), ('Kanye West', 'Drake (musician)', {'SemanticDist': 0.476057231426239}), ('Kanye West', 'The College Dropout', {'SemanticDist': 0.43711912631988525}), ('Kanye West', 'Mercy (GOOD Music song)', {'SemanticDist': 0.43397367000579834}), ('Kanye West', 'IPhone X', {'SemanticDist': 0.7090448141098022}), ('Yeezus', 'The Yeezus Tour', {'SemanticDist': 0.4491627812385559}), ('Yeezus', 'Eric the Actor', {'SemanticDist': 0.8480536937713623}), ('Eric the Actor', 'The Howard Stern Show', {'SemanticDist': 0.5204674899578094}), ('Eric the Actor', 'Mathematical psychology', {'SemanticDist': 0.8216209411621094}), ('Eric the Actor', 'Private Parts (book)', {'SemanticDist': 0.647759348154068}), ('Eric the Actor', 'Give me liberty, or give me death!', {'SemanticDist': 0.8429685086011887}), ('Eric the Actor', 'Eric Lynch', {'SemanticDist': 0.7238001227378845}), ('Eric the Actor', 'American Idol', {'SemanticDist': 0.6671575009822845}), ('Eric the Actor', 'Protein', {'SemanticDist': 0.8525606691837311}), ('Eric the Actor', 'Jerry Seinfeld', {'SemanticDist': 0.6833063364028931}), ('Eric the Actor', 'Private equity', {'SemanticDist': 0.7846658229827881}), ('The Howard Stern Show', 'Private equity', {'SemanticDist': 0.7993287295103073}), ('The Howard Stern Show', 'Jackie Martling', {'SemanticDist': 0.5315284729003906}), ('The Howard Stern Show', 'Stand-up comedy', {'SemanticDist': 0.7290940284729004}), ('The Howard Stern Show', 'Ali Wentworth', {'SemanticDist': 0.663224458694458}), ('The Howard Stern Show', 'Jerry Seinfeld', {'SemanticDist': 0.6640725135803223}), ('Private equity', 'Investment fund', {'SemanticDist': 0.4582362174987793}), ('Private equity', 'Investment bank', {'SemanticDist': 0.4151220917701721}), ('Private equity', 'Venture capital', {'SemanticDist': 0.31951045989990234}), ('Private equity', 'Cognitive bias', {'SemanticDist': 0.7248032689094543}), ('Private equity', 'Protein', {'SemanticDist': 0.8732311427593231}), ('Investment bank', 'Venture capital', {'SemanticDist': 0.4745047092437744}), ('Cognitive bias', 'Daniel Kahneman', {'SemanticDist': 0.5160777270793915}), ('Daniel Kahneman', 'Amos Tversky', {'SemanticDist': 0.2588019371032715}), ('Amos Tversky', 'Mathematical psychology', {'SemanticDist': 0.4762851595878601}), ('Private Parts (book)', 'Dale Carnegie', {'SemanticDist': 0.6660282909870148}), ('Dale Carnegie', 'How to Win Friends and Influence People', {'SemanticDist': 0.41483819484710693}), ('Dale Carnegie', 'How to Stop Worrying and Start Living', {'SemanticDist': 0.398112952709198}), ('How to Win Friends and Influence People', 'List of best-selling books', {'SemanticDist': 0.5825975835323334}), ('Tristar Gym', 'Gold%27s Gym', {'SemanticDist': 0.9805891370249995}), ('Gold%27s Gym', 'Jujitsu', {'SemanticDist': 1.0039049492090055}), ('Jujitsu', 'Bodybuilding', {'SemanticDist': 0.6594723761081696}), ('Bodybuilding', 'Overtraining', {'SemanticDist': 0.6412786841392517}), ('Overtraining', 'Muscle hypertrophy', {'SemanticDist': 0.4384666681289673}), ('Muscle hypertrophy', 'Strength training', {'SemanticDist': 0.42271536588668823}), ('Muscle hypertrophy', 'Superfood', {'SemanticDist': 0.7014849781990051}), ('Muscle hypertrophy', 'One rep maximum', {'SemanticDist': 0.470539927482605}), ('Muscle hypertrophy', 'Healthy diet', {'SemanticDist': 0.6191189587116241}), ('Strength training', 'IFAF World Championship', {'SemanticDist': 0.7232089936733246}), ('Strength training', 'One rep maximum', {'SemanticDist': 0.42624223232269287}), ('Strength training', 'Progressive overload', {'SemanticDist': 0.9871252237069197}), ('IFAF World Championship', 'FIFA World Cup', {'SemanticDist': 0.5578933954238892}), ('FIFA World Cup', 'Italy', {'SemanticDist': 0.8615228533744812}), ('Italy', 'Mexico', {'SemanticDist': 0.6425395309925079}), ('Italy', 'Italian language', {'SemanticDist': 0.5723511576652527}), ('Southern Italy', 'Economy of Milan', {'SemanticDist': 0.961740688910668}), ('Southern Italy', 'Economy of Italy', {'SemanticDist': 0.6308803558349609}), ('Economy of Italy', 'France', {'SemanticDist': 0.8116264492273331}), ('France', 'Libert%C3%A9, %C3%A9galit%C3%A9, fraternit%C3%A9', {'SemanticDist': 1.055717447973892}), ('Libert%C3%A9, %C3%A9galit%C3%A9, fraternit%C3%A9', 'Give me liberty, or give me death!', {'SemanticDist': 1.038640717185886}), ('Jackie Martling', 'What Did You Expect%3F (Jackie Martling album)', {'SemanticDist': 1.0882584903150043}), ('Jackie Martling', 'Hot Dogs %2B Donuts', {'SemanticDist': 0.9891106191266364}), ('Jackie Martling', 'The Very Best of Jackie Martling%27s Talking Joke Book Cassettes, Vol. 1', {'SemanticDist': 0.9937579684219825}), ('The Very Best of Jackie Martling%27s Talking Joke Book Cassettes, Vol. 1', 'Joke Man', {'SemanticDist': 0.25802331797544875}), ('Joke Man', 'Howard Stern', {'SemanticDist': 0.9528491523072488}), ('Howard Stern', 'Reproductive health', {'SemanticDist': 0.8839273601770401}), ('Reproductive health', 'World Health Organization', {'SemanticDist': 0.5925631821155548}), ('World Health Organization', 'Eric Lynch', {'SemanticDist': 0.7634876370429993}), ('Protein', 'Phonograph record', {'SemanticDist': 0.9178125485777855}), ('Protein', 'Ketosis', {'SemanticDist': 0.6953644752502441}), ('Protein', 'Ketogenic diet', {'SemanticDist': 0.7283671796321869}), ('Protein', 'Macromolecule', {'SemanticDist': 0.5004483759403229}), ('Protein', 'Cruel Summer (GOOD Music album)', {'SemanticDist': 0.8597078025341034}), ('The Life of Pablo', 'Phonograph record', {'SemanticDist': 0.7974053919315338}), ('Ketosis', 'Paleolithic diet', {'SemanticDist': 0.6082486808300018}), ('Paleolithic diet', 'Ketogenic diet', {'SemanticDist': 0.5749512016773224}), ('Macromolecule', 'Mexico', {'SemanticDist': 0.894383504986763}), ('Italian language', 'Spanish language', {'SemanticDist': 0.44696807861328125}), ('Italian language', 'Herman Lay', {'SemanticDist': 0.8390690684318542}), ('Italian language', 'Frito-Lay', {'SemanticDist': 0.8524880856275558}), ('Spanish language', 'Herman Lay', {'SemanticDist': 0.8502581417560577}), ('Spanish language', 'Frito-Lay', {'SemanticDist': 0.8231979459524155}), ('Spanish language', 'Tostitos', {'SemanticDist': 0.8146903812885284}), ('Tostitos', 'Progressive overload', {'SemanticDist': 1.0651224649557345}), ('Progressive overload', 'One rep maximum', {'SemanticDist': 0.9145037044023001}), ('Progressive overload', 'Superfood', {'SemanticDist': 1.1134386305894313}), ('Progressive overload', 'Hypertrophy', {'SemanticDist': 0.9606220908162774}), ('Progressive overload', 'Trader (finance)', {'SemanticDist': 0.9543805406397354}), ('Superfood', 'Healthy diet', {'SemanticDist': 0.5461066365242004}), ('Superfood', 'Hypertrophy', {'SemanticDist': 0.7740609496831894}), ('Trader (finance)', 'Day trading', {'SemanticDist': 0.42765170335769653}), ('Trader (finance)', 'Stand-up comedy', {'SemanticDist': 0.7378471195697784}), ('Day trading', 'Day trader', {'SemanticDist': 0.42692476511001587}), ('Day trader', 'Derivative (finance)', {'SemanticDist': 0.5507515668869019}), ('Day trader', 'Trading day', {'SemanticDist': 0.4084206223487854}), ('Derivative (finance)', 'Trading day', {'SemanticDist': 0.5177693963050842}), ('Stand-up comedy', 'Fred Norris', {'SemanticDist': 0.6920513808727264}), ('Stand-up comedy', 'Artie Lange', {'SemanticDist': 0.6481859087944031}), ('Stand-up comedy', 'Ali Wentworth', {'SemanticDist': 0.7181910276412964}), ('Stand-up comedy', 'Jessica Seinfeld', {'SemanticDist': 0.6978451311588287}), ('Stand-up comedy', 'Hillary Clinton', {'SemanticDist': 0.8087123185396194}), ('Fred Norris', 'Jessica Seinfeld', {'SemanticDist': 0.6327345669269562}), ('Jessica Seinfeld', 'Artie Lange', {'SemanticDist': 0.6292257010936737}), ('Jessica Seinfeld', 'Hillary Clinton', {'SemanticDist': 0.6657344996929169}), ('Cruel Summer (GOOD Music album)', 'Steve jobs', {'SemanticDist': 0.8141997009515762}), ('Cruel Summer (GOOD Music album)', 'Drake (musician)', {'SemanticDist': 0.5844948589801788}), ('Steve jobs', 'Watch the Throne', {'SemanticDist': 0.7304782569408417}), ('Steve jobs', 'Clique (song)', {'SemanticDist': 0.7336440980434418}), ('Steve jobs', 'IPhone X', {'SemanticDist': 0.5565779209136963}), ('Watch the Throne', 'To the World', {'SemanticDist': 0.9759192037510394}), ('Clique (song)', 'Apple Inc.', {'SemanticDist': 0.751528725028038}), ('Apple Inc.', 'To the World', {'SemanticDist': 1.0612288229619664}), ('The College Dropout', 'Mercy (GOOD Music song)', {'SemanticDist': 0.548411637544632}), ('Fascism', 'Donald Trump', {'SemanticDist': 0.8210678845643997})])"
            ]
          },
          "metadata": {
            "tags": []
          },
          "execution_count": 17
        }
      ]
    },
    {
      "cell_type": "code",
      "metadata": {
        "id": "dGcNxEsAB4Bh",
        "outputId": "9f1f947c-66cc-42b5-d14c-ad86020c5eeb",
        "colab": {
          "base_uri": "https://localhost:8080/"
        }
      },
      "source": [
        "adj_G = nx.linalg.graphmatrix.adjacency_matrix(G, weight = 'SemanticDist')\n",
        "adj_G.todense()"
      ],
      "execution_count": 18,
      "outputs": [
        {
          "output_type": "execute_result",
          "data": {
            "text/plain": [
              "matrix([[0.        , 0.4651826 , 0.        , ..., 0.        , 0.        ,\n",
              "         0.        ],\n",
              "        [0.4651826 , 0.        , 0.55868265, ..., 0.        , 0.        ,\n",
              "         0.        ],\n",
              "        [0.        , 0.55868265, 0.        , ..., 0.        , 0.        ,\n",
              "         0.        ],\n",
              "        ...,\n",
              "        [0.        , 0.        , 0.        , ..., 0.        , 0.        ,\n",
              "         0.        ],\n",
              "        [0.        , 0.        , 0.        , ..., 0.        , 0.        ,\n",
              "         0.82106788],\n",
              "        [0.        , 0.        , 0.        , ..., 0.        , 0.82106788,\n",
              "         0.        ]])"
            ]
          },
          "metadata": {
            "tags": []
          },
          "execution_count": 18
        }
      ]
    }
  ]
}