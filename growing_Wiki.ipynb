{
  "nbformat": 4,
  "nbformat_minor": 0,
  "metadata": {
    "colab": {
      "name": "growing_Wiki.ipynb",
      "provenance": [],
      "collapsed_sections": [],
      "authorship_tag": "ABX9TyNnpRlitb+/MyNusOD2JIej",
      "include_colab_link": true
    },
    "kernelspec": {
      "name": "python3",
      "display_name": "Python 3"
    }
  },
  "cells": [
    {
      "cell_type": "markdown",
      "metadata": {
        "id": "view-in-github",
        "colab_type": "text"
      },
      "source": [
        "<a href=\"https://colab.research.google.com/github/spatank/Curiosity/blob/master/growing_Wiki.ipynb\" target=\"_parent\"><img src=\"https://colab.research.google.com/assets/colab-badge.svg\" alt=\"Open In Colab\"/></a>"
      ]
    },
    {
      "cell_type": "code",
      "metadata": {
        "colab": {
          "base_uri": "https://localhost:8080/"
        },
        "id": "ttNvExz02ANz",
        "outputId": "8f44ca9d-fc0a-4302-c0b9-a7545ad42e92"
      },
      "source": [
        "from google.colab import drive\n",
        "drive.mount('/content/drive')\n",
        "\n",
        "import os\n",
        "os.chdir('/content/drive/My Drive/Curiosity_IGT/Wiki')"
      ],
      "execution_count": 1,
      "outputs": [
        {
          "output_type": "stream",
          "text": [
            "Mounted at /content/drive\n"
          ],
          "name": "stdout"
        }
      ]
    },
    {
      "cell_type": "code",
      "metadata": {
        "colab": {
          "base_uri": "https://localhost:8080/"
        },
        "id": "QhO1pIZY2Nlu",
        "outputId": "3c466e3f-039e-4094-eaf4-7efa0edac50f"
      },
      "source": [
        "!ls # run !ls to verify location"
      ],
      "execution_count": 2,
      "outputs": [
        {
          "output_type": "stream",
          "text": [
            "growing_Wiki.ipynb  wiki_data_processed  wiki_data_raw\n"
          ],
          "name": "stdout"
        }
      ]
    },
    {
      "cell_type": "code",
      "metadata": {
        "id": "-H2Is4Hs2UgR"
      },
      "source": [
        "import glob\n",
        "import json\n",
        "import pandas as pd\n",
        "# !pip install wikipedia2vec\n",
        "# from wikipedia2vec import Wikipedia2Vec\n",
        "# import numpy as np\n",
        "# from scipy.spatial.distance import cosine\n",
        "from scipy.io import savemat\n",
        "import networkx as nx"
      ],
      "execution_count": 3,
      "outputs": []
    },
    {
      "cell_type": "code",
      "metadata": {
        "id": "LRj9WSI03tI7"
      },
      "source": [
        "all_json = glob.glob('wiki_data_raw/*.json')"
      ],
      "execution_count": 4,
      "outputs": []
    },
    {
      "cell_type": "code",
      "metadata": {
        "colab": {
          "base_uri": "https://localhost:8080/"
        },
        "id": "R6UrDj6OtvFw",
        "outputId": "956bba42-a071-4bc3-cfaa-e9cafc10c7aa"
      },
      "source": [
        "filtered_json = all_json[-5:]\n",
        "filtered_json"
      ],
      "execution_count": 8,
      "outputs": [
        {
          "output_type": "execute_result",
          "data": {
            "text/plain": [
              "['wiki_data_raw/physics.json',\n",
              " 'wiki_data_raw/psychology.json',\n",
              " 'wiki_data_raw/robotics.json',\n",
              " 'wiki_data_raw/sociology.json',\n",
              " 'wiki_data_raw/software engineering.json']"
            ]
          },
          "metadata": {
            "tags": []
          },
          "execution_count": 8
        }
      ]
    },
    {
      "cell_type": "code",
      "metadata": {
        "id": "otvKJc54bfCG",
        "outputId": "363bf1c4-5b52-43de-dc7b-7da5204a39b1",
        "colab": {
          "base_uri": "https://localhost:8080/",
          "height": 35
        }
      },
      "source": [
        "filename = filtered_json[0]\n",
        "filename"
      ],
      "execution_count": 9,
      "outputs": [
        {
          "output_type": "execute_result",
          "data": {
            "application/vnd.google.colaboratory.intrinsic+json": {
              "type": "string"
            },
            "text/plain": [
              "'wiki_data_raw/physics.json'"
            ]
          },
          "metadata": {
            "tags": []
          },
          "execution_count": 9
        }
      ]
    },
    {
      "cell_type": "code",
      "metadata": {
        "id": "fDUdsK4PbrYb"
      },
      "source": [
        "with open(filename) as f:\n",
        "  data = json.load(f)"
      ],
      "execution_count": 10,
      "outputs": []
    },
    {
      "cell_type": "code",
      "metadata": {
        "id": "ud4fBA0Ab3by",
        "outputId": "5fc38e26-3462-4ed6-b6f2-c19865de286e",
        "colab": {
          "base_uri": "https://localhost:8080/"
        }
      },
      "source": [
        "for node in data['nodes']:\n",
        "  if node['year'] > 1000 and node['year'] < 1050:\n",
        "    print(node)"
      ],
      "execution_count": 15,
      "outputs": [
        {
          "output_type": "stream",
          "text": [
            "{'id': 'Laminar flow', 'year': 1001, 'community': 0, 'degree': 32}\n",
            "{'id': 'Specific weight', 'year': 1001, 'community': 0, 'degree': 9}\n",
            "{'id': 'Flocculation', 'year': 1001, 'community': 0, 'degree': 8}\n",
            "{'id': 'Teleforce', 'year': 1001, 'community': 3, 'degree': 2}\n",
            "{'id': 'Upward looking sonar', 'year': 1001, 'community': 0, 'degree': 2}\n",
            "{'id': 'Atomic clock', 'year': 1010, 'community': 21, 'degree': 31}\n",
            "{'id': 'Cosmic neutrino background', 'year': 1010, 'community': 1, 'degree': 7}\n",
            "{'id': 'Atomichron', 'year': 1011, 'community': 21, 'degree': 1}\n",
            "{'id': 'Scott Diddams', 'year': 1011, 'community': 21, 'degree': 2}\n",
            "{'id': 'Deep-level transient spectroscopy', 'year': 1012, 'community': 5, 'degree': 6}\n",
            "{'id': 'Density of air', 'year': 1013, 'community': 0, 'degree': 15}\n",
            "{'id': 'Electron magnetic dipole moment', 'year': 1013, 'community': 11, 'degree': 55}\n",
            "{'id': 'Pulsar', 'year': 1014, 'community': 1, 'degree': 36}\n",
            "{'id': 'Rotation-powered pulsar', 'year': 1014, 'community': 1, 'degree': 61}\n",
            "{'id': 'Sołtan argument', 'year': 1014, 'community': 1, 'degree': 4}\n",
            "{'id': 'Electroweak interaction', 'year': 1015, 'community': 8, 'degree': 54}\n",
            "{'id': 'Sterile neutrino', 'year': 1015, 'community': 8, 'degree': 29}\n",
            "{'id': 'Heavy neutrino', 'year': 1015, 'community': 8, 'degree': 63}\n",
            "{'id': 'Neutral heavy lepton', 'year': 1015, 'community': 8, 'degree': 63}\n",
            "{'id': 'Grand unification energy', 'year': 1016, 'community': 8, 'degree': 10}\n",
            "{'id': 'Chromosphere', 'year': 1017, 'community': 3, 'degree': 9}\n",
            "{'id': 'Momentum', 'year': 1020, 'community': 10, 'degree': 180}\n",
            "{'id': 'Astroparticle physics', 'year': 1020, 'community': 8, 'degree': 14}\n",
            "{'id': 'Particle astrophysics', 'year': 1020, 'community': 1, 'degree': 37}\n",
            "{'id': 'Moment map', 'year': 1021, 'community': 10, 'degree': 2}\n",
            "{'id': 'Journal of Physics G', 'year': 1021, 'community': 8, 'degree': 22}\n",
            "{'id': 'Dimensional reduction', 'year': 1021, 'community': 6, 'degree': 11}\n",
            "{'id': 'Double beta decay', 'year': 1025, 'community': 4, 'degree': 24}\n",
            "{'id': 'S-matrix', 'year': 1031, 'community': 11, 'degree': 33}\n",
            "{'id': 'Vladimir Jurko Glaser', 'year': 1032, 'community': 6, 'degree': 3}\n",
            "{'id': 'Neodymium-doped yttrium lithium fluoride', 'year': 1047, 'community': 12, 'degree': 7}\n"
          ],
          "name": "stdout"
        }
      ]
    },
    {
      "cell_type": "code",
      "metadata": {
        "colab": {
          "base_uri": "https://localhost:8080/"
        },
        "id": "RwZfujRxGd_O",
        "outputId": "d428380a-3e1e-4db9-ead6-2af0f5b08b59"
      },
      "source": [
        "for filename in filtered_json:\n",
        "  topic = filename.split('/')[1].split('.')[0].split()\n",
        "  topic = '_'.join(topic)\n",
        "  !mkdir $topic\n",
        "  print('Starting ' + topic)\n",
        "  # load data for current topic\n",
        "  with open(filename) as f:\n",
        "    data = json.load(f)\n",
        "  # find the set of all years where there's been activity in the topic\n",
        "  years = []\n",
        "  for node in data['nodes']:\n",
        "    years.append(node['year'])\n",
        "  years = sorted(set(years)) # sorted ascending\n",
        "  # each year with activity gets a network \n",
        "  for year_ID, year in enumerate(years):\n",
        "    # initialize empty graph\n",
        "    G = nx.DiGraph()\n",
        "    edge_info = []\n",
        "    for link in data['links']:\n",
        "      source_ID = link['source']\n",
        "      source_node_year = data['nodes'][source_ID]['year']\n",
        "      target_ID = link['target']\n",
        "      target_node_year = data['nodes'][target_ID]['year']\n",
        "      # if both concepts exist by the year under consideration, add edge\n",
        "      if source_node_year <= year and target_node_year <= year:\n",
        "        from_node = data['nodes'][source_ID]['id']\n",
        "        to_node = data['nodes'][target_ID]['id']\n",
        "        edge_weight = link['weight']\n",
        "        G.add_edge(source_ID, target_ID, weight = edge_weight)\n",
        "        edge_info_dict = {'from': from_node, 'to': to_node, 'weight': edge_weight}\n",
        "        edge_info.append(edge_info_dict)\n",
        "    try:\n",
        "      adj_G = nx.linalg.graphmatrix.adjacency_matrix(G, weight = 'weight')\n",
        "    except:\n",
        "      adj_G = []\n",
        "    savename = topic + '/' + topic + '_' + str(year_ID) + '.mat'\n",
        "    mdic = {'year': year, 'adj': adj_G, 'edge_info': edge_info}\n",
        "    savemat(savename, mdic)\n",
        "  print('Ending ' + topic)"
      ],
      "execution_count": null,
      "outputs": [
        {
          "output_type": "stream",
          "text": [
            "Starting physics\n",
            "Ending physics\n",
            "Starting psychology\n",
            "Ending psychology\n",
            "Starting robotics\n",
            "Ending robotics\n",
            "Starting sociology\n",
            "Ending sociology\n",
            "Starting software_engineering\n",
            "Ending software_engineering\n"
          ],
          "name": "stdout"
        }
      ]
    }
  ]
}