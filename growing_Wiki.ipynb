{
  "nbformat": 4,
  "nbformat_minor": 0,
  "metadata": {
    "colab": {
      "name": "growing_Wiki.ipynb",
      "provenance": [],
      "collapsed_sections": [],
      "authorship_tag": "ABX9TyPWpEOcKiRicWshQFolOCPe",
      "include_colab_link": true
    },
    "kernelspec": {
      "name": "python3",
      "display_name": "Python 3"
    }
  },
  "cells": [
    {
      "cell_type": "markdown",
      "metadata": {
        "id": "view-in-github",
        "colab_type": "text"
      },
      "source": [
        "<a href=\"https://colab.research.google.com/github/spatank/Curiosity/blob/master/growing_Wiki.ipynb\" target=\"_parent\"><img src=\"https://colab.research.google.com/assets/colab-badge.svg\" alt=\"Open In Colab\"/></a>"
      ]
    },
    {
      "cell_type": "code",
      "metadata": {
        "colab": {
          "base_uri": "https://localhost:8080/"
        },
        "id": "ttNvExz02ANz",
        "outputId": "94018c91-d6aa-4896-b5f1-7f593a104613"
      },
      "source": [
        "from google.colab import drive\n",
        "drive.mount('/content/drive')\n",
        "\n",
        "import os\n",
        "os.chdir('/content/drive/My Drive/Curiosity_IGT/Wiki')"
      ],
      "execution_count": 1,
      "outputs": [
        {
          "output_type": "stream",
          "text": [
            "Mounted at /content/drive\n"
          ],
          "name": "stdout"
        }
      ]
    },
    {
      "cell_type": "code",
      "metadata": {
        "colab": {
          "base_uri": "https://localhost:8080/"
        },
        "id": "QhO1pIZY2Nlu",
        "outputId": "e8a6b353-588e-4497-dc36-f7ccdc0491dc"
      },
      "source": [
        "!ls # run !ls to verify location"
      ],
      "execution_count": 2,
      "outputs": [
        {
          "output_type": "stream",
          "text": [
            "growing_Wiki.ipynb  wiki_data_processed  wiki_data_raw\n"
          ],
          "name": "stdout"
        }
      ]
    },
    {
      "cell_type": "code",
      "metadata": {
        "id": "-H2Is4Hs2UgR"
      },
      "source": [
        "import glob\n",
        "import json\n",
        "import pandas as pd\n",
        "# !pip install wikipedia2vec\n",
        "# from wikipedia2vec import Wikipedia2Vec\n",
        "# import numpy as np\n",
        "# from scipy.spatial.distance import cosine\n",
        "from scipy.io import savemat\n",
        "import networkx as nx"
      ],
      "execution_count": 3,
      "outputs": []
    },
    {
      "cell_type": "code",
      "metadata": {
        "id": "LRj9WSI03tI7"
      },
      "source": [
        "all_json = glob.glob('wiki_data_raw/*.json')"
      ],
      "execution_count": 4,
      "outputs": []
    },
    {
      "cell_type": "code",
      "metadata": {
        "colab": {
          "base_uri": "https://localhost:8080/"
        },
        "id": "R6UrDj6OtvFw",
        "outputId": "2b9f78ee-e3c9-4619-e038-5e393cfb7b5b"
      },
      "source": [
        "filtered_json = all_json[-5:]\n",
        "filtered_json"
      ],
      "execution_count": 5,
      "outputs": [
        {
          "output_type": "execute_result",
          "data": {
            "text/plain": [
              "['wiki_data_raw/physics.json',\n",
              " 'wiki_data_raw/psychology.json',\n",
              " 'wiki_data_raw/robotics.json',\n",
              " 'wiki_data_raw/sociology.json',\n",
              " 'wiki_data_raw/software engineering.json']"
            ]
          },
          "metadata": {
            "tags": []
          },
          "execution_count": 5
        }
      ]
    },
    {
      "cell_type": "code",
      "metadata": {
        "colab": {
          "base_uri": "https://localhost:8080/"
        },
        "id": "RwZfujRxGd_O",
        "outputId": "d428380a-3e1e-4db9-ead6-2af0f5b08b59"
      },
      "source": [
        "for filename in filtered_json:\n",
        "  topic = filename.split('/')[1].split('.')[0].split()\n",
        "  topic = '_'.join(topic)\n",
        "  !mkdir $topic\n",
        "  print('Starting ' + topic)\n",
        "  # load data for current topic\n",
        "  with open(filename) as f:\n",
        "    data = json.load(f)\n",
        "  # find the set of all years where there's been activity in the topic\n",
        "  years = []\n",
        "  for node in data['nodes']:\n",
        "    years.append(node['year'])\n",
        "  years = sorted(set(years)) # sorted ascending\n",
        "  # each year with activity gets a network \n",
        "  for year_ID, year in enumerate(years):\n",
        "    # initialize empty graph\n",
        "    G = nx.DiGraph()\n",
        "    edge_info = []\n",
        "    for link in data['links']:\n",
        "      source_ID = link['source']\n",
        "      source_node_year = data['nodes'][source_ID]['year']\n",
        "      target_ID = link['target']\n",
        "      target_node_year = data['nodes'][target_ID]['year']\n",
        "      # if both concepts exist by the year under consideration, add edge\n",
        "      if source_node_year <= year and target_node_year <= year:\n",
        "        from_node = data['nodes'][source_ID]['id']\n",
        "        to_node = data['nodes'][target_ID]['id']\n",
        "        edge_weight = link['weight']\n",
        "        G.add_edge(source_ID, target_ID, weight = edge_weight)\n",
        "        edge_info_dict = {'from': from_node, 'to': to_node, 'weight': edge_weight}\n",
        "        edge_info.append(edge_info_dict)\n",
        "    try:\n",
        "      adj_G = nx.linalg.graphmatrix.adjacency_matrix(G, weight = 'weight')\n",
        "    except:\n",
        "      adj_G = []\n",
        "    savename = topic + '/' + topic + '_' + str(year_ID) + '.mat'\n",
        "    mdic = {'year': year, 'adj': adj_G, 'edge_info': edge_info}\n",
        "    savemat(savename, mdic)\n",
        "  print('Ending ' + topic)"
      ],
      "execution_count": 6,
      "outputs": [
        {
          "output_type": "stream",
          "text": [
            "Starting physics\n",
            "Ending physics\n",
            "Starting psychology\n",
            "Ending psychology\n",
            "Starting robotics\n",
            "Ending robotics\n",
            "Starting sociology\n",
            "Ending sociology\n",
            "Starting software_engineering\n",
            "Ending software_engineering\n"
          ],
          "name": "stdout"
        }
      ]
    }
  ]
}