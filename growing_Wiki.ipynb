{
  "nbformat": 4,
  "nbformat_minor": 0,
  "metadata": {
    "colab": {
      "name": "growing_Wiki.ipynb",
      "provenance": [],
      "collapsed_sections": [],
      "authorship_tag": "ABX9TyPeiai8Zbl5ACHjowFjDPpx",
      "include_colab_link": true
    },
    "kernelspec": {
      "name": "python3",
      "display_name": "Python 3"
    }
  },
  "cells": [
    {
      "cell_type": "markdown",
      "metadata": {
        "id": "view-in-github",
        "colab_type": "text"
      },
      "source": [
        "<a href=\"https://colab.research.google.com/github/spatank/Curiosity/blob/master/growing_Wiki.ipynb\" target=\"_parent\"><img src=\"https://colab.research.google.com/assets/colab-badge.svg\" alt=\"Open In Colab\"/></a>"
      ]
    },
    {
      "cell_type": "code",
      "metadata": {
        "colab": {
          "base_uri": "https://localhost:8080/"
        },
        "id": "ttNvExz02ANz",
        "outputId": "80962923-23c9-42ed-f11f-5635bc4c1c4c"
      },
      "source": [
        "from google.colab import drive\n",
        "drive.mount('/content/drive')\n",
        "\n",
        "import os\n",
        "os.chdir('/content/drive/My Drive/Curiosity_IGT/')"
      ],
      "execution_count": 2,
      "outputs": [
        {
          "output_type": "stream",
          "text": [
            "Mounted at /content/drive\n"
          ],
          "name": "stdout"
        }
      ]
    },
    {
      "cell_type": "code",
      "metadata": {
        "colab": {
          "base_uri": "https://localhost:8080/"
        },
        "id": "QhO1pIZY2Nlu",
        "outputId": "1d2bd103-0451-4694-a6d4-4c0c4eb11270"
      },
      "source": [
        "!ls # run !ls to verify location"
      ],
      "execution_count": 3,
      "outputs": [
        {
          "output_type": "stream",
          "text": [
            "enwiki_20180420_300d.pkl  growing_Wiki.ipynb  Processed\n",
            "growing_KNOT_nets.ipynb   Harang_Data\t      WikiData_Shubhankar.csv\n"
          ],
          "name": "stdout"
        }
      ]
    },
    {
      "cell_type": "code",
      "metadata": {
        "id": "-H2Is4Hs2UgR"
      },
      "source": [
        "import glob\n",
        "import json\n",
        "import pandas as pd\n",
        "# !pip install wikipedia2vec\n",
        "# from wikipedia2vec import Wikipedia2Vec\n",
        "# import numpy as np\n",
        "# from scipy.spatial.distance import cosine\n",
        "from scipy.io import savemat\n",
        "import networkx as nx"
      ],
      "execution_count": 4,
      "outputs": []
    },
    {
      "cell_type": "code",
      "metadata": {
        "id": "LRj9WSI03tI7"
      },
      "source": [
        "all_json = glob.glob('Harang_Data/*.json')"
      ],
      "execution_count": 5,
      "outputs": []
    },
    {
      "cell_type": "code",
      "metadata": {
        "colab": {
          "base_uri": "https://localhost:8080/"
        },
        "id": "RwZfujRxGd_O",
        "outputId": "dee7db7a-7f00-42b1-fab2-b235c8ea12f0"
      },
      "source": [
        "for filename in all_json:\n",
        "  topic = filename.split('/')[1].split('.')[0].split()\n",
        "  topic = '_'.join(topic)\n",
        "  print('Starting ' + topic)\n",
        "  # load data for current topic\n",
        "  with open(filename) as f:\n",
        "    data = json.load(f)\n",
        "  # find the set of all years where there's been activity in the topic\n",
        "  years = []\n",
        "  for node in data['nodes']:\n",
        "    years.append(node['year'])\n",
        "  years = sorted(set(years)) # sorted ascending\n",
        "  # each year with activity gets a network \n",
        "  for year_ID, year in enumerate(years):\n",
        "    # initialize empty graph\n",
        "    G = nx.DiGraph()\n",
        "    edge_info = []\n",
        "    for link in data['links']:\n",
        "      source_ID = link['source']\n",
        "      source_node_year = data['nodes'][source_ID]['year']\n",
        "      target_ID = link['target']\n",
        "      target_node_year = data['nodes'][target_ID]['year']\n",
        "      # if both concepts exist by the year under consideration, add edge\n",
        "      if source_node_year <= year and target_node_year <= year:\n",
        "        from_node = data['nodes'][source_ID]['id']\n",
        "        to_node = data['nodes'][target_ID]['id']\n",
        "        edge_weight = link['weight']\n",
        "        G.add_edge(source_ID, target_ID, weight = edge_weight)\n",
        "        edge_info_dict = {'from': from_node, 'to': to_node, 'weight': edge_weight}\n",
        "        edge_info.append(edge_info_dict)\n",
        "    try:\n",
        "      adj_G = nx.linalg.graphmatrix.adjacency_matrix(G, weight = 'weight')\n",
        "    except:\n",
        "      adj_G = []\n",
        "    savename = topic + '_' + str(year_ID) + '.mat'\n",
        "    mdic = {'year': year, 'adj': adj_G, 'edge_info': edge_info}\n",
        "    savemat(savename, mdic)\n",
        "  print('Ending ' + topic)"
      ],
      "execution_count": null,
      "outputs": [
        {
          "output_type": "stream",
          "text": [
            "Starting abstract_algebra\n",
            "Ending abstract_algebra\n",
            "Starting accounting\n",
            "Ending accounting\n",
            "Starting anatomy\n",
            "Ending anatomy\n",
            "Starting biochemistry\n",
            "Ending biochemistry\n",
            "Starting biophysics\n",
            "Ending biophysics\n",
            "Starting Boolean_algebra\n",
            "Ending Boolean_algebra\n",
            "Starting calculus\n",
            "Ending calculus\n",
            "Starting chemistry\n",
            "Ending chemistry\n",
            "Starting cognitive_science\n",
            "Ending cognitive_science\n",
            "Starting commutative_algebra\n",
            "Ending commutative_algebra\n",
            "Starting dynamical_systems_and_differential_equations\n",
            "Ending dynamical_systems_and_differential_equations\n",
            "Starting dynamical_systems\n",
            "Ending dynamical_systems\n",
            "Starting economics\n",
            "Ending economics\n",
            "Starting earth_science\n",
            "Ending earth_science\n",
            "Starting education\n",
            "Ending education\n",
            "Starting electronics\n",
            "Ending electronics\n",
            "Starting energy\n",
            "Ending energy\n",
            "Starting evolutionary_biology\n",
            "Ending evolutionary_biology\n",
            "Starting genetics\n",
            "Ending genetics\n",
            "Starting geology\n",
            "Ending geology\n",
            "Starting geometry\n",
            "Ending geometry\n",
            "Starting immunology\n",
            "Ending immunology\n",
            "Starting group_theory\n",
            "Ending group_theory\n",
            "Starting law\n",
            "Ending law\n",
            "Starting linear_algebra\n",
            "Ending linear_algebra\n",
            "Starting linguistics\n",
            "Ending linguistics\n",
            "Starting mathematics\n",
            "Ending mathematics\n",
            "Starting meteorology\n",
            "Ending meteorology\n",
            "Starting molecular_biology\n",
            "Ending molecular_biology\n",
            "Starting number_theory\n",
            "Ending number_theory\n",
            "Starting optics\n",
            "Ending optics\n",
            "Starting philosophy_of_law\n",
            "Ending philosophy_of_law\n",
            "Starting philosophy_of_language\n",
            "Ending philosophy_of_language\n",
            "Starting philosophy_of_mind\n",
            "Ending philosophy_of_mind\n",
            "Starting philosophy_of_science\n",
            "Ending philosophy_of_science\n",
            "Starting physics\n"
          ],
          "name": "stdout"
        }
      ]
    }
  ]
}