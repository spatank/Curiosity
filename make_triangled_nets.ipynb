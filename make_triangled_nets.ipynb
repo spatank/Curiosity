{
  "nbformat": 4,
  "nbformat_minor": 0,
  "metadata": {
    "colab": {
      "name": "make_triangled_nets.ipynb",
      "provenance": [],
      "collapsed_sections": [],
      "include_colab_link": true
    },
    "kernelspec": {
      "display_name": "Julia",
      "language": "julia",
      "name": "julia"
    },
    "language_info": {
      "file_extension": ".jl",
      "mimetype": "application/julia",
      "name": "julia"
    },
    "accelerator": "GPU"
  },
  "cells": [
    {
      "cell_type": "markdown",
      "metadata": {
        "id": "view-in-github",
        "colab_type": "text"
      },
      "source": [
        "<a href=\"https://colab.research.google.com/github/spatank/Curiosity/blob/master/make_triangled_nets.ipynb\" target=\"_parent\"><img src=\"https://colab.research.google.com/assets/colab-badge.svg\" alt=\"Open In Colab\"/></a>"
      ]
    },
    {
      "cell_type": "code",
      "metadata": {
        "id": "WtxHkpDvK9Yc"
      },
      "source": [
        "from google.colab import drive\n",
        "drive.mount('/content/drive')"
      ],
      "execution_count": null,
      "outputs": []
    },
    {
      "cell_type": "markdown",
      "metadata": {
        "id": "6ew60wXrZM0W"
      },
      "source": [
        "## Running on Google Colab\n",
        "1. Work on a copy of this notebook: _File_ > _Save a copy in Drive_ (you will need a Google account). Alternatively, you can download the notebook using _File_ > _Download .ipynb_, then upload it to [Colab](https://colab.research.google.com/).\n",
        "2. Execute the following cell (click on it and press Ctrl+Enter) to install Julia, IJulia (the Jupyter kernel for Julia) and other packages. You can update `JULIA_VERSION` and the other parameters, if you know what you're doing. Installation takes 2-3 minutes.\n",
        "3. Reload this page (press Ctrl+R, or ⌘+R, or the F5 key) and continue to the _Checking the Installation_ section.\n",
        "\n",
        "* _Note_: If your Colab Runtime gets reset (e.g., due to inactivity), repeat steps 2 and 3."
      ]
    },
    {
      "cell_type": "code",
      "metadata": {
        "id": "GIeFXS0F0zww",
        "colab": {
          "base_uri": "https://localhost:8080/"
        },
        "outputId": "b8b4a072-c094-4828-b564-5a3345d170fd"
      },
      "source": [
        "%%shell\n",
        "set -e\n",
        "\n",
        "#---------------------------------------------------#\n",
        "JULIA_VERSION=\"1.4.2\" # any version ≥ 0.7.0\n",
        "JULIA_PACKAGES=\"IJulia BenchmarkTools PyCall PyPlot\"\n",
        "JULIA_PACKAGES_IF_GPU=\"CUDA\"\n",
        "JULIA_NUM_THREADS=4\n",
        "#---------------------------------------------------#\n",
        "\n",
        "if [ -n \"$COLAB_GPU\" ] && [ -z `which julia` ]; then\n",
        "  # Install Julia\n",
        "  JULIA_VER=`cut -d '.' -f -2 <<< \"$JULIA_VERSION\"`\n",
        "  echo \"Installing Julia $JULIA_VERSION on the current Colab Runtime...\"\n",
        "  BASE_URL=\"https://julialang-s3.julialang.org/bin/linux/x64\"\n",
        "  URL=\"$BASE_URL/$JULIA_VER/julia-$JULIA_VERSION-linux-x86_64.tar.gz\"\n",
        "  wget -nv $URL -O /tmp/julia.tar.gz # -nv means \"not verbose\"\n",
        "  tar -x -f /tmp/julia.tar.gz -C /usr/local --strip-components 1\n",
        "  rm /tmp/julia.tar.gz\n",
        "\n",
        "  # Install Packages\n",
        "  if [ \"$COLAB_GPU\" = \"1\" ]; then\n",
        "      JULIA_PACKAGES=\"$JULIA_PACKAGES $JULIA_PACKAGES_IF_GPU\"\n",
        "  fi\n",
        "  for PKG in `echo $JULIA_PACKAGES`; do\n",
        "    echo \"Installing Julia package $PKG...\"\n",
        "    julia -e 'using Pkg; pkg\"add '$PKG'; precompile;\"'\n",
        "  done\n",
        "\n",
        "  # Install kernel and rename it to \"julia\"\n",
        "  echo \"Installing IJulia kernel...\"\n",
        "  julia -e 'using IJulia; IJulia.installkernel(\"julia\", env=Dict(\n",
        "      \"JULIA_NUM_THREADS\"=>\"'\"$JULIA_NUM_THREADS\"'\"))'\n",
        "  KERNEL_DIR=`julia -e \"using IJulia; print(IJulia.kerneldir())\"`\n",
        "  KERNEL_NAME=`ls -d \"$KERNEL_DIR\"/julia*`\n",
        "  mv -f $KERNEL_NAME \"$KERNEL_DIR\"/julia  \n",
        "\n",
        "  echo ''\n",
        "  echo \"Successfully installed `julia -v`!\"\n",
        "  echo \"Please reload this page (press Ctrl+R, ⌘+R, or the F5 key) then\"\n",
        "  echo \"jump to the 'Checking the Installation' section.\"\n",
        "fi"
      ],
      "execution_count": null,
      "outputs": [
        {
          "output_type": "stream",
          "text": [
            "Installing Julia 1.4.2 on the current Colab Runtime...\n",
            "2021-01-17 20:55:07 URL:https://storage.googleapis.com/julialang2/bin/linux/x64/1.4/julia-1.4.2-linux-x86_64.tar.gz [99093958/99093958] -> \"/tmp/julia.tar.gz\" [1]\n",
            "Installing Julia package IJulia...\n",
            "    Cloning default registries into `~/.julia`\n",
            "    Cloning registry from \"https://github.com/JuliaRegistries/General.git\"\n",
            "\u001b[2K\u001b[?25h      Added registry `General` to `~/.julia/registries/General`\n",
            "  Resolving package versions...\n",
            "  Installed Artifacts ─────── v1.3.0\n",
            "  Installed MbedTLS_jll ───── v2.16.8+1\n",
            "  Installed VersionParsing ── v1.2.0\n",
            "  Installed ZeroMQ_jll ────── v4.3.2+5\n",
            "  Installed SoftGlobalScope ─ v1.1.0\n",
            "  Installed Parsers ───────── v1.0.15\n",
            "  Installed IJulia ────────── v1.23.1\n",
            "  Installed JLLWrappers ───── v1.2.0\n",
            "  Installed Conda ─────────── v1.5.0\n",
            "  Installed MbedTLS ───────── v1.0.3\n",
            "  Installed JSON ──────────── v0.21.1\n",
            "  Installed ZMQ ───────────── v1.2.1\n",
            "Downloading artifact: MbedTLS\n",
            "######################################################################## 100.0%\n",
            "\u001b[1A\u001b[2K\u001b[?25hDownloading artifact: ZeroMQ\n",
            "######################################################################## 100.0%\n",
            "\u001b[1A\u001b[2K\u001b[?25h   Updating `~/.julia/environments/v1.4/Project.toml`\n",
            "  [7073ff75] + IJulia v1.23.1\n",
            "   Updating `~/.julia/environments/v1.4/Manifest.toml`\n",
            "  [56f22d72] + Artifacts v1.3.0\n",
            "  [8f4d0f93] + Conda v1.5.0\n",
            "  [7073ff75] + IJulia v1.23.1\n",
            "  [692b3bcd] + JLLWrappers v1.2.0\n",
            "  [682c06a0] + JSON v0.21.1\n",
            "  [739be429] + MbedTLS v1.0.3\n",
            "  [c8ffd9c3] + MbedTLS_jll v2.16.8+1\n",
            "  [69de0a69] + Parsers v1.0.15\n",
            "  [b85f4697] + SoftGlobalScope v1.1.0\n",
            "  [81def892] + VersionParsing v1.2.0\n",
            "  [c2297ded] + ZMQ v1.2.1\n",
            "  [8f1865be] + ZeroMQ_jll v4.3.2+5\n",
            "  [2a0f44e3] + Base64 \n",
            "  [ade2ca70] + Dates \n",
            "  [8ba89e20] + Distributed \n",
            "  [7b1f6079] + FileWatching \n",
            "  [b77e0a4c] + InteractiveUtils \n",
            "  [76f85450] + LibGit2 \n",
            "  [8f399da3] + Libdl \n",
            "  [56ddb016] + Logging \n",
            "  [d6f4376e] + Markdown \n",
            "  [a63ad114] + Mmap \n",
            "  [44cfe95a] + Pkg \n",
            "  [de0858da] + Printf \n",
            "  [3fa0cd96] + REPL \n",
            "  [9a3f8284] + Random \n",
            "  [ea8e919c] + SHA \n",
            "  [9e88b42a] + Serialization \n",
            "  [6462fe0b] + Sockets \n",
            "  [8dfed614] + Test \n",
            "  [cf7118a7] + UUIDs \n",
            "  [4ec0a83e] + Unicode \n",
            "   Building Conda ─→ `~/.julia/packages/Conda/x5ml4/deps/build.log`\n",
            "   Building IJulia → `~/.julia/packages/IJulia/IDNmS/deps/build.log`\n",
            "Precompiling project...\n",
            "Installing Julia package BenchmarkTools...\n",
            "   Updating registry at `~/.julia/registries/General`\n",
            "   Updating git-repo `https://github.com/JuliaRegistries/General.git`\n",
            "\u001b[?25l\u001b[2K\u001b[?25h  Resolving package versions...\n",
            "  Installed BenchmarkTools ─ v0.5.0\n",
            "   Updating `~/.julia/environments/v1.4/Project.toml`\n",
            "  [6e4b80f9] + BenchmarkTools v0.5.0\n",
            "   Updating `~/.julia/environments/v1.4/Manifest.toml`\n",
            "  [6e4b80f9] + BenchmarkTools v0.5.0\n",
            "  [37e2e46d] + LinearAlgebra \n",
            "  [2f01184e] + SparseArrays \n",
            "  [10745b16] + Statistics \n",
            "Precompiling project...\n",
            "Installing Julia package PyCall...\n",
            "   Updating registry at `~/.julia/registries/General`\n",
            "   Updating git-repo `https://github.com/JuliaRegistries/General.git`\n",
            "\u001b[?25l\u001b[2K\u001b[?25h  Resolving package versions...\n",
            "  Installed MacroTools ─ v0.5.6\n",
            "  Installed PyCall ───── v1.92.2\n",
            "   Updating `~/.julia/environments/v1.4/Project.toml`\n",
            "  [438e738f] + PyCall v1.92.2\n",
            "   Updating `~/.julia/environments/v1.4/Manifest.toml`\n",
            "  [1914dd2f] + MacroTools v0.5.6\n",
            "  [438e738f] + PyCall v1.92.2\n",
            "   Building PyCall → `~/.julia/packages/PyCall/tqyST/deps/build.log`\n",
            "Precompiling project...\n",
            "Installing Julia package PyPlot...\n",
            "   Updating registry at `~/.julia/registries/General`\n",
            "   Updating git-repo `https://github.com/JuliaRegistries/General.git`\n",
            "\u001b[?25l\u001b[2K\u001b[?25h  Resolving package versions...\n",
            "  Installed Reexport ────────── v1.0.0\n",
            "  Installed PyPlot ──────────── v2.9.0\n",
            "  Installed LaTeXStrings ────── v1.2.0\n",
            "  Installed FixedPointNumbers ─ v0.8.4\n",
            "  Installed ColorTypes ──────── v0.10.9\n",
            "  Installed Colors ──────────── v0.12.6\n",
            "   Updating `~/.julia/environments/v1.4/Project.toml`\n",
            "  [d330b81b] + PyPlot v2.9.0\n",
            "   Updating `~/.julia/environments/v1.4/Manifest.toml`\n",
            "  [3da002f7] + ColorTypes v0.10.9\n",
            "  [5ae59095] + Colors v0.12.6\n",
            "  [53c48c17] + FixedPointNumbers v0.8.4\n",
            "  [b964fa9f] + LaTeXStrings v1.2.0\n",
            "  [d330b81b] + PyPlot v2.9.0\n",
            "  [189a3867] + Reexport v1.0.0\n",
            "Precompiling project...\n",
            "Installing Julia package CUDA...\n",
            "   Updating registry at `~/.julia/registries/General`\n",
            "   Updating git-repo `https://github.com/JuliaRegistries/General.git`\n",
            "\u001b[?25l\u001b[2K\u001b[?25h  Resolving package versions...\n",
            "  Installed TimerOutputs ─────── v0.5.7\n",
            "  Installed Adapt ────────────── v2.4.0\n",
            "  Installed OrderedCollections ─ v1.3.2\n",
            "  Installed GPUCompiler ──────── v0.6.1\n",
            "  Installed BinaryProvider ───── v0.5.10\n",
            "  Installed DataStructures ───── v0.18.8\n",
            "  Installed ChainRulesCore ───── v0.9.26\n",
            "  Installed CUDA ─────────────── v1.3.3\n",
            "  Installed CEnum ────────────── v0.4.1\n",
            "  Installed ExprTools ────────── v0.1.3\n",
            "  Installed Compat ───────────── v3.25.0\n",
            "  Installed AbstractFFTs ─────── v0.5.0\n",
            "  Installed LLVM ─────────────── v2.0.0\n",
            "  Installed Reexport ─────────── v0.2.0\n",
            "  Installed NNlib ────────────── v0.7.11\n",
            "  Installed GPUArrays ────────── v5.2.1\n",
            "  Installed Requires ─────────── v1.1.2\n",
            "   Updating `~/.julia/environments/v1.4/Project.toml`\n",
            "  [052768ef] + CUDA v1.3.3\n",
            "   Updating `~/.julia/environments/v1.4/Manifest.toml`\n",
            "  [621f4979] + AbstractFFTs v0.5.0\n",
            "  [79e6a3ab] + Adapt v2.4.0\n",
            "  [b99e7846] + BinaryProvider v0.5.10\n",
            "  [fa961155] + CEnum v0.4.1\n",
            "  [052768ef] + CUDA v1.3.3\n",
            "  [d360d2e6] + ChainRulesCore v0.9.26\n",
            "  [34da2185] + Compat v3.25.0\n",
            "  [864edb3b] + DataStructures v0.18.8\n",
            "  [e2ba6199] + ExprTools v0.1.3\n",
            "  [0c68f7d7] + GPUArrays v5.2.1\n",
            "  [61eb1bfa] + GPUCompiler v0.6.1\n",
            "  [929cbde3] + LLVM v2.0.0\n",
            "  [872c559c] + NNlib v0.7.11\n",
            "  [bac558e1] + OrderedCollections v1.3.2\n",
            "  [189a3867] ↓ Reexport v1.0.0 ⇒ v0.2.0\n",
            "  [ae029012] + Requires v1.1.2\n",
            "  [a759f4b9] + TimerOutputs v0.5.7\n",
            "  [8bb1440f] + DelimitedFiles \n",
            "  [1a1011a3] + SharedArrays \n",
            "Precompiling project...\n",
            "Installing IJulia kernel...\n",
            "[ Info: Installing julia kernelspec in /root/.local/share/jupyter/kernels/julia-1.4\n",
            "\n",
            "Successfully installed julia version 1.4.2!\n",
            "Please reload this page (press Ctrl+R, ⌘+R, or the F5 key) then\n",
            "jump to the 'Checking the Installation' section.\n"
          ],
          "name": "stdout"
        },
        {
          "output_type": "execute_result",
          "data": {
            "text/plain": [
              ""
            ]
          },
          "metadata": {
            "tags": []
          },
          "execution_count": 4
        }
      ]
    },
    {
      "cell_type": "markdown",
      "metadata": {
        "id": "-OS3Ac017T1i"
      },
      "source": [
        "## Checking the Installation\n",
        "The `versioninfo()` function should print your Julia version and some other info about the system (if you ever ask for help or file an issue about Julia, you should always provide this information)."
      ]
    },
    {
      "cell_type": "code",
      "metadata": {
        "id": "EEzvvzCl1i0F",
        "colab": {
          "base_uri": "https://localhost:8080/"
        },
        "outputId": "eaa19208-8f1c-42ea-dc7b-4269a6f60e12"
      },
      "source": [
        "versioninfo()"
      ],
      "execution_count": 1,
      "outputs": [
        {
          "output_type": "stream",
          "text": [
            "Julia Version 1.4.2\n",
            "Commit 44fa15b150* (2020-05-23 18:35 UTC)\n",
            "Platform Info:\n",
            "  OS: Linux (x86_64-pc-linux-gnu)\n",
            "  CPU: Intel(R) Xeon(R) CPU @ 2.20GHz\n",
            "  WORD_SIZE: 64\n",
            "  LIBM: libopenlibm\n",
            "  LLVM: libLLVM-8.0.1 (ORCJIT, broadwell)\n",
            "Environment:\n",
            "  JULIA_NUM_THREADS = 4\n"
          ],
          "name": "stdout"
        }
      ]
    },
    {
      "cell_type": "markdown",
      "metadata": {
        "id": "t8bz98k1xnvA"
      },
      "source": [
        "# Networks with Triangles"
      ]
    },
    {
      "cell_type": "code",
      "metadata": {
        "id": "t2Js2lObzQNu",
        "colab": {
          "base_uri": "https://localhost:8080/"
        },
        "outputId": "5f814962-c696-4abc-9084-5994cd15a0c9"
      },
      "source": [
        "using Pkg\n",
        "using Statistics\n",
        "using LinearAlgebra\n",
        "Pkg.add(\"Distances\")\n",
        "using Distances\n",
        "Pkg.add(\"StatsBase\")\n",
        "using StatsBase\n",
        "using Random\n",
        "Pkg.add(\"Distributions\")\n",
        "using Distributions\n",
        "Pkg.add(\"JLD\")\n",
        "using JLD\n",
        "using Printf\n",
        "Pkg.add(\"MAT\")\n",
        "using MAT\n",
        "Pkg.add(\"JSON\")\n",
        "using JSON"
      ],
      "execution_count": 4,
      "outputs": [
        {
          "output_type": "stream",
          "text": [
            "\u001b[32m\u001b[1m   Updating\u001b[22m\u001b[39m registry at `~/.julia/registries/General`\n"
          ],
          "name": "stderr"
        },
        {
          "output_type": "stream",
          "text": [
            "\u001b[?25l\u001b[2K"
          ],
          "name": "stdout"
        },
        {
          "output_type": "stream",
          "text": [
            "\u001b[32m\u001b[1m   Updating\u001b[22m\u001b[39m git-repo `https://github.com/JuliaRegistries/General.git`\n"
          ],
          "name": "stderr"
        },
        {
          "output_type": "stream",
          "text": [
            "\u001b[?25h"
          ],
          "name": "stdout"
        },
        {
          "output_type": "stream",
          "text": [
            "\u001b[32m\u001b[1m  Resolving\u001b[22m\u001b[39m package versions...\n",
            "\u001b[32m\u001b[1m  Installed\u001b[22m\u001b[39m Distances ─ v0.10.0\n",
            "\u001b[32m\u001b[1m   Updating\u001b[22m\u001b[39m `~/.julia/environments/v1.4/Project.toml`\n",
            " \u001b[90m [b4f34e82]\u001b[39m\u001b[92m + Distances v0.10.0\u001b[39m\n",
            "\u001b[32m\u001b[1m   Updating\u001b[22m\u001b[39m `~/.julia/environments/v1.4/Manifest.toml`\n",
            " \u001b[90m [b4f34e82]\u001b[39m\u001b[92m + Distances v0.10.0\u001b[39m\n",
            "┌ Info: Precompiling Distances [b4f34e82-e78d-54a5-968a-f98e89d6e8f7]\n",
            "└ @ Base loading.jl:1260\n",
            "\u001b[32m\u001b[1m  Resolving\u001b[22m\u001b[39m package versions...\n",
            "\u001b[32m\u001b[1m  Installed\u001b[22m\u001b[39m StatsBase ───────── v0.33.2\n",
            "\u001b[32m\u001b[1m  Installed\u001b[22m\u001b[39m SortingAlgorithms ─ v0.3.1\n",
            "\u001b[32m\u001b[1m  Installed\u001b[22m\u001b[39m Missings ────────── v0.4.4\n",
            "\u001b[32m\u001b[1m  Installed\u001b[22m\u001b[39m DataAPI ─────────── v1.4.0\n",
            "\u001b[32m\u001b[1m   Updating\u001b[22m\u001b[39m `~/.julia/environments/v1.4/Project.toml`\n",
            " \u001b[90m [2913bbd2]\u001b[39m\u001b[92m + StatsBase v0.33.2\u001b[39m\n",
            "\u001b[32m\u001b[1m   Updating\u001b[22m\u001b[39m `~/.julia/environments/v1.4/Manifest.toml`\n",
            " \u001b[90m [9a962f9c]\u001b[39m\u001b[92m + DataAPI v1.4.0\u001b[39m\n",
            " \u001b[90m [e1d29d7a]\u001b[39m\u001b[92m + Missings v0.4.4\u001b[39m\n",
            " \u001b[90m [a2af1166]\u001b[39m\u001b[92m + SortingAlgorithms v0.3.1\u001b[39m\n",
            " \u001b[90m [2913bbd2]\u001b[39m\u001b[92m + StatsBase v0.33.2\u001b[39m\n",
            "┌ Info: Precompiling StatsBase [2913bbd2-ae8a-5f71-8c99-4fb6c76f3a91]\n",
            "└ @ Base loading.jl:1260\n",
            "\u001b[32m\u001b[1m  Resolving\u001b[22m\u001b[39m package versions...\n",
            "\u001b[32m\u001b[1m  Installed\u001b[22m\u001b[39m QuadGK ─────────────────────── v2.4.1\n",
            "\u001b[32m\u001b[1m  Installed\u001b[22m\u001b[39m OpenSpecFun_jll ────────────── v0.5.3+4\n",
            "\u001b[32m\u001b[1m  Installed\u001b[22m\u001b[39m PDMats ─────────────────────── v0.10.1\n",
            "\u001b[32m\u001b[1m  Installed\u001b[22m\u001b[39m FillArrays ─────────────────── v0.10.2\n",
            "\u001b[32m\u001b[1m  Installed\u001b[22m\u001b[39m StatsFuns ──────────────────── v0.9.6\n",
            "\u001b[32m\u001b[1m  Installed\u001b[22m\u001b[39m Rmath ──────────────────────── v0.6.1\n",
            "\u001b[32m\u001b[1m  Installed\u001b[22m\u001b[39m Rmath_jll ──────────────────── v0.2.2+1\n",
            "\u001b[32m\u001b[1m  Installed\u001b[22m\u001b[39m Distributions ──────────────── v0.24.10\n",
            "\u001b[32m\u001b[1m  Installed\u001b[22m\u001b[39m CompilerSupportLibraries_jll ─ v0.3.4+0\n",
            "\u001b[32m\u001b[1m  Installed\u001b[22m\u001b[39m SpecialFunctions ───────────── v1.2.1\n",
            "######################################################################### 100.0%\n",
            "######################################################################### 100.0%\n",
            "######################################################################### 100.0%\n",
            "\u001b[32m\u001b[1m   Updating\u001b[22m\u001b[39m `~/.julia/environments/v1.4/Project.toml`\n",
            " \u001b[90m [31c24e10]\u001b[39m\u001b[92m + Distributions v0.24.10\u001b[39m\n",
            "\u001b[32m\u001b[1m   Updating\u001b[22m\u001b[39m `~/.julia/environments/v1.4/Manifest.toml`\n",
            " \u001b[90m [e66e0078]\u001b[39m\u001b[92m + CompilerSupportLibraries_jll v0.3.4+0\u001b[39m\n",
            " \u001b[90m [31c24e10]\u001b[39m\u001b[92m + Distributions v0.24.10\u001b[39m\n",
            " \u001b[90m [1a297f60]\u001b[39m\u001b[92m + FillArrays v0.10.2\u001b[39m\n",
            " \u001b[90m [efe28fd5]\u001b[39m\u001b[92m + OpenSpecFun_jll v0.5.3+4\u001b[39m\n",
            " \u001b[90m [90014a1f]\u001b[39m\u001b[92m + PDMats v0.10.1\u001b[39m\n",
            " \u001b[90m [1fd47b50]\u001b[39m\u001b[92m + QuadGK v2.4.1\u001b[39m\n",
            " \u001b[90m [79098fc4]\u001b[39m\u001b[92m + Rmath v0.6.1\u001b[39m\n",
            " \u001b[90m [f50d1b31]\u001b[39m\u001b[92m + Rmath_jll v0.2.2+1\u001b[39m\n",
            " \u001b[90m [276daf66]\u001b[39m\u001b[92m + SpecialFunctions v1.2.1\u001b[39m\n",
            " \u001b[90m [4c63d2b9]\u001b[39m\u001b[92m + StatsFuns v0.9.6\u001b[39m\n",
            " \u001b[90m [4607b0f0]\u001b[39m\u001b[92m + SuiteSparse \u001b[39m\n",
            "┌ Info: Precompiling Distributions [31c24e10-a181-5473-b8eb-7969acd0382f]\n",
            "└ @ Base loading.jl:1260\n",
            "\u001b[32m\u001b[1m  Resolving\u001b[22m\u001b[39m package versions...\n",
            "\u001b[32m\u001b[1m  Installed\u001b[22m\u001b[39m LibCURL_jll ─ v7.70.0+2\n",
            "\u001b[32m\u001b[1m  Installed\u001b[22m\u001b[39m HDF5_jll ──── v1.12.0+1\n",
            "\u001b[32m\u001b[1m  Installed\u001b[22m\u001b[39m Blosc_jll ─── v1.14.3+1\n",
            "\u001b[32m\u001b[1m  Installed\u001b[22m\u001b[39m OpenSSL_jll ─ v1.1.1+6\n",
            "\u001b[32m\u001b[1m  Installed\u001b[22m\u001b[39m Zstd_jll ──── v1.4.5+2\n",
            "\u001b[32m\u001b[1m  Installed\u001b[22m\u001b[39m JLD ───────── v0.12.1\n",
            "\u001b[32m\u001b[1m  Installed\u001b[22m\u001b[39m Blosc ─────── v0.7.0\n",
            "\u001b[32m\u001b[1m  Installed\u001b[22m\u001b[39m nghttp2_jll ─ v1.40.0+2\n",
            "\u001b[32m\u001b[1m  Installed\u001b[22m\u001b[39m Lz4_jll ───── v1.9.2+2\n",
            "\u001b[32m\u001b[1m  Installed\u001b[22m\u001b[39m Zlib_jll ──── v1.2.11+18\n",
            "\u001b[32m\u001b[1m  Installed\u001b[22m\u001b[39m LibSSH2_jll ─ v1.9.0+3\n",
            "\u001b[32m\u001b[1m  Installed\u001b[22m\u001b[39m FileIO ────── v1.4.5\n",
            "\u001b[32m\u001b[1m  Installed\u001b[22m\u001b[39m HDF5 ──────── v0.15.2\n",
            "######################################################################### 100.0%\n",
            "######################################################################### 100.0%\n",
            "######################################################################### 100.0%\n",
            "######################################################################### 100.0%\n",
            "######################################################################### 100.0%\n",
            "######################################################################### 100.0%\n",
            "######################################################################### 100.0%\n",
            "######################################################################### 100.0%\n",
            "######################################################################### 100.0%\n",
            "\u001b[32m\u001b[1m   Updating\u001b[22m\u001b[39m `~/.julia/environments/v1.4/Project.toml`\n",
            " \u001b[90m [4138dd39]\u001b[39m\u001b[92m + JLD v0.12.1\u001b[39m\n",
            "\u001b[32m\u001b[1m   Updating\u001b[22m\u001b[39m `~/.julia/environments/v1.4/Manifest.toml`\n",
            " \u001b[90m [a74b3585]\u001b[39m\u001b[92m + Blosc v0.7.0\u001b[39m\n",
            " \u001b[90m [0b7ba130]\u001b[39m\u001b[92m + Blosc_jll v1.14.3+1\u001b[39m\n",
            " \u001b[90m [5789e2e9]\u001b[39m\u001b[92m + FileIO v1.4.5\u001b[39m\n",
            " \u001b[90m [f67ccb44]\u001b[39m\u001b[92m + HDF5 v0.15.2\u001b[39m\n",
            " \u001b[90m [0234f1f7]\u001b[39m\u001b[92m + HDF5_jll v1.12.0+1\u001b[39m\n",
            " \u001b[90m [4138dd39]\u001b[39m\u001b[92m + JLD v0.12.1\u001b[39m\n",
            " \u001b[90m [deac9b47]\u001b[39m\u001b[92m + LibCURL_jll v7.70.0+2\u001b[39m\n",
            " \u001b[90m [29816b5a]\u001b[39m\u001b[92m + LibSSH2_jll v1.9.0+3\u001b[39m\n",
            " \u001b[90m [5ced341a]\u001b[39m\u001b[92m + Lz4_jll v1.9.2+2\u001b[39m\n",
            " \u001b[90m [458c3c95]\u001b[39m\u001b[92m + OpenSSL_jll v1.1.1+6\u001b[39m\n",
            " \u001b[90m [83775a58]\u001b[39m\u001b[92m + Zlib_jll v1.2.11+18\u001b[39m\n",
            " \u001b[90m [3161d3a3]\u001b[39m\u001b[92m + Zstd_jll v1.4.5+2\u001b[39m\n",
            " \u001b[90m [8e850ede]\u001b[39m\u001b[92m + nghttp2_jll v1.40.0+2\u001b[39m\n",
            "\u001b[32m\u001b[1m   Building\u001b[22m\u001b[39m HDF5 → `~/.julia/packages/HDF5/cDXRT/deps/build.log`\n",
            "┌ Info: Precompiling JLD [4138dd39-2aa7-5051-a626-17a0bb65d9c8]\n",
            "└ @ Base loading.jl:1260\n",
            "\u001b[32m\u001b[1m  Resolving\u001b[22m\u001b[39m package versions...\n",
            "\u001b[32m\u001b[1m  Installed\u001b[22m\u001b[39m CodecZlib ────────── v0.7.0\n",
            "\u001b[32m\u001b[1m  Installed\u001b[22m\u001b[39m BufferedStreams ──── v1.0.0\n",
            "\u001b[32m\u001b[1m  Installed\u001b[22m\u001b[39m TranscodingStreams ─ v0.9.5\n",
            "\u001b[32m\u001b[1m  Installed\u001b[22m\u001b[39m MAT ──────────────── v0.10.1\n",
            "\u001b[32m\u001b[1m   Updating\u001b[22m\u001b[39m `~/.julia/environments/v1.4/Project.toml`\n",
            " \u001b[90m [23992714]\u001b[39m\u001b[92m + MAT v0.10.1\u001b[39m\n",
            "\u001b[32m\u001b[1m   Updating\u001b[22m\u001b[39m `~/.julia/environments/v1.4/Manifest.toml`\n",
            " \u001b[90m [e1450e63]\u001b[39m\u001b[92m + BufferedStreams v1.0.0\u001b[39m\n",
            " \u001b[90m [944b1d66]\u001b[39m\u001b[92m + CodecZlib v0.7.0\u001b[39m\n",
            " \u001b[90m [23992714]\u001b[39m\u001b[92m + MAT v0.10.1\u001b[39m\n",
            " \u001b[90m [3bb67fe8]\u001b[39m\u001b[92m + TranscodingStreams v0.9.5\u001b[39m\n",
            "┌ Info: Precompiling MAT [23992714-dd62-5051-b70f-ba57cb901cac]\n",
            "└ @ Base loading.jl:1260\n",
            "\u001b[32m\u001b[1m  Resolving\u001b[22m\u001b[39m package versions...\n",
            "\u001b[32m\u001b[1m   Updating\u001b[22m\u001b[39m `~/.julia/environments/v1.4/Project.toml`\n",
            " \u001b[90m [682c06a0]\u001b[39m\u001b[92m + JSON v0.21.1\u001b[39m\n",
            "\u001b[32m\u001b[1m   Updating\u001b[22m\u001b[39m `~/.julia/environments/v1.4/Manifest.toml`\n",
            "\u001b[90m [no changes]\u001b[39m\n"
          ],
          "name": "stderr"
        }
      ]
    },
    {
      "cell_type": "code",
      "metadata": {
        "colab": {
          "base_uri": "https://localhost:8080/"
        },
        "id": "65CAbuMNxYMS",
        "outputId": "07682353-ef65-40b5-8a84-1cbdd192dfe3"
      },
      "source": [
        "function make_probtriangle_weighted(nNodes, p)\n",
        "    ### p controls propensity of triangle formation\n",
        "    ## triangle graph model\n",
        "    nEdges = binomial(nNodes,2)\n",
        "    adj = zeros(nNodes,nNodes)\n",
        "    edges_left = copy(nEdges)\n",
        "    while edges_left > 0       \n",
        "        # Flip a coin\n",
        "        r = rand(1)[1]\n",
        "        if r < p  # See if there's a triangle and if there is, add it. If not, add edge randomly\n",
        "            # Are any triangles possible?\n",
        "            adj_2 = adj^2\n",
        "            adj_2[diagind(adj_2)] .= 0\n",
        "            possible_ot = Tuple.(findall(adj_2 .> 0))\n",
        "            current_edges = Tuple.(findall(adj .> 0))\n",
        "            # Remove n, n open triangles\n",
        "            possible_ot = filter(x -> (x[1] != x[2]), possible_ot)\n",
        "            # Check for non-closed open triangles\n",
        "            open_triangles = []\n",
        "            for pots in possible_ot\n",
        "                if !(pots in current_edges)\n",
        "                    open_triangles = [open_triangles; pots]\n",
        "                end\n",
        "            end\n",
        "            if length(open_triangles) > 0\n",
        "                # Then we can add an edge that completes a triangle, weighted by time of appearance.\n",
        "                ot_weights = [adj_2[ot[1], ot[2]] for ot in open_triangles]\n",
        "                new_edge = sample(open_triangles, Weights(ot_weights))\n",
        "            else\n",
        "                # Then we add a new edge randomly.\n",
        "                # println(\"no open triangles\")\n",
        "                open_edges = Tuple.(findall(adj .== 0))\n",
        "                open_edges = filter(x -> (x[1] != x[2]), open_edges)\n",
        "                new_edge = sample(open_edges)\n",
        "            end\n",
        "        else  # add an edge randomly\n",
        "            open_edges = Tuple.(findall(adj .== 0))\n",
        "            open_edges = filter(x -> (x[1] != x[2]), open_edges)\n",
        "            new_edge = sample(open_edges)\n",
        "        end\n",
        "        adj[new_edge[1], new_edge[2]] = edges_left\n",
        "        adj[new_edge[2], new_edge[1]] = edges_left\n",
        "        edges_left = edges_left-1\n",
        "    end\n",
        "    return adj\n",
        "end"
      ],
      "execution_count": 5,
      "outputs": [
        {
          "output_type": "execute_result",
          "data": {
            "text/plain": [
              "make_probtriangle_weighted (generic function with 1 method)"
            ]
          },
          "metadata": {
            "tags": []
          },
          "execution_count": 5
        }
      ]
    },
    {
      "cell_type": "code",
      "metadata": {
        "id": "0CptfbBdK0sr"
      },
      "source": [
        "cd(\"/content/drive/MyDrive/Curiosity_IGT/\")"
      ],
      "execution_count": 16,
      "outputs": []
    },
    {
      "cell_type": "code",
      "metadata": {
        "colab": {
          "base_uri": "https://localhost:8080/"
        },
        "id": "GuQVeYpwMJ_u",
        "outputId": "063ed5d9-b9f5-43a3-c36e-e6c9bfdd6287"
      },
      "source": [
        "pwd()"
      ],
      "execution_count": 17,
      "outputs": [
        {
          "output_type": "execute_result",
          "data": {
            "text/plain": [
              "\"/content/drive/MyDrive/Curiosity_IGT\""
            ]
          },
          "metadata": {
            "tags": []
          },
          "execution_count": 17
        }
      ]
    },
    {
      "cell_type": "code",
      "metadata": {
        "id": "YtmjLwYv9qCV",
        "colab": {
          "base_uri": "https://localhost:8080/",
          "height": 235
        },
        "outputId": "e5c63a9a-5c3f-4b19-8c93-644f65757125"
      },
      "source": [
        "nNodes = 75\n",
        "nReps = 5\n",
        "all_ps = 0.1:0.1:0.9\n",
        "for p in all_ps\n",
        "  for iter in 1:nReps\n",
        "    save_string = @sprintf(\"%.1f_%d.mat\", p, iter)\n",
        "    adj = make_probtriangle_weighted(nNodes, p)\n",
        "    matwrite(save_string, Dict(\"p\" => p, \"adj\" => adj))\n",
        "  end\n",
        "end"
      ],
      "execution_count": 18,
      "outputs": [
        {
          "output_type": "error",
          "ename": "InterruptException",
          "evalue": "ignored",
          "traceback": [
            "InterruptException:",
            "",
            "Stacktrace:",
            " [1] _cat_t at ./abstractarray.jl:1445 [inlined]",
            " [2] #cat_t#109 at ./abstractarray.jl:1437 [inlined]",
            " [3] _cat at ./abstractarray.jl:1435 [inlined]",
            " [4] #cat#110 at ./abstractarray.jl:1564 [inlined]",
            " [5] vcat at ./abstractarray.jl:1502 [inlined]",
            " [6] make_probtriangle_weighted(::Int64, ::Float64) at ./In[5]:22",
            " [7] top-level scope at ./In[18]:7"
          ]
        }
      ]
    }
  ]
}