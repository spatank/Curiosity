{
 "cells": [
  {
   "cell_type": "code",
   "execution_count": 1,
   "metadata": {},
   "outputs": [
    {
     "data": {
      "text/html": [
       "<script>\n",
       "// Immediately-invoked-function-expression to avoid global variables.\n",
       "(function() {\n",
       "    var warning_div = document.getElementById(\"webio-warning-11512150226160349308\");\n",
       "    var hide = function () {\n",
       "        var script = document.getElementById(\"webio-setup-11610731861829587631\");\n",
       "        var parent = script && script.parentElement;\n",
       "        var grandparent = parent && parent.parentElement;\n",
       "        if (grandparent) {\n",
       "            grandparent.style.display = \"none\";\n",
       "        }\n",
       "        warning_div.style.display = \"none\";\n",
       "    };\n",
       "    if (typeof Jupyter !== \"undefined\") {\n",
       "        console.log(\"WebIO detected Jupyter notebook environment.\");\n",
       "        // Jupyter notebook.\n",
       "        var extensions = (\n",
       "            Jupyter\n",
       "            && Jupyter.notebook.config.data\n",
       "            && Jupyter.notebook.config.data.load_extensions\n",
       "        );\n",
       "        if (extensions && extensions[\"webio-jupyter-notebook\"]) {\n",
       "            // Extension already loaded.\n",
       "            console.log(\"Jupyter WebIO nbextension detected; not loading ad-hoc.\");\n",
       "            hide();\n",
       "            return;\n",
       "        }\n",
       "    } else if (window.location.pathname.includes(\"/lab\")) {\n",
       "        // Guessing JupyterLa\n",
       "        console.log(\"Jupyter Lab detected; make sure the @webio/jupyter-lab-provider labextension is installed.\");\n",
       "        hide();\n",
       "        return;\n",
       "    }\n",
       "})();\n",
       "\n",
       "</script>\n",
       "<p\n",
       "    id=\"webio-warning-11512150226160349308\"\n",
       "    class=\"output_text output_stderr\"\n",
       "    style=\"padding: 1em; font-weight: bold;\"\n",
       ">\n",
       "    Unable to load WebIO. Please make sure WebIO works for your Jupyter client.\n",
       "    For troubleshooting, please see <a href=\"https://juliagizmos.github.io/WebIO.jl/latest/providers/ijulia/\">\n",
       "    the WebIO/IJulia documentation</a>.\n",
       "    <!-- TODO: link to installation docs. -->\n",
       "</p>\n"
      ],
      "text/plain": [
       "HTML{String}(\"<script>\\n// Immediately-invoked-function-expression to avoid global variables.\\n(function() {\\n    var warning_div = document.getElementById(\\\"webio-warning-11512150226160349308\\\");\\n    var hide = function () {\\n        var script = document.getElementById(\\\"webio-setup-11610731861829587631\\\");\\n        var parent = script && script.parentElement;\\n        var grandparent = parent && parent.parentElement;\\n        if (grandparent) {\\n            grandparent.style.display = \\\"none\\\";\\n        }\\n        warning_div.style.display = \\\"none\\\";\\n    };\\n    if (typeof Jupyter !== \\\"undefined\\\") {\\n        console.log(\\\"WebIO detected Jupyter notebook environment.\\\");\\n        // Jupyter notebook.\\n        var extensions = (\\n            Jupyter\\n            && Jupyter.notebook.config.data\\n            && Jupyter.notebook.config.data.load_extensions\\n        );\\n        if (extensions && extensions[\\\"webio-jupyter-notebook\\\"]) {\\n            // Extension already loaded.\\n            console.log(\\\"Jupyter WebIO nbextension detected; not loading ad-hoc.\\\");\\n            hide();\\n            return;\\n        }\\n    } else if (window.location.pathname.includes(\\\"/lab\\\")) {\\n        // Guessing JupyterLa\\n        console.log(\\\"Jupyter Lab detected; make sure the @webio/jupyter-lab-provider labextension is installed.\\\");\\n        hide();\\n        return;\\n    }\\n})();\\n\\n</script>\\n<p\\n    id=\\\"webio-warning-11512150226160349308\\\"\\n    class=\\\"output_text output_stderr\\\"\\n    style=\\\"padding: 1em; font-weight: bold;\\\"\\n>\\n    Unable to load WebIO. Please make sure WebIO works for your Jupyter client.\\n    For troubleshooting, please see <a href=\\\"https://juliagizmos.github.io/WebIO.jl/latest/providers/ijulia/\\\">\\n    the WebIO/IJulia documentation</a>.\\n    <!-- TODO: link to installation docs. -->\\n</p>\\n\")"
      ]
     },
     "metadata": {},
     "output_type": "display_data"
    },
    {
     "name": "stderr",
     "output_type": "stream",
     "text": [
      "WARNING: could not import HDF5.Group into _hdf5_implementation\n",
      "WARNING: could not import HDF5.Dataset into _hdf5_implementation\n",
      "┌ Warning: Error requiring `HDF5` from `Plots`\n",
      "│   exception = (LoadError(\"/Users/sppatankar/.julia/packages/Plots/oZheM/src/backends/hdf5.jl\", 162, UndefVarError(:Group)), Union{Ptr{Nothing}, Base.InterpreterIP}[Ptr{Nothing} @0x0000000106f4211f, Ptr{Nothing} @0x0000000106fdbeb3, Ptr{Nothing} @0x0000000106fdcfab, Ptr{Nothing} @0x0000000106fdb8df, Ptr{Nothing} @0x0000000106fdbbbc, Base.InterpreterIP in top-level CodeInfo for Plots._hdf5_implementation at statement 4, Ptr{Nothing} @0x0000000106ff51ce, Ptr{Nothing} @0x0000000106ff41b1, Ptr{Nothing} @0x0000000106ff49d1, Ptr{Nothing} @0x0000000106ff50d6, Ptr{Nothing} @0x0000000106fcdb6d, Ptr{Nothing} @0x0000000106ff627c, Ptr{Nothing} @0x000000010e75dd4f, Ptr{Nothing} @0x000000013adb249e, Ptr{Nothing} @0x0000000106fdcfcf, Ptr{Nothing} @0x0000000106fdb8df, Ptr{Nothing} @0x0000000106fdbbbc, Base.InterpreterIP in top-level CodeInfo for Plots at statement 10, Ptr{Nothing} @0x0000000106ff51ce, Ptr{Nothing} @0x0000000106ff6074, Ptr{Nothing} @0x000000013ada1c26, Ptr{Nothing} @0x000000013ada1c5d, Ptr{Nothing} @0x000000010bc35fca, Ptr{Nothing} @0x000000013ada1b4d, Ptr{Nothing} @0x000000013ada1b7d, Ptr{Nothing} @0x000000010bc3539b, Ptr{Nothing} @0x000000013ada1a7f, Ptr{Nothing} @0x000000013ada1abd, Ptr{Nothing} @0x000000010bc34ea6, Ptr{Nothing} @0x000000013ad96d83, Ptr{Nothing} @0x000000013ad9746d, Ptr{Nothing} @0x0000000106ff3a63, Ptr{Nothing} @0x0000000106fe45f7, Ptr{Nothing} @0x000000013acf46c3, Ptr{Nothing} @0x000000013acf598b, Ptr{Nothing} @0x000000013ad196d9, Ptr{Nothing} @0x000000013ad1b763, Ptr{Nothing} @0x000000013ad1c5e6, Ptr{Nothing} @0x0000000106ff5c69, Ptr{Nothing} @0x0000000106ff4b3b, Ptr{Nothing} @0x0000000106fcdb6d, Ptr{Nothing} @0x000000010e2828f1, Ptr{Nothing} @0x000000010bbaae4b, Ptr{Nothing} @0x000000010bba7486, Ptr{Nothing} @0x0000000106fd2a64, Ptr{Nothing} @0x0000000106fd2cd5, Ptr{Nothing} @0x000000010bb97a5c, Ptr{Nothing} @0x000000010bb97dd4, Ptr{Nothing} @0x000000010bb97dec, Ptr{Nothing} @0x0000000106fe109a])\n",
      "└ @ Requires /Users/sppatankar/.julia/packages/Requires/035xH/src/require.jl:44\n"
     ]
    }
   ],
   "source": [
    "using Printf\n",
    "using Random\n",
    "using LinearAlgebra\n",
    "using Eirene\n",
    "using MAT\n",
    "using Statistics\n",
    "using Plots"
   ]
  },
  {
   "cell_type": "code",
   "execution_count": 2,
   "metadata": {},
   "outputs": [
    {
     "data": {
      "text/plain": [
       "plotBarcode (generic function with 1 method)"
      ]
     },
     "execution_count": 2,
     "metadata": {},
     "output_type": "execute_result"
    }
   ],
   "source": [
    "function constant_probability(n, p)\n",
    "    G = zeros(n, n)\n",
    "    for i = 1:n\n",
    "        for j = 1:i-1\n",
    "            r = rand(1)[1]\n",
    "            if r < p\n",
    "                G[i, j] = 1\n",
    "                G[j, i] = 1\n",
    "            end\n",
    "        end\n",
    "    end\n",
    "    node_order = 1:n\n",
    "    return G, node_order\n",
    "end  \n",
    "\n",
    "function make_weighted_from_order(G, node_order)\n",
    "    # adapted from code by ASB\n",
    "    # original at https://github.com/BassettLab/Reorderability_scripts\n",
    "    reordered_G = G[node_order, node_order]\n",
    "    n = length(node_order) # number of nodes\n",
    "    val_mat = ones(n, n)\n",
    "    for col = 1:n\n",
    "        val_mat[1:col, col] = val_mat[1:col, col] * col\n",
    "        val_mat[col, 1:col] = val_mat[col, 1:col] * col\n",
    "    end\n",
    "    weighted_G = reordered_G .* val_mat\n",
    "    # replace 0 weighted edges with the largest edge weight possible\n",
    "    # this is equivalent to assigning these edges the worst rank possible\n",
    "    replace!(weighted_G, 0 => 2 * n)  \n",
    "    # jadj[findall(A -> A .== 0, jadj)] .= 2 * n would work too\n",
    "    weighted_G[diagind(weighted_G)] .= 0 # set diagonal to 0\n",
    "    return weighted_G # edges here are ranked by order of appearance\n",
    "end\n",
    "\n",
    "function bettiCurveFromBarcode(barcode_array,nNodes,nmats,maxDim)\n",
    "    nNodes = Int(nNodes)\n",
    "    nmats = Int(nmats)\n",
    "    maxDim = Int(maxDim)\n",
    "    bettiBar = zeros(nmats,maxDim)\n",
    "    bettiCurve = zeros(nmats,nNodes+1,maxDim)\n",
    "    birthCurve = zeros(nmats,nNodes,maxDim)\n",
    "    deathCurve = zeros(nmats,nNodes,maxDim)\n",
    "    for dimn in collect(1:maxDim)\n",
    "        dimn = Int(dimn)\n",
    "        for matn in collect(1:nmats)\n",
    "            matn = Int(matn)\n",
    "            bb = 0\n",
    "            currentCurve = barcode_array[matn,:]\n",
    "            currentCurveDim = currentCurve[dimn]\n",
    "            for barn in collect(1:size(currentCurveDim,1))\n",
    "                # Add to birth curve\n",
    "                birthCurve[matn,Int(currentCurveDim[barn,1]),dimn] = birthCurve[matn,Int(currentCurveDim[barn,1]),dimn] .+1\n",
    "                if currentCurveDim[barn,2]>nNodes\n",
    "                    bettiCurve[matn,Int(currentCurveDim[barn,1]):Int(nNodes+1),dimn] = bettiCurve[matn,Int(currentCurveDim[barn,1]):Int(nNodes+1),dimn] .+1\n",
    "                    bb = bb+(nNodes+1-currentCurveDim[barn,1])\n",
    "                else\n",
    "                    bettiCurve[matn,Int(currentCurveDim[barn,1]):Int(currentCurveDim[barn,2]),dimn] = bettiCurve[matn,Int(currentCurveDim[barn,1]):Int(currentCurveDim[barn,2]),dimn].+1\n",
    "                    deathCurve[matn,Int(currentCurveDim[barn,2]),dimn] = deathCurve[matn,Int(currentCurveDim[barn,2]),dimn] .+1\n",
    "                    bb = bb+(currentCurveDim[barn,2] - currentCurveDim[barn,1])\n",
    "                end\n",
    "            end\n",
    "            bettiBar[matn,dimn] = deepcopy(bb)\n",
    "        end\n",
    "    end\n",
    "    return bettiCurve, birthCurve, deathCurve, bettiBar\n",
    "end\n",
    "\n",
    "function plotBarcode(allPIs,nNodes,graphN,maxDim,fontSize)\n",
    "    nNodes = Int(nNodes)\n",
    "    graphn = Int(graphN)\n",
    "    maxDim = Int(maxDim)\n",
    "    counter1 = 0\n",
    "    pbar = plot(1:6,zeros(6),c=:black)\n",
    "    colors = [:blue :green :red]\n",
    "    for dim in collect(1:maxDim)\n",
    "        barn = barcode_array[graphN, dim]\n",
    "        barn = barn[sortperm(barn[:,1]),:]\n",
    "        nbars = size(barn)[1]\n",
    "        for cntr1 in collect(1:nbars)\n",
    "            birth = barn[cntr1,1]\n",
    "            death = barn[cntr1,2]\n",
    "            plot!([birth, death],[cntr1+counter1, cntr1+counter1],c=colors[dim], legend = false,\n",
    "                            xlim = (0,nNodes), ytickfont = font(fontSize), xtickfont = font(fontSize))\n",
    "        end\n",
    "        display(pbar)\n",
    "        counter1 = counter1+nbars\n",
    "    end\n",
    "    return pbar\n",
    "end"
   ]
  },
  {
   "cell_type": "code",
   "execution_count": 3,
   "metadata": {},
   "outputs": [
    {
     "data": {
      "text/plain": [
       "\"/Volumes/My Passport/Curiosity\""
      ]
     },
     "execution_count": 3,
     "metadata": {},
     "output_type": "execute_result"
    }
   ],
   "source": [
    "pwd()"
   ]
  },
  {
   "cell_type": "code",
   "execution_count": 5,
   "metadata": {},
   "outputs": [
    {
     "name": "stdout",
     "output_type": "stream",
     "text": [
      "Iteration = 1\n"
     ]
    }
   ],
   "source": [
    "n = 70 # number of nodes\n",
    "p = 0.4 # probability of edge forming between two nodes\n",
    "iters = 100\n",
    "n_dims = 3 # number of dimensions to track persistent homology in\n",
    "\n",
    "all_weighted_Gs = zeros(n, n, iters)\n",
    "barcode_array = Array{Array{Float64}}(undef, iters, 3)\n",
    "\n",
    "for iter in 1:iters\n",
    "    G, node_order = constant_probability(n, p)\n",
    "    weighted_G = make_weighted_from_order(G, node_order)\n",
    "    all_weighted_Gs[:, :, iter] = weighted_G\n",
    "    C = Eirene.eirene(weighted_G, model = \"vr\", maxdim = n_dims, record = \"none\")\n",
    "    for k in 1:n_dims\n",
    "        barcode_array[iter, k] = barcode(C, dim = k)\n",
    "    end\n",
    "    @printf(\"Iteration = %d\\n\", iter)\n",
    "end\n",
    "\n",
    "bettiCurve, birthCurve, deathCurve = bettiCurveFromBarcode(barcode_array, n, iters, n_dims)\n",
    "\n",
    "save_string = \"/Data/persistent_homology.mat\"\n",
    "matwrite(save_string, \n",
    "    Dict(\"n\" => n, \n",
    "        \"p\" => p,\n",
    "        \"iters\" => iters,\n",
    "        \"n_dims\" => n_dims,\n",
    "        \"all_weighted_Gs\" => all_weighted_Gs,\n",
    "        \"barcode_array\" => barcode_array,\n",
    "        \"bettiCurve\" => bettiCurve,\n",
    "        \"birthCurve\" => birthCurve,\n",
    "        \"deathCurve\" => deathCurve))"
   ]
  },
  {
   "cell_type": "code",
   "execution_count": 4,
   "metadata": {},
   "outputs": [],
   "source": [
    "# ribbon_std = dropdims(std(bettiCurve, dims = 1), dims = 1)\n",
    "# bettiCurve_mean = mean(bettiCurve, dims = 1)\n",
    "# bettiCurve_mean = dropdims(bettiCurve_mean, dims = 1)\n",
    "# birthCurveMean = dropdims(mean(birthCurve, dims = 1), dims = 1)\n",
    "# birthCurveStd = dropdims(std(birthCurve, dims = 1), dims = 1)\n",
    "# deathCurveMean = dropdims(mean(deathCurve, dims = 1), dims = 1)\n",
    "# deathCurveStd = dropdims(std(deathCurve,dims = 1), dims = 1)"
   ]
  },
  {
   "cell_type": "code",
   "execution_count": 5,
   "metadata": {},
   "outputs": [],
   "source": [
    "# G, node_order = constant_probability(n, p)"
   ]
  },
  {
   "cell_type": "code",
   "execution_count": 6,
   "metadata": {},
   "outputs": [],
   "source": [
    "# barcode1 = barcode_array[1, 1]\n",
    "# barcode1[barcode1 .== (n * 2)] .= n\n",
    "# barcode2 = barcode_array[1, 2]\n",
    "# barcode2[barcode2 .== (n * 2)] .= n"
   ]
  },
  {
   "cell_type": "code",
   "execution_count": 7,
   "metadata": {},
   "outputs": [],
   "source": [
    "# gr()\n",
    "# fontSize = 10\n",
    "\n",
    "# p1 = heatmap(G, yflip = true, aspect_ratio = :equal, colorbar = false, color = :blues)\n",
    "# p2 = plot(1:(n + 1), bettiCurve_mean, label = [\"B_1\" \"B_2\" \"B_3\"], lw = 2,\n",
    "#     ribbon = ribbon_std, size = (600,300), framestyle = :box, legend = false,\n",
    "#     xlim = (0, n), xtickfont = font(fontSize), ytickfont = font(fontSize))\n",
    "\n",
    "# p3 = plot(1:n, 1:n, c = RGB(0.55,0.55,0.55), framestyle = :box, aspect_ratio = :equal)\n",
    "# scatter!(barcode1[:,1], barcode1[:,2], markeralpha = 0.3,legend = false)\n",
    "\n",
    "# p4 = plot(1:n, 1:n, c = RGB(0.55,0.55,0.55), framestyle = :box, aspect_ratio = :equal,\n",
    "#     ylim = (0, n), xlim = (0, n))\n",
    "# scatter!(barcode2[:,1], barcode2[:,2], markeralpha = 0.3, c = :blue, aspect_ratio = :equal, legend = false,\n",
    "#     ytickfont = font(fontSize), xtickfont = font(fontSize))\n",
    "\n",
    "# p5 = plot(1:n, edgeDensityMean, ribbon = edgeDensityStd, legend = false,\n",
    "#     xlim = (0, n), ytickfont = font(fontSize), xtickfont = font(fontSize))\n",
    "\n",
    "# graphN = 1\n",
    "# p6 = plotBarcode(barcode_array, n, iters, n_dims, fontSize)\n",
    "\n",
    "# p7 = plot(1:n, birthCurveMean, ribbon = birthCurveStd, xlim = (0, n), ytickfont = font(fontSize), \n",
    "#     xtickfont = font(fontSize))\n",
    "# plot!(1:n, deathCurveMean, ribbon = deathCurveStd)\n",
    "\n",
    "\n",
    "# p8 = heatmap(degree_array_mean, yflip = true, aspect_ratio = :equal, colorbar = true, color = :magma,\n",
    "#     ytickfont = font(7), xtickfont = font(fontSize))\n",
    "\n",
    "\n",
    "# pall = plot(p1, p2, p3, p4, p6, p7, layout = (3, 2), size = (400, 450), framestyle = :box)\n",
    "# display(pall)\n",
    "\n",
    "# savefig(\"$(graph_name).pdf\")\n",
    "\n",
    "# Clear variables\n",
    "# s_0_array = nothing\n",
    "# nReps = nothing\n",
    "# nGraphs = nothing\n",
    "# nNodes = nothing\n",
    "\n",
    "# GC.gc()"
   ]
  }
 ],
 "metadata": {
  "@webio": {
   "lastCommId": null,
   "lastKernelId": null
  },
  "kernelspec": {
   "display_name": "JuliaPro_v1.5.3-1 1.5.3",
   "language": "julia",
   "name": "juliapro_v1.5.3-1-1.5"
  },
  "language_info": {
   "file_extension": ".jl",
   "mimetype": "application/julia",
   "name": "julia",
   "version": "1.5.3"
  }
 },
 "nbformat": 4,
 "nbformat_minor": 2
}
