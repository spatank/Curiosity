{
  "nbformat": 4,
  "nbformat_minor": 0,
  "metadata": {
    "colab": {
      "name": "persistent_homology_simulations.ipynb",
      "provenance": [],
      "collapsed_sections": [],
      "machine_shape": "hm",
      "authorship_tag": "ABX9TyOazAsoXVfHRQvKJQ5M866E",
      "include_colab_link": true
    },
    "kernelspec": {
      "name": "python3",
      "display_name": "Python 3"
    },
    "language_info": {
      "name": "python"
    }
  },
  "cells": [
    {
      "cell_type": "markdown",
      "metadata": {
        "id": "view-in-github",
        "colab_type": "text"
      },
      "source": [
        "<a href=\"https://colab.research.google.com/github/spatank/Curiosity/blob/master/v7/persistent_homology_simulations.ipynb\" target=\"_parent\"><img src=\"https://colab.research.google.com/assets/colab-badge.svg\" alt=\"Open In Colab\"/></a>"
      ]
    },
    {
      "cell_type": "code",
      "metadata": {
        "colab": {
          "base_uri": "https://localhost:8080/"
        },
        "id": "2Y7gnEocgMi0",
        "outputId": "633ff004-422f-472a-e62a-a42098a35d8c"
      },
      "source": [
        "from google.colab import drive\n",
        "drive.mount('/content/drive')\n",
        "\n",
        "import os\n",
        "os.chdir('/content/drive/My Drive/Curiosity/')"
      ],
      "execution_count": 1,
      "outputs": [
        {
          "output_type": "stream",
          "text": [
            "Mounted at /content/drive\n"
          ],
          "name": "stdout"
        }
      ]
    },
    {
      "cell_type": "code",
      "metadata": {
        "colab": {
          "base_uri": "https://localhost:8080/"
        },
        "id": "mvB4MASbhE5d",
        "outputId": "14fc5d94-d2a1-42eb-c968-835eb46bcfa0"
      },
      "source": [
        "!ls # run !ls to verify location"
      ],
      "execution_count": 2,
      "outputs": [
        {
          "output_type": "stream",
          "text": [
            "build_Wiki_nets.ipynb\t\t       persistent_homology_Wiki.ipynb\n",
            "KNOT\t\t\t\t       Simulations\n",
            "persistent_homology_KNOT.ipynb\t       Wiki\n",
            "persistent_homology_simulations.ipynb  wiki_data_raw\n"
          ],
          "name": "stdout"
        }
      ]
    },
    {
      "cell_type": "code",
      "metadata": {
        "id": "O6URroOyhdr7"
      },
      "source": [
        "import glob\n",
        "import scipy\n",
        "import scipy.io as sio\n",
        "from scipy.io import savemat"
      ],
      "execution_count": 3,
      "outputs": []
    },
    {
      "cell_type": "code",
      "metadata": {
        "colab": {
          "base_uri": "https://localhost:8080/"
        },
        "id": "LHNE6dZ9kzUN",
        "outputId": "1fb29a46-76b6-4920-8a79-c389c7552bcb"
      },
      "source": [
        "import sys\n",
        "!{sys.executable} -m pip install Cython"
      ],
      "execution_count": 4,
      "outputs": [
        {
          "output_type": "stream",
          "text": [
            "Requirement already satisfied: Cython in /usr/local/lib/python3.7/dist-packages (0.29.23)\n"
          ],
          "name": "stdout"
        }
      ]
    },
    {
      "cell_type": "code",
      "metadata": {
        "colab": {
          "base_uri": "https://localhost:8080/"
        },
        "id": "fbhBikHYk6TO",
        "outputId": "c6f703bd-2725-4472-b641-52ba0fa1d120"
      },
      "source": [
        "import sys\n",
        "!{sys.executable} -m pip install Ripser"
      ],
      "execution_count": 5,
      "outputs": [
        {
          "output_type": "stream",
          "text": [
            "Collecting Ripser\n",
            "\u001b[?25l  Downloading https://files.pythonhosted.org/packages/b8/6c/d415052513439a43be06237d887066bb57016329445fabbc7a66904ec88f/ripser-0.6.0.tar.gz (71kB)\n",
            "\r\u001b[K     |████▋                           | 10kB 18.1MB/s eta 0:00:01\r\u001b[K     |█████████▏                      | 20kB 7.7MB/s eta 0:00:01\r\u001b[K     |█████████████▊                  | 30kB 4.9MB/s eta 0:00:01\r\u001b[K     |██████████████████▍             | 40kB 4.5MB/s eta 0:00:01\r\u001b[K     |███████████████████████         | 51kB 2.3MB/s eta 0:00:01\r\u001b[K     |███████████████████████████▌    | 61kB 2.7MB/s eta 0:00:01\r\u001b[K     |████████████████████████████████| 71kB 2.3MB/s \n",
            "\u001b[?25h  Installing build dependencies ... \u001b[?25l\u001b[?25hdone\n",
            "  Getting requirements to build wheel ... \u001b[?25l\u001b[?25hdone\n",
            "    Preparing wheel metadata ... \u001b[?25l\u001b[?25hdone\n",
            "Collecting persim\n",
            "\u001b[?25l  Downloading https://files.pythonhosted.org/packages/6f/10/1b530c3ce7cea826871230f4c503d622d9ab76417398d0c2b3e636fa407e/persim-0.3.1-py3-none-any.whl (47kB)\n",
            "\u001b[K     |████████████████████████████████| 51kB 4.8MB/s \n",
            "\u001b[?25hRequirement already satisfied: scikit-learn in /usr/local/lib/python3.7/dist-packages (from Ripser) (0.22.2.post1)\n",
            "Requirement already satisfied: scipy in /usr/local/lib/python3.7/dist-packages (from Ripser) (1.4.1)\n",
            "Requirement already satisfied: Cython in /usr/local/lib/python3.7/dist-packages (from Ripser) (0.29.23)\n",
            "Requirement already satisfied: numpy in /usr/local/lib/python3.7/dist-packages (from Ripser) (1.19.5)\n",
            "Collecting deprecated\n",
            "  Downloading https://files.pythonhosted.org/packages/fb/73/994edfcba74443146c84b91921fcc269374354118d4f452fb0c54c1cbb12/Deprecated-1.2.12-py2.py3-none-any.whl\n",
            "Requirement already satisfied: joblib in /usr/local/lib/python3.7/dist-packages (from persim->Ripser) (1.0.1)\n",
            "Requirement already satisfied: matplotlib in /usr/local/lib/python3.7/dist-packages (from persim->Ripser) (3.2.2)\n",
            "Collecting hopcroftkarp\n",
            "  Downloading https://files.pythonhosted.org/packages/6b/56/7b03eba3c43008c490c9d52e69ea5334b65955f66836eb4f1962f3b0d421/hopcroftkarp-1.2.5.tar.gz\n",
            "Requirement already satisfied: wrapt<2,>=1.10 in /usr/local/lib/python3.7/dist-packages (from deprecated->persim->Ripser) (1.12.1)\n",
            "Requirement already satisfied: python-dateutil>=2.1 in /usr/local/lib/python3.7/dist-packages (from matplotlib->persim->Ripser) (2.8.1)\n",
            "Requirement already satisfied: pyparsing!=2.0.4,!=2.1.2,!=2.1.6,>=2.0.1 in /usr/local/lib/python3.7/dist-packages (from matplotlib->persim->Ripser) (2.4.7)\n",
            "Requirement already satisfied: kiwisolver>=1.0.1 in /usr/local/lib/python3.7/dist-packages (from matplotlib->persim->Ripser) (1.3.1)\n",
            "Requirement already satisfied: cycler>=0.10 in /usr/local/lib/python3.7/dist-packages (from matplotlib->persim->Ripser) (0.10.0)\n",
            "Requirement already satisfied: six>=1.5 in /usr/local/lib/python3.7/dist-packages (from python-dateutil>=2.1->matplotlib->persim->Ripser) (1.15.0)\n",
            "Building wheels for collected packages: Ripser\n",
            "  Building wheel for Ripser (PEP 517) ... \u001b[?25l\u001b[?25hdone\n",
            "  Created wheel for Ripser: filename=ripser-0.6.0-cp37-cp37m-linux_x86_64.whl size=454924 sha256=aad06cd442193a3c2a81be24170fb5d25188adc4f923c965ed26a47ca9ab965d\n",
            "  Stored in directory: /root/.cache/pip/wheels/95/1e/13/59da989de59903698d767dcb19414163e683a2dd31edf80417\n",
            "Successfully built Ripser\n",
            "Building wheels for collected packages: hopcroftkarp\n",
            "  Building wheel for hopcroftkarp (setup.py) ... \u001b[?25l\u001b[?25hdone\n",
            "  Created wheel for hopcroftkarp: filename=hopcroftkarp-1.2.5-py2.py3-none-any.whl size=18119 sha256=78dbb42eca8ca9e797a38827a924c44d9411eb8b878a92c0a394c9e4b21efc4d\n",
            "  Stored in directory: /root/.cache/pip/wheels/2b/e1/c9/1993c7f7f114b7d3fb2d3e895e02157a7ebf554861e9e54e01\n",
            "Successfully built hopcroftkarp\n",
            "Installing collected packages: deprecated, hopcroftkarp, persim, Ripser\n",
            "Successfully installed Ripser-0.6.0 deprecated-1.2.12 hopcroftkarp-1.2.5 persim-0.3.1\n"
          ],
          "name": "stdout"
        }
      ]
    },
    {
      "cell_type": "code",
      "metadata": {
        "id": "cW2lwi2zk9UP"
      },
      "source": [
        "from ripser import ripser\n",
        "import numpy as np\n",
        "import matplotlib.pyplot as plt\n",
        "\n",
        "def get_barcode(filt_mat, maxdim = 2):\n",
        "    \"\"\"\n",
        "    Calculates the persistent homology for a given filtration matrix\n",
        "    ``filt_mat``, default dimensions 0 through 2. Wraps ripser.\n",
        "    \"\"\"\n",
        "    b = ripser(filt_mat, distance_matrix = True, maxdim = maxdim)['dgms']\n",
        "    return list(zip(range(maxdim + 1), b))\n",
        "\n",
        "def plot_barcode(bars, length, dims = [0, 1, 2], end = True):\n",
        "    \"\"\"\n",
        "    Takes in bars, as generated by, e.g., ripser, and plots the barcode.\n",
        "    \"\"\"\n",
        "    bars = dict(bars)\n",
        "    count = 1\n",
        "    has_inf = False\n",
        "    colors = ['xkcd:emerald green', 'xkcd:tealish', 'xkcd:peacock blue']\n",
        "    # iterate through dimension\n",
        "    for d in dims:\n",
        "        bn = bars[d]\n",
        "        bn = sorted(bn, key = lambda x: x[0])\n",
        "        for b, i in zip(bn, range(len(bn))):\n",
        "            # extend in the case of infinite cycles\n",
        "            if b[1] == np.inf:\n",
        "                has_inf = True\n",
        "                b = (b[0], 1.3*length)\n",
        "            # plot first one with label\n",
        "            if i == 0:\n",
        "                plt.plot(b, [count, count], color = colors[d],\n",
        "                         label='{}-cycles'.format(d))\n",
        "            else:\n",
        "                plt.plot(b, [count, count], color = colors[d])\n",
        "            count += 1\n",
        "        count += 1\n",
        "    # add end of filtration line\n",
        "    plt.axvline(x = length, color = 'xkcd:grey', alpha = 0.5, linestyle = ':')\n",
        "    if end:\n",
        "        plt.annotate('Filtration End', (length + 10, 0.5 * count), rotation = 270,\n",
        "                     color = 'xkcd:grey', alpha = 0.5)\n",
        "    lims = plt.xlim()\n",
        "    plt.xlim([-0.05 * length, length * 1.05])\n",
        "    plt.xlabel('Nodes')\n",
        "    plt.ylabel('Cycle Number')\n",
        "\n",
        "def betti_curves(bars, length):\n",
        "    \"\"\"\n",
        "    Takes in bars and returns the betti curves\n",
        "    \"\"\"\n",
        "    bettis = np.zeros((len(bars), length))\n",
        "    for i in range(bettis.shape[0]):\n",
        "        bn = bars[i][1]\n",
        "        for bar in bn:\n",
        "            birth = int(bar[0])\n",
        "            death = length+1 if np.isinf(bar[1]) else int(bar[1]+1)\n",
        "            bettis[i][birth:death] += 1\n",
        "    return bettis"
      ],
      "execution_count": 6,
      "outputs": []
    },
    {
      "cell_type": "code",
      "metadata": {
        "id": "o-Y-VSh2r9xO"
      },
      "source": [
        "mat_file = '/content/drive/My Drive/Curiosity/Simulations/Preprocessed/simulated_nets.mat'\n",
        "mat_contents = sio.loadmat(mat_file)\n",
        "\n",
        "CP_nets = mat_contents['const_prob_nets']\n",
        "CP_nets_weighted = mat_contents['const_prob_nets_weighted']\n",
        "PP_nets = mat_contents['prop_prob_nets']\n",
        "PP_nets_weighted = mat_contents['prop_prob_nets_weighted']\n",
        "\n",
        "num_nodes = CP_nets_weighted.shape[0]\n",
        "num_iters = CP_nets_weighted.shape[2]"
      ],
      "execution_count": 7,
      "outputs": []
    },
    {
      "cell_type": "code",
      "metadata": {
        "colab": {
          "base_uri": "https://localhost:8080/"
        },
        "id": "NBFF7eQ62Ypk",
        "outputId": "2094ed52-3183-4b18-ea7d-066324eec9e8"
      },
      "source": [
        "for iter in range(num_iters):\n",
        "\n",
        "  print('Beginning iter. %d' % iter)\n",
        "  \n",
        "  # Run persistent homology for `constant probability' networks\n",
        "  bettis_0_CP = []\n",
        "  bettis_1_CP = []\n",
        "  bettis_2_CP = []\n",
        "  for i in range(num_iters):\n",
        "    bars_CP = get_barcode(CP_nets_weighted[:, :, i])\n",
        "    bettis_CP = betti_curves(bars_CP, num_nodes)\n",
        "    bettis_0_CP.append(bettis_CP[0])\n",
        "    bettis_1_CP.append(bettis_CP[1])\n",
        "    bettis_2_CP.append(bettis_CP[2])\n",
        "\n",
        "  # Run persistent homology for `proportional probability' networks\n",
        "  bettis_0_PP = []\n",
        "  bettis_1_PP = []\n",
        "  bettis_2_PP = []\n",
        "  for i in range(num_iters):\n",
        "    bars_PP = get_barcode(PP_nets_weighted[:, :, i])\n",
        "    bettis_PP = betti_curves(bars_PP, num_nodes)\n",
        "    bettis_0_PP.append(bettis_PP[0])\n",
        "    bettis_1_PP.append(bettis_PP[1])\n",
        "    bettis_2_PP.append(bettis_PP[2])\n",
        "\n",
        "  print('Processed iter. %d' % iter)\n",
        "\n",
        "# Save results\n",
        "save_filename = 'simulated_nets_bettis.mat'\n",
        "mdic = {'bettis_0_CP': bettis_0_CP, \n",
        "        'bettis_1_CP': bettis_1_CP,\n",
        "        'bettis_2_CP': bettis_2_CP,\n",
        "        'bettis_0_PP': bettis_0_PP,\n",
        "        'bettis_1_PP': bettis_1_PP,\n",
        "        'bettis_2_PP': bettis_2_PP}\n",
        "savemat(save_filename, mdic)"
      ],
      "execution_count": 8,
      "outputs": [
        {
          "output_type": "stream",
          "text": [
            "Beginning iter. 0\n",
            "Processed iter. 0\n",
            "Beginning iter. 1\n",
            "Processed iter. 1\n",
            "Beginning iter. 2\n",
            "Processed iter. 2\n",
            "Beginning iter. 3\n",
            "Processed iter. 3\n",
            "Beginning iter. 4\n",
            "Processed iter. 4\n",
            "Beginning iter. 5\n",
            "Processed iter. 5\n",
            "Beginning iter. 6\n",
            "Processed iter. 6\n",
            "Beginning iter. 7\n",
            "Processed iter. 7\n",
            "Beginning iter. 8\n",
            "Processed iter. 8\n",
            "Beginning iter. 9\n",
            "Processed iter. 9\n",
            "Beginning iter. 10\n",
            "Processed iter. 10\n",
            "Beginning iter. 11\n",
            "Processed iter. 11\n",
            "Beginning iter. 12\n",
            "Processed iter. 12\n",
            "Beginning iter. 13\n",
            "Processed iter. 13\n",
            "Beginning iter. 14\n",
            "Processed iter. 14\n",
            "Beginning iter. 15\n",
            "Processed iter. 15\n",
            "Beginning iter. 16\n",
            "Processed iter. 16\n",
            "Beginning iter. 17\n",
            "Processed iter. 17\n",
            "Beginning iter. 18\n",
            "Processed iter. 18\n",
            "Beginning iter. 19\n",
            "Processed iter. 19\n",
            "Beginning iter. 20\n",
            "Processed iter. 20\n",
            "Beginning iter. 21\n",
            "Processed iter. 21\n",
            "Beginning iter. 22\n",
            "Processed iter. 22\n",
            "Beginning iter. 23\n",
            "Processed iter. 23\n",
            "Beginning iter. 24\n",
            "Processed iter. 24\n",
            "Beginning iter. 25\n",
            "Processed iter. 25\n",
            "Beginning iter. 26\n",
            "Processed iter. 26\n",
            "Beginning iter. 27\n",
            "Processed iter. 27\n",
            "Beginning iter. 28\n",
            "Processed iter. 28\n",
            "Beginning iter. 29\n",
            "Processed iter. 29\n",
            "Beginning iter. 30\n",
            "Processed iter. 30\n",
            "Beginning iter. 31\n",
            "Processed iter. 31\n",
            "Beginning iter. 32\n",
            "Processed iter. 32\n",
            "Beginning iter. 33\n",
            "Processed iter. 33\n",
            "Beginning iter. 34\n",
            "Processed iter. 34\n",
            "Beginning iter. 35\n",
            "Processed iter. 35\n",
            "Beginning iter. 36\n",
            "Processed iter. 36\n",
            "Beginning iter. 37\n",
            "Processed iter. 37\n",
            "Beginning iter. 38\n",
            "Processed iter. 38\n",
            "Beginning iter. 39\n",
            "Processed iter. 39\n",
            "Beginning iter. 40\n",
            "Processed iter. 40\n",
            "Beginning iter. 41\n",
            "Processed iter. 41\n",
            "Beginning iter. 42\n",
            "Processed iter. 42\n",
            "Beginning iter. 43\n",
            "Processed iter. 43\n",
            "Beginning iter. 44\n",
            "Processed iter. 44\n",
            "Beginning iter. 45\n",
            "Processed iter. 45\n",
            "Beginning iter. 46\n",
            "Processed iter. 46\n",
            "Beginning iter. 47\n",
            "Processed iter. 47\n",
            "Beginning iter. 48\n",
            "Processed iter. 48\n",
            "Beginning iter. 49\n",
            "Processed iter. 49\n"
          ],
          "name": "stdout"
        }
      ]
    }
  ]
}