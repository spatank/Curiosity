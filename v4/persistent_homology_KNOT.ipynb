{
  "nbformat": 4,
  "nbformat_minor": 0,
  "metadata": {
    "colab": {
      "name": "persistent_homology_KNOT.ipynb",
      "provenance": [],
      "authorship_tag": "ABX9TyMH6/4we1kQHxHGzQzdjqHv",
      "include_colab_link": true
    },
    "kernelspec": {
      "name": "python3",
      "display_name": "Python 3"
    },
    "language_info": {
      "name": "python"
    }
  },
  "cells": [
    {
      "cell_type": "markdown",
      "metadata": {
        "id": "view-in-github",
        "colab_type": "text"
      },
      "source": [
        "<a href=\"https://colab.research.google.com/github/spatank/Curiosity/blob/master/v4/persistent_homology_KNOT.ipynb\" target=\"_parent\"><img src=\"https://colab.research.google.com/assets/colab-badge.svg\" alt=\"Open In Colab\"/></a>"
      ]
    },
    {
      "cell_type": "code",
      "metadata": {
        "colab": {
          "base_uri": "https://localhost:8080/"
        },
        "id": "2Y7gnEocgMi0",
        "outputId": "29993cf8-8307-461c-8047-6d56f5c679b5"
      },
      "source": [
        "from google.colab import drive\n",
        "drive.mount('/content/drive')\n",
        "\n",
        "import os\n",
        "os.chdir('/content/drive/My Drive/Curiosity/')"
      ],
      "execution_count": 1,
      "outputs": [
        {
          "output_type": "stream",
          "text": [
            "Mounted at /content/drive\n"
          ],
          "name": "stdout"
        }
      ]
    },
    {
      "cell_type": "code",
      "metadata": {
        "colab": {
          "base_uri": "https://localhost:8080/"
        },
        "id": "mvB4MASbhE5d",
        "outputId": "b2f44460-44fe-46ff-c984-eff2653d8c61"
      },
      "source": [
        "!ls # run !ls to verify location"
      ],
      "execution_count": 2,
      "outputs": [
        {
          "output_type": "stream",
          "text": [
            "KNOT  persistent_homology_KNOT.ipynb  Wiki\n"
          ],
          "name": "stdout"
        }
      ]
    },
    {
      "cell_type": "code",
      "metadata": {
        "id": "O6URroOyhdr7"
      },
      "source": [
        "import glob\n",
        "import scipy\n",
        "import scipy.io as sio\n",
        "from scipy.io import savemat"
      ],
      "execution_count": 19,
      "outputs": []
    },
    {
      "cell_type": "code",
      "metadata": {
        "colab": {
          "base_uri": "https://localhost:8080/"
        },
        "id": "LHNE6dZ9kzUN",
        "outputId": "1cbb9924-37c2-48d3-c4d8-fbe5d7a463ee"
      },
      "source": [
        "import sys\n",
        "!{sys.executable} -m pip install Cython"
      ],
      "execution_count": 17,
      "outputs": [
        {
          "output_type": "stream",
          "text": [
            "Requirement already satisfied: Cython in /usr/local/lib/python3.7/dist-packages (0.29.22)\n"
          ],
          "name": "stdout"
        }
      ]
    },
    {
      "cell_type": "code",
      "metadata": {
        "colab": {
          "base_uri": "https://localhost:8080/"
        },
        "id": "fbhBikHYk6TO",
        "outputId": "199c2c80-7cd7-4267-c857-00b9497c14dc"
      },
      "source": [
        "import sys\n",
        "!{sys.executable} -m pip install Ripser"
      ],
      "execution_count": 18,
      "outputs": [
        {
          "output_type": "stream",
          "text": [
            "Collecting Ripser\n",
            "\u001b[?25l  Downloading https://files.pythonhosted.org/packages/b8/6c/d415052513439a43be06237d887066bb57016329445fabbc7a66904ec88f/ripser-0.6.0.tar.gz (71kB)\n",
            "\r\u001b[K     |████▋                           | 10kB 10.1MB/s eta 0:00:01\r\u001b[K     |█████████▏                      | 20kB 8.1MB/s eta 0:00:01\r\u001b[K     |█████████████▊                  | 30kB 8.0MB/s eta 0:00:01\r\u001b[K     |██████████████████▍             | 40kB 7.1MB/s eta 0:00:01\r\u001b[K     |███████████████████████         | 51kB 4.4MB/s eta 0:00:01\r\u001b[K     |███████████████████████████▌    | 61kB 4.2MB/s eta 0:00:01\r\u001b[K     |████████████████████████████████| 71kB 2.9MB/s \n",
            "\u001b[?25h  Installing build dependencies ... \u001b[?25l\u001b[?25hdone\n",
            "  Getting requirements to build wheel ... \u001b[?25l\u001b[?25hdone\n",
            "    Preparing wheel metadata ... \u001b[?25l\u001b[?25hdone\n",
            "Requirement already satisfied: scikit-learn in /usr/local/lib/python3.7/dist-packages (from Ripser) (0.22.2.post1)\n",
            "Collecting persim\n",
            "\u001b[?25l  Downloading https://files.pythonhosted.org/packages/37/93/561457cd5eb05f4d37100ff7c435ce90097cc7e58710fba07a67fd889023/persim-0.3.0-py3-none-any.whl (47kB)\n",
            "\u001b[K     |████████████████████████████████| 51kB 5.6MB/s \n",
            "\u001b[?25hRequirement already satisfied: numpy in /usr/local/lib/python3.7/dist-packages (from Ripser) (1.19.5)\n",
            "Requirement already satisfied: scipy in /usr/local/lib/python3.7/dist-packages (from Ripser) (1.4.1)\n",
            "Requirement already satisfied: Cython in /usr/local/lib/python3.7/dist-packages (from Ripser) (0.29.22)\n",
            "Requirement already satisfied: joblib>=0.11 in /usr/local/lib/python3.7/dist-packages (from scikit-learn->Ripser) (1.0.1)\n",
            "Collecting hopcroftkarp\n",
            "  Downloading https://files.pythonhosted.org/packages/6b/56/7b03eba3c43008c490c9d52e69ea5334b65955f66836eb4f1962f3b0d421/hopcroftkarp-1.2.5.tar.gz\n",
            "Requirement already satisfied: matplotlib in /usr/local/lib/python3.7/dist-packages (from persim->Ripser) (3.2.2)\n",
            "Collecting deprecated\n",
            "  Downloading https://files.pythonhosted.org/packages/fb/73/994edfcba74443146c84b91921fcc269374354118d4f452fb0c54c1cbb12/Deprecated-1.2.12-py2.py3-none-any.whl\n",
            "Requirement already satisfied: pyparsing!=2.0.4,!=2.1.2,!=2.1.6,>=2.0.1 in /usr/local/lib/python3.7/dist-packages (from matplotlib->persim->Ripser) (2.4.7)\n",
            "Requirement already satisfied: kiwisolver>=1.0.1 in /usr/local/lib/python3.7/dist-packages (from matplotlib->persim->Ripser) (1.3.1)\n",
            "Requirement already satisfied: python-dateutil>=2.1 in /usr/local/lib/python3.7/dist-packages (from matplotlib->persim->Ripser) (2.8.1)\n",
            "Requirement already satisfied: cycler>=0.10 in /usr/local/lib/python3.7/dist-packages (from matplotlib->persim->Ripser) (0.10.0)\n",
            "Requirement already satisfied: wrapt<2,>=1.10 in /usr/local/lib/python3.7/dist-packages (from deprecated->persim->Ripser) (1.12.1)\n",
            "Requirement already satisfied: six>=1.5 in /usr/local/lib/python3.7/dist-packages (from python-dateutil>=2.1->matplotlib->persim->Ripser) (1.15.0)\n",
            "Building wheels for collected packages: Ripser\n",
            "  Building wheel for Ripser (PEP 517) ... \u001b[?25l\u001b[?25hdone\n",
            "  Created wheel for Ripser: filename=ripser-0.6.0-cp37-cp37m-linux_x86_64.whl size=454952 sha256=7a06402dad669945d374b70a3e6667c636918ad23bbc2c9e26bc8009d6f95928\n",
            "  Stored in directory: /root/.cache/pip/wheels/95/1e/13/59da989de59903698d767dcb19414163e683a2dd31edf80417\n",
            "Successfully built Ripser\n",
            "Building wheels for collected packages: hopcroftkarp\n",
            "  Building wheel for hopcroftkarp (setup.py) ... \u001b[?25l\u001b[?25hdone\n",
            "  Created wheel for hopcroftkarp: filename=hopcroftkarp-1.2.5-py2.py3-none-any.whl size=18091 sha256=9ec31f9782f1c489ac7e1886eea669a348bcbad29bbe408dedd98a97c3dbb7cb\n",
            "  Stored in directory: /root/.cache/pip/wheels/2b/e1/c9/1993c7f7f114b7d3fb2d3e895e02157a7ebf554861e9e54e01\n",
            "Successfully built hopcroftkarp\n",
            "Installing collected packages: hopcroftkarp, deprecated, persim, Ripser\n",
            "Successfully installed Ripser-0.6.0 deprecated-1.2.12 hopcroftkarp-1.2.5 persim-0.3.0\n"
          ],
          "name": "stdout"
        }
      ]
    },
    {
      "cell_type": "code",
      "metadata": {
        "colab": {
          "base_uri": "https://localhost:8080/"
        },
        "id": "l4vlJEwbnfvA",
        "outputId": "1a8fe820-6d79-45b7-a1a9-f713a3839e14"
      },
      "source": [
        "import sys\n",
        "!{sys.executable} -m pip install traces"
      ],
      "execution_count": 39,
      "outputs": [
        {
          "output_type": "stream",
          "text": [
            "Collecting traces\n",
            "  Downloading https://files.pythonhosted.org/packages/c8/68/471cbd1c07f4128a8856d4f76679f2d463a9622df19a1a4a2fece54a9b37/traces-0.6.0-py2.py3-none-any.whl\n",
            "Collecting infinity\n",
            "  Downloading https://files.pythonhosted.org/packages/cd/55/09840b5789d7bda972ae9f2ecd94d2df06b5aeac193505013fbaf6ddc648/infinity-1.5.tar.gz\n",
            "Requirement already satisfied: sortedcontainers in /usr/local/lib/python3.7/dist-packages (from traces) (2.3.0)\n",
            "Requirement already satisfied: python-dateutil in /usr/local/lib/python3.7/dist-packages (from traces) (2.8.1)\n",
            "Requirement already satisfied: six>=1.5 in /usr/local/lib/python3.7/dist-packages (from python-dateutil->traces) (1.15.0)\n",
            "Building wheels for collected packages: infinity\n",
            "  Building wheel for infinity (setup.py) ... \u001b[?25l\u001b[?25hdone\n",
            "  Created wheel for infinity: filename=infinity-1.5-cp37-none-any.whl size=3082 sha256=c2fe6a8d6966162beb463f371513b2664e9f4c5ae4e3e810850262104d851724\n",
            "  Stored in directory: /root/.cache/pip/wheels/34/19/d8/ad497df8070dc60060283bec5f2806e237095bbf677eacfae5\n",
            "Successfully built infinity\n",
            "Installing collected packages: infinity, traces\n",
            "Successfully installed infinity-1.5 traces-0.6.0\n"
          ],
          "name": "stdout"
        }
      ]
    },
    {
      "cell_type": "code",
      "metadata": {
        "id": "cW2lwi2zk9UP"
      },
      "source": [
        "from ripser import ripser\n",
        "import traces\n",
        "import numpy as np\n",
        "import matplotlib.pyplot as plt\n",
        "\n",
        "def get_barcode(filt_mat, maxdim = 2):\n",
        "    \"\"\"\n",
        "    Calculates the persistent homology for a given filtration matrix\n",
        "    ``filt_mat``, default dimensions 0 through 2. Wraps ripser.\n",
        "    \"\"\"\n",
        "    b = ripser(filt_mat, distance_matrix = True, maxdim = maxdim)['dgms']\n",
        "    return list(zip(range(maxdim + 1), b))\n",
        "\n",
        "def plot_barcode(bars, length, dims=[0, 1, 2], end=True):\n",
        "    \"\"\"\n",
        "    Takes in bars, as generated by, e.g., ripser, and plots the barcode.\n",
        "    \"\"\"\n",
        "    bars = dict(bars)\n",
        "    count = 1\n",
        "    has_inf = False\n",
        "    colors = ['xkcd:emerald green', 'xkcd:tealish', 'xkcd:peacock blue']\n",
        "    # iterate through dimension\n",
        "    for d in dims:\n",
        "        bn = bars[d]\n",
        "        bn = sorted(bn, key=lambda x: x[0])\n",
        "        for b, i in zip(bn, range(len(bn))):\n",
        "            # extend in the case of infinite cycles\n",
        "            if b[1] == np.inf:\n",
        "                has_inf = True\n",
        "                b = (b[0], 1.3*length)\n",
        "            # plot first one with label\n",
        "            if i == 0:\n",
        "                plt.plot(b, [count, count], color=colors[d],\n",
        "                         label='{}-cycles'.format(d))\n",
        "            else:\n",
        "                plt.plot(b, [count, count], color=colors[d])\n",
        "            count += 1\n",
        "        count += 1\n",
        "    # add end of filtration line\n",
        "    plt.axvline(x=length, color='xkcd:grey', alpha=0.5, linestyle=':')\n",
        "    if end:\n",
        "        plt.annotate('Filtration end', (length+10, 0.5*count), rotation=270,\n",
        "                     color='xkcd:grey', alpha=0.5)\n",
        "    lims = plt.xlim()\n",
        "    plt.xlim([-0.05*length, length*1.05])\n",
        "    plt.xlabel('Nodes')\n",
        "    plt.ylabel('Cycle Number')\n",
        "\n",
        "def betti_curves(bars, length):\n",
        "    \"\"\"\n",
        "    Takes in bars and returns the betti curves\n",
        "    \"\"\"\n",
        "    bettis = np.zeros((len(bars), length))\n",
        "    for i in range(bettis.shape[0]):\n",
        "        bn = bars[i][1]\n",
        "        for bar in bn:\n",
        "            birth = int(bar[0])\n",
        "            death = length+1 if np.isinf(bar[1]) else int(bar[1]+1)\n",
        "            bettis[i][birth:death] += 1\n",
        "    return bettis"
      ],
      "execution_count": 40,
      "outputs": []
    },
    {
      "cell_type": "code",
      "metadata": {
        "id": "yIaZoNR1hgge"
      },
      "source": [
        "files = glob.glob('/content/drive/My Drive/Curiosity/KNOT/Preprocessed/*.mat')\n",
        "mat_file = files[0]"
      ],
      "execution_count": 11,
      "outputs": []
    },
    {
      "cell_type": "code",
      "metadata": {
        "id": "Jeg1jtl6iIBZ"
      },
      "source": [
        "# test code with Subject 101\n",
        "mat_contents = sio.loadmat(mat_file)\n",
        "\n",
        "subj = mat_contents['subj']\n",
        "orig_G = mat_contents['orig_G']\n",
        "nodes = mat_contents['nodes']\n",
        "\n",
        "nodes_kept = mat_contents['nodes_kept']\n",
        "G = mat_contents['G']\n",
        "weighted_G = mat_contents['weighted_G']\n",
        "\n",
        "edges_rewired_weighted = mat_contents['edges_rewired_weighted']\n",
        "new_node_order = mat_contents['new_node_order']\n",
        "nodes_reordered_weighted = mat_contents['nodes_reordered_weighted']\n",
        "\n",
        "# test = nodes_reordered_weighted[:, :, 0]\n",
        "# test"
      ],
      "execution_count": 14,
      "outputs": []
    },
    {
      "cell_type": "code",
      "metadata": {
        "id": "F5UPvaYzkQJn"
      },
      "source": [
        "bars = get_barcode(weighted_G)"
      ],
      "execution_count": 41,
      "outputs": []
    },
    {
      "cell_type": "code",
      "metadata": {
        "colab": {
          "base_uri": "https://localhost:8080/",
          "height": 279
        },
        "id": "F0HdfOByld8E",
        "outputId": "6592a027-c56a-4595-c330-3650b2579d1c"
      },
      "source": [
        "plot_barcode(bars, len(nodes_kept))"
      ],
      "execution_count": 42,
      "outputs": [
        {
          "output_type": "display_data",
          "data": {
            "image/png": "[encoded data removed]",
            "text/plain": [
              "<Figure size 432x288 with 1 Axes>"
            ]
          },
          "metadata": {
            "tags": [],
            "needs_background": "light"
          }
        }
      ]
    },
    {
      "cell_type": "code",
      "metadata": {
        "colab": {
          "base_uri": "https://localhost:8080/"
        },
        "id": "BR-C_54-l_Wa",
        "outputId": "6dae48e0-9840-4f77-d500-0fe04ede4cd6"
      },
      "source": [
        "betti = betti_curves(bars, len(nodes_kept))\n",
        "betti.shape"
      ],
      "execution_count": 46,
      "outputs": [
        {
          "output_type": "execute_result",
          "data": {
            "text/plain": [
              "(3, 284)"
            ]
          },
          "metadata": {
            "tags": []
          },
          "execution_count": 46
        }
      ]
    },
    {
      "cell_type": "code",
      "metadata": {
        "colab": {
          "base_uri": "https://localhost:8080/",
          "height": 282
        },
        "id": "Zi2v0Txfn2-U",
        "outputId": "0cdc4db4-0018-4143-81f1-d7ed27e346b0"
      },
      "source": [
        "plt.plot(betti[0])"
      ],
      "execution_count": 48,
      "outputs": [
        {
          "output_type": "execute_result",
          "data": {
            "text/plain": [
              "[<matplotlib.lines.Line2D at 0x7fc795e0cc10>]"
            ]
          },
          "metadata": {
            "tags": []
          },
          "execution_count": 48
        },
        {
          "output_type": "display_data",
          "data": {
            "image/png": "[encoded data removed]",
            "text/plain": [
              "<Figure size 432x288 with 1 Axes>"
            ]
          },
          "metadata": {
            "tags": [],
            "needs_background": "light"
          }
        }
      ]
    },
    {
      "cell_type": "code",
      "metadata": {
        "colab": {
          "base_uri": "https://localhost:8080/",
          "height": 282
        },
        "id": "HE-TuFMEn8TK",
        "outputId": "7d181045-eba0-415c-e7ec-9a793e174089"
      },
      "source": [
        "plt.plot(betti[1])"
      ],
      "execution_count": 49,
      "outputs": [
        {
          "output_type": "execute_result",
          "data": {
            "text/plain": [
              "[<matplotlib.lines.Line2D at 0x7fc795a37710>]"
            ]
          },
          "metadata": {
            "tags": []
          },
          "execution_count": 49
        },
        {
          "output_type": "display_data",
          "data": {
            "image/png": "[encoded data removed]",
            "text/plain": [
              "<Figure size 432x288 with 1 Axes>"
            ]
          },
          "metadata": {
            "tags": [],
            "needs_background": "light"
          }
        }
      ]
    },
    {
      "cell_type": "code",
      "metadata": {
        "colab": {
          "base_uri": "https://localhost:8080/"
        },
        "id": "X0ezOqaZpJO_",
        "outputId": "736a652e-9ddc-4db2-cefe-5f8dcdd9bd3e"
      },
      "source": [
        "betti[1]"
      ],
      "execution_count": 51,
      "outputs": [
        {
          "output_type": "execute_result",
          "data": {
            "text/plain": [
              "array([  0.,   0.,   0.,   0.,   0.,   0.,   0.,   0.,   0.,   0.,   0.,\n",
              "         0.,   2.,   3.,   3.,   3.,   3.,   3.,   3.,   3.,   3.,   3.,\n",
              "         3.,   4.,   4.,   4.,   4.,   4.,   4.,   4.,   4.,   4.,   4.,\n",
              "         4.,   4.,   4.,   4.,   4.,   5.,   5.,   5.,   6.,   6.,   6.,\n",
              "         6.,   6.,   6.,   6.,   6.,   6.,   6.,   6.,   6.,   6.,   6.,\n",
              "         6.,   6.,   6.,   6.,   6.,   6.,   6.,   6.,   6.,   6.,   6.,\n",
              "         6.,   6.,   6.,   6.,   6.,   6.,   6.,   6.,   6.,   6.,   6.,\n",
              "         6.,   6.,   6.,   6.,   6.,   6.,   6.,   7.,   7.,   7.,   7.,\n",
              "         7.,   7.,   8.,   8.,   9.,   9.,   9.,   9.,   9.,   9.,   9.,\n",
              "         9.,   9.,  10.,  11.,  11.,  11.,  11.,  11.,  11.,  12.,  12.,\n",
              "        12.,  12.,  12.,  12.,  12.,  12.,  12.,  12.,  12.,  13.,  13.,\n",
              "        13.,  13.,  13.,  13.,  13.,  13.,  13.,  13.,  13.,  13.,  13.,\n",
              "        15.,  15.,  16.,  16.,  16.,  16.,  19.,  19.,  19.,  19.,  19.,\n",
              "        19.,  19.,  20.,  20.,  20.,  23.,  23.,  24.,  24.,  24.,  24.,\n",
              "        24.,  24.,  25.,  26.,  27.,  27.,  27.,  30.,  31.,  31.,  31.,\n",
              "        31.,  31.,  31.,  31.,  32.,  32.,  32.,  32.,  32.,  32.,  32.,\n",
              "        32.,  33.,  34.,  34.,  35.,  35.,  35.,  35.,  35.,  35.,  35.,\n",
              "        35.,  35.,  35.,  35.,  43.,  44.,  44.,  46.,  46.,  48.,  48.,\n",
              "        48.,  48.,  48.,  49.,  49.,  49.,  51.,  51.,  51.,  51.,  51.,\n",
              "        51.,  51.,  51.,  51.,  54.,  55.,  55.,  55.,  55.,  55.,  55.,\n",
              "        55.,  55.,  55.,  55.,  55.,  56.,  58.,  58.,  59.,  62.,  62.,\n",
              "        63.,  63.,  64.,  65.,  65.,  64.,  64.,  64.,  65.,  66.,  67.,\n",
              "        67.,  67.,  67.,  67.,  67.,  67.,  68.,  68.,  68.,  70.,  70.,\n",
              "        70.,  71.,  71.,  71.,  71.,  73.,  73.,  73.,  77.,  77.,  77.,\n",
              "        77.,  77.,  77.,  78.,  80.,  82.,  82.,  87.,  87.,  87.,  87.,\n",
              "        87.,  89.,  91.,  91.,  92.,  92., 113., 117., 117.])"
            ]
          },
          "metadata": {
            "tags": []
          },
          "execution_count": 51
        }
      ]
    },
    {
      "cell_type": "code",
      "metadata": {
        "colab": {
          "base_uri": "https://localhost:8080/",
          "height": 282
        },
        "id": "itZe6jq8n9xv",
        "outputId": "cfb96e0d-3df1-4ad8-924c-1e460ad93f4f"
      },
      "source": [
        "plt.plot(betti[2])"
      ],
      "execution_count": 50,
      "outputs": [
        {
          "output_type": "execute_result",
          "data": {
            "text/plain": [
              "[<matplotlib.lines.Line2D at 0x7fc7959a4650>]"
            ]
          },
          "metadata": {
            "tags": []
          },
          "execution_count": 50
        },
        {
          "output_type": "display_data",
          "data": {
            "image/png": "[encoded data removed]",
            "text/plain": [
              "<Figure size 432x288 with 1 Axes>"
            ]
          },
          "metadata": {
            "tags": [],
            "needs_background": "light"
          }
        }
      ]
    }
  ]
}