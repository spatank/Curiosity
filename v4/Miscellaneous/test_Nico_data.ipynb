{
 "cells": [
  {
   "cell_type": "code",
   "execution_count": 1,
   "metadata": {},
   "outputs": [],
   "source": [
    "import numpy as np\n",
    "import scipy.io as sio\n",
    "from scipy.io import savemat"
   ]
  },
  {
   "cell_type": "code",
   "execution_count": 2,
   "metadata": {},
   "outputs": [],
   "source": [
    "# test = sio.loadmat('/Users/sppatankar/Developer/My Passport/Curiosity/v4/struct.mat')"
   ]
  },
  {
   "cell_type": "code",
   "execution_count": 3,
   "metadata": {},
   "outputs": [],
   "source": [
    "# test"
   ]
  },
  {
   "cell_type": "code",
   "execution_count": 4,
   "metadata": {},
   "outputs": [],
   "source": [
    "path_base = '/Users/sppatankar/Developer/My Passport/Curiosity/Data/'\n",
    "path_Nico = path_base + 'Nico'\n",
    "\n",
    "all_index = np.load(path_Nico + '/all_index.npy', allow_pickle = True)\n",
    "cooc_mats = np.load(path_Nico + '/cooc_mats.npy', allow_pickle = True)\n",
    "filt_mats = np.load(path_Nico + '/filt_mats.npy', allow_pickle = True)"
   ]
  },
  {
   "cell_type": "code",
   "execution_count": 11,
   "metadata": {},
   "outputs": [
    {
     "data": {
      "text/plain": [
       "array(['basic notions', 'multiplication', 'axiom', 'denote',\n",
       "       'vector space', 'scalar', 'vector', 'additive inverse', 'inverse',\n",
       "       'manipulation', 'real number', 'real vector space',\n",
       "       'complex number', 'complex vector space', 'complex space',\n",
       "       'arbitrary field', 'arbitrary', 'complex case', 'matrix',\n",
       "       'real entry', 'polynomial', 'coefficient', 'variable',\n",
       "       'row number', 'column number', 'transpose', 'vice versa',\n",
       "       'linear transformation', 'linear', 'adjoint', 'transformation',\n",
       "       'column vector', 'linear combination', 'unique representation',\n",
       "       'unique solution', 'standard basis', 'decomposition',\n",
       "       'linearly independent system', 'linearly independent',\n",
       "       'complete system', 'column space', 'uniqueness', 'trivial',\n",
       "       'trivial linear combination', 'trivial solution',\n",
       "       'linearly dependent', 'exercises', 'matrixvector multiplication',\n",
       "       'mapping', 'domain', 'target space', 'rotation', 'coordinate rule',\n",
       "       'computation', 'column rule', 'computer', 'canonically identify',\n",
       "       'linearity', 'matrix multiplication', 'well define', 'sin cos',\n",
       "       'rotation matrix', 'trivially', 'square matrix', 'diagonal',\n",
       "       'diagonal entry', 'theorem', 'deduce', 'projection', 'orthogonal',\n",
       "       'orthogonal projection', 'invertible', 'invertible transformation',\n",
       "       'isomorphism', 'identity matrix', 'infinitely', 'main diagonal',\n",
       "       'leave invertible', 'corollary', 'left inverse',\n",
       "       'invertible matrix', 'isomorphic', 'column form', 'interchange',\n",
       "       'subspace', 'computer graphic', 'kernel', 'null space',\n",
       "       'upper triangular', 'triangular matrix', 'upper triangular matrix',\n",
       "       'pixel', 'elementary', 'elementary rotation', 'linear equation',\n",
       "       'linear system', 'unknowns', 'tuple', 'matrix form',\n",
       "       'coefficient matrix', 'augmented matrix', 'echelon',\n",
       "       'echelon form', 'row reduction', 'row operation',\n",
       "       'elementary matrix', 'solution set', 'pivot', 'second row',\n",
       "       'algorithm', 'reduced echelon form', 'general case',\n",
       "       'free variable', 'equivalently', 'generality', 'general solution',\n",
       "       'column operation', 'pivot column', 'finite dimensional',\n",
       "       'finite dimensional space', 'finite dimensional vector space',\n",
       "       'induction', 'subspace span', 'homogeneous system',\n",
       "       'homogeneous equation', 'fundamental subspace', 'row space',\n",
       "       'dim ran', 'original matrix', 'column space ran', 'rank theorem',\n",
       "       'matrix coincide', 'ordering', 'determinant', 'previous problem',\n",
       "       'real matrix', 'coordinate formula', 'matrix representation',\n",
       "       'coordinate matrix', 'coordinate representation',\n",
       "       'linear operator', 'calculus', 'visualize', 'high dimension',\n",
       "       'generalize', 'third type', 'real case', 'compute determinant',\n",
       "       'diagonal matrix', 'corresponding column operation', 'row column',\n",
       "       'nilpotent', 'orthogonal matrix', 'summation', 'permutation',\n",
       "       'cofactor expansion', 'cofactor expansion formula',\n",
       "       'cofactor formula', 'polynomial matrix', 'maximal', 'eigenvalue',\n",
       "       'eigenvector', 'spectral theory', 'main idea', 'spectrum',\n",
       "       'eigenspace', 'characteristic polynomial', 'compute eigenvalue',\n",
       "       'real space', 'real eigenvalue', 'complex eigenvalue',\n",
       "       'complex coordinate', 'complexification', 'multiplicity',\n",
       "       'algebraic multiplicity', 'count multiplicity',\n",
       "       'geometric multiplicity', 'eigenvalue count multiplicity',\n",
       "       'distinct eigenvalue', 'diagonalization', 'diagonalize',\n",
       "       'diagonalizable', 'diagonalizable operator',\n",
       "       'corresponding eigenvector', 'complex conjugate',\n",
       "       'diagonalizable matrix', 'square root', 'inner product',\n",
       "       'inner product space', 'standard inner product', 'inequality',\n",
       "       'derivative', 'polarization identity',\n",
       "       'complex inner product space', 'real inner product space',\n",
       "       'parallelogram identity', 'normed space', 'orthogonality',\n",
       "       'orthonormal', 'orthonormal basis', 'unit ball',\n",
       "       'orthogonal system', 'orthonormal system', 'orthogonal basis',\n",
       "       'square solution', 'normal equation', 'inclusion', 'minimal norm',\n",
       "       'adjoint matrix', 'adjoint operator', 'coordinate free',\n",
       "       'invariant', 'unitary operator', 'unitary', 'isometry',\n",
       "       'unitary matrix', 'unitary transformation', 'unitarily equivalent',\n",
       "       'orthogonally diagonalize', 'rigid motion',\n",
       "       'orthogonal transformation', 'decomplexification',\n",
       "       'complex structure', 'normal operator', 'spectral theorem',\n",
       "       'hermitian matrix', 'singular value',\n",
       "       'singular value decomposition', 'positive definite',\n",
       "       'positive semidefinite', 'modulus', 'polar decomposition',\n",
       "       'schmidt decomposition', 'closed unit ball', 'operator norm',\n",
       "       'ellipsoid', 'half axis', 'condition number',\n",
       "       'moorepenrose inverse', 'block diagonal form',\n",
       "       'invariant subspace', 'continuously transform', 'quadratic form',\n",
       "       'bilinear', 'bilinear form', 'orthogonal diagonalization',\n",
       "       'positive resp', 'positive subspace', 'positive definite form',\n",
       "       'positivity', 'negative definite', 'positive definite matrix',\n",
       "       'codimension', 'dual space', 'tensor', 'linear functional',\n",
       "       'functional', 'subscript', 'dual basis', 'canonically isomorphic',\n",
       "       'dual system', 'dual transformation', 'metric tensor',\n",
       "       'superscript', 'covariant', 'contravariant coordinate',\n",
       "       'contravariant', 'covariant coordinate', 'multilinear function',\n",
       "       'tensor product', 'advanced spectral theory',\n",
       "       'generalized eigenspace', 'generalized eigenvector',\n",
       "       'nilpotent operator', 'initial vector', 'jordan canonical form',\n",
       "       'jordan canonical basis', 'dot diagram'], dtype='<U31')"
      ]
     },
     "execution_count": 11,
     "metadata": {},
     "output_type": "execute_result"
    }
   ],
   "source": [
    "all_index[0]"
   ]
  },
  {
   "cell_type": "code",
   "execution_count": 5,
   "metadata": {},
   "outputs": [],
   "source": [
    "test_array = filt_mats[0]"
   ]
  },
  {
   "cell_type": "code",
   "execution_count": 6,
   "metadata": {},
   "outputs": [
    {
     "data": {
      "text/plain": [
       "array([[1.000e+00, 8.380e+02, 6.900e+01, ...,       inf,       inf,\n",
       "              inf],\n",
       "       [8.380e+02, 2.000e+00, 2.000e+00, ...,       inf,       inf,\n",
       "              inf],\n",
       "       [6.900e+01, 2.000e+00, 2.000e+00, ...,       inf,       inf,\n",
       "              inf],\n",
       "       ...,\n",
       "       [      inf,       inf,       inf, ..., 6.540e+03, 6.585e+03,\n",
       "        6.601e+03],\n",
       "       [      inf,       inf,       inf, ..., 6.585e+03, 6.579e+03,\n",
       "        6.615e+03],\n",
       "       [      inf,       inf,       inf, ..., 6.601e+03, 6.615e+03,\n",
       "        6.593e+03]])"
      ]
     },
     "execution_count": 6,
     "metadata": {},
     "output_type": "execute_result"
    }
   ],
   "source": [
    "test_array"
   ]
  },
  {
   "cell_type": "code",
   "execution_count": 17,
   "metadata": {},
   "outputs": [],
   "source": [
    "filename = 'test_filt.mat'\n",
    "mdic = {'filt_mat': test_array}\n",
    "savemat(filename, mdic)"
   ]
  },
  {
   "cell_type": "code",
   "execution_count": 25,
   "metadata": {},
   "outputs": [
    {
     "data": {
      "text/plain": [
       "113.0"
      ]
     },
     "execution_count": 25,
     "metadata": {},
     "output_type": "execute_result"
    }
   ],
   "source": [
    "test_array[8][2]"
   ]
  },
  {
   "cell_type": "code",
   "execution_count": 26,
   "metadata": {},
   "outputs": [
    {
     "name": "stdout",
     "output_type": "stream",
     "text": [
      "\u001b[30m\u001b[43mData\u001b[m\u001b[m                      \u001b[31msubj_150.mat\u001b[m\u001b[m              \u001b[31msubj_199.mat\u001b[m\u001b[m\r\n",
      "\u001b[31mbuild_KNOT_networks.ipynb\u001b[m\u001b[m \u001b[31msubj_153.mat\u001b[m\u001b[m              \u001b[31msubj_201.mat\u001b[m\u001b[m\r\n",
      "\u001b[31mbuild_Wiki_networks.ipynb\u001b[m\u001b[m \u001b[31msubj_154.mat\u001b[m\u001b[m              \u001b[31msubj_204.mat\u001b[m\u001b[m\r\n",
      "\u001b[31msubj_101.mat\u001b[m\u001b[m              \u001b[31msubj_155.mat\u001b[m\u001b[m              \u001b[31msubj_206.mat\u001b[m\u001b[m\r\n",
      "\u001b[31msubj_104.mat\u001b[m\u001b[m              \u001b[31msubj_156.mat\u001b[m\u001b[m              \u001b[31msubj_207.mat\u001b[m\u001b[m\r\n",
      "\u001b[31msubj_105.mat\u001b[m\u001b[m              \u001b[31msubj_157.mat\u001b[m\u001b[m              \u001b[31msubj_208.mat\u001b[m\u001b[m\r\n",
      "\u001b[31msubj_106.mat\u001b[m\u001b[m              \u001b[31msubj_158.mat\u001b[m\u001b[m              \u001b[31msubj_209.mat\u001b[m\u001b[m\r\n",
      "\u001b[31msubj_107.mat\u001b[m\u001b[m              \u001b[31msubj_159.mat\u001b[m\u001b[m              \u001b[31msubj_210.mat\u001b[m\u001b[m\r\n",
      "\u001b[31msubj_108.mat\u001b[m\u001b[m              \u001b[31msubj_162.mat\u001b[m\u001b[m              \u001b[31msubj_211.mat\u001b[m\u001b[m\r\n",
      "\u001b[31msubj_109.mat\u001b[m\u001b[m              \u001b[31msubj_164.mat\u001b[m\u001b[m              \u001b[31msubj_212.mat\u001b[m\u001b[m\r\n",
      "\u001b[31msubj_112.mat\u001b[m\u001b[m              \u001b[31msubj_165.mat\u001b[m\u001b[m              \u001b[31msubj_214.mat\u001b[m\u001b[m\r\n",
      "\u001b[31msubj_114.mat\u001b[m\u001b[m              \u001b[31msubj_167.mat\u001b[m\u001b[m              \u001b[31msubj_216.mat\u001b[m\u001b[m\r\n",
      "\u001b[31msubj_115.mat\u001b[m\u001b[m              \u001b[31msubj_169.mat\u001b[m\u001b[m              \u001b[31msubj_217.mat\u001b[m\u001b[m\r\n",
      "\u001b[31msubj_117.mat\u001b[m\u001b[m              \u001b[31msubj_171.mat\u001b[m\u001b[m              \u001b[31msubj_219.mat\u001b[m\u001b[m\r\n",
      "\u001b[31msubj_119.mat\u001b[m\u001b[m              \u001b[31msubj_173.mat\u001b[m\u001b[m              \u001b[31msubj_220.mat\u001b[m\u001b[m\r\n",
      "\u001b[31msubj_120.mat\u001b[m\u001b[m              \u001b[31msubj_174.mat\u001b[m\u001b[m              \u001b[31msubj_221.mat\u001b[m\u001b[m\r\n",
      "\u001b[31msubj_121.mat\u001b[m\u001b[m              \u001b[31msubj_176.mat\u001b[m\u001b[m              \u001b[31msubj_223.mat\u001b[m\u001b[m\r\n",
      "\u001b[31msubj_122.mat\u001b[m\u001b[m              \u001b[31msubj_177.mat\u001b[m\u001b[m              \u001b[31msubj_224.mat\u001b[m\u001b[m\r\n",
      "\u001b[31msubj_126.mat\u001b[m\u001b[m              \u001b[31msubj_179.mat\u001b[m\u001b[m              \u001b[31msubj_225.mat\u001b[m\u001b[m\r\n",
      "\u001b[31msubj_127.mat\u001b[m\u001b[m              \u001b[31msubj_183.mat\u001b[m\u001b[m              \u001b[31msubj_226.mat\u001b[m\u001b[m\r\n",
      "\u001b[31msubj_128.mat\u001b[m\u001b[m              \u001b[31msubj_185.mat\u001b[m\u001b[m              \u001b[31msubj_228.mat\u001b[m\u001b[m\r\n",
      "\u001b[31msubj_130.mat\u001b[m\u001b[m              \u001b[31msubj_188.mat\u001b[m\u001b[m              \u001b[31msubj_229.mat\u001b[m\u001b[m\r\n",
      "\u001b[31msubj_131.mat\u001b[m\u001b[m              \u001b[31msubj_189.mat\u001b[m\u001b[m              \u001b[31msubj_231.mat\u001b[m\u001b[m\r\n",
      "\u001b[31msubj_132.mat\u001b[m\u001b[m              \u001b[31msubj_190.mat\u001b[m\u001b[m              \u001b[31msubj_232.mat\u001b[m\u001b[m\r\n",
      "\u001b[31msubj_135.mat\u001b[m\u001b[m              \u001b[31msubj_191.mat\u001b[m\u001b[m              \u001b[31msubj_234.mat\u001b[m\u001b[m\r\n",
      "\u001b[31msubj_138.mat\u001b[m\u001b[m              \u001b[31msubj_192.mat\u001b[m\u001b[m              \u001b[31mtest_Nico_data.ipynb\u001b[m\u001b[m\r\n",
      "\u001b[31msubj_139.mat\u001b[m\u001b[m              \u001b[31msubj_194.mat\u001b[m\u001b[m              \u001b[31mtest_filt.mat\u001b[m\u001b[m\r\n",
      "\u001b[31msubj_140.mat\u001b[m\u001b[m              \u001b[31msubj_196.mat\u001b[m\u001b[m              \u001b[31mtest_stacking.mat\u001b[m\u001b[m\r\n",
      "\u001b[31msubj_141.mat\u001b[m\u001b[m              \u001b[31msubj_197.mat\u001b[m\u001b[m\r\n",
      "\u001b[31msubj_146.mat\u001b[m\u001b[m              \u001b[31msubj_198.mat\u001b[m\u001b[m\r\n"
     ]
    }
   ],
   "source": [
    "!ls"
   ]
  },
  {
   "cell_type": "code",
   "execution_count": 7,
   "metadata": {},
   "outputs": [],
   "source": [
    "mat_contents = sio.loadmat('test_stacking.mat')"
   ]
  },
  {
   "cell_type": "code",
   "execution_count": 45,
   "metadata": {},
   "outputs": [
    {
     "name": "stdout",
     "output_type": "stream",
     "text": [
      "Collecting mat4py\n",
      "  Downloading mat4py-0.5.0-py2.py3-none-any.whl (13 kB)\n",
      "Installing collected packages: mat4py\n",
      "Successfully installed mat4py-0.5.0\n"
     ]
    }
   ],
   "source": [
    "# import sys\n",
    "# !{sys.executable} -m pip install mat4py"
   ]
  },
  {
   "cell_type": "code",
   "execution_count": 8,
   "metadata": {},
   "outputs": [
    {
     "data": {
      "text/plain": [
       "array([[[ 8, 16,  3,  3],\n",
       "        [ 1,  9,  1,  1],\n",
       "        [ 6, 14,  3,  3]],\n",
       "\n",
       "       [[ 3, 11,  2,  2],\n",
       "        [ 5, 13,  2,  2],\n",
       "        [ 7, 15,  1,  3]],\n",
       "\n",
       "       [[ 4, 12,  1,  3],\n",
       "        [ 9, 17,  3,  3],\n",
       "        [ 2, 10,  3,  2]]], dtype=uint8)"
      ]
     },
     "execution_count": 8,
     "metadata": {},
     "output_type": "execute_result"
    }
   ],
   "source": [
    "test_mat = np.array(mat_contents['test_mat'])\n",
    "test_mat"
   ]
  },
  {
   "cell_type": "code",
   "execution_count": 10,
   "metadata": {},
   "outputs": [
    {
     "data": {
      "text/plain": [
       "array([[8, 1, 6],\n",
       "       [3, 5, 7],\n",
       "       [4, 9, 2]], dtype=uint8)"
      ]
     },
     "execution_count": 10,
     "metadata": {},
     "output_type": "execute_result"
    }
   ],
   "source": [
    "test_mat[:, :, 0] # this is how to index here!!"
   ]
  }
 ],
 "metadata": {
  "kernelspec": {
   "display_name": "Python (myenv)",
   "language": "python",
   "name": "myenv"
  },
  "language_info": {
   "codemirror_mode": {
    "name": "ipython",
    "version": 3
   },
   "file_extension": ".py",
   "mimetype": "text/x-python",
   "name": "python",
   "nbconvert_exporter": "python",
   "pygments_lexer": "ipython3",
   "version": "3.7.6"
  }
 },
 "nbformat": 4,
 "nbformat_minor": 2
}
