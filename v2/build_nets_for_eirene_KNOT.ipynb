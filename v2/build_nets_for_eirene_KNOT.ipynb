{
  "nbformat": 4,
  "nbformat_minor": 0,
  "metadata": {
    "colab": {
      "name": "build_nets_for_eirene_KNOT.ipynb",
      "provenance": [],
      "collapsed_sections": [],
      "authorship_tag": "ABX9TyP6YyPd/1XkeI2WTNjB0pbJ",
      "include_colab_link": true
    },
    "kernelspec": {
      "name": "python3",
      "display_name": "Python 3"
    }
  },
  "cells": [
    {
      "cell_type": "markdown",
      "metadata": {
        "id": "view-in-github",
        "colab_type": "text"
      },
      "source": [
        "<a href=\"https://colab.research.google.com/github/spatank/Curiosity/blob/master/v2/build_nets_for_eirene_KNOT.ipynb\" target=\"_parent\"><img src=\"https://colab.research.google.com/assets/colab-badge.svg\" alt=\"Open In Colab\"/></a>"
      ]
    },
    {
      "cell_type": "code",
      "metadata": {
        "colab": {
          "base_uri": "https://localhost:8080/"
        },
        "id": "jWiXh1ZmCmP2",
        "outputId": "e125c9a1-2edb-4d7f-b654-8ea85c12f83e"
      },
      "source": [
        "from google.colab import drive\n",
        "drive.mount('/content/drive')\n",
        "\n",
        "import os\n",
        "os.chdir('/content/drive/My Drive/Curiosity_IGT/KNOT')"
      ],
      "execution_count": 1,
      "outputs": [
        {
          "output_type": "stream",
          "text": [
            "Mounted at /content/drive\n"
          ],
          "name": "stdout"
        }
      ]
    },
    {
      "cell_type": "code",
      "metadata": {
        "colab": {
          "base_uri": "https://localhost:8080/"
        },
        "id": "sn4osBmdC36M",
        "outputId": "e8238bab-698c-40df-afe2-ff95830a06f5"
      },
      "source": [
        "!ls # run !ls to verify location "
      ],
      "execution_count": 2,
      "outputs": [
        {
          "output_type": "stream",
          "text": [
            "five_D.mat\t\t KNOT_data_processed\t     KNOT_data_raw.csv\n",
            "growing_KNOT_nets.ipynb  KNOT_data_processed_Eirene  subj_101.mat\n"
          ],
          "name": "stdout"
        }
      ]
    },
    {
      "cell_type": "code",
      "metadata": {
        "id": "d4igZFZDC5vy"
      },
      "source": [
        "import pandas as pd\n",
        "# !pip install wikipedia2vec\n",
        "# from wikipedia2vec import Wikipedia2Vec\n",
        "import numpy as np\n",
        "# from scipy.spatial.distance import cosine\n",
        "import scipy\n",
        "from scipy.io import savemat\n",
        "import networkx as nx"
      ],
      "execution_count": 3,
      "outputs": []
    },
    {
      "cell_type": "code",
      "metadata": {
        "colab": {
          "base_uri": "https://localhost:8080/",
          "height": 162
        },
        "id": "rPJv08yxDGah",
        "outputId": "2b8ecaa0-9dfe-4ca1-cb3e-b3d3d88685e6"
      },
      "source": [
        "wiki_df = pd.read_csv('KNOT_data_raw.csv')\n",
        "wiki_df.head(3)"
      ],
      "execution_count": 4,
      "outputs": [
        {
          "output_type": "execute_result",
          "data": {
            "text/html": [
              "<div>\n",
              "<style scoped>\n",
              "    .dataframe tbody tr th:only-of-type {\n",
              "        vertical-align: middle;\n",
              "    }\n",
              "\n",
              "    .dataframe tbody tr th {\n",
              "        vertical-align: top;\n",
              "    }\n",
              "\n",
              "    .dataframe thead th {\n",
              "        text-align: right;\n",
              "    }\n",
              "</style>\n",
              "<table border=\"1\" class=\"dataframe\">\n",
              "  <thead>\n",
              "    <tr style=\"text-align: right;\">\n",
              "      <th></th>\n",
              "      <th>ID</th>\n",
              "      <th>SourceName</th>\n",
              "      <th>TargetName</th>\n",
              "      <th>Day</th>\n",
              "      <th>TimeOrder</th>\n",
              "      <th>Hyperlink</th>\n",
              "      <th>DistanceWeights</th>\n",
              "      <th>AgeYears</th>\n",
              "      <th>SexOrient</th>\n",
              "      <th>Race</th>\n",
              "      <th>GenderFactor</th>\n",
              "      <th>EducDeg</th>\n",
              "      <th>Income</th>\n",
              "      <th>JE_5D</th>\n",
              "      <th>DS_5D</th>\n",
              "      <th>ST_5D</th>\n",
              "      <th>SC_5D</th>\n",
              "      <th>TS_5D</th>\n",
              "      <th>Count</th>\n",
              "      <th>Weight</th>\n",
              "    </tr>\n",
              "  </thead>\n",
              "  <tbody>\n",
              "    <tr>\n",
              "      <th>0</th>\n",
              "      <td>101</td>\n",
              "      <td>/wiki/Jeff_Bezos</td>\n",
              "      <td>/wiki/Cloud_infrastructure</td>\n",
              "      <td>1</td>\n",
              "      <td>1</td>\n",
              "      <td>no</td>\n",
              "      <td>1.0</td>\n",
              "      <td>23.27945</td>\n",
              "      <td>Heterosexual</td>\n",
              "      <td>AsiaAm</td>\n",
              "      <td>0</td>\n",
              "      <td>BachDegree</td>\n",
              "      <td>20to49k</td>\n",
              "      <td>4.4</td>\n",
              "      <td>4.25</td>\n",
              "      <td>1.6</td>\n",
              "      <td>2.8</td>\n",
              "      <td>2.0</td>\n",
              "      <td>1</td>\n",
              "      <td>0.0</td>\n",
              "    </tr>\n",
              "    <tr>\n",
              "      <th>1</th>\n",
              "      <td>101</td>\n",
              "      <td>/wiki/Cloud_infrastructure</td>\n",
              "      <td>/wiki/Cloud_computing_security</td>\n",
              "      <td>1</td>\n",
              "      <td>2</td>\n",
              "      <td>yes</td>\n",
              "      <td>0.2</td>\n",
              "      <td>23.27945</td>\n",
              "      <td>Heterosexual</td>\n",
              "      <td>AsiaAm</td>\n",
              "      <td>0</td>\n",
              "      <td>BachDegree</td>\n",
              "      <td>20to49k</td>\n",
              "      <td>4.4</td>\n",
              "      <td>4.25</td>\n",
              "      <td>1.6</td>\n",
              "      <td>2.8</td>\n",
              "      <td>2.0</td>\n",
              "      <td>2</td>\n",
              "      <td>0.8</td>\n",
              "    </tr>\n",
              "    <tr>\n",
              "      <th>2</th>\n",
              "      <td>101</td>\n",
              "      <td>/wiki/Cloud_computing_security</td>\n",
              "      <td>/wiki/Cloud_infrastructure</td>\n",
              "      <td>1</td>\n",
              "      <td>3</td>\n",
              "      <td>no</td>\n",
              "      <td>0.2</td>\n",
              "      <td>23.27945</td>\n",
              "      <td>Heterosexual</td>\n",
              "      <td>AsiaAm</td>\n",
              "      <td>0</td>\n",
              "      <td>BachDegree</td>\n",
              "      <td>20to49k</td>\n",
              "      <td>4.4</td>\n",
              "      <td>4.25</td>\n",
              "      <td>1.6</td>\n",
              "      <td>2.8</td>\n",
              "      <td>2.0</td>\n",
              "      <td>3</td>\n",
              "      <td>0.8</td>\n",
              "    </tr>\n",
              "  </tbody>\n",
              "</table>\n",
              "</div>"
            ],
            "text/plain": [
              "    ID                      SourceName  ... Count  Weight\n",
              "0  101                /wiki/Jeff_Bezos  ...     1     0.0\n",
              "1  101      /wiki/Cloud_infrastructure  ...     2     0.8\n",
              "2  101  /wiki/Cloud_computing_security  ...     3     0.8\n",
              "\n",
              "[3 rows x 20 columns]"
            ]
          },
          "metadata": {
            "tags": []
          },
          "execution_count": 4
        }
      ]
    },
    {
      "cell_type": "markdown",
      "metadata": {
        "id": "LslGplMeDoaF"
      },
      "source": [
        "# Assign UIDs to Wikipedia Pages"
      ]
    },
    {
      "cell_type": "code",
      "metadata": {
        "id": "Z6Ibnf24DIdq"
      },
      "source": [
        "def clean_entity_name(name):\n",
        "  name = name.replace('/wiki/', '')\n",
        "  name = name.replace('_', ' ')\n",
        "  return name"
      ],
      "execution_count": 5,
      "outputs": []
    },
    {
      "cell_type": "markdown",
      "metadata": {
        "id": "FstmpDzODYUf"
      },
      "source": [
        "First, we create unique identifiers (UIDs) for each page so that they can be used as nodes in a network representation. Then we clean the strings associated with each page by stripping redundant information such as `wiki/` and `_`. The UIDs and clean names are appended to the data frame as new columns."
      ]
    },
    {
      "cell_type": "code",
      "metadata": {
        "colab": {
          "base_uri": "https://localhost:8080/",
          "height": 247
        },
        "id": "3ndzzIRIDKyv",
        "outputId": "a9056bbf-7650-4b9f-ddca-bde997227bc3"
      },
      "source": [
        "# create UID for each page\n",
        "source_nodes = set(wiki_df['SourceName'].tolist())\n",
        "target_nodes = set(wiki_df['TargetName'].tolist())\n",
        "source_nodes.update(target_nodes)\n",
        "node_set = {entity: name for name, entity in enumerate(source_nodes)}\n",
        "wiki_df['SourceUID'] = wiki_df['SourceName'].apply(lambda x: node_set[x])\n",
        "wiki_df['SrcNameClean'] = wiki_df['SourceName'].apply(lambda x: clean_entity_name(x))\n",
        "wiki_df['TargetUID'] = wiki_df['TargetName'].apply(lambda x: node_set[x])\n",
        "wiki_df['TgtNameClean'] = wiki_df['TargetName'].apply(lambda x: clean_entity_name(x))\n",
        "wiki_df.head(3)"
      ],
      "execution_count": 6,
      "outputs": [
        {
          "output_type": "execute_result",
          "data": {
            "text/html": [
              "<div>\n",
              "<style scoped>\n",
              "    .dataframe tbody tr th:only-of-type {\n",
              "        vertical-align: middle;\n",
              "    }\n",
              "\n",
              "    .dataframe tbody tr th {\n",
              "        vertical-align: top;\n",
              "    }\n",
              "\n",
              "    .dataframe thead th {\n",
              "        text-align: right;\n",
              "    }\n",
              "</style>\n",
              "<table border=\"1\" class=\"dataframe\">\n",
              "  <thead>\n",
              "    <tr style=\"text-align: right;\">\n",
              "      <th></th>\n",
              "      <th>ID</th>\n",
              "      <th>SourceName</th>\n",
              "      <th>TargetName</th>\n",
              "      <th>Day</th>\n",
              "      <th>TimeOrder</th>\n",
              "      <th>Hyperlink</th>\n",
              "      <th>DistanceWeights</th>\n",
              "      <th>AgeYears</th>\n",
              "      <th>SexOrient</th>\n",
              "      <th>Race</th>\n",
              "      <th>GenderFactor</th>\n",
              "      <th>EducDeg</th>\n",
              "      <th>Income</th>\n",
              "      <th>JE_5D</th>\n",
              "      <th>DS_5D</th>\n",
              "      <th>ST_5D</th>\n",
              "      <th>SC_5D</th>\n",
              "      <th>TS_5D</th>\n",
              "      <th>Count</th>\n",
              "      <th>Weight</th>\n",
              "      <th>SourceUID</th>\n",
              "      <th>SrcNameClean</th>\n",
              "      <th>TargetUID</th>\n",
              "      <th>TgtNameClean</th>\n",
              "    </tr>\n",
              "  </thead>\n",
              "  <tbody>\n",
              "    <tr>\n",
              "      <th>0</th>\n",
              "      <td>101</td>\n",
              "      <td>/wiki/Jeff_Bezos</td>\n",
              "      <td>/wiki/Cloud_infrastructure</td>\n",
              "      <td>1</td>\n",
              "      <td>1</td>\n",
              "      <td>no</td>\n",
              "      <td>1.0</td>\n",
              "      <td>23.27945</td>\n",
              "      <td>Heterosexual</td>\n",
              "      <td>AsiaAm</td>\n",
              "      <td>0</td>\n",
              "      <td>BachDegree</td>\n",
              "      <td>20to49k</td>\n",
              "      <td>4.4</td>\n",
              "      <td>4.25</td>\n",
              "      <td>1.6</td>\n",
              "      <td>2.8</td>\n",
              "      <td>2.0</td>\n",
              "      <td>1</td>\n",
              "      <td>0.0</td>\n",
              "      <td>3778</td>\n",
              "      <td>Jeff Bezos</td>\n",
              "      <td>6710</td>\n",
              "      <td>Cloud infrastructure</td>\n",
              "    </tr>\n",
              "    <tr>\n",
              "      <th>1</th>\n",
              "      <td>101</td>\n",
              "      <td>/wiki/Cloud_infrastructure</td>\n",
              "      <td>/wiki/Cloud_computing_security</td>\n",
              "      <td>1</td>\n",
              "      <td>2</td>\n",
              "      <td>yes</td>\n",
              "      <td>0.2</td>\n",
              "      <td>23.27945</td>\n",
              "      <td>Heterosexual</td>\n",
              "      <td>AsiaAm</td>\n",
              "      <td>0</td>\n",
              "      <td>BachDegree</td>\n",
              "      <td>20to49k</td>\n",
              "      <td>4.4</td>\n",
              "      <td>4.25</td>\n",
              "      <td>1.6</td>\n",
              "      <td>2.8</td>\n",
              "      <td>2.0</td>\n",
              "      <td>2</td>\n",
              "      <td>0.8</td>\n",
              "      <td>6710</td>\n",
              "      <td>Cloud infrastructure</td>\n",
              "      <td>3623</td>\n",
              "      <td>Cloud computing security</td>\n",
              "    </tr>\n",
              "    <tr>\n",
              "      <th>2</th>\n",
              "      <td>101</td>\n",
              "      <td>/wiki/Cloud_computing_security</td>\n",
              "      <td>/wiki/Cloud_infrastructure</td>\n",
              "      <td>1</td>\n",
              "      <td>3</td>\n",
              "      <td>no</td>\n",
              "      <td>0.2</td>\n",
              "      <td>23.27945</td>\n",
              "      <td>Heterosexual</td>\n",
              "      <td>AsiaAm</td>\n",
              "      <td>0</td>\n",
              "      <td>BachDegree</td>\n",
              "      <td>20to49k</td>\n",
              "      <td>4.4</td>\n",
              "      <td>4.25</td>\n",
              "      <td>1.6</td>\n",
              "      <td>2.8</td>\n",
              "      <td>2.0</td>\n",
              "      <td>3</td>\n",
              "      <td>0.8</td>\n",
              "      <td>3623</td>\n",
              "      <td>Cloud computing security</td>\n",
              "      <td>6710</td>\n",
              "      <td>Cloud infrastructure</td>\n",
              "    </tr>\n",
              "  </tbody>\n",
              "</table>\n",
              "</div>"
            ],
            "text/plain": [
              "    ID                      SourceName  ... TargetUID              TgtNameClean\n",
              "0  101                /wiki/Jeff_Bezos  ...      6710      Cloud infrastructure\n",
              "1  101      /wiki/Cloud_infrastructure  ...      3623  Cloud computing security\n",
              "2  101  /wiki/Cloud_computing_security  ...      6710      Cloud infrastructure\n",
              "\n",
              "[3 rows x 24 columns]"
            ]
          },
          "metadata": {
            "tags": []
          },
          "execution_count": 6
        }
      ]
    },
    {
      "cell_type": "markdown",
      "metadata": {
        "id": "-aU9rSRIDced"
      },
      "source": [
        "# Measures of Trait Curiosity\n",
        "\n",
        "Extract all curiosity measures from the dataframe for each participant."
      ]
    },
    {
      "cell_type": "code",
      "metadata": {
        "id": "3pA-RuUvDNa9"
      },
      "source": [
        "# joyous exploration\n",
        "# deprivation sensitivity\n",
        "# stress tolerance\n",
        "# social curiosity\n",
        "# thrill seeking\n",
        "# five_D = wiki_df.groupby('ID', as_index = False)[['JE_5D', 'DS_5D', 'ST_5D', 'SC_5D', 'TS_5D']].mean()"
      ],
      "execution_count": 7,
      "outputs": []
    },
    {
      "cell_type": "code",
      "metadata": {
        "id": "3jG_oLnhDv20"
      },
      "source": [
        "# five_D.head(5)"
      ],
      "execution_count": 8,
      "outputs": []
    },
    {
      "cell_type": "code",
      "metadata": {
        "id": "crB2HO1aDP6a"
      },
      "source": [
        "# filename = 'five_D.mat'\n",
        "# mdic = {name: col.values for name, col in five_D.items()}\n",
        "# savemat(filename, mdic)"
      ],
      "execution_count": 9,
      "outputs": []
    },
    {
      "cell_type": "markdown",
      "metadata": {
        "id": "U1xwBtqJDi4a"
      },
      "source": [
        "# Create Individual Networks\n",
        "\n",
        "Next, we split the data set by individual, and use the `SourceUID`, `TargetUID`, and `SemanticDist` columns to generate network representations of participants' Wikipedia exploration."
      ]
    },
    {
      "cell_type": "code",
      "metadata": {
        "colab": {
          "base_uri": "https://localhost:8080/"
        },
        "id": "TyIak0pNp1t_",
        "outputId": "e8b34a79-5c11-48ac-902a-727f80683141"
      },
      "source": [
        "# split the data by individual\n",
        "ID_groups = wiki_df.groupby('ID')\n",
        "for ID, group in ID_groups:\n",
        "  print(\"Subject %d\" % ID)\n",
        "  # enforce time ordering\n",
        "  group.sort_values(by = ['TimeOrder'], inplace = True)\n",
        "  network_df = group[['TimeOrder', 'SourceUID', 'SrcNameClean', 'TargetUID', 'TgtNameClean']].reset_index(drop = True)\n",
        "  # create an empty network\n",
        "  G = nx.Graph()\n",
        "  edge_info = []\n",
        "  for index, row in network_df.iterrows():\n",
        "    from_node = row.get('SrcNameClean')\n",
        "    to_node = row.get('TgtNameClean')\n",
        "    edge_info_dict = {'from': from_node, 'to': to_node}\n",
        "    edge_info.append(edge_info_dict)\n",
        "    # add nodes to the network\n",
        "    G.add_node(from_node)\n",
        "    G.add_node(to_node)\n",
        "    # add edge to the network\n",
        "    G.add_edge(from_node, to_node)\n",
        "  adj_G = nx.linalg.graphmatrix.adjacency_matrix(G, weight = 'weight')\n",
        "  # save subject data to .mat file\n",
        "  filename = 'KNOT_data_processed_Eirene/' + 'subj_' + str(ID) + '.mat'\n",
        "  mdic = {'subj': ID, 'adj': scipy.sparse.csr_matrix.todense(adj_G), \n",
        "          'nodes': list(G.nodes), 'edge_info': edge_info}\n",
        "  savemat(filename, mdic)"
      ],
      "execution_count": 10,
      "outputs": [
        {
          "output_type": "stream",
          "text": [
            "Subject 101\n",
            "Subject 104\n",
            "Subject 105\n",
            "Subject 106\n",
            "Subject 107\n",
            "Subject 108\n",
            "Subject 109\n",
            "Subject 112\n",
            "Subject 114\n",
            "Subject 115\n",
            "Subject 117\n",
            "Subject 119\n",
            "Subject 120\n",
            "Subject 121\n",
            "Subject 122\n",
            "Subject 126\n",
            "Subject 127\n",
            "Subject 128\n",
            "Subject 130\n",
            "Subject 131\n",
            "Subject 132\n",
            "Subject 135\n",
            "Subject 138\n",
            "Subject 139\n",
            "Subject 140\n",
            "Subject 141\n",
            "Subject 146\n",
            "Subject 150\n",
            "Subject 153\n",
            "Subject 154\n",
            "Subject 155\n",
            "Subject 156\n",
            "Subject 157\n",
            "Subject 158\n",
            "Subject 159\n",
            "Subject 162\n",
            "Subject 164\n",
            "Subject 165\n",
            "Subject 167\n",
            "Subject 169\n",
            "Subject 171\n",
            "Subject 173\n",
            "Subject 174\n",
            "Subject 176\n",
            "Subject 177\n",
            "Subject 179\n",
            "Subject 183\n",
            "Subject 185\n",
            "Subject 188\n",
            "Subject 189\n",
            "Subject 190\n",
            "Subject 191\n",
            "Subject 192\n",
            "Subject 194\n",
            "Subject 196\n",
            "Subject 197\n",
            "Subject 198\n",
            "Subject 199\n",
            "Subject 201\n",
            "Subject 204\n",
            "Subject 206\n",
            "Subject 207\n",
            "Subject 208\n",
            "Subject 209\n",
            "Subject 210\n",
            "Subject 211\n",
            "Subject 212\n",
            "Subject 214\n",
            "Subject 216\n",
            "Subject 217\n",
            "Subject 219\n",
            "Subject 220\n",
            "Subject 221\n",
            "Subject 223\n",
            "Subject 224\n",
            "Subject 225\n",
            "Subject 226\n",
            "Subject 228\n",
            "Subject 229\n",
            "Subject 231\n",
            "Subject 232\n",
            "Subject 234\n",
            "Subject 235\n",
            "Subject 236\n",
            "Subject 238\n",
            "Subject 239\n",
            "Subject 240\n",
            "Subject 242\n",
            "Subject 243\n",
            "Subject 246\n",
            "Subject 247\n",
            "Subject 248\n",
            "Subject 249\n",
            "Subject 251\n",
            "Subject 253\n",
            "Subject 255\n",
            "Subject 256\n",
            "Subject 258\n",
            "Subject 259\n",
            "Subject 261\n",
            "Subject 263\n",
            "Subject 264\n",
            "Subject 266\n",
            "Subject 267\n",
            "Subject 268\n",
            "Subject 269\n",
            "Subject 271\n",
            "Subject 273\n",
            "Subject 278\n",
            "Subject 280\n",
            "Subject 286\n",
            "Subject 287\n",
            "Subject 288\n",
            "Subject 290\n",
            "Subject 291\n",
            "Subject 293\n",
            "Subject 296\n",
            "Subject 297\n",
            "Subject 304\n",
            "Subject 308\n",
            "Subject 309\n",
            "Subject 310\n",
            "Subject 311\n",
            "Subject 312\n",
            "Subject 313\n",
            "Subject 316\n",
            "Subject 318\n",
            "Subject 319\n",
            "Subject 321\n",
            "Subject 322\n",
            "Subject 323\n",
            "Subject 324\n",
            "Subject 325\n",
            "Subject 327\n",
            "Subject 328\n",
            "Subject 329\n",
            "Subject 335\n",
            "Subject 338\n",
            "Subject 339\n",
            "Subject 340\n",
            "Subject 342\n",
            "Subject 349\n",
            "Subject 351\n",
            "Subject 353\n",
            "Subject 355\n",
            "Subject 356\n",
            "Subject 359\n",
            "Subject 363\n",
            "Subject 340340\n"
          ],
          "name": "stdout"
        }
      ]
    }
  ]
}