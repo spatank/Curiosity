{
 "cells": [
  {
   "cell_type": "code",
   "execution_count": 2,
   "metadata": {},
   "outputs": [],
   "source": [
    "using Printf\n",
    "using Random\n",
    "using LinearAlgebra\n",
    "using Eirene\n",
    "using MAT\n",
    "using Statistics\n",
    "using Plots\n",
    "using Glob"
   ]
  },
  {
   "cell_type": "code",
   "execution_count": 3,
   "metadata": {},
   "outputs": [
    {
     "data": {
      "text/plain": [
       "plotBarcode (generic function with 1 method)"
      ]
     },
     "execution_count": 3,
     "metadata": {},
     "output_type": "execute_result"
    }
   ],
   "source": [
    "function constant_probability(n, p)\n",
    "    G = zeros(n, n)\n",
    "    for i = 1:n\n",
    "        for j = 1:i-1\n",
    "            r = rand(1)[1]\n",
    "            if r < p\n",
    "                G[i, j] = 1\n",
    "                G[j, i] = 1\n",
    "            end\n",
    "        end\n",
    "    end\n",
    "    node_order = 1:n\n",
    "    return G, node_order\n",
    "end  \n",
    "\n",
    "function make_weighted_from_order(G, node_order)\n",
    "    # adapted from code by ASB\n",
    "    # original at https://github.com/BassettLab/Reorderability_scripts\n",
    "    reordered_G = G[node_order, node_order] # often unnecessary\n",
    "    n = length(node_order) # number of nodes\n",
    "    val_mat = ones(n, n)\n",
    "    for col = 1:n\n",
    "        val_mat[1:col, col] = val_mat[1:col, col] * col\n",
    "        val_mat[col, 1:col] = val_mat[col, 1:col] * col\n",
    "    end\n",
    "    weighted_G = reordered_G .* val_mat\n",
    "    # replace 0 weighted edges with the largest edge weight possible\n",
    "    # this is equivalent to assigning these edges the worst rank possible\n",
    "    replace!(weighted_G, 0 => 2 * n)  \n",
    "    # weighted_G[findall(A -> A .== 0, weighted_G)] .= 2 * n would work too\n",
    "    weighted_G[diagind(weighted_G)] .= 0 # set diagonal to 0\n",
    "    return weighted_G # edges here are ranked by order of appearance\n",
    "end\n",
    "\n",
    "function bettiCurveFromBarcode(barcode_array,nNodes,nmats,maxDim)\n",
    "    nNodes = Int(nNodes)\n",
    "    nmats = Int(nmats)\n",
    "    maxDim = Int(maxDim)\n",
    "    bettiBar = zeros(nmats,maxDim)\n",
    "    bettiCurve = zeros(nmats,nNodes+1,maxDim)\n",
    "    birthCurve = zeros(nmats,nNodes,maxDim)\n",
    "    deathCurve = zeros(nmats,nNodes,maxDim)\n",
    "    for dimn in collect(1:maxDim)\n",
    "        dimn = Int(dimn)\n",
    "        for matn in collect(1:nmats)\n",
    "            matn = Int(matn)\n",
    "            bb = 0\n",
    "            currentCurve = barcode_array[matn,:]\n",
    "            currentCurveDim = currentCurve[dimn]\n",
    "            for barn in collect(1:size(currentCurveDim,1))\n",
    "                # Add to birth curve\n",
    "                birthCurve[matn,Int(currentCurveDim[barn,1]),dimn] = birthCurve[matn,Int(currentCurveDim[barn,1]),dimn] .+1\n",
    "                if currentCurveDim[barn,2]>nNodes\n",
    "                    bettiCurve[matn,Int(currentCurveDim[barn,1]):Int(nNodes+1),dimn] = bettiCurve[matn,Int(currentCurveDim[barn,1]):Int(nNodes+1),dimn] .+1\n",
    "                    bb = bb+(nNodes+1-currentCurveDim[barn,1])\n",
    "                else\n",
    "                    bettiCurve[matn,Int(currentCurveDim[barn,1]):Int(currentCurveDim[barn,2]),dimn] = bettiCurve[matn,Int(currentCurveDim[barn,1]):Int(currentCurveDim[barn,2]),dimn].+1\n",
    "                    deathCurve[matn,Int(currentCurveDim[barn,2]),dimn] = deathCurve[matn,Int(currentCurveDim[barn,2]),dimn] .+1\n",
    "                    bb = bb+(currentCurveDim[barn,2] - currentCurveDim[barn,1])\n",
    "                end\n",
    "            end\n",
    "            bettiBar[matn,dimn] = deepcopy(bb)\n",
    "        end\n",
    "    end\n",
    "    return bettiCurve, birthCurve, deathCurve, bettiBar\n",
    "end\n",
    "\n",
    "function plotBarcode(allPIs,nNodes,graphN,maxDim,fontSize)\n",
    "    nNodes = Int(nNodes)\n",
    "    graphn = Int(graphN)\n",
    "    maxDim = Int(maxDim)\n",
    "    counter1 = 0\n",
    "    pbar = plot(1:6,zeros(6),c=:black)\n",
    "    colors = [:blue :green :red]\n",
    "    for dim in collect(1:maxDim)\n",
    "        barn = barcode_array[graphN, dim]\n",
    "        barn = barn[sortperm(barn[:,1]),:]\n",
    "        nbars = size(barn)[1]\n",
    "        for cntr1 in collect(1:nbars)\n",
    "            birth = barn[cntr1,1]\n",
    "            death = barn[cntr1,2]\n",
    "            plot!([birth, death],[cntr1+counter1, cntr1+counter1],c=colors[dim], legend = false,\n",
    "                            xlim = (0,nNodes), ytickfont = font(fontSize), xtickfont = font(fontSize))\n",
    "        end\n",
    "        display(pbar)\n",
    "        counter1 = counter1+nbars\n",
    "    end\n",
    "    return pbar\n",
    "end"
   ]
  },
  {
   "cell_type": "code",
   "execution_count": 4,
   "metadata": {},
   "outputs": [
    {
     "data": {
      "text/plain": [
       "\"/Volumes/My Passport/Curiosity/v2\""
      ]
     },
     "execution_count": 4,
     "metadata": {},
     "output_type": "execute_result"
    }
   ],
   "source": [
    "pwd()"
   ]
  },
  {
   "cell_type": "code",
   "execution_count": 5,
   "metadata": {},
   "outputs": [
    {
     "data": {
      "text/plain": [
       "149-element Array{String,1}:\n",
       " \"/Users/sppatankar/Developer/My Passport/Curiosity/Data/KNOT_preprocessed_Eirene/subj_101.mat\"\n",
       " \"/Users/sppatankar/Developer/My Passport/Curiosity/Data/KNOT_preprocessed_Eirene/subj_104.mat\"\n",
       " \"/Users/sppatankar/Developer/My Passport/Curiosity/Data/KNOT_preprocessed_Eirene/subj_105.mat\"\n",
       " \"/Users/sppatankar/Developer/My Passport/Curiosity/Data/KNOT_preprocessed_Eirene/subj_106.mat\"\n",
       " \"/Users/sppatankar/Developer/My Passport/Curiosity/Data/KNOT_preprocessed_Eirene/subj_107.mat\"\n",
       " \"/Users/sppatankar/Developer/My Passport/Curiosity/Data/KNOT_preprocessed_Eirene/subj_108.mat\"\n",
       " \"/Users/sppatankar/Developer/My Passport/Curiosity/Data/KNOT_preprocessed_Eirene/subj_109.mat\"\n",
       " \"/Users/sppatankar/Developer/My Passport/Curiosity/Data/KNOT_preprocessed_Eirene/subj_112.mat\"\n",
       " \"/Users/sppatankar/Developer/My Passport/Curiosity/Data/KNOT_preprocessed_Eirene/subj_114.mat\"\n",
       " \"/Users/sppatankar/Developer/My Passport/Curiosity/Data/KNOT_preprocessed_Eirene/subj_115.mat\"\n",
       " \"/Users/sppatankar/Developer/My Passport/Curiosity/Data/KNOT_preprocessed_Eirene/subj_117.mat\"\n",
       " \"/Users/sppatankar/Developer/My Passport/Curiosity/Data/KNOT_preprocessed_Eirene/subj_119.mat\"\n",
       " \"/Users/sppatankar/Developer/My Passport/Curiosity/Data/KNOT_preprocessed_Eirene/subj_120.mat\"\n",
       " ⋮\n",
       " \"/Users/sppatankar/Developer/My Passport/Curiosity/Data/KNOT_preprocessed_Eirene/subj_338.mat\"\n",
       " \"/Users/sppatankar/Developer/My Passport/Curiosity/Data/KNOT_preprocessed_Eirene/subj_339.mat\"\n",
       " \"/Users/sppatankar/Developer/My Passport/Curiosity/Data/KNOT_preprocessed_Eirene/subj_340.mat\"\n",
       " \"/Users/sppatankar/Developer/My Passport/Curiosity/Data/KNOT_preprocessed_Eirene/subj_340340.mat\"\n",
       " \"/Users/sppatankar/Developer/My Passport/Curiosity/Data/KNOT_preprocessed_Eirene/subj_342.mat\"\n",
       " \"/Users/sppatankar/Developer/My Passport/Curiosity/Data/KNOT_preprocessed_Eirene/subj_349.mat\"\n",
       " \"/Users/sppatankar/Developer/My Passport/Curiosity/Data/KNOT_preprocessed_Eirene/subj_351.mat\"\n",
       " \"/Users/sppatankar/Developer/My Passport/Curiosity/Data/KNOT_preprocessed_Eirene/subj_353.mat\"\n",
       " \"/Users/sppatankar/Developer/My Passport/Curiosity/Data/KNOT_preprocessed_Eirene/subj_355.mat\"\n",
       " \"/Users/sppatankar/Developer/My Passport/Curiosity/Data/KNOT_preprocessed_Eirene/subj_356.mat\"\n",
       " \"/Users/sppatankar/Developer/My Passport/Curiosity/Data/KNOT_preprocessed_Eirene/subj_359.mat\"\n",
       " \"/Users/sppatankar/Developer/My Passport/Curiosity/Data/KNOT_preprocessed_Eirene/subj_363.mat\""
      ]
     },
     "execution_count": 5,
     "metadata": {},
     "output_type": "execute_result"
    }
   ],
   "source": [
    "data_in_path = \"/Users/sppatankar/Developer/My Passport/Curiosity/Data/KNOT_preprocessed_Eirene\"\n",
    "data_out_path = \"/Users/sppatankar/Developer/My Passport/Curiosity/Data/KNOT_processed_Eirene\"\n",
    "all_subjs = glob(\"*.mat\", data_in_path)"
   ]
  },
  {
   "cell_type": "code",
   "execution_count": null,
   "metadata": {},
   "outputs": [
    {
     "name": "stdout",
     "output_type": "stream",
     "text": [
      "Subject: /Users/sppatankar/Developer/My Passport/Curiosity/Data/KNOT_preprocessed_Eirene/subj_140.mat\n",
      "Subject: /Users/sppatankar/Developer/My Passport/Curiosity/Data/KNOT_preprocessed_Eirene/subj_141.mat\n",
      "Subject: /Users/sppatankar/Developer/My Passport/Curiosity/Data/KNOT_preprocessed_Eirene/subj_146.mat\n",
      "Subject: /Users/sppatankar/Developer/My Passport/Curiosity/Data/KNOT_preprocessed_Eirene/subj_150.mat\n",
      "Subject: /Users/sppatankar/Developer/My Passport/Curiosity/Data/KNOT_preprocessed_Eirene/subj_153.mat\n",
      "Subject: "
     ]
    }
   ],
   "source": [
    "n_dims = 3 # number of dimensions to track persistent homology in\n",
    "\n",
    "for i = 25:length(all_subjs)\n",
    "    @printf(\"Subject: %s\\n\", all_subjs[i])\n",
    "    all_vars = matread(all_subjs[i])\n",
    "    nodes = all_vars[\"nodes\"]\n",
    "    n = length(nodes)\n",
    "    adj = all_vars[\"adj\"]\n",
    "    edge_info = all_vars[\"edge_info\"]\n",
    "    subj_ID = all_vars[\"subj\"]\n",
    "    weighted_G = make_weighted_from_order(adj, 1:n)\n",
    "    barcode_array = Array{Array{Float64}}(undef, 3) # iters = 1 implied\n",
    "    betti_curves = Array{Array{Float64}}(undef, 3) # iters = 1 implied\n",
    "    C = Eirene.eirene(weighted_G, model = \"vr\", maxdim = n_dims, record = \"none\")\n",
    "    for k in 1:n_dims\n",
    "        barcode_array[k] = barcode(C, dim = k)\n",
    "        betti_curves[k] = betticurve(C, dim = k)\n",
    "    end\n",
    "    save_string = string(data_out_path, \"/\", \"subj_\", subj_ID, \".mat\")\n",
    "    matwrite(save_string, \n",
    "        Dict(\"n\" => n,\n",
    "            \"adj\" => adj,\n",
    "            \"weighted_adj\" => weighted_G,\n",
    "            \"barcode_array\" => barcode_array,\n",
    "            \"betti_curves\" => betti_curves))\n",
    "end"
   ]
  }
 ],
 "metadata": {
  "@webio": {
   "lastCommId": "a32377e7c5904e8f8f8560eea2d87e93",
   "lastKernelId": "aa8ccd8e-e8f6-4a29-afa0-d570e6cd5e4b"
  },
  "kernelspec": {
   "display_name": "JuliaPro_v1.5.3-1 1.5.3",
   "language": "julia",
   "name": "juliapro_v1.5.3-1-1.5"
  },
  "language_info": {
   "file_extension": ".jl",
   "mimetype": "application/julia",
   "name": "julia",
   "version": "1.5.3"
  }
 },
 "nbformat": 4,
 "nbformat_minor": 2
}
