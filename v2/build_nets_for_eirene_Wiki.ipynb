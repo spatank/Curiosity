{
  "nbformat": 4,
  "nbformat_minor": 0,
  "metadata": {
    "colab": {
      "name": "build_nets_for_eirene_Wiki.ipynb",
      "provenance": [],
      "collapsed_sections": [],
      "authorship_tag": "ABX9TyMZZDARIYrbge5XOL8HEqe6",
      "include_colab_link": true
    },
    "kernelspec": {
      "name": "python3",
      "display_name": "Python 3"
    }
  },
  "cells": [
    {
      "cell_type": "markdown",
      "metadata": {
        "id": "view-in-github",
        "colab_type": "text"
      },
      "source": [
        "<a href=\"https://colab.research.google.com/github/spatank/Curiosity/blob/master/v2/build_nets_for_eirene_Wiki.ipynb\" target=\"_parent\"><img src=\"https://colab.research.google.com/assets/colab-badge.svg\" alt=\"Open In Colab\"/></a>"
      ]
    },
    {
      "cell_type": "code",
      "metadata": {
        "colab": {
          "base_uri": "https://localhost:8080/"
        },
        "id": "ttNvExz02ANz",
        "outputId": "59e5b376-fd8d-41e3-93ae-573c2f4b4511"
      },
      "source": [
        "from google.colab import drive\n",
        "drive.mount('/content/drive')\n",
        "\n",
        "import os\n",
        "os.chdir('/content/drive/My Drive/Curiosity_IGT/Wiki')"
      ],
      "execution_count": 1,
      "outputs": [
        {
          "output_type": "stream",
          "text": [
            "Mounted at /content/drive\n"
          ],
          "name": "stdout"
        }
      ]
    },
    {
      "cell_type": "code",
      "metadata": {
        "colab": {
          "base_uri": "https://localhost:8080/"
        },
        "id": "QhO1pIZY2Nlu",
        "outputId": "962b5aa6-e842-4b12-818b-041b7c4061d9"
      },
      "source": [
        "!ls # run !ls to verify location"
      ],
      "execution_count": 2,
      "outputs": [
        {
          "output_type": "stream",
          "text": [
            "build_nets_for_eirene_Wiki.ipynb  growing_Wiki.ipynb  v1  v2  wiki_data_raw\n"
          ],
          "name": "stdout"
        }
      ]
    },
    {
      "cell_type": "code",
      "metadata": {
        "id": "-H2Is4Hs2UgR"
      },
      "source": [
        "import glob\n",
        "import json\n",
        "import pandas as pd\n",
        "import scipy\n",
        "from scipy.io import savemat\n",
        "import networkx as nx"
      ],
      "execution_count": 3,
      "outputs": []
    },
    {
      "cell_type": "code",
      "metadata": {
        "id": "LRj9WSI03tI7"
      },
      "source": [
        "all_json = glob.glob('wiki_data_raw/*.json')"
      ],
      "execution_count": 4,
      "outputs": []
    },
    {
      "cell_type": "code",
      "metadata": {
        "colab": {
          "base_uri": "https://localhost:8080/"
        },
        "id": "larM_JiT43wK",
        "outputId": "77f788f5-94ae-46b3-be5c-58ddbea3b6c1"
      },
      "source": [
        "for filename in all_json:\n",
        "\n",
        "  print(filename)\n",
        "\n",
        "  topic = filename.split('/')[1].split('.')[0].split()\n",
        "  topic = '_'.join(topic) \n",
        "\n",
        "  with open(filename) as f:\n",
        "    data = json.load(f)\n",
        "\n",
        "  G = nx.Graph()\n",
        "  for node in data['nodes']:\n",
        "    # add node to graph\n",
        "    node_ID = node['id']\n",
        "    G.add_node(node_ID)\n",
        "\n",
        "  counter = 0\n",
        "  edge_info = []\n",
        "  for link in data['links']:\n",
        "    from_node_ID = link['source']\n",
        "    to_node_ID = link['target']\n",
        "    from_node = data['nodes'][from_node_ID]['id']\n",
        "    to_node = data['nodes'][to_node_ID]['id']\n",
        "    if from_node in G.nodes():\n",
        "      if to_node in G.nodes():\n",
        "        edge_info_dict = {'from': from_node, 'to': to_node}\n",
        "        edge_info.append(edge_info_dict)\n",
        "        G.add_edge(from_node, to_node)\n",
        "        counter += 1\n",
        "\n",
        "  adj_G = nx.linalg.graphmatrix.adjacency_matrix(G, weight = 'weight')\n",
        "  filename = topic + '.mat'\n",
        "  mdic = {'topic': topic, 'adj': adj_G, \n",
        "          'nodes': list(G.nodes()), 'edge_info': edge_info}\n",
        "  savemat(filename, mdic)"
      ],
      "execution_count": 5,
      "outputs": [
        {
          "output_type": "stream",
          "text": [
            "wiki_data_raw/abstract algebra.json\n",
            "wiki_data_raw/accounting.json\n",
            "wiki_data_raw/anatomy.json\n",
            "wiki_data_raw/biochemistry.json\n",
            "wiki_data_raw/biophysics.json\n",
            "wiki_data_raw/Boolean algebra.json\n",
            "wiki_data_raw/calculus.json\n",
            "wiki_data_raw/chemistry.json\n",
            "wiki_data_raw/cognitive science.json\n",
            "wiki_data_raw/commutative algebra.json\n",
            "wiki_data_raw/dynamical systems and differential equations.json\n",
            "wiki_data_raw/dynamical systems.json\n",
            "wiki_data_raw/economics.json\n",
            "wiki_data_raw/earth science.json\n",
            "wiki_data_raw/education.json\n",
            "wiki_data_raw/electronics.json\n",
            "wiki_data_raw/energy.json\n",
            "wiki_data_raw/evolutionary biology.json\n",
            "wiki_data_raw/genetics.json\n",
            "wiki_data_raw/geology.json\n",
            "wiki_data_raw/geometry.json\n",
            "wiki_data_raw/immunology.json\n",
            "wiki_data_raw/group theory.json\n",
            "wiki_data_raw/law.json\n",
            "wiki_data_raw/linear algebra.json\n",
            "wiki_data_raw/linguistics.json\n",
            "wiki_data_raw/mathematics.json\n",
            "wiki_data_raw/meteorology.json\n",
            "wiki_data_raw/molecular biology.json\n",
            "wiki_data_raw/number theory.json\n",
            "wiki_data_raw/optics.json\n",
            "wiki_data_raw/philosophy of law.json\n",
            "wiki_data_raw/philosophy of language.json\n",
            "wiki_data_raw/philosophy of mind.json\n",
            "wiki_data_raw/philosophy of science.json\n",
            "wiki_data_raw/physics.json\n",
            "wiki_data_raw/psychology.json\n",
            "wiki_data_raw/robotics.json\n",
            "wiki_data_raw/sociology.json\n",
            "wiki_data_raw/software engineering.json\n"
          ],
          "name": "stdout"
        }
      ]
    }
  ]
}