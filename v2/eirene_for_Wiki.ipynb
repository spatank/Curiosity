{
 "cells": [
  {
   "cell_type": "code",
   "execution_count": 2,
   "metadata": {},
   "outputs": [],
   "source": [
    "using Printf\n",
    "using Random\n",
    "using LinearAlgebra\n",
    "using Eirene\n",
    "using MAT\n",
    "using Statistics\n",
    "using Plots\n",
    "using Glob"
   ]
  },
  {
   "cell_type": "code",
   "execution_count": 3,
   "metadata": {},
   "outputs": [
    {
     "data": {
      "text/plain": [
       "plotBarcode (generic function with 1 method)"
      ]
     },
     "execution_count": 3,
     "metadata": {},
     "output_type": "execute_result"
    }
   ],
   "source": [
    "function constant_probability(n, p)\n",
    "    G = zeros(n, n)\n",
    "    for i = 1:n\n",
    "        for j = 1:i-1\n",
    "            r = rand(1)[1]\n",
    "            if r < p\n",
    "                G[i, j] = 1\n",
    "                G[j, i] = 1\n",
    "            end\n",
    "        end\n",
    "    end\n",
    "    node_order = 1:n\n",
    "    return G, node_order\n",
    "end  \n",
    "\n",
    "function make_weighted_from_order(G, node_order)\n",
    "    # adapted from code by ASB\n",
    "    # original at https://github.com/BassettLab/Reorderability_scripts\n",
    "    reordered_G = G[node_order, node_order] # often unnecessary\n",
    "    n = length(node_order) # number of nodes\n",
    "    val_mat = ones(n, n)\n",
    "    for col = 1:n\n",
    "        val_mat[1:col, col] = val_mat[1:col, col] * col\n",
    "        val_mat[col, 1:col] = val_mat[col, 1:col] * col\n",
    "    end\n",
    "    weighted_G = reordered_G .* val_mat\n",
    "    # replace 0 weighted edges with the largest edge weight possible\n",
    "    # this is equivalent to assigning these edges the worst rank possible\n",
    "    replace!(weighted_G, 0 => 2 * n)  \n",
    "    # weighted_G[findall(A -> A .== 0, weighted_G)] .= 2 * n would work too\n",
    "    weighted_G[diagind(weighted_G)] .= 0 # set diagonal to 0\n",
    "    return weighted_G # edges here are ranked by order of appearance\n",
    "end\n",
    "\n",
    "function bettiCurveFromBarcode(barcode_array,nNodes,nmats,maxDim)\n",
    "    nNodes = Int(nNodes)\n",
    "    nmats = Int(nmats)\n",
    "    maxDim = Int(maxDim)\n",
    "    bettiBar = zeros(nmats,maxDim)\n",
    "    bettiCurve = zeros(nmats,nNodes+1,maxDim)\n",
    "    birthCurve = zeros(nmats,nNodes,maxDim)\n",
    "    deathCurve = zeros(nmats,nNodes,maxDim)\n",
    "    for dimn in collect(1:maxDim)\n",
    "        dimn = Int(dimn)\n",
    "        for matn in collect(1:nmats)\n",
    "            matn = Int(matn)\n",
    "            bb = 0\n",
    "            currentCurve = barcode_array[matn,:]\n",
    "            currentCurveDim = currentCurve[dimn]\n",
    "            for barn in collect(1:size(currentCurveDim,1))\n",
    "                # Add to birth curve\n",
    "                birthCurve[matn,Int(currentCurveDim[barn,1]),dimn] = birthCurve[matn,Int(currentCurveDim[barn,1]),dimn] .+1\n",
    "                if currentCurveDim[barn,2]>nNodes\n",
    "                    bettiCurve[matn,Int(currentCurveDim[barn,1]):Int(nNodes+1),dimn] = bettiCurve[matn,Int(currentCurveDim[barn,1]):Int(nNodes+1),dimn] .+1\n",
    "                    bb = bb+(nNodes+1-currentCurveDim[barn,1])\n",
    "                else\n",
    "                    bettiCurve[matn,Int(currentCurveDim[barn,1]):Int(currentCurveDim[barn,2]),dimn] = bettiCurve[matn,Int(currentCurveDim[barn,1]):Int(currentCurveDim[barn,2]),dimn].+1\n",
    "                    deathCurve[matn,Int(currentCurveDim[barn,2]),dimn] = deathCurve[matn,Int(currentCurveDim[barn,2]),dimn] .+1\n",
    "                    bb = bb+(currentCurveDim[barn,2] - currentCurveDim[barn,1])\n",
    "                end\n",
    "            end\n",
    "            bettiBar[matn,dimn] = deepcopy(bb)\n",
    "        end\n",
    "    end\n",
    "    return bettiCurve, birthCurve, deathCurve, bettiBar\n",
    "end\n",
    "\n",
    "function plotBarcode(allPIs,nNodes,graphN,maxDim,fontSize)\n",
    "    nNodes = Int(nNodes)\n",
    "    graphn = Int(graphN)\n",
    "    maxDim = Int(maxDim)\n",
    "    counter1 = 0\n",
    "    pbar = plot(1:6,zeros(6),c=:black)\n",
    "    colors = [:blue :green :red]\n",
    "    for dim in collect(1:maxDim)\n",
    "        barn = barcode_array[graphN, dim]\n",
    "        barn = barn[sortperm(barn[:,1]),:]\n",
    "        nbars = size(barn)[1]\n",
    "        for cntr1 in collect(1:nbars)\n",
    "            birth = barn[cntr1,1]\n",
    "            death = barn[cntr1,2]\n",
    "            plot!([birth, death],[cntr1+counter1, cntr1+counter1],c=colors[dim], legend = false,\n",
    "                            xlim = (0,nNodes), ytickfont = font(fontSize), xtickfont = font(fontSize))\n",
    "        end\n",
    "        display(pbar)\n",
    "        counter1 = counter1+nbars\n",
    "    end\n",
    "    return pbar\n",
    "end"
   ]
  },
  {
   "cell_type": "code",
   "execution_count": 4,
   "metadata": {},
   "outputs": [
    {
     "data": {
      "text/plain": [
       "\"/Volumes/My Passport/Curiosity/v2\""
      ]
     },
     "execution_count": 4,
     "metadata": {},
     "output_type": "execute_result"
    }
   ],
   "source": [
    "pwd()"
   ]
  },
  {
   "cell_type": "code",
   "execution_count": 5,
   "metadata": {},
   "outputs": [
    {
     "data": {
      "text/plain": [
       "40-element Array{String,1}:\n",
       " \"/Users/sppatankar/Developer/My Passport/Curiosity/v2/Data/Wiki/Wiki_preprocessed_Eirene/Boolean_algebra.mat\"\n",
       " \"/Users/sppatankar/Developer/My Passport/Curiosity/v2/Data/Wiki/Wiki_preprocessed_Eirene/abstract_algebra.mat\"\n",
       " \"/Users/sppatankar/Developer/My Passport/Curiosity/v2/Data/Wiki/Wiki_preprocessed_Eirene/accounting.mat\"\n",
       " \"/Users/sppatankar/Developer/My Passport/Curiosity/v2/Data/Wiki/Wiki_preprocessed_Eirene/anatomy.mat\"\n",
       " \"/Users/sppatankar/Developer/My Passport/Curiosity/v2/Data/Wiki/Wiki_preprocessed_Eirene/biochemistry.mat\"\n",
       " \"/Users/sppatankar/Developer/My Passport/Curiosity/v2/Data/Wiki/Wiki_preprocessed_Eirene/biophysics.mat\"\n",
       " \"/Users/sppatankar/Developer/My Passport/Curiosity/v2/Data/Wiki/Wiki_preprocessed_Eirene/calculus.mat\"\n",
       " \"/Users/sppatankar/Developer/My Passport/Curiosity/v2/Data/Wiki/Wiki_preprocessed_Eirene/chemistry.mat\"\n",
       " \"/Users/sppatankar/Developer/My Passport/Curiosity/v2/Data/Wiki/Wiki_preprocessed_Eirene/cognitive_science.mat\"\n",
       " \"/Users/sppatankar/Developer/My Passport/Curiosity/v2/Data/Wiki/Wiki_preprocessed_Eirene/commutative_algebra.mat\"\n",
       " \"/Users/sppatankar/Developer/My Passport/Curiosity/v2/Data/Wiki/Wiki_preprocessed_Eirene/dynamical_systems.mat\"\n",
       " \"/Users/sppatankar/Developer/My Passport/Curiosity/v2/Data/Wiki/Wiki_preprocessed_Eirene/dynamical_systems_and_differential_equations.mat\"\n",
       " \"/Users/sppatankar/Developer/My Passport/Curiosity/v2/Data/Wiki/Wiki_preprocessed_Eirene/earth_science.mat\"\n",
       " ⋮\n",
       " \"/Users/sppatankar/Developer/My Passport/Curiosity/v2/Data/Wiki/Wiki_preprocessed_Eirene/molecular_biology.mat\"\n",
       " \"/Users/sppatankar/Developer/My Passport/Curiosity/v2/Data/Wiki/Wiki_preprocessed_Eirene/number_theory.mat\"\n",
       " \"/Users/sppatankar/Developer/My Passport/Curiosity/v2/Data/Wiki/Wiki_preprocessed_Eirene/optics.mat\"\n",
       " \"/Users/sppatankar/Developer/My Passport/Curiosity/v2/Data/Wiki/Wiki_preprocessed_Eirene/philosophy_of_language.mat\"\n",
       " \"/Users/sppatankar/Developer/My Passport/Curiosity/v2/Data/Wiki/Wiki_preprocessed_Eirene/philosophy_of_law.mat\"\n",
       " \"/Users/sppatankar/Developer/My Passport/Curiosity/v2/Data/Wiki/Wiki_preprocessed_Eirene/philosophy_of_mind.mat\"\n",
       " \"/Users/sppatankar/Developer/My Passport/Curiosity/v2/Data/Wiki/Wiki_preprocessed_Eirene/philosophy_of_science.mat\"\n",
       " \"/Users/sppatankar/Developer/My Passport/Curiosity/v2/Data/Wiki/Wiki_preprocessed_Eirene/physics.mat\"\n",
       " \"/Users/sppatankar/Developer/My Passport/Curiosity/v2/Data/Wiki/Wiki_preprocessed_Eirene/psychology.mat\"\n",
       " \"/Users/sppatankar/Developer/My Passport/Curiosity/v2/Data/Wiki/Wiki_preprocessed_Eirene/robotics.mat\"\n",
       " \"/Users/sppatankar/Developer/My Passport/Curiosity/v2/Data/Wiki/Wiki_preprocessed_Eirene/sociology.mat\"\n",
       " \"/Users/sppatankar/Developer/My Passport/Curiosity/v2/Data/Wiki/Wiki_preprocessed_Eirene/software_engineering.mat\""
      ]
     },
     "execution_count": 5,
     "metadata": {},
     "output_type": "execute_result"
    }
   ],
   "source": [
    "data_in_path = \"/Users/sppatankar/Developer/My Passport/Curiosity/v2/Data/Wiki/Wiki_preprocessed_Eirene\"\n",
    "data_out_path = \"/Users/sppatankar/Developer/My Passport/Curiosity/v2/Data/Wiki/Wiki_processed_Eirene\"\n",
    "all_topics = glob(\"*.mat\", data_in_path)"
   ]
  },
  {
   "cell_type": "code",
   "execution_count": 53,
   "metadata": {},
   "outputs": [
    {
     "data": {
      "text/plain": [
       "16-element Array{String,1}:\n",
       " \"/Users/sppatankar/Developer/My Passport/Curiosity/v2/Data/Wiki/Wiki_preprocessed_Eirene/linear_algebra.mat\"\n",
       " \"/Users/sppatankar/Developer/My Passport/Curiosity/v2/Data/Wiki/Wiki_preprocessed_Eirene/linguistics.mat\"\n",
       " \"/Users/sppatankar/Developer/My Passport/Curiosity/v2/Data/Wiki/Wiki_preprocessed_Eirene/mathematics.mat\"\n",
       " \"/Users/sppatankar/Developer/My Passport/Curiosity/v2/Data/Wiki/Wiki_preprocessed_Eirene/meteorology.mat\"\n",
       " \"/Users/sppatankar/Developer/My Passport/Curiosity/v2/Data/Wiki/Wiki_preprocessed_Eirene/molecular_biology.mat\"\n",
       " \"/Users/sppatankar/Developer/My Passport/Curiosity/v2/Data/Wiki/Wiki_preprocessed_Eirene/number_theory.mat\"\n",
       " \"/Users/sppatankar/Developer/My Passport/Curiosity/v2/Data/Wiki/Wiki_preprocessed_Eirene/optics.mat\"\n",
       " \"/Users/sppatankar/Developer/My Passport/Curiosity/v2/Data/Wiki/Wiki_preprocessed_Eirene/philosophy_of_language.mat\"\n",
       " \"/Users/sppatankar/Developer/My Passport/Curiosity/v2/Data/Wiki/Wiki_preprocessed_Eirene/philosophy_of_law.mat\"\n",
       " \"/Users/sppatankar/Developer/My Passport/Curiosity/v2/Data/Wiki/Wiki_preprocessed_Eirene/philosophy_of_mind.mat\"\n",
       " \"/Users/sppatankar/Developer/My Passport/Curiosity/v2/Data/Wiki/Wiki_preprocessed_Eirene/philosophy_of_science.mat\"\n",
       " \"/Users/sppatankar/Developer/My Passport/Curiosity/v2/Data/Wiki/Wiki_preprocessed_Eirene/physics.mat\"\n",
       " \"/Users/sppatankar/Developer/My Passport/Curiosity/v2/Data/Wiki/Wiki_preprocessed_Eirene/psychology.mat\"\n",
       " \"/Users/sppatankar/Developer/My Passport/Curiosity/v2/Data/Wiki/Wiki_preprocessed_Eirene/robotics.mat\"\n",
       " \"/Users/sppatankar/Developer/My Passport/Curiosity/v2/Data/Wiki/Wiki_preprocessed_Eirene/sociology.mat\"\n",
       " \"/Users/sppatankar/Developer/My Passport/Curiosity/v2/Data/Wiki/Wiki_preprocessed_Eirene/software_engineering.mat\""
      ]
     },
     "execution_count": 53,
     "metadata": {},
     "output_type": "execute_result"
    }
   ],
   "source": [
    "all_topics[25:40]"
   ]
  },
  {
   "cell_type": "code",
   "execution_count": 54,
   "metadata": {},
   "outputs": [
    {
     "data": {
      "text/plain": [
       "\"/Users/sppatankar/Developer/My Passport/Curiosity/v2/Data/Wiki/Wiki_preprocessed_Eirene/meteorology.mat\""
      ]
     },
     "execution_count": 54,
     "metadata": {},
     "output_type": "execute_result"
    }
   ],
   "source": [
    "i = 28\n",
    "topic = all_topics[i]"
   ]
  },
  {
   "cell_type": "code",
   "execution_count": 55,
   "metadata": {},
   "outputs": [
    {
     "name": "stdout",
     "output_type": "stream",
     "text": [
      "Topic: /Users/sppatankar/Developer/My Passport/Curiosity/v2/Data/Wiki/Wiki_preprocessed_Eirene/meteorology.mat\n"
     ]
    },
    {
     "data": {
      "text/plain": [
       "626×626 Array{Float64,2}:\n",
       "    0.0     2.0  1252.0  1252.0  1252.0  …  1252.0  1252.0  1252.0  1252.0\n",
       "    2.0     0.0  1252.0  1252.0     5.0     1252.0  1252.0  1252.0  1252.0\n",
       " 1252.0  1252.0     0.0  1252.0  1252.0     1252.0  1252.0  1252.0  1252.0\n",
       " 1252.0  1252.0  1252.0     0.0  1252.0     1252.0  1252.0  1252.0  1252.0\n",
       " 1252.0     5.0  1252.0  1252.0     0.0     1252.0  1252.0  1252.0  1252.0\n",
       " 1252.0     6.0  1252.0  1252.0  1252.0  …  1252.0  1252.0  1252.0  1252.0\n",
       " 1252.0  1252.0     7.0  1252.0  1252.0     1252.0  1252.0  1252.0  1252.0\n",
       " 1252.0  1252.0     8.0  1252.0  1252.0     1252.0  1252.0  1252.0  1252.0\n",
       " 1252.0  1252.0  1252.0  1252.0  1252.0     1252.0  1252.0  1252.0  1252.0\n",
       "   10.0  1252.0  1252.0  1252.0  1252.0     1252.0  1252.0  1252.0  1252.0\n",
       " 1252.0  1252.0  1252.0  1252.0  1252.0  …  1252.0  1252.0  1252.0  1252.0\n",
       " 1252.0  1252.0  1252.0  1252.0  1252.0     1252.0  1252.0  1252.0  1252.0\n",
       " 1252.0  1252.0  1252.0    13.0  1252.0     1252.0  1252.0  1252.0  1252.0\n",
       "    ⋮                                    ⋱                             ⋮\n",
       " 1252.0  1252.0  1252.0  1252.0  1252.0     1252.0  1252.0  1252.0  1252.0\n",
       " 1252.0  1252.0  1252.0  1252.0  1252.0  …  1252.0  1252.0  1252.0  1252.0\n",
       " 1252.0  1252.0  1252.0  1252.0  1252.0     1252.0  1252.0  1252.0  1252.0\n",
       " 1252.0  1252.0  1252.0  1252.0  1252.0     1252.0  1252.0  1252.0  1252.0\n",
       " 1252.0  1252.0  1252.0  1252.0  1252.0     1252.0  1252.0  1252.0  1252.0\n",
       " 1252.0  1252.0  1252.0  1252.0  1252.0     1252.0  1252.0  1252.0  1252.0\n",
       " 1252.0  1252.0  1252.0  1252.0  1252.0  …  1252.0  1252.0  1252.0  1252.0\n",
       " 1252.0  1252.0  1252.0  1252.0  1252.0     1252.0  1252.0  1252.0  1252.0\n",
       " 1252.0  1252.0  1252.0  1252.0  1252.0        0.0  1252.0  1252.0  1252.0\n",
       " 1252.0  1252.0  1252.0  1252.0  1252.0     1252.0     0.0  1252.0  1252.0\n",
       " 1252.0  1252.0  1252.0  1252.0  1252.0     1252.0  1252.0     0.0  1252.0\n",
       " 1252.0  1252.0  1252.0  1252.0  1252.0  …  1252.0  1252.0  1252.0     0.0"
      ]
     },
     "execution_count": 55,
     "metadata": {},
     "output_type": "execute_result"
    }
   ],
   "source": [
    "n_dims = 3 # number of dimensions to track persistent homology in\n",
    "\n",
    "@printf(\"Topic: %s\\n\", all_topics[i])\n",
    "all_vars = matread(all_topics[i])\n",
    "nodes = all_vars[\"nodes\"]\n",
    "n = length(nodes)\n",
    "adj = Array(all_vars[\"adj\"])\n",
    "edge_info = all_vars[\"edge_info\"]\n",
    "topic_ID = all_vars[\"topic\"]\n",
    "weighted_G = make_weighted_from_order(adj, 1:n)"
   ]
  },
  {
   "cell_type": "code",
   "execution_count": 56,
   "metadata": {},
   "outputs": [],
   "source": [
    "save_string = string(data_out_path, \"/\", \"weight_G_\", topic_ID, \".mat\")\n",
    "matwrite(save_string, \n",
    "    Dict(\"n\" => n,\n",
    "        \"adj\" => adj,\n",
    "        \"weighted_adj\" => weighted_G))"
   ]
  },
  {
   "cell_type": "code",
   "execution_count": null,
   "metadata": {},
   "outputs": [],
   "source": [
    "barcode_array = Array{Array{Float64}}(undef, 3) \n",
    "betti_curves = Array{Array{Float64}}(undef, 3) \n",
    "C = Eirene.eirene(weighted_G, model = \"vr\", maxdim = n_dims, record = \"none\")\n",
    "for k in 1:n_dims\n",
    "    barcode_array[k] = barcode(C, dim = k)\n",
    "    betti_curves[k] = betticurve(C, dim = k)\n",
    "end\n",
    "save_string = string(data_out_path, \"/\", topic_ID, \".mat\")\n",
    "matwrite(save_string, \n",
    "    Dict(\"n\" => n,\n",
    "        \"adj\" => adj,\n",
    "        \"weighted_adj\" => weighted_G,\n",
    "        \"barcode_array\" => barcode_array,\n",
    "        \"betti_curves\" => betti_curves))"
   ]
  },
  {
   "cell_type": "code",
   "execution_count": 13,
   "metadata": {},
   "outputs": [
    {
     "data": {
      "text/plain": [
       "226×226 Array{Float64,2}:\n",
       "   0.0    2.0  452.0  452.0  452.0  …  452.0  452.0  452.0  452.0  452.0\n",
       "   2.0    0.0  452.0  452.0  452.0     452.0  452.0  452.0  452.0  452.0\n",
       " 452.0  452.0    0.0  452.0  452.0     452.0  452.0  452.0  452.0  452.0\n",
       " 452.0  452.0  452.0    0.0  452.0     452.0  452.0  452.0  452.0  452.0\n",
       " 452.0  452.0  452.0  452.0    0.0     452.0  452.0  452.0  452.0  452.0\n",
       " 452.0  452.0  452.0    6.0  452.0  …  452.0  452.0  452.0  452.0  452.0\n",
       " 452.0  452.0  452.0  452.0  452.0     452.0  452.0  452.0  452.0  452.0\n",
       " 452.0  452.0  452.0  452.0  452.0     452.0  452.0  452.0  452.0  452.0\n",
       " 452.0    9.0  452.0  452.0  452.0     452.0  452.0  452.0  452.0  452.0\n",
       " 452.0  452.0  452.0  452.0  452.0     452.0  452.0  452.0  452.0  452.0\n",
       " 452.0   11.0  452.0  452.0  452.0  …  452.0  452.0  452.0  452.0  452.0\n",
       " 452.0   12.0  452.0   12.0  452.0     452.0  452.0  452.0  452.0  452.0\n",
       " 452.0  452.0  452.0  452.0  452.0     452.0  452.0  452.0  452.0  452.0\n",
       "   ⋮                                ⋱                                ⋮\n",
       " 452.0  452.0  452.0  452.0  452.0     452.0  452.0  452.0  452.0  452.0\n",
       " 452.0  452.0  452.0  452.0  452.0  …  452.0  452.0  452.0  452.0  452.0\n",
       " 452.0  452.0  452.0  217.0  452.0     452.0  452.0  452.0  452.0  452.0\n",
       " 452.0  452.0  452.0  218.0  452.0     452.0  452.0  452.0  452.0  452.0\n",
       " 452.0  452.0  452.0  219.0  452.0     452.0  452.0  452.0  452.0  452.0\n",
       " 452.0  452.0  452.0  220.0  452.0     452.0  452.0  452.0  452.0  452.0\n",
       " 452.0  452.0  452.0  452.0  452.0  …  452.0  452.0  452.0  452.0  452.0\n",
       " 452.0  452.0  452.0  452.0  452.0       0.0  452.0  452.0  452.0  452.0\n",
       " 452.0  452.0  452.0  452.0  452.0     452.0    0.0  452.0  452.0  452.0\n",
       " 452.0  452.0  452.0  452.0  452.0     452.0  452.0    0.0  452.0  452.0\n",
       " 452.0  452.0  452.0  452.0  452.0     452.0  452.0  452.0    0.0  452.0\n",
       " 452.0  452.0  452.0  452.0  452.0  …  452.0  452.0  452.0  452.0    0.0"
      ]
     },
     "execution_count": 13,
     "metadata": {},
     "output_type": "execute_result"
    }
   ],
   "source": [
    "weighted_G"
   ]
  },
  {
   "cell_type": "code",
   "execution_count": 14,
   "metadata": {},
   "outputs": [
    {
     "data": {
      "text/plain": [
       "3-element Array{Array{Float64,N} where N,1}:\n",
       " [0.0 0.0; 2.0 0.0; … ; 225.0 160.0; 452.0 0.0]\n",
       " [0.0 0.0; 2.0 0.0; … ; 225.0 19.0; 452.0 0.0]\n",
       " [0.0 0.0; 2.0 0.0; … ; 225.0 0.0; 452.0 0.0]"
      ]
     },
     "execution_count": 14,
     "metadata": {},
     "output_type": "execute_result"
    }
   ],
   "source": [
    "betti_curves"
   ]
  }
 ],
 "metadata": {
  "@webio": {
   "lastCommId": null,
   "lastKernelId": null
  },
  "kernelspec": {
   "display_name": "JuliaPro_v1.5.3-1 1.5.3",
   "language": "julia",
   "name": "juliapro_v1.5.3-1-1.5"
  },
  "language_info": {
   "file_extension": ".jl",
   "mimetype": "application/julia",
   "name": "julia",
   "version": "1.5.3"
  }
 },
 "nbformat": 4,
 "nbformat_minor": 2
}
