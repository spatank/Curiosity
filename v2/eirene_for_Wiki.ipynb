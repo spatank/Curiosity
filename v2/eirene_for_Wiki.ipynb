{
 "cells": [
  {
   "cell_type": "code",
   "execution_count": 1,
   "metadata": {},
   "outputs": [
    {
     "data": {
      "text/html": [
       "<script>\n",
       "// Immediately-invoked-function-expression to avoid global variables.\n",
       "(function() {\n",
       "    var warning_div = document.getElementById(\"webio-warning-10929387716488947544\");\n",
       "    var hide = function () {\n",
       "        var script = document.getElementById(\"webio-setup-17586774482889706773\");\n",
       "        var parent = script && script.parentElement;\n",
       "        var grandparent = parent && parent.parentElement;\n",
       "        if (grandparent) {\n",
       "            grandparent.style.display = \"none\";\n",
       "        }\n",
       "        warning_div.style.display = \"none\";\n",
       "    };\n",
       "    if (typeof Jupyter !== \"undefined\") {\n",
       "        console.log(\"WebIO detected Jupyter notebook environment.\");\n",
       "        // Jupyter notebook.\n",
       "        var extensions = (\n",
       "            Jupyter\n",
       "            && Jupyter.notebook.config.data\n",
       "            && Jupyter.notebook.config.data.load_extensions\n",
       "        );\n",
       "        if (extensions && extensions[\"webio-jupyter-notebook\"]) {\n",
       "            // Extension already loaded.\n",
       "            console.log(\"Jupyter WebIO nbextension detected; not loading ad-hoc.\");\n",
       "            hide();\n",
       "            return;\n",
       "        }\n",
       "    } else if (window.location.pathname.includes(\"/lab\")) {\n",
       "        // Guessing JupyterLa\n",
       "        console.log(\"Jupyter Lab detected; make sure the @webio/jupyter-lab-provider labextension is installed.\");\n",
       "        hide();\n",
       "        return;\n",
       "    }\n",
       "})();\n",
       "\n",
       "</script>\n",
       "<p\n",
       "    id=\"webio-warning-10929387716488947544\"\n",
       "    class=\"output_text output_stderr\"\n",
       "    style=\"padding: 1em; font-weight: bold;\"\n",
       ">\n",
       "    Unable to load WebIO. Please make sure WebIO works for your Jupyter client.\n",
       "    For troubleshooting, please see <a href=\"https://juliagizmos.github.io/WebIO.jl/latest/providers/ijulia/\">\n",
       "    the WebIO/IJulia documentation</a>.\n",
       "    <!-- TODO: link to installation docs. -->\n",
       "</p>\n"
      ],
      "text/plain": [
       "HTML{String}(\"<script>\\n// Immediately-invoked-function-expression to avoid global variables.\\n(function() {\\n    var warning_div = document.getElementById(\\\"webio-warning-10929387716488947544\\\");\\n    var hide = function () {\\n        var script = document.getElementById(\\\"webio-setup-17586774482889706773\\\");\\n        var parent = script && script.parentElement;\\n        var grandparent = parent && parent.parentElement;\\n        if (grandparent) {\\n            grandparent.style.display = \\\"none\\\";\\n        }\\n        warning_div.style.display = \\\"none\\\";\\n    };\\n    if (typeof Jupyter !== \\\"undefined\\\") {\\n        console.log(\\\"WebIO detected Jupyter notebook environment.\\\");\\n        // Jupyter notebook.\\n        var extensions = (\\n            Jupyter\\n            && Jupyter.notebook.config.data\\n            && Jupyter.notebook.config.data.load_extensions\\n        );\\n        if (extensions && extensions[\\\"webio-jupyter-notebook\\\"]) {\\n            // Extension already loaded.\\n            console.log(\\\"Jupyter WebIO nbextension detected; not loading ad-hoc.\\\");\\n            hide();\\n            return;\\n        }\\n    } else if (window.location.pathname.includes(\\\"/lab\\\")) {\\n        // Guessing JupyterLa\\n        console.log(\\\"Jupyter Lab detected; make sure the @webio/jupyter-lab-provider labextension is installed.\\\");\\n        hide();\\n        return;\\n    }\\n})();\\n\\n</script>\\n<p\\n    id=\\\"webio-warning-10929387716488947544\\\"\\n    class=\\\"output_text output_stderr\\\"\\n    style=\\\"padding: 1em; font-weight: bold;\\\"\\n>\\n    Unable to load WebIO. Please make sure WebIO works for your Jupyter client.\\n    For troubleshooting, please see <a href=\\\"https://juliagizmos.github.io/WebIO.jl/latest/providers/ijulia/\\\">\\n    the WebIO/IJulia documentation</a>.\\n    <!-- TODO: link to installation docs. -->\\n</p>\\n\")"
      ]
     },
     "metadata": {},
     "output_type": "display_data"
    },
    {
     "name": "stderr",
     "output_type": "stream",
     "text": [
      "WARNING: could not import HDF5.Group into _hdf5_implementation\n",
      "WARNING: could not import HDF5.Dataset into _hdf5_implementation\n",
      "┌ Warning: Error requiring `HDF5` from `Plots`\n",
      "│   exception = (LoadError(\"/Users/sppatankar/.julia/packages/Plots/oZheM/src/backends/hdf5.jl\", 162, UndefVarError(:Group)), Union{Ptr{Nothing}, Base.InterpreterIP}[Ptr{Nothing} @0x000000010fb6611f, Ptr{Nothing} @0x000000010fbffeb3, Ptr{Nothing} @0x000000010fc00fab, Ptr{Nothing} @0x000000010fbff8df, Ptr{Nothing} @0x000000010fbffbbc, Base.InterpreterIP in top-level CodeInfo for Plots._hdf5_implementation at statement 4, Ptr{Nothing} @0x000000010fc191ce, Ptr{Nothing} @0x000000010fc181b1, Ptr{Nothing} @0x000000010fc189d1, Ptr{Nothing} @0x000000010fc190d6, Ptr{Nothing} @0x000000010fbf1b6d, Ptr{Nothing} @0x000000010fc1a27c, Ptr{Nothing} @0x000000011c2ddd4f, Ptr{Nothing} @0x000000013f9da4ee, Ptr{Nothing} @0x000000010fc00fcf, Ptr{Nothing} @0x000000010fbff8df, Ptr{Nothing} @0x000000010fbffbbc, Base.InterpreterIP in top-level CodeInfo for Plots at statement 10, Ptr{Nothing} @0x000000010fc191ce, Ptr{Nothing} @0x000000010fc1a074, Ptr{Nothing} @0x000000013f9c9c76, Ptr{Nothing} @0x000000013f9c9cad, Ptr{Nothing} @0x000000011a85dfda, Ptr{Nothing} @0x000000013f9c9b9d, Ptr{Nothing} @0x000000013f9c9bcd, Ptr{Nothing} @0x000000011a85d3ab, Ptr{Nothing} @0x000000013f9c9acf, Ptr{Nothing} @0x000000013f9c9b0d, Ptr{Nothing} @0x000000011a85ceb6, Ptr{Nothing} @0x000000013f9bedd3, Ptr{Nothing} @0x000000013f9bf4bd, Ptr{Nothing} @0x000000010fc17a63, Ptr{Nothing} @0x000000010fc085f7, Ptr{Nothing} @0x000000013f91c6c3, Ptr{Nothing} @0x000000013f91d98b, Ptr{Nothing} @0x000000013f9416d9, Ptr{Nothing} @0x000000013f943763, Ptr{Nothing} @0x000000013f9445e6, Ptr{Nothing} @0x000000010fc19c69, Ptr{Nothing} @0x000000010fc18b3b, Ptr{Nothing} @0x000000010fbf1b6d, Ptr{Nothing} @0x000000011be028f1, Ptr{Nothing} @0x000000011a7d2e4b, Ptr{Nothing} @0x000000011a7cf486, Ptr{Nothing} @0x000000010fbf6a64, Ptr{Nothing} @0x000000010fbf6cd5, Ptr{Nothing} @0x000000011a7bfa5c, Ptr{Nothing} @0x000000011a7bfdd4, Ptr{Nothing} @0x000000011a7bfdec, Ptr{Nothing} @0x000000010fc0509a])\n",
      "└ @ Requires /Users/sppatankar/.julia/packages/Requires/035xH/src/require.jl:44\n"
     ]
    }
   ],
   "source": [
    "using Printf\n",
    "using Random\n",
    "using LinearAlgebra\n",
    "using Eirene\n",
    "using MAT\n",
    "using Statistics\n",
    "using Plots\n",
    "using Glob"
   ]
  },
  {
   "cell_type": "code",
   "execution_count": 2,
   "metadata": {},
   "outputs": [
    {
     "data": {
      "text/plain": [
       "plotBarcode (generic function with 1 method)"
      ]
     },
     "execution_count": 2,
     "metadata": {},
     "output_type": "execute_result"
    }
   ],
   "source": [
    "function constant_probability(n, p)\n",
    "    G = zeros(n, n)\n",
    "    for i = 1:n\n",
    "        for j = 1:i-1\n",
    "            r = rand(1)[1]\n",
    "            if r < p\n",
    "                G[i, j] = 1\n",
    "                G[j, i] = 1\n",
    "            end\n",
    "        end\n",
    "    end\n",
    "    node_order = 1:n\n",
    "    return G, node_order\n",
    "end  \n",
    "\n",
    "function make_weighted_from_order(G, node_order)\n",
    "    # adapted from code by ASB\n",
    "    # original at https://github.com/BassettLab/Reorderability_scripts\n",
    "    reordered_G = G[node_order, node_order] # often unnecessary\n",
    "    n = length(node_order) # number of nodes\n",
    "    val_mat = ones(n, n)\n",
    "    for col = 1:n\n",
    "        val_mat[1:col, col] = val_mat[1:col, col] * col\n",
    "        val_mat[col, 1:col] = val_mat[col, 1:col] * col\n",
    "    end\n",
    "    weighted_G = reordered_G .* val_mat\n",
    "    # replace 0 weighted edges with the largest edge weight possible\n",
    "    # this is equivalent to assigning these edges the worst rank possible\n",
    "    replace!(weighted_G, 0 => 2 * n)  \n",
    "    # weighted_G[findall(A -> A .== 0, weighted_G)] .= 2 * n would work too\n",
    "    weighted_G[diagind(weighted_G)] .= 0 # set diagonal to 0\n",
    "    return weighted_G # edges here are ranked by order of appearance\n",
    "end\n",
    "\n",
    "function bettiCurveFromBarcode(barcode_array,nNodes,nmats,maxDim)\n",
    "    nNodes = Int(nNodes)\n",
    "    nmats = Int(nmats)\n",
    "    maxDim = Int(maxDim)\n",
    "    bettiBar = zeros(nmats,maxDim)\n",
    "    bettiCurve = zeros(nmats,nNodes+1,maxDim)\n",
    "    birthCurve = zeros(nmats,nNodes,maxDim)\n",
    "    deathCurve = zeros(nmats,nNodes,maxDim)\n",
    "    for dimn in collect(1:maxDim)\n",
    "        dimn = Int(dimn)\n",
    "        for matn in collect(1:nmats)\n",
    "            matn = Int(matn)\n",
    "            bb = 0\n",
    "            currentCurve = barcode_array[matn,:]\n",
    "            currentCurveDim = currentCurve[dimn]\n",
    "            for barn in collect(1:size(currentCurveDim,1))\n",
    "                # Add to birth curve\n",
    "                birthCurve[matn,Int(currentCurveDim[barn,1]),dimn] = birthCurve[matn,Int(currentCurveDim[barn,1]),dimn] .+1\n",
    "                if currentCurveDim[barn,2]>nNodes\n",
    "                    bettiCurve[matn,Int(currentCurveDim[barn,1]):Int(nNodes+1),dimn] = bettiCurve[matn,Int(currentCurveDim[barn,1]):Int(nNodes+1),dimn] .+1\n",
    "                    bb = bb+(nNodes+1-currentCurveDim[barn,1])\n",
    "                else\n",
    "                    bettiCurve[matn,Int(currentCurveDim[barn,1]):Int(currentCurveDim[barn,2]),dimn] = bettiCurve[matn,Int(currentCurveDim[barn,1]):Int(currentCurveDim[barn,2]),dimn].+1\n",
    "                    deathCurve[matn,Int(currentCurveDim[barn,2]),dimn] = deathCurve[matn,Int(currentCurveDim[barn,2]),dimn] .+1\n",
    "                    bb = bb+(currentCurveDim[barn,2] - currentCurveDim[barn,1])\n",
    "                end\n",
    "            end\n",
    "            bettiBar[matn,dimn] = deepcopy(bb)\n",
    "        end\n",
    "    end\n",
    "    return bettiCurve, birthCurve, deathCurve, bettiBar\n",
    "end\n",
    "\n",
    "function plotBarcode(allPIs,nNodes,graphN,maxDim,fontSize)\n",
    "    nNodes = Int(nNodes)\n",
    "    graphn = Int(graphN)\n",
    "    maxDim = Int(maxDim)\n",
    "    counter1 = 0\n",
    "    pbar = plot(1:6,zeros(6),c=:black)\n",
    "    colors = [:blue :green :red]\n",
    "    for dim in collect(1:maxDim)\n",
    "        barn = barcode_array[graphN, dim]\n",
    "        barn = barn[sortperm(barn[:,1]),:]\n",
    "        nbars = size(barn)[1]\n",
    "        for cntr1 in collect(1:nbars)\n",
    "            birth = barn[cntr1,1]\n",
    "            death = barn[cntr1,2]\n",
    "            plot!([birth, death],[cntr1+counter1, cntr1+counter1],c=colors[dim], legend = false,\n",
    "                            xlim = (0,nNodes), ytickfont = font(fontSize), xtickfont = font(fontSize))\n",
    "        end\n",
    "        display(pbar)\n",
    "        counter1 = counter1+nbars\n",
    "    end\n",
    "    return pbar\n",
    "end"
   ]
  },
  {
   "cell_type": "code",
   "execution_count": 3,
   "metadata": {},
   "outputs": [
    {
     "data": {
      "text/plain": [
       "\"/Volumes/My Passport/Curiosity/v2\""
      ]
     },
     "execution_count": 3,
     "metadata": {},
     "output_type": "execute_result"
    }
   ],
   "source": [
    "pwd()"
   ]
  },
  {
   "cell_type": "code",
   "execution_count": 4,
   "metadata": {},
   "outputs": [
    {
     "data": {
      "text/plain": [
       "40-element Array{String,1}:\n",
       " \"/Users/sppatankar/Developer/My Passport/Curiosity/v2/Data/Wiki/Wiki_preprocessed_Eirene/Boolean_algebra.mat\"\n",
       " \"/Users/sppatankar/Developer/My Passport/Curiosity/v2/Data/Wiki/Wiki_preprocessed_Eirene/abstract_algebra.mat\"\n",
       " \"/Users/sppatankar/Developer/My Passport/Curiosity/v2/Data/Wiki/Wiki_preprocessed_Eirene/accounting.mat\"\n",
       " \"/Users/sppatankar/Developer/My Passport/Curiosity/v2/Data/Wiki/Wiki_preprocessed_Eirene/anatomy.mat\"\n",
       " \"/Users/sppatankar/Developer/My Passport/Curiosity/v2/Data/Wiki/Wiki_preprocessed_Eirene/biochemistry.mat\"\n",
       " \"/Users/sppatankar/Developer/My Passport/Curiosity/v2/Data/Wiki/Wiki_preprocessed_Eirene/biophysics.mat\"\n",
       " \"/Users/sppatankar/Developer/My Passport/Curiosity/v2/Data/Wiki/Wiki_preprocessed_Eirene/calculus.mat\"\n",
       " \"/Users/sppatankar/Developer/My Passport/Curiosity/v2/Data/Wiki/Wiki_preprocessed_Eirene/chemistry.mat\"\n",
       " \"/Users/sppatankar/Developer/My Passport/Curiosity/v2/Data/Wiki/Wiki_preprocessed_Eirene/cognitive_science.mat\"\n",
       " \"/Users/sppatankar/Developer/My Passport/Curiosity/v2/Data/Wiki/Wiki_preprocessed_Eirene/commutative_algebra.mat\"\n",
       " \"/Users/sppatankar/Developer/My Passport/Curiosity/v2/Data/Wiki/Wiki_preprocessed_Eirene/dynamical_systems.mat\"\n",
       " \"/Users/sppatankar/Developer/My Passport/Curiosity/v2/Data/Wiki/Wiki_preprocessed_Eirene/dynamical_systems_and_differential_equations.mat\"\n",
       " \"/Users/sppatankar/Developer/My Passport/Curiosity/v2/Data/Wiki/Wiki_preprocessed_Eirene/earth_science.mat\"\n",
       " ⋮\n",
       " \"/Users/sppatankar/Developer/My Passport/Curiosity/v2/Data/Wiki/Wiki_preprocessed_Eirene/molecular_biology.mat\"\n",
       " \"/Users/sppatankar/Developer/My Passport/Curiosity/v2/Data/Wiki/Wiki_preprocessed_Eirene/number_theory.mat\"\n",
       " \"/Users/sppatankar/Developer/My Passport/Curiosity/v2/Data/Wiki/Wiki_preprocessed_Eirene/optics.mat\"\n",
       " \"/Users/sppatankar/Developer/My Passport/Curiosity/v2/Data/Wiki/Wiki_preprocessed_Eirene/philosophy_of_language.mat\"\n",
       " \"/Users/sppatankar/Developer/My Passport/Curiosity/v2/Data/Wiki/Wiki_preprocessed_Eirene/philosophy_of_law.mat\"\n",
       " \"/Users/sppatankar/Developer/My Passport/Curiosity/v2/Data/Wiki/Wiki_preprocessed_Eirene/philosophy_of_mind.mat\"\n",
       " \"/Users/sppatankar/Developer/My Passport/Curiosity/v2/Data/Wiki/Wiki_preprocessed_Eirene/philosophy_of_science.mat\"\n",
       " \"/Users/sppatankar/Developer/My Passport/Curiosity/v2/Data/Wiki/Wiki_preprocessed_Eirene/physics.mat\"\n",
       " \"/Users/sppatankar/Developer/My Passport/Curiosity/v2/Data/Wiki/Wiki_preprocessed_Eirene/psychology.mat\"\n",
       " \"/Users/sppatankar/Developer/My Passport/Curiosity/v2/Data/Wiki/Wiki_preprocessed_Eirene/robotics.mat\"\n",
       " \"/Users/sppatankar/Developer/My Passport/Curiosity/v2/Data/Wiki/Wiki_preprocessed_Eirene/sociology.mat\"\n",
       " \"/Users/sppatankar/Developer/My Passport/Curiosity/v2/Data/Wiki/Wiki_preprocessed_Eirene/software_engineering.mat\""
      ]
     },
     "execution_count": 4,
     "metadata": {},
     "output_type": "execute_result"
    }
   ],
   "source": [
    "data_in_path = \"/Users/sppatankar/Developer/My Passport/Curiosity/v2/Data/Wiki/Wiki_preprocessed_Eirene\"\n",
    "data_out_path = \"/Users/sppatankar/Developer/My Passport/Curiosity/v2/Data/Wiki/Wiki_processed_Eirene\"\n",
    "all_topics = glob(\"*.mat\", data_in_path)"
   ]
  },
  {
   "cell_type": "code",
   "execution_count": 8,
   "metadata": {},
   "outputs": [
    {
     "data": {
      "text/plain": [
       "\"/Users/sppatankar/Developer/My Passport/Curiosity/v2/Data/Wiki/Wiki_preprocessed_Eirene/biophysics.mat\""
      ]
     },
     "execution_count": 8,
     "metadata": {},
     "output_type": "execute_result"
    }
   ],
   "source": [
    "topic = all_topics[6]"
   ]
  },
  {
   "cell_type": "code",
   "execution_count": 11,
   "metadata": {},
   "outputs": [
    {
     "name": "stdout",
     "output_type": "stream",
     "text": [
      "Topic: /Users/sppatankar/Developer/My Passport/Curiosity/v2/Data/Wiki/Wiki_preprocessed_Eirene/biophysics.mat\n"
     ]
    },
    {
     "data": {
      "text/plain": [
       "463×463 Array{Float64,2}:\n",
       "   0.0  926.0  926.0  926.0  926.0  …  926.0  926.0  926.0  926.0  926.0\n",
       " 926.0    0.0  926.0  926.0  926.0     926.0  926.0  926.0  926.0  926.0\n",
       " 926.0  926.0    0.0  926.0  926.0     926.0  926.0  926.0  926.0  926.0\n",
       " 926.0  926.0  926.0    0.0  926.0     926.0  926.0  926.0  926.0  926.0\n",
       " 926.0  926.0  926.0  926.0    0.0     926.0  926.0  926.0  926.0  926.0\n",
       " 926.0  926.0  926.0  926.0    6.0  …  926.0  926.0  926.0  926.0  926.0\n",
       " 926.0  926.0  926.0  926.0  926.0     459.0  460.0  461.0  462.0  926.0\n",
       " 926.0  926.0  926.0  926.0  926.0     926.0  926.0  926.0  926.0  926.0\n",
       " 926.0  926.0  926.0  926.0  926.0     926.0  926.0  926.0  926.0  926.0\n",
       " 926.0  926.0  926.0  926.0  926.0     926.0  926.0  926.0  926.0  926.0\n",
       " 926.0  926.0  926.0  926.0  926.0  …  926.0  926.0  926.0  926.0  926.0\n",
       " 926.0  926.0  926.0  926.0  926.0     926.0  926.0  926.0  926.0  926.0\n",
       " 926.0  926.0   13.0  926.0  926.0     926.0  926.0  926.0  926.0  926.0\n",
       "   ⋮                                ⋱                  ⋮           \n",
       " 926.0  926.0  926.0  926.0  926.0     926.0  926.0  926.0  926.0  926.0\n",
       " 926.0  926.0  926.0  926.0  926.0     926.0  926.0  926.0  926.0  926.0\n",
       " 926.0  926.0  926.0  926.0  926.0     926.0  926.0  926.0  926.0  926.0\n",
       " 926.0  926.0  926.0  926.0  926.0     926.0  926.0  926.0  926.0  926.0\n",
       " 926.0  926.0  926.0  926.0  926.0  …  926.0  926.0  926.0  926.0  926.0\n",
       " 926.0  926.0  926.0  926.0  926.0     926.0  926.0  926.0  926.0  926.0\n",
       " 926.0  926.0  926.0  926.0  926.0     926.0  926.0  926.0  926.0  926.0\n",
       " 926.0  926.0  926.0  926.0  926.0       0.0  926.0  926.0  926.0  926.0\n",
       " 926.0  926.0  926.0  926.0  926.0     926.0    0.0  926.0  926.0  926.0\n",
       " 926.0  926.0  926.0  926.0  926.0  …  926.0  926.0    0.0  926.0  926.0\n",
       " 926.0  926.0  926.0  926.0  926.0     926.0  926.0  926.0    0.0  926.0\n",
       " 926.0  926.0  926.0  926.0  926.0     926.0  926.0  926.0  926.0    0.0"
      ]
     },
     "execution_count": 11,
     "metadata": {},
     "output_type": "execute_result"
    }
   ],
   "source": [
    "n_dims = 3 # number of dimensions to track persistent homology in\n",
    "\n",
    "i = 6;\n",
    "@printf(\"Topic: %s\\n\", all_topics[i])\n",
    "all_vars = matread(all_topics[i])\n",
    "nodes = all_vars[\"nodes\"]\n",
    "n = length(nodes)\n",
    "adj = Array(all_vars[\"adj\"])\n",
    "edge_info = all_vars[\"edge_info\"]\n",
    "topic_ID = all_vars[\"topic\"]\n",
    "weighted_G = make_weighted_from_order(adj, 1:n)"
   ]
  },
  {
   "cell_type": "code",
   "execution_count": 16,
   "metadata": {},
   "outputs": [],
   "source": [
    "save_string = string(data_out_path, \"/\", \"weight_G_\", topic_ID, \".mat\")\n",
    "matwrite(save_string, \n",
    "    Dict(\"n\" => n,\n",
    "        \"adj\" => adj,\n",
    "        \"weighted_adj\" => weighted_G))"
   ]
  },
  {
   "cell_type": "code",
   "execution_count": null,
   "metadata": {},
   "outputs": [],
   "source": [
    "barcode_array = Array{Array{Float64}}(undef, 3) # iters = 1 implied\n",
    "betti_curves = Array{Array{Float64}}(undef, 3) # iters = 1 implied\n",
    "C = Eirene.eirene(weighted_G, model = \"vr\", maxdim = n_dims, record = \"none\")\n"
   ]
  },
  {
   "cell_type": "code",
   "execution_count": null,
   "metadata": {},
   "outputs": [],
   "source": [
    "for k in 1:n_dims\n",
    "    barcode_array[k] = barcode(C, dim = k)\n",
    "    betti_curves[k] = betticurve(C, dim = k)\n",
    "end\n",
    "save_string = string(data_out_path, \"/\", topic, \".mat\")\n",
    "matwrite(save_string, \n",
    "    Dict(\"n\" => n,\n",
    "        \"adj\" => adj,\n",
    "        \"weighted_adj\" => weighted_G,\n",
    "        \"barcode_array\" => barcode_array,\n",
    "        \"betti_curves\" => betti_curves))"
   ]
  }
 ],
 "metadata": {
  "@webio": {
   "lastCommId": null,
   "lastKernelId": null
  },
  "kernelspec": {
   "display_name": "JuliaPro_v1.5.3-1 1.5.3",
   "language": "julia",
   "name": "juliapro_v1.5.3-1-1.5"
  },
  "language_info": {
   "file_extension": ".jl",
   "mimetype": "application/julia",
   "name": "julia",
   "version": "1.5.3"
  }
 },
 "nbformat": 4,
 "nbformat_minor": 2
}
